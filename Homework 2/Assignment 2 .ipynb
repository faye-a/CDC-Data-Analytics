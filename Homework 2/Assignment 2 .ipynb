{
 "cells": [
  {
   "cell_type": "markdown",
   "metadata": {},
   "source": [
    "# Introduction"
   ]
  },
  {
   "cell_type": "markdown",
   "metadata": {},
   "source": [
    "The dataset I used was prepared (Please see Assignment 2 - Data Quality Preperation) in a seperate notebook where I talked about the changes to the unclean dataset and made some changes to it so that it would be fit for this assignment. I will be creating three models to predict the outcome of the target feature **death_yn**. \n",
    "\n",
    "The notebook will be broken into 4 parts:\n",
    "1. Reviewing the dataset from the first assignment and see which features to use to build the models.\n",
    "2. Create a Linear Regression model and analyze.\n",
    "3. Create a Logistical Regression model and analyze.\n",
    "4. Create a Random Forest and analyze.\n",
    "5. Try to optimize each model made."
   ]
  },
  {
   "cell_type": "code",
   "execution_count": 1,
   "metadata": {},
   "outputs": [],
   "source": [
    "# Importing the modules that will be used in this assignment.\n",
    "import pandas as pd\n",
    "import numpy as np\n",
    "import seaborn as sns\n",
    "import matplotlib.pyplot as plt\n",
    "import matplotlib.patches as mpatches\n",
    "import statsmodels.api as sm\n",
    "\n",
    "from patsy import dmatrices\n",
    "\n",
    "from sklearn.linear_model import LinearRegression\n",
    "from sklearn.linear_model import LogisticRegression\n",
    "from sklearn.tree import DecisionTreeClassifier\n",
    "from sklearn.ensemble import RandomForestClassifier\n",
    "from sklearn.model_selection import train_test_split\n",
    "from sklearn import metrics\n",
    "from sklearn.model_selection import cross_validate\n",
    "from sklearn.model_selection import cross_val_score\n",
    "from sklearn.ensemble import VotingClassifier\n",
    "from sklearn.tree import export_graphviz\n",
    "from imblearn.over_sampling import SMOTE\n",
    "\n",
    "import graphviz\n",
    "from graphviz import Source\n",
    "\n",
    "# ignore warnings\n",
    "import warnings\n",
    "warnings.filterwarnings('ignore')"
   ]
  },
  {
   "cell_type": "markdown",
   "metadata": {},
   "source": [
    "# 1. Data Understanding and Preparation"
   ]
  },
  {
   "cell_type": "markdown",
   "metadata": {},
   "source": [
    "Below is the data quality plan that was implemented on the uncleaned dataset that was provided for this assignment. I have decided to clean a new dataset that was provided in the zip file. As said before, please refer to the seperate notebook if you wish to see how it was cleaned and the changes that were made into more detail. I had created a new one and so I am not using the previous cleaned dataset from homework 1."
   ]
  },
  {
   "cell_type": "markdown",
   "metadata": {},
   "source": [
    "<img style=\"float: left;\" src=\"dataqualityplan.PNG\">"
   ]
  },
  {
   "cell_type": "markdown",
   "metadata": {},
   "source": [
    "## 1.1 Review, prepare and splitting the dataset into two datasets: 70% for training and 30% for testing"
   ]
  },
  {
   "cell_type": "code",
   "execution_count": 2,
   "metadata": {
    "scrolled": true
   },
   "outputs": [
    {
     "data": {
      "text/html": [
       "<div>\n",
       "<style scoped>\n",
       "    .dataframe tbody tr th:only-of-type {\n",
       "        vertical-align: middle;\n",
       "    }\n",
       "\n",
       "    .dataframe tbody tr th {\n",
       "        vertical-align: top;\n",
       "    }\n",
       "\n",
       "    .dataframe thead th {\n",
       "        text-align: right;\n",
       "    }\n",
       "</style>\n",
       "<table border=\"1\" class=\"dataframe\">\n",
       "  <thead>\n",
       "    <tr style=\"text-align: right;\">\n",
       "      <th></th>\n",
       "      <th>cdc_case_earliest_dt</th>\n",
       "      <th>onset_missing_ind</th>\n",
       "      <th>current_status</th>\n",
       "      <th>sex</th>\n",
       "      <th>age_group</th>\n",
       "      <th>race_ethnicity_combined</th>\n",
       "      <th>hosp_yn</th>\n",
       "      <th>icu_yn</th>\n",
       "      <th>death_yn</th>\n",
       "      <th>medcond_yn</th>\n",
       "    </tr>\n",
       "  </thead>\n",
       "  <tbody>\n",
       "    <tr>\n",
       "      <th>0</th>\n",
       "      <td>2020-10-21</td>\n",
       "      <td>1</td>\n",
       "      <td>Laboratory-confirmed case</td>\n",
       "      <td>Female</td>\n",
       "      <td>30 - 39 Years</td>\n",
       "      <td>Hispanic/Latino</td>\n",
       "      <td>Unknown</td>\n",
       "      <td>Unknown</td>\n",
       "      <td>No</td>\n",
       "      <td>Yes</td>\n",
       "    </tr>\n",
       "    <tr>\n",
       "      <th>1</th>\n",
       "      <td>2020-03-31</td>\n",
       "      <td>1</td>\n",
       "      <td>Laboratory-confirmed case</td>\n",
       "      <td>Male</td>\n",
       "      <td>20 - 29 Years</td>\n",
       "      <td>Unknown</td>\n",
       "      <td>No</td>\n",
       "      <td>No</td>\n",
       "      <td>No</td>\n",
       "      <td>No</td>\n",
       "    </tr>\n",
       "    <tr>\n",
       "      <th>2</th>\n",
       "      <td>2021-01-07</td>\n",
       "      <td>0</td>\n",
       "      <td>Laboratory-confirmed case</td>\n",
       "      <td>Female</td>\n",
       "      <td>10 - 19 Years</td>\n",
       "      <td>Unknown</td>\n",
       "      <td>Unknown</td>\n",
       "      <td>Unknown</td>\n",
       "      <td>No</td>\n",
       "      <td>Unknown</td>\n",
       "    </tr>\n",
       "    <tr>\n",
       "      <th>3</th>\n",
       "      <td>2020-11-24</td>\n",
       "      <td>1</td>\n",
       "      <td>Laboratory-confirmed case</td>\n",
       "      <td>Male</td>\n",
       "      <td>40 - 49 Years</td>\n",
       "      <td>Unknown</td>\n",
       "      <td>No</td>\n",
       "      <td>No</td>\n",
       "      <td>No</td>\n",
       "      <td>No</td>\n",
       "    </tr>\n",
       "    <tr>\n",
       "      <th>4</th>\n",
       "      <td>2021-01-05</td>\n",
       "      <td>0</td>\n",
       "      <td>Laboratory-confirmed case</td>\n",
       "      <td>Female</td>\n",
       "      <td>20 - 29 Years</td>\n",
       "      <td>Unknown</td>\n",
       "      <td>Unknown</td>\n",
       "      <td>Unknown</td>\n",
       "      <td>No</td>\n",
       "      <td>Unknown</td>\n",
       "    </tr>\n",
       "    <tr>\n",
       "      <th>5</th>\n",
       "      <td>2021-01-12</td>\n",
       "      <td>0</td>\n",
       "      <td>Laboratory-confirmed case</td>\n",
       "      <td>Female</td>\n",
       "      <td>10 - 19 Years</td>\n",
       "      <td>Multiple/Other, Non-Hispanic</td>\n",
       "      <td>Unknown</td>\n",
       "      <td>Unknown</td>\n",
       "      <td>No</td>\n",
       "      <td>Unknown</td>\n",
       "    </tr>\n",
       "    <tr>\n",
       "      <th>6</th>\n",
       "      <td>2020-11-28</td>\n",
       "      <td>1</td>\n",
       "      <td>Laboratory-confirmed case</td>\n",
       "      <td>Male</td>\n",
       "      <td>50 - 59 Years</td>\n",
       "      <td>White, Non-Hispanic</td>\n",
       "      <td>No</td>\n",
       "      <td>Unknown</td>\n",
       "      <td>No</td>\n",
       "      <td>Unknown</td>\n",
       "    </tr>\n",
       "    <tr>\n",
       "      <th>7</th>\n",
       "      <td>2020-10-28</td>\n",
       "      <td>1</td>\n",
       "      <td>Laboratory-confirmed case</td>\n",
       "      <td>Female</td>\n",
       "      <td>40 - 49 Years</td>\n",
       "      <td>White, Non-Hispanic</td>\n",
       "      <td>Unknown</td>\n",
       "      <td>Unknown</td>\n",
       "      <td>No</td>\n",
       "      <td>No</td>\n",
       "    </tr>\n",
       "    <tr>\n",
       "      <th>8</th>\n",
       "      <td>2021-01-14</td>\n",
       "      <td>1</td>\n",
       "      <td>Laboratory-confirmed case</td>\n",
       "      <td>Male</td>\n",
       "      <td>40 - 49 Years</td>\n",
       "      <td>White, Non-Hispanic</td>\n",
       "      <td>Unknown</td>\n",
       "      <td>Unknown</td>\n",
       "      <td>No</td>\n",
       "      <td>Unknown</td>\n",
       "    </tr>\n",
       "    <tr>\n",
       "      <th>9</th>\n",
       "      <td>2020-09-27</td>\n",
       "      <td>1</td>\n",
       "      <td>Laboratory-confirmed case</td>\n",
       "      <td>Female</td>\n",
       "      <td>30 - 39 Years</td>\n",
       "      <td>Hispanic/Latino</td>\n",
       "      <td>No</td>\n",
       "      <td>Unknown</td>\n",
       "      <td>No</td>\n",
       "      <td>Unknown</td>\n",
       "    </tr>\n",
       "  </tbody>\n",
       "</table>\n",
       "</div>"
      ],
      "text/plain": [
       "  cdc_case_earliest_dt  onset_missing_ind             current_status     sex  \\\n",
       "0           2020-10-21                  1  Laboratory-confirmed case  Female   \n",
       "1           2020-03-31                  1  Laboratory-confirmed case    Male   \n",
       "2           2021-01-07                  0  Laboratory-confirmed case  Female   \n",
       "3           2020-11-24                  1  Laboratory-confirmed case    Male   \n",
       "4           2021-01-05                  0  Laboratory-confirmed case  Female   \n",
       "5           2021-01-12                  0  Laboratory-confirmed case  Female   \n",
       "6           2020-11-28                  1  Laboratory-confirmed case    Male   \n",
       "7           2020-10-28                  1  Laboratory-confirmed case  Female   \n",
       "8           2021-01-14                  1  Laboratory-confirmed case    Male   \n",
       "9           2020-09-27                  1  Laboratory-confirmed case  Female   \n",
       "\n",
       "       age_group       race_ethnicity_combined  hosp_yn   icu_yn death_yn  \\\n",
       "0  30 - 39 Years               Hispanic/Latino  Unknown  Unknown       No   \n",
       "1  20 - 29 Years                       Unknown       No       No       No   \n",
       "2  10 - 19 Years                       Unknown  Unknown  Unknown       No   \n",
       "3  40 - 49 Years                       Unknown       No       No       No   \n",
       "4  20 - 29 Years                       Unknown  Unknown  Unknown       No   \n",
       "5  10 - 19 Years  Multiple/Other, Non-Hispanic  Unknown  Unknown       No   \n",
       "6  50 - 59 Years           White, Non-Hispanic       No  Unknown       No   \n",
       "7  40 - 49 Years           White, Non-Hispanic  Unknown  Unknown       No   \n",
       "8  40 - 49 Years           White, Non-Hispanic  Unknown  Unknown       No   \n",
       "9  30 - 39 Years               Hispanic/Latino       No  Unknown       No   \n",
       "\n",
       "  medcond_yn  \n",
       "0        Yes  \n",
       "1         No  \n",
       "2    Unknown  \n",
       "3         No  \n",
       "4    Unknown  \n",
       "5    Unknown  \n",
       "6    Unknown  \n",
       "7         No  \n",
       "8    Unknown  \n",
       "9    Unknown  "
      ]
     },
     "execution_count": 2,
     "metadata": {},
     "output_type": "execute_result"
    }
   ],
   "source": [
    "# Read the csv file and put as df\n",
    "df = pd.read_csv('Cleaned_Dataset', keep_default_na=True, sep=',\\s+', delimiter=',', skipinitialspace=True)\n",
    "df.head(10)"
   ]
  },
  {
   "cell_type": "code",
   "execution_count": 3,
   "metadata": {},
   "outputs": [
    {
     "data": {
      "text/plain": [
       "(9976, 10)"
      ]
     },
     "execution_count": 3,
     "metadata": {},
     "output_type": "execute_result"
    }
   ],
   "source": [
    "# Exploring the dataset where we check the shape, the datatypes and check for any missing values\n",
    "df.shape"
   ]
  },
  {
   "cell_type": "code",
   "execution_count": 4,
   "metadata": {},
   "outputs": [
    {
     "data": {
      "text/plain": [
       "cdc_case_earliest_dt       object\n",
       "onset_missing_ind           int64\n",
       "current_status             object\n",
       "sex                        object\n",
       "age_group                  object\n",
       "race_ethnicity_combined    object\n",
       "hosp_yn                    object\n",
       "icu_yn                     object\n",
       "death_yn                   object\n",
       "medcond_yn                 object\n",
       "dtype: object"
      ]
     },
     "execution_count": 4,
     "metadata": {},
     "output_type": "execute_result"
    }
   ],
   "source": [
    "df.dtypes"
   ]
  },
  {
   "cell_type": "code",
   "execution_count": 5,
   "metadata": {
    "scrolled": true
   },
   "outputs": [
    {
     "data": {
      "text/plain": [
       "cdc_case_earliest_dt       0\n",
       "onset_missing_ind          0\n",
       "current_status             0\n",
       "sex                        0\n",
       "age_group                  0\n",
       "race_ethnicity_combined    0\n",
       "hosp_yn                    0\n",
       "icu_yn                     0\n",
       "death_yn                   0\n",
       "medcond_yn                 0\n",
       "dtype: int64"
      ]
     },
     "execution_count": 5,
     "metadata": {},
     "output_type": "execute_result"
    }
   ],
   "source": [
    "df.isna().sum()"
   ]
  },
  {
   "cell_type": "code",
   "execution_count": 6,
   "metadata": {
    "scrolled": true
   },
   "outputs": [
    {
     "name": "stdout",
     "output_type": "stream",
     "text": [
      "cdc_case_earliest_dt :\n",
      " ['2020-10-21' '2020-03-31' '2021-01-07' '2020-11-24' '2021-01-05'\n",
      " '2021-01-12' '2020-11-28' '2020-10-28' '2021-01-14' '2020-09-27'\n",
      " '2021-01-02' '2020-12-21' '2021-01-08' '2020-12-04' '2020-05-25'\n",
      " '2020-11-20' '2020-04-23' '2020-12-14' '2020-11-21' '2020-09-10'\n",
      " '2020-09-17' '2020-05-07' '2020-12-19' '2020-07-28' '2020-12-09'\n",
      " '2020-08-29' '2020-12-17' '2020-05-19' '2020-06-27' '2020-03-20'\n",
      " '2020-11-02' '2020-10-18' '2020-07-21' '2020-11-26' '2020-12-12'\n",
      " '2020-07-02' '2020-11-05' '2020-11-22' '2021-01-10' '2020-12-02'\n",
      " '2020-09-24' '2020-12-13' '2020-04-29' '2021-01-04' '2020-10-03'\n",
      " '2020-11-23' '2020-08-25' '2020-12-25' '2020-05-11' '2020-12-30'\n",
      " '2020-12-29' '2020-11-08' '2020-12-27' '2020-11-25' '2020-11-10'\n",
      " '2020-08-28' '2020-08-03' '2020-09-18' '2020-09-19' '2020-08-07'\n",
      " '2020-12-22' '2020-07-06' '2021-01-09' '2020-07-16' '2020-10-16'\n",
      " '2020-07-27' '2020-11-12' '2020-10-17' '2020-06-10' '2020-11-07'\n",
      " '2020-09-14' '2020-04-20' '2020-09-30' '2020-07-29' '2020-11-03'\n",
      " '2020-03-28' '2020-10-26' '2020-09-12' '2020-12-18' '2020-11-16'\n",
      " '2020-08-13' '2021-01-11' '2020-12-16' '2021-01-16' '2020-06-15'\n",
      " '2020-04-07' '2020-05-31' '2020-12-08' '2020-04-11' '2020-06-22'\n",
      " '2020-03-12' '2020-03-21' '2021-01-06' '2020-10-04' '2020-11-19'\n",
      " '2020-06-24' '2020-12-06' '2020-08-26' '2020-08-23' '2020-10-31'\n",
      " '2020-12-03' '2020-04-01' '2020-07-20' '2020-07-24' '2021-01-15'\n",
      " '2020-11-27' '2020-06-17' '2020-08-21' '2020-05-27' '2020-12-20'\n",
      " '2020-06-20' '2020-07-08' '2021-01-01' '2020-12-28' '2020-05-17'\n",
      " '2020-04-03' '2020-06-13' '2020-07-15' '2020-06-01' '2020-11-09'\n",
      " '2020-03-19' '2020-09-07' '2020-05-13' '2020-03-17' '2020-09-03'\n",
      " '2020-09-21' '2020-08-20' '2020-08-02' '2020-12-15' '2020-12-01'\n",
      " '2020-04-18' '2020-09-01' '2020-06-29' '2020-05-26' '2020-10-01'\n",
      " '2020-07-09' '2020-06-07' '2020-10-10' '2020-09-20' '2020-05-18'\n",
      " '2020-12-10' '2020-10-29' '2020-04-13' '2020-08-30' '2020-06-30'\n",
      " '2020-12-07' '2020-05-05' '2020-11-30' '2020-06-09' '2020-03-24'\n",
      " '2020-11-01' '2020-11-11' '2020-10-23' '2020-04-24' '2020-10-22'\n",
      " '2020-10-06' '2020-07-13' '2020-09-11' '2020-10-25' '2020-07-26'\n",
      " '2020-06-19' '2020-04-04' '2020-12-24' '2020-05-30' '2020-04-15'\n",
      " '2020-07-10' '2020-08-15' '2020-03-30' '2020-11-18' '2020-09-28'\n",
      " '2020-07-01' '2020-11-06' '2020-07-03' '2020-12-31' '2020-03-18'\n",
      " '2020-09-16' '2020-08-12' '2020-05-20' '2020-11-13' '2020-08-19'\n",
      " '2020-09-25' '2020-05-06' '2020-06-05' '2020-07-31' '2020-04-27'\n",
      " '2020-07-14' '2020-11-04' '2020-07-07' '2020-10-07' '2020-06-08'\n",
      " '2020-10-24' '2020-08-24' '2020-12-23' '2020-05-08' '2020-06-12'\n",
      " '2020-04-22' '2020-09-29' '2020-11-29' '2020-09-02' '2021-01-13'\n",
      " '2020-07-11' '2020-09-23' '2020-08-05' '2020-10-09' '2020-07-22'\n",
      " '2020-10-15' '2020-06-26' '2020-08-10' '2020-10-12' '2020-08-08'\n",
      " '2020-08-11' '2020-03-29' '2020-05-14' '2020-07-05' '2020-10-14'\n",
      " '2020-06-11' '2020-06-03' '2020-04-16' '2020-12-26' '2020-10-19'\n",
      " '2020-07-30' '2020-08-17' '2020-08-16' '2020-07-12' '2020-10-30'\n",
      " '2020-03-27' '2020-03-13' '2020-05-04' '2020-08-27' '2020-08-09'\n",
      " '2020-12-05' '2020-05-28' '2021-01-03' '2020-12-11' '2020-09-26'\n",
      " '2020-10-13' '2020-04-12' '2020-09-08' '2020-05-29' '2020-06-28'\n",
      " '2020-09-22' '2020-04-09' '2020-06-23' '2020-06-04' '2020-10-08'\n",
      " '2020-11-17' '2020-06-18' '2020-08-18' '2020-07-25' '2020-08-22'\n",
      " '2020-03-11' '2020-09-05' '2020-04-25' '2020-03-23' '2020-04-26'\n",
      " '2020-05-15' '2020-08-14' '2020-04-14' '2020-04-21' '2020-03-26'\n",
      " '2020-07-18' '2020-11-14' '2020-11-15' '2020-05-12' '2020-04-05'\n",
      " '2020-10-05' '2020-05-09' '2020-05-22' '2020-04-06' '2020-04-28'\n",
      " '2020-10-02' '2020-06-14' '2020-05-24' '2020-10-27' '2020-07-04'\n",
      " '2020-05-16' '2020-06-25' '2020-03-10' '2020-04-19' '2020-09-06'\n",
      " '2020-05-02' '2020-05-21' '2020-10-11' '2020-03-16' '2020-06-21'\n",
      " '2020-07-23' '2020-08-04' '2020-09-13' '2020-05-01' '2020-03-08'\n",
      " '2020-07-17' '2020-09-15' '2020-10-20' '2020-08-31' '2020-08-01'\n",
      " '2020-04-10' '2020-05-03' '2020-03-25' '2020-01-12' '2020-08-06'\n",
      " '2020-02-17' '2020-04-17' '2020-05-23' '2020-04-02' '2020-06-16'\n",
      " '2020-03-15' '2020-07-19' '2020-09-09' '2020-06-06' '2020-03-22'\n",
      " '2020-06-02' '2020-04-30' '2020-09-04' '2020-05-10' '2020-04-08'\n",
      " '2020-03-03' '2020-03-14' '2020-01-11' '2020-03-05' '2020-03-06'\n",
      " '2020-03-09']\n",
      "onset_missing_ind :\n",
      " [1 0]\n",
      "current_status :\n",
      " ['Laboratory-confirmed case' 'Probable Case']\n",
      "sex :\n",
      " ['Female' 'Male' 'Unknown']\n",
      "age_group :\n",
      " ['30 - 39 Years' '20 - 29 Years' '10 - 19 Years' '40 - 49 Years'\n",
      " '50 - 59 Years' '70 - 79 Years' '80+ Years' '0 - 9 Years' '60 - 69 Years']\n",
      "race_ethnicity_combined :\n",
      " ['Hispanic/Latino' 'Unknown' 'Multiple/Other, Non-Hispanic'\n",
      " 'White, Non-Hispanic' 'Asian, Non-Hispanic' 'Black, Non-Hispanic'\n",
      " 'Native Hawaiian/Other Pacific Islander, Non-Hispanic'\n",
      " 'American Indian/Alaska Native, Non-Hispanic']\n",
      "hosp_yn :\n",
      " ['Unknown' 'No' 'Yes']\n",
      "icu_yn :\n",
      " ['Unknown' 'No' 'Yes']\n",
      "death_yn :\n",
      " ['No' 'Yes']\n",
      "medcond_yn :\n",
      " ['Yes' 'No' 'Unknown']\n"
     ]
    }
   ],
   "source": [
    "for column in df:\n",
    "    print(column, \":\\n\", df[column].unique())"
   ]
  },
  {
   "cell_type": "markdown",
   "metadata": {},
   "source": [
    "**Review so far:**\n",
    "<br>\n",
    "We see that there are no missing values to investigate. I will convert the object types into category and datetime to which that applies. \n",
    "* cdc_case_earliest_ dt will be converted into datetime.\n",
    "* onset_missing_ind is a missing indicator feature that tells us if the onset date was available or it was missing. This will be kept as int64.\n",
    "* current_status, sex, age_group, race_ethnicity_combined, hosp_yn, icu_yn, death_yn, medcond_yn will be converted to category type.\n",
    "* Convert categorical features so that they have dummy variables. Still set their data types as categorical."
   ]
  },
  {
   "cell_type": "code",
   "execution_count": 7,
   "metadata": {},
   "outputs": [],
   "source": [
    "# Converting cdc_case_earliest_dt to datetime feature\n",
    "df['cdc_case_earliest_dt'] = pd.to_datetime(df['cdc_case_earliest_dt'])"
   ]
  },
  {
   "cell_type": "code",
   "execution_count": 8,
   "metadata": {},
   "outputs": [],
   "source": [
    "# Create categorical features then convert them to category types\n",
    "cat_features = ['current_status', 'sex', 'age_group', 'race_ethnicity_combined', \n",
    "                'hosp_yn', 'icu_yn', 'death_yn', 'medcond_yn']\n",
    "\n",
    "for column in cat_features:\n",
    "    df[column] = df[column].astype('category')\n",
    "    \n",
    "# Also convert onset_missing_ind as it was initially to indicate if the value is missing\n",
    "# And so it can be treated as a categorical feature (true or false)\n",
    "df['onset_missing_ind'] = df['onset_missing_ind'].astype('category')"
   ]
  },
  {
   "cell_type": "code",
   "execution_count": 9,
   "metadata": {
    "scrolled": false
   },
   "outputs": [
    {
     "data": {
      "text/plain": [
       "cdc_case_earliest_dt       datetime64[ns]\n",
       "onset_missing_ind                category\n",
       "current_status                   category\n",
       "sex                              category\n",
       "age_group                        category\n",
       "race_ethnicity_combined          category\n",
       "hosp_yn                          category\n",
       "icu_yn                           category\n",
       "death_yn                         category\n",
       "medcond_yn                       category\n",
       "dtype: object"
      ]
     },
     "execution_count": 9,
     "metadata": {},
     "output_type": "execute_result"
    }
   ],
   "source": [
    "df.dtypes"
   ]
  },
  {
   "cell_type": "markdown",
   "metadata": {},
   "source": [
    "We will set the target feature as y\n",
    "We will set X to be the remaining features in the dataframe so we drop death_yn from the dataframe."
   ]
  },
  {
   "cell_type": "code",
   "execution_count": 10,
   "metadata": {
    "scrolled": true
   },
   "outputs": [
    {
     "data": {
      "text/html": [
       "<div>\n",
       "<style scoped>\n",
       "    .dataframe tbody tr th:only-of-type {\n",
       "        vertical-align: middle;\n",
       "    }\n",
       "\n",
       "    .dataframe tbody tr th {\n",
       "        vertical-align: top;\n",
       "    }\n",
       "\n",
       "    .dataframe thead th {\n",
       "        text-align: right;\n",
       "    }\n",
       "</style>\n",
       "<table border=\"1\" class=\"dataframe\">\n",
       "  <thead>\n",
       "    <tr style=\"text-align: right;\">\n",
       "      <th></th>\n",
       "      <th>cdc_case_earliest_dt</th>\n",
       "      <th>onset_missing_ind</th>\n",
       "      <th>current_status</th>\n",
       "      <th>sex</th>\n",
       "      <th>age_group</th>\n",
       "      <th>race_ethnicity_combined</th>\n",
       "      <th>hosp_yn</th>\n",
       "      <th>icu_yn</th>\n",
       "      <th>death_yn</th>\n",
       "      <th>medcond_yn</th>\n",
       "    </tr>\n",
       "  </thead>\n",
       "  <tbody>\n",
       "    <tr>\n",
       "      <th>0</th>\n",
       "      <td>2020-10-21</td>\n",
       "      <td>1</td>\n",
       "      <td>Laboratory-confirmed case</td>\n",
       "      <td>Female</td>\n",
       "      <td>30 - 39 Years</td>\n",
       "      <td>Hispanic/Latino</td>\n",
       "      <td>Unknown</td>\n",
       "      <td>Unknown</td>\n",
       "      <td>No</td>\n",
       "      <td>Yes</td>\n",
       "    </tr>\n",
       "    <tr>\n",
       "      <th>1</th>\n",
       "      <td>2020-03-31</td>\n",
       "      <td>1</td>\n",
       "      <td>Laboratory-confirmed case</td>\n",
       "      <td>Male</td>\n",
       "      <td>20 - 29 Years</td>\n",
       "      <td>Unknown</td>\n",
       "      <td>No</td>\n",
       "      <td>No</td>\n",
       "      <td>No</td>\n",
       "      <td>No</td>\n",
       "    </tr>\n",
       "    <tr>\n",
       "      <th>2</th>\n",
       "      <td>2021-01-07</td>\n",
       "      <td>0</td>\n",
       "      <td>Laboratory-confirmed case</td>\n",
       "      <td>Female</td>\n",
       "      <td>10 - 19 Years</td>\n",
       "      <td>Unknown</td>\n",
       "      <td>Unknown</td>\n",
       "      <td>Unknown</td>\n",
       "      <td>No</td>\n",
       "      <td>Unknown</td>\n",
       "    </tr>\n",
       "    <tr>\n",
       "      <th>3</th>\n",
       "      <td>2020-11-24</td>\n",
       "      <td>1</td>\n",
       "      <td>Laboratory-confirmed case</td>\n",
       "      <td>Male</td>\n",
       "      <td>40 - 49 Years</td>\n",
       "      <td>Unknown</td>\n",
       "      <td>No</td>\n",
       "      <td>No</td>\n",
       "      <td>No</td>\n",
       "      <td>No</td>\n",
       "    </tr>\n",
       "    <tr>\n",
       "      <th>4</th>\n",
       "      <td>2021-01-05</td>\n",
       "      <td>0</td>\n",
       "      <td>Laboratory-confirmed case</td>\n",
       "      <td>Female</td>\n",
       "      <td>20 - 29 Years</td>\n",
       "      <td>Unknown</td>\n",
       "      <td>Unknown</td>\n",
       "      <td>Unknown</td>\n",
       "      <td>No</td>\n",
       "      <td>Unknown</td>\n",
       "    </tr>\n",
       "  </tbody>\n",
       "</table>\n",
       "</div>"
      ],
      "text/plain": [
       "  cdc_case_earliest_dt onset_missing_ind             current_status     sex  \\\n",
       "0           2020-10-21                 1  Laboratory-confirmed case  Female   \n",
       "1           2020-03-31                 1  Laboratory-confirmed case    Male   \n",
       "2           2021-01-07                 0  Laboratory-confirmed case  Female   \n",
       "3           2020-11-24                 1  Laboratory-confirmed case    Male   \n",
       "4           2021-01-05                 0  Laboratory-confirmed case  Female   \n",
       "\n",
       "       age_group race_ethnicity_combined  hosp_yn   icu_yn death_yn medcond_yn  \n",
       "0  30 - 39 Years         Hispanic/Latino  Unknown  Unknown       No        Yes  \n",
       "1  20 - 29 Years                 Unknown       No       No       No         No  \n",
       "2  10 - 19 Years                 Unknown  Unknown  Unknown       No    Unknown  \n",
       "3  40 - 49 Years                 Unknown       No       No       No         No  \n",
       "4  20 - 29 Years                 Unknown  Unknown  Unknown       No    Unknown  "
      ]
     },
     "execution_count": 10,
     "metadata": {},
     "output_type": "execute_result"
    }
   ],
   "source": [
    "df.set_index(np.random.permutation(df.index))\n",
    "# sort the resulting random index\n",
    "df.sort_index(inplace=True)\n",
    "df.head(5)"
   ]
  },
  {
   "cell_type": "code",
   "execution_count": 11,
   "metadata": {},
   "outputs": [],
   "source": [
    "# Splitting the dataset up\n",
    "# Creating own target feature dataframe and removing target feature from the main dataframe\n",
    "df_death_dummy = pd.get_dummies(df['death_yn'], prefix='death_yn')\n",
    "y = pd.DataFrame(df_death_dummy)\n",
    "X = df.drop(['death_yn'], 1)"
   ]
  },
  {
   "cell_type": "code",
   "execution_count": 12,
   "metadata": {
    "scrolled": true
   },
   "outputs": [
    {
     "name": "stdout",
     "output_type": "stream",
     "text": [
      "original range is:  9976\n",
      "training range (70%):\t rows 0 to 6983\n",
      "test range (30%): \t rows 6983 to 9976\n"
     ]
    }
   ],
   "source": [
    "X_train, X_test, y_train, y_test = train_test_split(X, y, test_size=0.3,random_state=1)\n",
    "\n",
    "print(\"original range is: \",df.shape[0])\n",
    "print(\"training range (70%):\\t rows 0 to\", round(X_train.shape[0]))\n",
    "print(\"test range (30%): \\t rows\", round(X_train.shape[0]), \"to\", round(X_train.shape[0]) + X_test.shape[0])"
   ]
  },
  {
   "cell_type": "code",
   "execution_count": 13,
   "metadata": {
    "scrolled": true
   },
   "outputs": [
    {
     "data": {
      "text/html": [
       "<div>\n",
       "<style scoped>\n",
       "    .dataframe tbody tr th:only-of-type {\n",
       "        vertical-align: middle;\n",
       "    }\n",
       "\n",
       "    .dataframe tbody tr th {\n",
       "        vertical-align: top;\n",
       "    }\n",
       "\n",
       "    .dataframe thead th {\n",
       "        text-align: right;\n",
       "    }\n",
       "</style>\n",
       "<table border=\"1\" class=\"dataframe\">\n",
       "  <thead>\n",
       "    <tr style=\"text-align: right;\">\n",
       "      <th></th>\n",
       "      <th>cdc_case_earliest_dt</th>\n",
       "      <th>onset_missing_ind</th>\n",
       "      <th>current_status</th>\n",
       "      <th>sex</th>\n",
       "      <th>age_group</th>\n",
       "      <th>race_ethnicity_combined</th>\n",
       "      <th>hosp_yn</th>\n",
       "      <th>icu_yn</th>\n",
       "      <th>medcond_yn</th>\n",
       "    </tr>\n",
       "  </thead>\n",
       "  <tbody>\n",
       "    <tr>\n",
       "      <th>1253</th>\n",
       "      <td>2020-12-31</td>\n",
       "      <td>1</td>\n",
       "      <td>Laboratory-confirmed case</td>\n",
       "      <td>Male</td>\n",
       "      <td>30 - 39 Years</td>\n",
       "      <td>Unknown</td>\n",
       "      <td>No</td>\n",
       "      <td>Unknown</td>\n",
       "      <td>Unknown</td>\n",
       "    </tr>\n",
       "    <tr>\n",
       "      <th>4363</th>\n",
       "      <td>2020-12-07</td>\n",
       "      <td>0</td>\n",
       "      <td>Laboratory-confirmed case</td>\n",
       "      <td>Male</td>\n",
       "      <td>30 - 39 Years</td>\n",
       "      <td>Unknown</td>\n",
       "      <td>No</td>\n",
       "      <td>Unknown</td>\n",
       "      <td>Unknown</td>\n",
       "    </tr>\n",
       "    <tr>\n",
       "      <th>1153</th>\n",
       "      <td>2020-11-10</td>\n",
       "      <td>1</td>\n",
       "      <td>Laboratory-confirmed case</td>\n",
       "      <td>Male</td>\n",
       "      <td>30 - 39 Years</td>\n",
       "      <td>Multiple/Other, Non-Hispanic</td>\n",
       "      <td>No</td>\n",
       "      <td>Unknown</td>\n",
       "      <td>Unknown</td>\n",
       "    </tr>\n",
       "    <tr>\n",
       "      <th>6988</th>\n",
       "      <td>2020-06-30</td>\n",
       "      <td>0</td>\n",
       "      <td>Laboratory-confirmed case</td>\n",
       "      <td>Male</td>\n",
       "      <td>50 - 59 Years</td>\n",
       "      <td>Unknown</td>\n",
       "      <td>Unknown</td>\n",
       "      <td>Unknown</td>\n",
       "      <td>Unknown</td>\n",
       "    </tr>\n",
       "    <tr>\n",
       "      <th>8302</th>\n",
       "      <td>2020-12-16</td>\n",
       "      <td>0</td>\n",
       "      <td>Laboratory-confirmed case</td>\n",
       "      <td>Female</td>\n",
       "      <td>20 - 29 Years</td>\n",
       "      <td>Unknown</td>\n",
       "      <td>Unknown</td>\n",
       "      <td>Unknown</td>\n",
       "      <td>Unknown</td>\n",
       "    </tr>\n",
       "    <tr>\n",
       "      <th>...</th>\n",
       "      <td>...</td>\n",
       "      <td>...</td>\n",
       "      <td>...</td>\n",
       "      <td>...</td>\n",
       "      <td>...</td>\n",
       "      <td>...</td>\n",
       "      <td>...</td>\n",
       "      <td>...</td>\n",
       "      <td>...</td>\n",
       "    </tr>\n",
       "    <tr>\n",
       "      <th>2895</th>\n",
       "      <td>2020-11-17</td>\n",
       "      <td>0</td>\n",
       "      <td>Laboratory-confirmed case</td>\n",
       "      <td>Male</td>\n",
       "      <td>30 - 39 Years</td>\n",
       "      <td>Black, Non-Hispanic</td>\n",
       "      <td>Unknown</td>\n",
       "      <td>Unknown</td>\n",
       "      <td>Unknown</td>\n",
       "    </tr>\n",
       "    <tr>\n",
       "      <th>7813</th>\n",
       "      <td>2020-10-08</td>\n",
       "      <td>1</td>\n",
       "      <td>Laboratory-confirmed case</td>\n",
       "      <td>Female</td>\n",
       "      <td>30 - 39 Years</td>\n",
       "      <td>White, Non-Hispanic</td>\n",
       "      <td>No</td>\n",
       "      <td>Unknown</td>\n",
       "      <td>Yes</td>\n",
       "    </tr>\n",
       "    <tr>\n",
       "      <th>905</th>\n",
       "      <td>2020-11-01</td>\n",
       "      <td>1</td>\n",
       "      <td>Laboratory-confirmed case</td>\n",
       "      <td>Female</td>\n",
       "      <td>40 - 49 Years</td>\n",
       "      <td>White, Non-Hispanic</td>\n",
       "      <td>Unknown</td>\n",
       "      <td>Unknown</td>\n",
       "      <td>Unknown</td>\n",
       "    </tr>\n",
       "    <tr>\n",
       "      <th>5192</th>\n",
       "      <td>2020-11-30</td>\n",
       "      <td>1</td>\n",
       "      <td>Laboratory-confirmed case</td>\n",
       "      <td>Female</td>\n",
       "      <td>80+ Years</td>\n",
       "      <td>White, Non-Hispanic</td>\n",
       "      <td>No</td>\n",
       "      <td>Unknown</td>\n",
       "      <td>Yes</td>\n",
       "    </tr>\n",
       "    <tr>\n",
       "      <th>235</th>\n",
       "      <td>2020-12-19</td>\n",
       "      <td>0</td>\n",
       "      <td>Laboratory-confirmed case</td>\n",
       "      <td>Male</td>\n",
       "      <td>20 - 29 Years</td>\n",
       "      <td>Unknown</td>\n",
       "      <td>No</td>\n",
       "      <td>Unknown</td>\n",
       "      <td>Unknown</td>\n",
       "    </tr>\n",
       "  </tbody>\n",
       "</table>\n",
       "<p>6983 rows × 9 columns</p>\n",
       "</div>"
      ],
      "text/plain": [
       "     cdc_case_earliest_dt onset_missing_ind             current_status  \\\n",
       "1253           2020-12-31                 1  Laboratory-confirmed case   \n",
       "4363           2020-12-07                 0  Laboratory-confirmed case   \n",
       "1153           2020-11-10                 1  Laboratory-confirmed case   \n",
       "6988           2020-06-30                 0  Laboratory-confirmed case   \n",
       "8302           2020-12-16                 0  Laboratory-confirmed case   \n",
       "...                   ...               ...                        ...   \n",
       "2895           2020-11-17                 0  Laboratory-confirmed case   \n",
       "7813           2020-10-08                 1  Laboratory-confirmed case   \n",
       "905            2020-11-01                 1  Laboratory-confirmed case   \n",
       "5192           2020-11-30                 1  Laboratory-confirmed case   \n",
       "235            2020-12-19                 0  Laboratory-confirmed case   \n",
       "\n",
       "         sex      age_group       race_ethnicity_combined  hosp_yn   icu_yn  \\\n",
       "1253    Male  30 - 39 Years                       Unknown       No  Unknown   \n",
       "4363    Male  30 - 39 Years                       Unknown       No  Unknown   \n",
       "1153    Male  30 - 39 Years  Multiple/Other, Non-Hispanic       No  Unknown   \n",
       "6988    Male  50 - 59 Years                       Unknown  Unknown  Unknown   \n",
       "8302  Female  20 - 29 Years                       Unknown  Unknown  Unknown   \n",
       "...      ...            ...                           ...      ...      ...   \n",
       "2895    Male  30 - 39 Years           Black, Non-Hispanic  Unknown  Unknown   \n",
       "7813  Female  30 - 39 Years           White, Non-Hispanic       No  Unknown   \n",
       "905   Female  40 - 49 Years           White, Non-Hispanic  Unknown  Unknown   \n",
       "5192  Female      80+ Years           White, Non-Hispanic       No  Unknown   \n",
       "235     Male  20 - 29 Years                       Unknown       No  Unknown   \n",
       "\n",
       "     medcond_yn  \n",
       "1253    Unknown  \n",
       "4363    Unknown  \n",
       "1153    Unknown  \n",
       "6988    Unknown  \n",
       "8302    Unknown  \n",
       "...         ...  \n",
       "2895    Unknown  \n",
       "7813        Yes  \n",
       "905     Unknown  \n",
       "5192        Yes  \n",
       "235     Unknown  \n",
       "\n",
       "[6983 rows x 9 columns]"
      ]
     },
     "execution_count": 13,
     "metadata": {},
     "output_type": "execute_result"
    }
   ],
   "source": [
    "X_train"
   ]
  },
  {
   "cell_type": "markdown",
   "metadata": {},
   "source": [
    "## 1.2 Carry out a series of plots to compare all features to help make decisions to keep for the model"
   ]
  },
  {
   "cell_type": "markdown",
   "metadata": {},
   "source": [
    "### Plot datetime feature against the target feature"
   ]
  },
  {
   "cell_type": "code",
   "execution_count": 14,
   "metadata": {},
   "outputs": [
    {
     "data": {
      "text/html": [
       "<div>\n",
       "<style scoped>\n",
       "    .dataframe tbody tr th:only-of-type {\n",
       "        vertical-align: middle;\n",
       "    }\n",
       "\n",
       "    .dataframe tbody tr th {\n",
       "        vertical-align: top;\n",
       "    }\n",
       "\n",
       "    .dataframe thead th {\n",
       "        text-align: right;\n",
       "    }\n",
       "</style>\n",
       "<table border=\"1\" class=\"dataframe\">\n",
       "  <thead>\n",
       "    <tr style=\"text-align: right;\">\n",
       "      <th></th>\n",
       "      <th>cdc_case_earliest_dt</th>\n",
       "      <th>death_yn_Yes</th>\n",
       "      <th>death_yn_No</th>\n",
       "    </tr>\n",
       "  </thead>\n",
       "  <tbody>\n",
       "    <tr>\n",
       "      <th>cdc_case_earliest_dt</th>\n",
       "      <td>1.000000</td>\n",
       "      <td>-0.109002</td>\n",
       "      <td>0.109002</td>\n",
       "    </tr>\n",
       "    <tr>\n",
       "      <th>death_yn_Yes</th>\n",
       "      <td>-0.109002</td>\n",
       "      <td>1.000000</td>\n",
       "      <td>-1.000000</td>\n",
       "    </tr>\n",
       "    <tr>\n",
       "      <th>death_yn_No</th>\n",
       "      <td>0.109002</td>\n",
       "      <td>-1.000000</td>\n",
       "      <td>1.000000</td>\n",
       "    </tr>\n",
       "  </tbody>\n",
       "</table>\n",
       "</div>"
      ],
      "text/plain": [
       "                      cdc_case_earliest_dt  death_yn_Yes  death_yn_No\n",
       "cdc_case_earliest_dt              1.000000     -0.109002     0.109002\n",
       "death_yn_Yes                     -0.109002      1.000000    -1.000000\n",
       "death_yn_No                       0.109002     -1.000000     1.000000"
      ]
     },
     "execution_count": 14,
     "metadata": {},
     "output_type": "execute_result"
    }
   ],
   "source": [
    "X_train.cdc_case_earliest_dt = pd.to_numeric(X_train.cdc_case_earliest_dt)\n",
    "df_temp = pd.concat([X_train['cdc_case_earliest_dt'], y_train], axis=1)\n",
    "correlation = df_temp[[\"cdc_case_earliest_dt\", \"death_yn_Yes\", \"death_yn_No\"]].corr(method='pearson')\n",
    "correlation"
   ]
  },
  {
   "cell_type": "code",
   "execution_count": 15,
   "metadata": {},
   "outputs": [
    {
     "data": {
      "text/plain": [
       "<AxesSubplot:xlabel='cdc_case_earliest_dt', ylabel='death_yn_Yes'>"
      ]
     },
     "execution_count": 15,
     "metadata": {},
     "output_type": "execute_result"
    },
    {
     "data": {
      "text/plain": [
       "<Figure size 432x288 with 0 Axes>"
      ]
     },
     "metadata": {},
     "output_type": "display_data"
    },
    {
     "data": {
      "image/png": "[encoded data removed]",
      "text/plain": [
       "<Figure size 1080x576 with 1 Axes>"
      ]
     },
     "metadata": {
      "needs_background": "light"
     },
     "output_type": "display_data"
    }
   ],
   "source": [
    "fig = plt.figure()\n",
    "ax = fig.add_subplot\n",
    "df_temp.plot(kind='scatter', x='cdc_case_earliest_dt', y='death_yn_Yes', label = \"%.3f\" % df_temp[['death_yn_Yes', 'cdc_case_earliest_dt']].corr().to_numpy()[0,1], figsize=(15, 8)) "
   ]
  },
  {
   "cell_type": "markdown",
   "metadata": {},
   "source": [
    "**Interpreting the result:**\n",
    "<br>\n",
    "* After observing the this graph, we see no clear, defined correlation between cdc_case_earlist_dt and the target feature.\n",
    "* As the correlation is 0.1, we conclude that the datetime feature has a low correlation with the target feature.\n",
    "* It means that the cdc_case_earliest_dt's relationship with death_yn_Yes is not strong."
   ]
  },
  {
   "cell_type": "markdown",
   "metadata": {},
   "source": [
    "### Plot interaction between categorical features and the target feature"
   ]
  },
  {
   "cell_type": "markdown",
   "metadata": {},
   "source": [
    "In this section we will plot the interactions between each categorical feature against the target feature. Deciding which categorical feature that seem to be better at predicting the target feature will be discussed. I will choose a subset of categorical features based on the findings below. "
   ]
  },
  {
   "cell_type": "code",
   "execution_count": 16,
   "metadata": {},
   "outputs": [],
   "source": [
    "# Convert the target feature to categorical \n",
    "y_train = y_train.astype('category')"
   ]
  },
  {
   "cell_type": "code",
   "execution_count": 17,
   "metadata": {},
   "outputs": [
    {
     "data": {
      "text/html": [
       "<div>\n",
       "<style scoped>\n",
       "    .dataframe tbody tr th:only-of-type {\n",
       "        vertical-align: middle;\n",
       "    }\n",
       "\n",
       "    .dataframe tbody tr th {\n",
       "        vertical-align: top;\n",
       "    }\n",
       "\n",
       "    .dataframe thead th {\n",
       "        text-align: right;\n",
       "    }\n",
       "</style>\n",
       "<table border=\"1\" class=\"dataframe\">\n",
       "  <thead>\n",
       "    <tr style=\"text-align: right;\">\n",
       "      <th></th>\n",
       "      <th>onset_missing_ind</th>\n",
       "      <th>current_status</th>\n",
       "      <th>sex</th>\n",
       "      <th>age_group</th>\n",
       "      <th>race_ethnicity_combined</th>\n",
       "      <th>hosp_yn</th>\n",
       "      <th>icu_yn</th>\n",
       "      <th>medcond_yn</th>\n",
       "      <th>death_yn_No</th>\n",
       "      <th>death_yn_Yes</th>\n",
       "    </tr>\n",
       "  </thead>\n",
       "  <tbody>\n",
       "    <tr>\n",
       "      <th>1253</th>\n",
       "      <td>1</td>\n",
       "      <td>Laboratory-confirmed case</td>\n",
       "      <td>Male</td>\n",
       "      <td>30 - 39 Years</td>\n",
       "      <td>Unknown</td>\n",
       "      <td>No</td>\n",
       "      <td>Unknown</td>\n",
       "      <td>Unknown</td>\n",
       "      <td>1</td>\n",
       "      <td>0</td>\n",
       "    </tr>\n",
       "    <tr>\n",
       "      <th>4363</th>\n",
       "      <td>0</td>\n",
       "      <td>Laboratory-confirmed case</td>\n",
       "      <td>Male</td>\n",
       "      <td>30 - 39 Years</td>\n",
       "      <td>Unknown</td>\n",
       "      <td>No</td>\n",
       "      <td>Unknown</td>\n",
       "      <td>Unknown</td>\n",
       "      <td>1</td>\n",
       "      <td>0</td>\n",
       "    </tr>\n",
       "    <tr>\n",
       "      <th>1153</th>\n",
       "      <td>1</td>\n",
       "      <td>Laboratory-confirmed case</td>\n",
       "      <td>Male</td>\n",
       "      <td>30 - 39 Years</td>\n",
       "      <td>Multiple/Other, Non-Hispanic</td>\n",
       "      <td>No</td>\n",
       "      <td>Unknown</td>\n",
       "      <td>Unknown</td>\n",
       "      <td>1</td>\n",
       "      <td>0</td>\n",
       "    </tr>\n",
       "    <tr>\n",
       "      <th>6988</th>\n",
       "      <td>0</td>\n",
       "      <td>Laboratory-confirmed case</td>\n",
       "      <td>Male</td>\n",
       "      <td>50 - 59 Years</td>\n",
       "      <td>Unknown</td>\n",
       "      <td>Unknown</td>\n",
       "      <td>Unknown</td>\n",
       "      <td>Unknown</td>\n",
       "      <td>1</td>\n",
       "      <td>0</td>\n",
       "    </tr>\n",
       "    <tr>\n",
       "      <th>8302</th>\n",
       "      <td>0</td>\n",
       "      <td>Laboratory-confirmed case</td>\n",
       "      <td>Female</td>\n",
       "      <td>20 - 29 Years</td>\n",
       "      <td>Unknown</td>\n",
       "      <td>Unknown</td>\n",
       "      <td>Unknown</td>\n",
       "      <td>Unknown</td>\n",
       "      <td>1</td>\n",
       "      <td>0</td>\n",
       "    </tr>\n",
       "  </tbody>\n",
       "</table>\n",
       "</div>"
      ],
      "text/plain": [
       "     onset_missing_ind             current_status     sex      age_group  \\\n",
       "1253                 1  Laboratory-confirmed case    Male  30 - 39 Years   \n",
       "4363                 0  Laboratory-confirmed case    Male  30 - 39 Years   \n",
       "1153                 1  Laboratory-confirmed case    Male  30 - 39 Years   \n",
       "6988                 0  Laboratory-confirmed case    Male  50 - 59 Years   \n",
       "8302                 0  Laboratory-confirmed case  Female  20 - 29 Years   \n",
       "\n",
       "           race_ethnicity_combined  hosp_yn   icu_yn medcond_yn death_yn_No  \\\n",
       "1253                       Unknown       No  Unknown    Unknown           1   \n",
       "4363                       Unknown       No  Unknown    Unknown           1   \n",
       "1153  Multiple/Other, Non-Hispanic       No  Unknown    Unknown           1   \n",
       "6988                       Unknown  Unknown  Unknown    Unknown           1   \n",
       "8302                       Unknown  Unknown  Unknown    Unknown           1   \n",
       "\n",
       "     death_yn_Yes  \n",
       "1253            0  \n",
       "4363            0  \n",
       "1153            0  \n",
       "6988            0  \n",
       "8302            0  "
      ]
     },
     "execution_count": 17,
     "metadata": {},
     "output_type": "execute_result"
    }
   ],
   "source": [
    "# Creating a temporary dataframe to plot by merging X_train and y_train\n",
    "df_temp = pd.concat([X_train, y_train], axis=1)\n",
    "df_temp.pop('cdc_case_earliest_dt')\n",
    "df_temp.head(5)"
   ]
  },
  {
   "cell_type": "code",
   "execution_count": 18,
   "metadata": {},
   "outputs": [],
   "source": [
    "categorical_columns_no_dummy = ['onset_missing_ind', 'current_status', 'sex', 'age_group', 'race_ethnicity_combined',\n",
    "                               'hosp_yn', 'icu_yn', 'medcond_yn']"
   ]
  },
  {
   "cell_type": "code",
   "execution_count": 19,
   "metadata": {},
   "outputs": [],
   "source": [
    "df_temp = pd.concat([X_train, y_train], axis=1)"
   ]
  },
  {
   "cell_type": "code",
   "execution_count": 20,
   "metadata": {
    "scrolled": true
   },
   "outputs": [
    {
     "name": "stdout",
     "output_type": "stream",
     "text": [
      "\n",
      " onset_missing_ind\n",
      "Index \t\t Count\n",
      "1 \t 3600\n",
      "0 \t 3383\n",
      "\n",
      " current_status\n",
      "Index \t\t Count\n",
      "Laboratory-confirmed case \t 6522\n",
      "Probable Case \t 461\n",
      "\n",
      " sex\n",
      "Index \t\t Count\n",
      "Male \t 3262\n",
      "Female \t 3677\n",
      "Unknown \t 44\n",
      "\n",
      " age_group\n",
      "Index \t\t Count\n",
      "30 - 39 Years \t 1180\n",
      "50 - 59 Years \t 947\n",
      "20 - 29 Years \t 1335\n",
      "40 - 49 Years \t 1067\n",
      "10 - 19 Years \t 759\n",
      "70 - 79 Years \t 407\n",
      "60 - 69 Years \t 709\n",
      "0 - 9 Years \t 278\n",
      "80+ Years \t 301\n",
      "\n",
      " race_ethnicity_combined\n",
      "Index \t\t Count\n",
      "Unknown \t 2868\n",
      "Multiple/Other, Non-Hispanic \t 372\n",
      "White, Non-Hispanic \t 2248\n",
      "Hispanic/Latino \t 703\n",
      "Asian, Non-Hispanic \t 175\n",
      "Black, Non-Hispanic \t 561\n",
      "American Indian/Alaska Native, Non-Hispanic \t 44\n",
      "Native Hawaiian/Other Pacific Islander, Non-Hispanic \t 12\n",
      "\n",
      " hosp_yn\n",
      "Index \t\t Count\n",
      "No \t 3683\n",
      "Unknown \t 2860\n",
      "Yes \t 440\n",
      "\n",
      " icu_yn\n",
      "Index \t\t Count\n",
      "Unknown \t 5982\n",
      "No \t 746\n",
      "Yes \t 255\n",
      "\n",
      " medcond_yn\n",
      "Index \t\t Count\n",
      "Unknown \t 5703\n",
      "No \t 644\n",
      "Yes \t 636\n"
     ]
    },
    {
     "data": {
      "image/png": "[encoded data removed]",
      "text/plain": [
       "<Figure size 720x360 with 1 Axes>"
      ]
     },
     "metadata": {
      "needs_background": "light"
     },
     "output_type": "display_data"
    },
    {
     "data": {
      "image/png": "[encoded data removed]",
      "text/plain": [
       "<Figure size 720x360 with 1 Axes>"
      ]
     },
     "metadata": {
      "needs_background": "light"
     },
     "output_type": "display_data"
    },
    {
     "data": {
      "image/png": "[encoded data removed]",
      "text/plain": [
       "<Figure size 720x360 with 1 Axes>"
      ]
     },
     "metadata": {
      "needs_background": "light"
     },
     "output_type": "display_data"
    },
    {
     "data": {
      "image/png": "[encoded data removed]",
      "text/plain": [
       "<Figure size 720x360 with 1 Axes>"
      ]
     },
     "metadata": {
      "needs_background": "light"
     },
     "output_type": "display_data"
    },
    {
     "data": {
      "image/png": "[encoded data removed]",
      "text/plain": [
       "<Figure size 720x360 with 1 Axes>"
      ]
     },
     "metadata": {
      "needs_background": "light"
     },
     "output_type": "display_data"
    },
    {
     "data": {
      "image/png": "[encoded data removed]",
      "text/plain": [
       "<Figure size 720x360 with 1 Axes>"
      ]
     },
     "metadata": {
      "needs_background": "light"
     },
     "output_type": "display_data"
    },
    {
     "data": {
      "image/png": "[encoded data removed]",
      "text/plain": [
       "<Figure size 720x360 with 1 Axes>"
      ]
     },
     "metadata": {
      "needs_background": "light"
     },
     "output_type": "display_data"
    },
    {
     "data": {
      "image/png": "[encoded data removed]",
      "text/plain": [
       "<Figure size 720x360 with 1 Axes>"
      ]
     },
     "metadata": {
      "needs_background": "light"
     },
     "output_type": "display_data"
    }
   ],
   "source": [
    "# We will now create a stacked bar plot to investigate the correlation between each categorical feature\n",
    "\n",
    "for feature in categorical_columns_no_dummy:\n",
    "    categ_feat = pd.unique(df_temp[feature].ravel())\n",
    "    df_temp['percent'] = 0\n",
    "    \n",
    "    print(\"\\n\", feature)\n",
    "    print(\"Index \\t\\t Count\")\n",
    "    \n",
    "    for categorical_feature in categ_feat:\n",
    "        count = df_temp[df_temp[feature] == categorical_feature].count()['death_yn_Yes']\n",
    "        count_percentage = (1/count) * 100\n",
    "        print(categorical_feature, \"\\t\", count)\n",
    "        \n",
    "        index = df_temp[df_temp[feature] == categorical_feature].index.tolist()\n",
    "        for ind in index:\n",
    "            df_temp.loc[ind, 'percent'] = count_percentage\n",
    "        \n",
    "    grouped = df_temp[['percent', feature, 'death_yn_Yes']].groupby([feature, 'death_yn_Yes']).sum()\n",
    "    plot = grouped.unstack().plot(kind='bar', stacked=True, title=f' death_yn_Yes vs {feature}', figsize=(10,5), grid=True)\n",
    "    \n",
    "    # Adding legends\n",
    "    red = mpatches.Patch(color='orange', label='Yes')\n",
    "    blue = mpatches.Patch(color='blue', label='No')\n",
    "    plot.legend(handles=[red, blue], frameon = True)\n",
    "    # Adding gridlines\n",
    "    plt.grid(b=True, which='major', color='#666666', linestyle='-')\n",
    "    plt.minorticks_on()\n",
    "    plt.grid(b=True, which='minor', color='#999999', linestyle='-', alpha=0.2)\n",
    "    # Adding labels\n",
    "    # add labels\n",
    "    # add labels\n",
    "    plot.set_xlabel(\"---\")\n",
    "    plot.set_ylabel(\"% Death\")\n",
    "    plot.set_ylim([0,100])\n",
    "    \n",
    "# drop 'percent' that was used only for stacked bar plot\n",
    "df_temp = df_temp.drop(\"percent\", 1)"
   ]
  },
  {
   "cell_type": "markdown",
   "metadata": {},
   "source": [
    "#### Interperating the results:\n",
    "##### _death_yn vs onset_missing_ind_\n",
    "* From this plot, we see patients who had dates that showed they were experiencing symptoms has a slightly higher risk of death. \n",
    "* During data preperation, there was an indication that suggested missing data resulted in higher deaths. This may be useful and capturing this data may prove to be sufficient.\n",
    "\n",
    "##### _death_yn vs current_status_\n",
    "* After observing the plot, the % of deaths resulting to positive has no impact to the target feature. Even if te disparity of laboratory cases to probable cases the % is not big enough to say whether this feature would be useful for predicting the target feature.\n",
    "* It is unlikely the binary outcome will capture this data sufficiently.\n",
    "\n",
    "##### _death_yn vs sex_\n",
    "* Observing this plot, we see unknown does not serve relevant results.\n",
    "* Over the course of a year we see no signs of any big increase in positive deaths for any of the values for this feature (< 5%).\n",
    "* Male and female values that have a higher % chance and are almost matching in this percentage. \n",
    "* However, it is unlikely the binary outcome will capture data sufficiently.\n",
    "\n",
    "##### _death_yn vs age_group_\n",
    "* From this observation we see that the % of death occurs as the age_group increases.\n",
    "* Age group of 80+ years, accounting 3% of the dataset for the feature and so the % of death is easier to observe, which is expected.\n",
    "* Even so, this shows promising correlations with the target feature as the death % for the age group with > 10%.\n",
    "* It is likely the binary outcome will capture this data sufficiently.\n",
    "\n",
    "##### _death_yn vs race_\n",
    "* We see this plot and the % of risk of death falls to hawaiian/pacific islanders at about < 5% chance.\n",
    "* Most race_ethnic groups have a likely chance of surviving for those who have probable and laboratory confirmed cases. \n",
    "\n",
    "##### _death_yn vs hosp_yn_\n",
    "* From this observation, the % of yes for a person that is hospitalized has slightly less survivability rate.\n",
    "* Conditions may have probably worsened or that the duration of their stay has made their conditions worse.\n",
    "* 'Yes' accounts for 3.9% of patients but it is concerning to see just over 15% of hospitalized patients are more likely to die.\n",
    "* It is likely the outcome will capture this data sufficiently.\n",
    "\n",
    "##### _death_yn vs icu_yn_\n",
    "* Observing this plot, we can see that patients were admitted to the ICU has a higher chance of death.\n",
    "* The likelihood of patients who were not admitted to the ICU has less risk and more survivability rate.\n",
    "* Unknown values similar to patients who were not admitted had lower risk of dying.\n",
    "* It is likely the binary outcome will capture this data sufficiently.\n",
    "\n",
    "##### _death_yn vs medcond_yn_\n",
    "* Similarly to icu_yn, though not as gravely, we see a pattern in the likelihood of a patient having an existing medical condition the higher the risk of their chances of death.\n",
    "\n",
    "**Features: age_group, hosp_yn, icu_yn and medcond_yn show promising correlations and so, they will be kept.**"
   ]
  },
  {
   "cell_type": "markdown",
   "metadata": {},
   "source": [
    "**Summary:**\n",
    "<br>\n",
    "From continuous features: we see that **cdc_case_earliest_dt** showed low correlation with the target feature and so it will be dropped\n",
    "<br><br>\n",
    "From categorical features: we saw a lot of promising features that shows promising correlations to the target feature and some that did not. The following features will be kept: **age_group, hosp_yn, icu_yn and medcond_yn.** The following features will be dropped as they have low correlations: **current_status, race_ethnicity_combined, sex**"
   ]
  },
  {
   "cell_type": "markdown",
   "metadata": {},
   "source": [
    "**Setting up dummy features**"
   ]
  },
  {
   "cell_type": "code",
   "execution_count": 21,
   "metadata": {},
   "outputs": [],
   "source": [
    "# Create a copy of the dataframe\n",
    "df_copy = df.copy()\n",
    "df_copy = df_copy.drop(['cdc_case_earliest_dt', 'current_status', 'sex'], 1)"
   ]
  },
  {
   "cell_type": "code",
   "execution_count": 22,
   "metadata": {
    "scrolled": false
   },
   "outputs": [
    {
     "data": {
      "text/plain": [
       "onset_missing_ind_1                                                             uint8\n",
       "age_group_10 - 19 Years                                                         uint8\n",
       "age_group_20 - 29 Years                                                         uint8\n",
       "age_group_30 - 39 Years                                                         uint8\n",
       "age_group_40 - 49 Years                                                         uint8\n",
       "age_group_50 - 59 Years                                                         uint8\n",
       "age_group_60 - 69 Years                                                         uint8\n",
       "age_group_70 - 79 Years                                                         uint8\n",
       "age_group_80+ Years                                                             uint8\n",
       "race_ethnicity_combined_Asian, Non-Hispanic                                     uint8\n",
       "race_ethnicity_combined_Black, Non-Hispanic                                     uint8\n",
       "race_ethnicity_combined_Hispanic/Latino                                         uint8\n",
       "race_ethnicity_combined_Multiple/Other, Non-Hispanic                            uint8\n",
       "race_ethnicity_combined_Native Hawaiian/Other Pacific Islander, Non-Hispanic    uint8\n",
       "race_ethnicity_combined_Unknown                                                 uint8\n",
       "race_ethnicity_combined_White, Non-Hispanic                                     uint8\n",
       "hosp_yn_Unknown                                                                 uint8\n",
       "hosp_yn_Yes                                                                     uint8\n",
       "icu_yn_Unknown                                                                  uint8\n",
       "icu_yn_Yes                                                                      uint8\n",
       "death_yn_Yes                                                                    uint8\n",
       "medcond_yn_Unknown                                                              uint8\n",
       "medcond_yn_Yes                                                                  uint8\n",
       "dtype: object"
      ]
     },
     "execution_count": 22,
     "metadata": {},
     "output_type": "execute_result"
    }
   ],
   "source": [
    "df_copy = pd.get_dummies(df_copy, drop_first=True)\n",
    "df_copy.dtypes"
   ]
  },
  {
   "cell_type": "code",
   "execution_count": 23,
   "metadata": {
    "scrolled": true
   },
   "outputs": [
    {
     "data": {
      "text/html": [
       "<div>\n",
       "<style scoped>\n",
       "    .dataframe tbody tr th:only-of-type {\n",
       "        vertical-align: middle;\n",
       "    }\n",
       "\n",
       "    .dataframe tbody tr th {\n",
       "        vertical-align: top;\n",
       "    }\n",
       "\n",
       "    .dataframe thead th {\n",
       "        text-align: right;\n",
       "    }\n",
       "</style>\n",
       "<table border=\"1\" class=\"dataframe\">\n",
       "  <thead>\n",
       "    <tr style=\"text-align: right;\">\n",
       "      <th></th>\n",
       "      <th>onset_missing_ind_1</th>\n",
       "      <th>age_group_10 - 19 Years</th>\n",
       "      <th>age_group_20 - 29 Years</th>\n",
       "      <th>age_group_30 - 39 Years</th>\n",
       "      <th>age_group_40 - 49 Years</th>\n",
       "      <th>age_group_50 - 59 Years</th>\n",
       "      <th>age_group_60 - 69 Years</th>\n",
       "      <th>age_group_70 - 79 Years</th>\n",
       "      <th>age_group_80+ Years</th>\n",
       "      <th>race_ethnicity_combined_Asian, Non-Hispanic</th>\n",
       "      <th>...</th>\n",
       "      <th>race_ethnicity_combined_Native Hawaiian/Other Pacific Islander, Non-Hispanic</th>\n",
       "      <th>race_ethnicity_combined_Unknown</th>\n",
       "      <th>race_ethnicity_combined_White, Non-Hispanic</th>\n",
       "      <th>hosp_yn_Unknown</th>\n",
       "      <th>hosp_yn_Yes</th>\n",
       "      <th>icu_yn_Unknown</th>\n",
       "      <th>icu_yn_Yes</th>\n",
       "      <th>death_yn_Yes</th>\n",
       "      <th>medcond_yn_Unknown</th>\n",
       "      <th>medcond_yn_Yes</th>\n",
       "    </tr>\n",
       "  </thead>\n",
       "  <tbody>\n",
       "    <tr>\n",
       "      <th>0</th>\n",
       "      <td>1</td>\n",
       "      <td>0</td>\n",
       "      <td>0</td>\n",
       "      <td>1</td>\n",
       "      <td>0</td>\n",
       "      <td>0</td>\n",
       "      <td>0</td>\n",
       "      <td>0</td>\n",
       "      <td>0</td>\n",
       "      <td>0</td>\n",
       "      <td>...</td>\n",
       "      <td>0</td>\n",
       "      <td>0</td>\n",
       "      <td>0</td>\n",
       "      <td>1</td>\n",
       "      <td>0</td>\n",
       "      <td>1</td>\n",
       "      <td>0</td>\n",
       "      <td>0</td>\n",
       "      <td>0</td>\n",
       "      <td>1</td>\n",
       "    </tr>\n",
       "    <tr>\n",
       "      <th>1</th>\n",
       "      <td>1</td>\n",
       "      <td>0</td>\n",
       "      <td>1</td>\n",
       "      <td>0</td>\n",
       "      <td>0</td>\n",
       "      <td>0</td>\n",
       "      <td>0</td>\n",
       "      <td>0</td>\n",
       "      <td>0</td>\n",
       "      <td>0</td>\n",
       "      <td>...</td>\n",
       "      <td>0</td>\n",
       "      <td>1</td>\n",
       "      <td>0</td>\n",
       "      <td>0</td>\n",
       "      <td>0</td>\n",
       "      <td>0</td>\n",
       "      <td>0</td>\n",
       "      <td>0</td>\n",
       "      <td>0</td>\n",
       "      <td>0</td>\n",
       "    </tr>\n",
       "    <tr>\n",
       "      <th>2</th>\n",
       "      <td>0</td>\n",
       "      <td>1</td>\n",
       "      <td>0</td>\n",
       "      <td>0</td>\n",
       "      <td>0</td>\n",
       "      <td>0</td>\n",
       "      <td>0</td>\n",
       "      <td>0</td>\n",
       "      <td>0</td>\n",
       "      <td>0</td>\n",
       "      <td>...</td>\n",
       "      <td>0</td>\n",
       "      <td>1</td>\n",
       "      <td>0</td>\n",
       "      <td>1</td>\n",
       "      <td>0</td>\n",
       "      <td>1</td>\n",
       "      <td>0</td>\n",
       "      <td>0</td>\n",
       "      <td>1</td>\n",
       "      <td>0</td>\n",
       "    </tr>\n",
       "    <tr>\n",
       "      <th>3</th>\n",
       "      <td>1</td>\n",
       "      <td>0</td>\n",
       "      <td>0</td>\n",
       "      <td>0</td>\n",
       "      <td>1</td>\n",
       "      <td>0</td>\n",
       "      <td>0</td>\n",
       "      <td>0</td>\n",
       "      <td>0</td>\n",
       "      <td>0</td>\n",
       "      <td>...</td>\n",
       "      <td>0</td>\n",
       "      <td>1</td>\n",
       "      <td>0</td>\n",
       "      <td>0</td>\n",
       "      <td>0</td>\n",
       "      <td>0</td>\n",
       "      <td>0</td>\n",
       "      <td>0</td>\n",
       "      <td>0</td>\n",
       "      <td>0</td>\n",
       "    </tr>\n",
       "    <tr>\n",
       "      <th>4</th>\n",
       "      <td>0</td>\n",
       "      <td>0</td>\n",
       "      <td>1</td>\n",
       "      <td>0</td>\n",
       "      <td>0</td>\n",
       "      <td>0</td>\n",
       "      <td>0</td>\n",
       "      <td>0</td>\n",
       "      <td>0</td>\n",
       "      <td>0</td>\n",
       "      <td>...</td>\n",
       "      <td>0</td>\n",
       "      <td>1</td>\n",
       "      <td>0</td>\n",
       "      <td>1</td>\n",
       "      <td>0</td>\n",
       "      <td>1</td>\n",
       "      <td>0</td>\n",
       "      <td>0</td>\n",
       "      <td>1</td>\n",
       "      <td>0</td>\n",
       "    </tr>\n",
       "    <tr>\n",
       "      <th>5</th>\n",
       "      <td>0</td>\n",
       "      <td>1</td>\n",
       "      <td>0</td>\n",
       "      <td>0</td>\n",
       "      <td>0</td>\n",
       "      <td>0</td>\n",
       "      <td>0</td>\n",
       "      <td>0</td>\n",
       "      <td>0</td>\n",
       "      <td>0</td>\n",
       "      <td>...</td>\n",
       "      <td>0</td>\n",
       "      <td>0</td>\n",
       "      <td>0</td>\n",
       "      <td>1</td>\n",
       "      <td>0</td>\n",
       "      <td>1</td>\n",
       "      <td>0</td>\n",
       "      <td>0</td>\n",
       "      <td>1</td>\n",
       "      <td>0</td>\n",
       "    </tr>\n",
       "    <tr>\n",
       "      <th>6</th>\n",
       "      <td>1</td>\n",
       "      <td>0</td>\n",
       "      <td>0</td>\n",
       "      <td>0</td>\n",
       "      <td>0</td>\n",
       "      <td>1</td>\n",
       "      <td>0</td>\n",
       "      <td>0</td>\n",
       "      <td>0</td>\n",
       "      <td>0</td>\n",
       "      <td>...</td>\n",
       "      <td>0</td>\n",
       "      <td>0</td>\n",
       "      <td>1</td>\n",
       "      <td>0</td>\n",
       "      <td>0</td>\n",
       "      <td>1</td>\n",
       "      <td>0</td>\n",
       "      <td>0</td>\n",
       "      <td>1</td>\n",
       "      <td>0</td>\n",
       "    </tr>\n",
       "    <tr>\n",
       "      <th>7</th>\n",
       "      <td>1</td>\n",
       "      <td>0</td>\n",
       "      <td>0</td>\n",
       "      <td>0</td>\n",
       "      <td>1</td>\n",
       "      <td>0</td>\n",
       "      <td>0</td>\n",
       "      <td>0</td>\n",
       "      <td>0</td>\n",
       "      <td>0</td>\n",
       "      <td>...</td>\n",
       "      <td>0</td>\n",
       "      <td>0</td>\n",
       "      <td>1</td>\n",
       "      <td>1</td>\n",
       "      <td>0</td>\n",
       "      <td>1</td>\n",
       "      <td>0</td>\n",
       "      <td>0</td>\n",
       "      <td>0</td>\n",
       "      <td>0</td>\n",
       "    </tr>\n",
       "    <tr>\n",
       "      <th>8</th>\n",
       "      <td>1</td>\n",
       "      <td>0</td>\n",
       "      <td>0</td>\n",
       "      <td>0</td>\n",
       "      <td>1</td>\n",
       "      <td>0</td>\n",
       "      <td>0</td>\n",
       "      <td>0</td>\n",
       "      <td>0</td>\n",
       "      <td>0</td>\n",
       "      <td>...</td>\n",
       "      <td>0</td>\n",
       "      <td>0</td>\n",
       "      <td>1</td>\n",
       "      <td>1</td>\n",
       "      <td>0</td>\n",
       "      <td>1</td>\n",
       "      <td>0</td>\n",
       "      <td>0</td>\n",
       "      <td>1</td>\n",
       "      <td>0</td>\n",
       "    </tr>\n",
       "    <tr>\n",
       "      <th>9</th>\n",
       "      <td>1</td>\n",
       "      <td>0</td>\n",
       "      <td>0</td>\n",
       "      <td>1</td>\n",
       "      <td>0</td>\n",
       "      <td>0</td>\n",
       "      <td>0</td>\n",
       "      <td>0</td>\n",
       "      <td>0</td>\n",
       "      <td>0</td>\n",
       "      <td>...</td>\n",
       "      <td>0</td>\n",
       "      <td>0</td>\n",
       "      <td>0</td>\n",
       "      <td>0</td>\n",
       "      <td>0</td>\n",
       "      <td>1</td>\n",
       "      <td>0</td>\n",
       "      <td>0</td>\n",
       "      <td>1</td>\n",
       "      <td>0</td>\n",
       "    </tr>\n",
       "  </tbody>\n",
       "</table>\n",
       "<p>10 rows × 23 columns</p>\n",
       "</div>"
      ],
      "text/plain": [
       "   onset_missing_ind_1  age_group_10 - 19 Years  age_group_20 - 29 Years  \\\n",
       "0                    1                        0                        0   \n",
       "1                    1                        0                        1   \n",
       "2                    0                        1                        0   \n",
       "3                    1                        0                        0   \n",
       "4                    0                        0                        1   \n",
       "5                    0                        1                        0   \n",
       "6                    1                        0                        0   \n",
       "7                    1                        0                        0   \n",
       "8                    1                        0                        0   \n",
       "9                    1                        0                        0   \n",
       "\n",
       "   age_group_30 - 39 Years  age_group_40 - 49 Years  age_group_50 - 59 Years  \\\n",
       "0                        1                        0                        0   \n",
       "1                        0                        0                        0   \n",
       "2                        0                        0                        0   \n",
       "3                        0                        1                        0   \n",
       "4                        0                        0                        0   \n",
       "5                        0                        0                        0   \n",
       "6                        0                        0                        1   \n",
       "7                        0                        1                        0   \n",
       "8                        0                        1                        0   \n",
       "9                        1                        0                        0   \n",
       "\n",
       "   age_group_60 - 69 Years  age_group_70 - 79 Years  age_group_80+ Years  \\\n",
       "0                        0                        0                    0   \n",
       "1                        0                        0                    0   \n",
       "2                        0                        0                    0   \n",
       "3                        0                        0                    0   \n",
       "4                        0                        0                    0   \n",
       "5                        0                        0                    0   \n",
       "6                        0                        0                    0   \n",
       "7                        0                        0                    0   \n",
       "8                        0                        0                    0   \n",
       "9                        0                        0                    0   \n",
       "\n",
       "   race_ethnicity_combined_Asian, Non-Hispanic  ...  \\\n",
       "0                                            0  ...   \n",
       "1                                            0  ...   \n",
       "2                                            0  ...   \n",
       "3                                            0  ...   \n",
       "4                                            0  ...   \n",
       "5                                            0  ...   \n",
       "6                                            0  ...   \n",
       "7                                            0  ...   \n",
       "8                                            0  ...   \n",
       "9                                            0  ...   \n",
       "\n",
       "   race_ethnicity_combined_Native Hawaiian/Other Pacific Islander, Non-Hispanic  \\\n",
       "0                                                  0                              \n",
       "1                                                  0                              \n",
       "2                                                  0                              \n",
       "3                                                  0                              \n",
       "4                                                  0                              \n",
       "5                                                  0                              \n",
       "6                                                  0                              \n",
       "7                                                  0                              \n",
       "8                                                  0                              \n",
       "9                                                  0                              \n",
       "\n",
       "   race_ethnicity_combined_Unknown  \\\n",
       "0                                0   \n",
       "1                                1   \n",
       "2                                1   \n",
       "3                                1   \n",
       "4                                1   \n",
       "5                                0   \n",
       "6                                0   \n",
       "7                                0   \n",
       "8                                0   \n",
       "9                                0   \n",
       "\n",
       "   race_ethnicity_combined_White, Non-Hispanic  hosp_yn_Unknown  hosp_yn_Yes  \\\n",
       "0                                            0                1            0   \n",
       "1                                            0                0            0   \n",
       "2                                            0                1            0   \n",
       "3                                            0                0            0   \n",
       "4                                            0                1            0   \n",
       "5                                            0                1            0   \n",
       "6                                            1                0            0   \n",
       "7                                            1                1            0   \n",
       "8                                            1                1            0   \n",
       "9                                            0                0            0   \n",
       "\n",
       "   icu_yn_Unknown  icu_yn_Yes  death_yn_Yes  medcond_yn_Unknown  \\\n",
       "0               1           0             0                   0   \n",
       "1               0           0             0                   0   \n",
       "2               1           0             0                   1   \n",
       "3               0           0             0                   0   \n",
       "4               1           0             0                   1   \n",
       "5               1           0             0                   1   \n",
       "6               1           0             0                   1   \n",
       "7               1           0             0                   0   \n",
       "8               1           0             0                   1   \n",
       "9               1           0             0                   1   \n",
       "\n",
       "   medcond_yn_Yes  \n",
       "0               1  \n",
       "1               0  \n",
       "2               0  \n",
       "3               0  \n",
       "4               0  \n",
       "5               0  \n",
       "6               0  \n",
       "7               0  \n",
       "8               0  \n",
       "9               0  \n",
       "\n",
       "[10 rows x 23 columns]"
      ]
     },
     "execution_count": 23,
     "metadata": {},
     "output_type": "execute_result"
    }
   ],
   "source": [
    "# I will drop the following dummy features: hosp_yn_Unknown, icu_yn_Unknown, medcond_yn_Unknown as if Yes and No are 0 it implies that Unknown would be 1.\n",
    "# df_copy = df_copy.drop(['hosp_yn_Unknown', 'icu_yn_Unknown', 'medcond_yn_Unknown'], 1)\n",
    "# This functions attempts to find the reference variables and removing them from the data frame\n",
    "from statsmodels.stats.outliers_influence import variance_inflation_factor\n",
    "\n",
    "def calculatevif(X, thresh=5.0):\n",
    "    variables = list(range(X.shape[1]))\n",
    "    dropped = True\n",
    "    while dropped:\n",
    "        dropped = False\n",
    "        vif = [variance_inflation_factor(X.iloc[:, variables].values, ix)\n",
    "               for ix in range(X.iloc[:, variables].shape[1])]\n",
    "\n",
    "        maxloc = vif.index(max(vif))\n",
    "        if max(vif) > thresh:\n",
    "#             print('dropping ' + X.iloc[:, variables].columns[maxloc] + ' at index: ' + str(maxloc))\n",
    "            del variables[maxloc]\n",
    "            dropped = True\n",
    "\n",
    "#     print('Remaining variables:')\n",
    "#     print(X.columns[variables])\n",
    "    return X.iloc[:, variables]\n",
    "\n",
    "df_copy = calculatevif(df_copy)\n",
    "df_copy.head(10)"
   ]
  },
  {
   "cell_type": "markdown",
   "metadata": {},
   "source": [
    "### Setting the continuous columns\n",
    "In this case there are no continuous columns"
   ]
  },
  {
   "cell_type": "markdown",
   "metadata": {},
   "source": [
    "### Setting the categorical columns\n"
   ]
  },
  {
   "cell_type": "code",
   "execution_count": 24,
   "metadata": {
    "scrolled": true
   },
   "outputs": [
    {
     "data": {
      "text/plain": [
       "['onset_missing_ind_1',\n",
       " 'age_group_10 - 19 Years',\n",
       " 'age_group_20 - 29 Years',\n",
       " 'age_group_30 - 39 Years',\n",
       " 'age_group_40 - 49 Years',\n",
       " 'age_group_50 - 59 Years',\n",
       " 'age_group_60 - 69 Years',\n",
       " 'age_group_70 - 79 Years',\n",
       " 'age_group_80+ Years',\n",
       " 'race_ethnicity_combined_Asian, Non-Hispanic',\n",
       " 'race_ethnicity_combined_Black, Non-Hispanic',\n",
       " 'race_ethnicity_combined_Hispanic/Latino',\n",
       " 'race_ethnicity_combined_Multiple/Other, Non-Hispanic',\n",
       " 'race_ethnicity_combined_Native Hawaiian/Other Pacific Islander, Non-Hispanic',\n",
       " 'race_ethnicity_combined_Unknown',\n",
       " 'race_ethnicity_combined_White, Non-Hispanic',\n",
       " 'hosp_yn_Unknown',\n",
       " 'hosp_yn_Yes',\n",
       " 'icu_yn_Unknown',\n",
       " 'icu_yn_Yes',\n",
       " 'death_yn_Yes',\n",
       " 'medcond_yn_Unknown',\n",
       " 'medcond_yn_Yes']"
      ]
     },
     "execution_count": 24,
     "metadata": {},
     "output_type": "execute_result"
    }
   ],
   "source": [
    "# Setting the categorical columns and we remove death_yn from the list\n",
    "categorical_columns = df_copy.select_dtypes(include=['uint8']).columns.tolist()\n",
    "categorical_columns "
   ]
  },
  {
   "cell_type": "markdown",
   "metadata": {},
   "source": [
    "### Setting the low correlation features"
   ]
  },
  {
   "cell_type": "code",
   "execution_count": 25,
   "metadata": {},
   "outputs": [],
   "source": [
    "low_correlation_features = ['cdc_case_earliest_dt', 'current_status', 'sex']"
   ]
  },
  {
   "cell_type": "markdown",
   "metadata": {},
   "source": [
    "### Setting the high correlation features"
   ]
  },
  {
   "cell_type": "code",
   "execution_count": 26,
   "metadata": {},
   "outputs": [],
   "source": [
    "high_correlation_features = ['age_group', 'hosp_yn', 'medcond_yn', 'icu_yn', 'race_ethnicity_combined']"
   ]
  },
  {
   "cell_type": "code",
   "execution_count": 27,
   "metadata": {
    "scrolled": true
   },
   "outputs": [
    {
     "data": {
      "text/plain": [
       "['onset_missing_ind_1',\n",
       " 'age_group_10 - 19 Years',\n",
       " 'age_group_20 - 29 Years',\n",
       " 'age_group_30 - 39 Years',\n",
       " 'age_group_40 - 49 Years',\n",
       " 'age_group_50 - 59 Years',\n",
       " 'age_group_60 - 69 Years',\n",
       " 'age_group_70 - 79 Years',\n",
       " 'age_group_80+ Years',\n",
       " 'race_ethnicity_combined_Asian, Non-Hispanic',\n",
       " 'race_ethnicity_combined_Black, Non-Hispanic',\n",
       " 'race_ethnicity_combined_Hispanic/Latino',\n",
       " 'race_ethnicity_combined_Multiple/Other, Non-Hispanic',\n",
       " 'race_ethnicity_combined_Native Hawaiian/Other Pacific Islander, Non-Hispanic',\n",
       " 'race_ethnicity_combined_Unknown',\n",
       " 'race_ethnicity_combined_White, Non-Hispanic',\n",
       " 'hosp_yn_Unknown',\n",
       " 'hosp_yn_Yes',\n",
       " 'icu_yn_Unknown',\n",
       " 'icu_yn_Yes',\n",
       " 'death_yn_Yes',\n",
       " 'medcond_yn_Unknown',\n",
       " 'medcond_yn_Yes']"
      ]
     },
     "execution_count": 27,
     "metadata": {},
     "output_type": "execute_result"
    }
   ],
   "source": [
    "# Adding the two features together we get:\n",
    "features = categorical_columns\n",
    "features"
   ]
  },
  {
   "cell_type": "code",
   "execution_count": 28,
   "metadata": {
    "scrolled": true
   },
   "outputs": [
    {
     "data": {
      "text/plain": [
       "'icu_yn_Yes'"
      ]
     },
     "execution_count": 28,
     "metadata": {},
     "output_type": "execute_result"
    }
   ],
   "source": [
    "features.pop(19)"
   ]
  },
  {
   "cell_type": "code",
   "execution_count": 29,
   "metadata": {},
   "outputs": [
    {
     "data": {
      "text/plain": [
       "['onset_missing_ind_1',\n",
       " 'age_group_10 - 19 Years',\n",
       " 'age_group_20 - 29 Years',\n",
       " 'age_group_30 - 39 Years',\n",
       " 'age_group_40 - 49 Years',\n",
       " 'age_group_50 - 59 Years',\n",
       " 'age_group_60 - 69 Years',\n",
       " 'age_group_70 - 79 Years',\n",
       " 'age_group_80+ Years',\n",
       " 'race_ethnicity_combined_Asian, Non-Hispanic',\n",
       " 'race_ethnicity_combined_Black, Non-Hispanic',\n",
       " 'race_ethnicity_combined_Hispanic/Latino',\n",
       " 'race_ethnicity_combined_Multiple/Other, Non-Hispanic',\n",
       " 'race_ethnicity_combined_Native Hawaiian/Other Pacific Islander, Non-Hispanic',\n",
       " 'race_ethnicity_combined_Unknown',\n",
       " 'race_ethnicity_combined_White, Non-Hispanic',\n",
       " 'hosp_yn_Unknown',\n",
       " 'hosp_yn_Yes',\n",
       " 'icu_yn_Unknown',\n",
       " 'death_yn_Yes',\n",
       " 'medcond_yn_Unknown',\n",
       " 'medcond_yn_Yes']"
      ]
     },
     "execution_count": 29,
     "metadata": {},
     "output_type": "execute_result"
    }
   ],
   "source": [
    "features"
   ]
  },
  {
   "cell_type": "code",
   "execution_count": 30,
   "metadata": {},
   "outputs": [
    {
     "data": {
      "text/plain": [
       "onset_missing_ind_1                                                             uint8\n",
       "age_group_10 - 19 Years                                                         uint8\n",
       "age_group_20 - 29 Years                                                         uint8\n",
       "age_group_30 - 39 Years                                                         uint8\n",
       "age_group_40 - 49 Years                                                         uint8\n",
       "age_group_50 - 59 Years                                                         uint8\n",
       "age_group_60 - 69 Years                                                         uint8\n",
       "age_group_70 - 79 Years                                                         uint8\n",
       "age_group_80+ Years                                                             uint8\n",
       "race_ethnicity_combined_Asian, Non-Hispanic                                     uint8\n",
       "race_ethnicity_combined_Black, Non-Hispanic                                     uint8\n",
       "race_ethnicity_combined_Hispanic/Latino                                         uint8\n",
       "race_ethnicity_combined_Multiple/Other, Non-Hispanic                            uint8\n",
       "race_ethnicity_combined_Native Hawaiian/Other Pacific Islander, Non-Hispanic    uint8\n",
       "race_ethnicity_combined_Unknown                                                 uint8\n",
       "race_ethnicity_combined_White, Non-Hispanic                                     uint8\n",
       "hosp_yn_Unknown                                                                 uint8\n",
       "hosp_yn_Yes                                                                     uint8\n",
       "icu_yn_Unknown                                                                  uint8\n",
       "icu_yn_Yes                                                                      uint8\n",
       "death_yn_Yes                                                                    uint8\n",
       "medcond_yn_Unknown                                                              uint8\n",
       "medcond_yn_Yes                                                                  uint8\n",
       "dtype: object"
      ]
     },
     "execution_count": 30,
     "metadata": {},
     "output_type": "execute_result"
    }
   ],
   "source": [
    "df_copy.dtypes"
   ]
  },
  {
   "cell_type": "code",
   "execution_count": 31,
   "metadata": {},
   "outputs": [],
   "source": [
    "datas = {'death_yn_Yes': df_copy['death_yn_Yes']}\n",
    "y = pd.DataFrame(data=datas)\n",
    "X = df_copy.drop(['death_yn_Yes'],1)"
   ]
  },
  {
   "cell_type": "code",
   "execution_count": 32,
   "metadata": {
    "scrolled": true
   },
   "outputs": [
    {
     "name": "stdout",
     "output_type": "stream",
     "text": [
      "The Original range of the dataset:  9976\n",
      "The Training range taken from dataset: (70%): rows 0 to 6983\n",
      "The Test range taken from dataset: (30%): rows 6983 to 9976\n"
     ]
    }
   ],
   "source": [
    "# Splitting the dataset into 2 datasets: \n",
    "# Split the dataset into two datasets: 70% training and 30% test\n",
    "X_train, X_test, y_train, y_test = train_test_split(X, y, test_size=0.3,random_state=1)\n",
    "\n",
    "print(\"The Original range of the dataset: \",df.shape[0])\n",
    "print(\"The Training range taken from dataset: (70%): rows 0 to\", round(X_train.shape[0]))\n",
    "print(\"The Test range taken from dataset: (30%): rows\", round(X_train.shape[0]), \"to\", round(X_train.shape[0]) + X_test.shape[0])"
   ]
  },
  {
   "cell_type": "code",
   "execution_count": 33,
   "metadata": {},
   "outputs": [
    {
     "name": "stdout",
     "output_type": "stream",
     "text": [
      "\n",
      "Descriptive features in X:\n",
      "       onset_missing_ind_1  age_group_10 - 19 Years  age_group_20 - 29 Years  \\\n",
      "1253                    1                        0                        0   \n",
      "4363                    0                        0                        0   \n",
      "1153                    1                        0                        0   \n",
      "6988                    0                        0                        0   \n",
      "8302                    0                        0                        1   \n",
      "\n",
      "      age_group_30 - 39 Years  age_group_40 - 49 Years  \\\n",
      "1253                        1                        0   \n",
      "4363                        1                        0   \n",
      "1153                        1                        0   \n",
      "6988                        0                        0   \n",
      "8302                        0                        0   \n",
      "\n",
      "      age_group_50 - 59 Years  age_group_60 - 69 Years  \\\n",
      "1253                        0                        0   \n",
      "4363                        0                        0   \n",
      "1153                        0                        0   \n",
      "6988                        1                        0   \n",
      "8302                        0                        0   \n",
      "\n",
      "      age_group_70 - 79 Years  age_group_80+ Years  \\\n",
      "1253                        0                    0   \n",
      "4363                        0                    0   \n",
      "1153                        0                    0   \n",
      "6988                        0                    0   \n",
      "8302                        0                    0   \n",
      "\n",
      "      race_ethnicity_combined_Asian, Non-Hispanic  ...  \\\n",
      "1253                                            0  ...   \n",
      "4363                                            0  ...   \n",
      "1153                                            0  ...   \n",
      "6988                                            0  ...   \n",
      "8302                                            0  ...   \n",
      "\n",
      "      race_ethnicity_combined_Multiple/Other, Non-Hispanic  \\\n",
      "1253                                                  0      \n",
      "4363                                                  0      \n",
      "1153                                                  1      \n",
      "6988                                                  0      \n",
      "8302                                                  0      \n",
      "\n",
      "      race_ethnicity_combined_Native Hawaiian/Other Pacific Islander, Non-Hispanic  \\\n",
      "1253                                                  0                              \n",
      "4363                                                  0                              \n",
      "1153                                                  0                              \n",
      "6988                                                  0                              \n",
      "8302                                                  0                              \n",
      "\n",
      "      race_ethnicity_combined_Unknown  \\\n",
      "1253                                1   \n",
      "4363                                1   \n",
      "1153                                0   \n",
      "6988                                1   \n",
      "8302                                1   \n",
      "\n",
      "      race_ethnicity_combined_White, Non-Hispanic  hosp_yn_Unknown  \\\n",
      "1253                                            0                0   \n",
      "4363                                            0                0   \n",
      "1153                                            0                0   \n",
      "6988                                            0                1   \n",
      "8302                                            0                1   \n",
      "\n",
      "      hosp_yn_Yes  icu_yn_Unknown  icu_yn_Yes  medcond_yn_Unknown  \\\n",
      "1253            0               1           0                   1   \n",
      "4363            0               1           0                   1   \n",
      "1153            0               1           0                   1   \n",
      "6988            0               1           0                   1   \n",
      "8302            0               1           0                   1   \n",
      "\n",
      "      medcond_yn_Yes  \n",
      "1253               0  \n",
      "4363               0  \n",
      "1153               0  \n",
      "6988               0  \n",
      "8302               0  \n",
      "\n",
      "[5 rows x 22 columns]\n",
      "\n",
      "Target feature in y:\n",
      "       death_yn_Yes\n",
      "1253             0\n",
      "4363             0\n",
      "1153             0\n",
      "6988             0\n",
      "8302             0\n"
     ]
    }
   ],
   "source": [
    "print(\"\\nDescriptive features in X:\\n\", X_train.head(5))\n",
    "print(\"\\nTarget feature in y:\\n\", y_train.head(5))"
   ]
  },
  {
   "cell_type": "code",
   "execution_count": 34,
   "metadata": {},
   "outputs": [
    {
     "data": {
      "text/html": [
       "<div>\n",
       "<style scoped>\n",
       "    .dataframe tbody tr th:only-of-type {\n",
       "        vertical-align: middle;\n",
       "    }\n",
       "\n",
       "    .dataframe tbody tr th {\n",
       "        vertical-align: top;\n",
       "    }\n",
       "\n",
       "    .dataframe thead th {\n",
       "        text-align: right;\n",
       "    }\n",
       "</style>\n",
       "<table border=\"1\" class=\"dataframe\">\n",
       "  <thead>\n",
       "    <tr style=\"text-align: right;\">\n",
       "      <th></th>\n",
       "      <th>onset_missing_ind_1</th>\n",
       "      <th>age_group_10 - 19 Years</th>\n",
       "      <th>age_group_20 - 29 Years</th>\n",
       "      <th>age_group_30 - 39 Years</th>\n",
       "      <th>age_group_40 - 49 Years</th>\n",
       "      <th>age_group_50 - 59 Years</th>\n",
       "      <th>age_group_60 - 69 Years</th>\n",
       "      <th>age_group_70 - 79 Years</th>\n",
       "      <th>age_group_80+ Years</th>\n",
       "      <th>race_ethnicity_combined_Asian, Non-Hispanic</th>\n",
       "      <th>...</th>\n",
       "      <th>race_ethnicity_combined_Multiple/Other, Non-Hispanic</th>\n",
       "      <th>race_ethnicity_combined_Native Hawaiian/Other Pacific Islander, Non-Hispanic</th>\n",
       "      <th>race_ethnicity_combined_Unknown</th>\n",
       "      <th>race_ethnicity_combined_White, Non-Hispanic</th>\n",
       "      <th>hosp_yn_Unknown</th>\n",
       "      <th>hosp_yn_Yes</th>\n",
       "      <th>icu_yn_Unknown</th>\n",
       "      <th>icu_yn_Yes</th>\n",
       "      <th>medcond_yn_Unknown</th>\n",
       "      <th>medcond_yn_Yes</th>\n",
       "    </tr>\n",
       "  </thead>\n",
       "  <tbody>\n",
       "    <tr>\n",
       "      <th>1253</th>\n",
       "      <td>1</td>\n",
       "      <td>0</td>\n",
       "      <td>0</td>\n",
       "      <td>1</td>\n",
       "      <td>0</td>\n",
       "      <td>0</td>\n",
       "      <td>0</td>\n",
       "      <td>0</td>\n",
       "      <td>0</td>\n",
       "      <td>0</td>\n",
       "      <td>...</td>\n",
       "      <td>0</td>\n",
       "      <td>0</td>\n",
       "      <td>1</td>\n",
       "      <td>0</td>\n",
       "      <td>0</td>\n",
       "      <td>0</td>\n",
       "      <td>1</td>\n",
       "      <td>0</td>\n",
       "      <td>1</td>\n",
       "      <td>0</td>\n",
       "    </tr>\n",
       "    <tr>\n",
       "      <th>4363</th>\n",
       "      <td>0</td>\n",
       "      <td>0</td>\n",
       "      <td>0</td>\n",
       "      <td>1</td>\n",
       "      <td>0</td>\n",
       "      <td>0</td>\n",
       "      <td>0</td>\n",
       "      <td>0</td>\n",
       "      <td>0</td>\n",
       "      <td>0</td>\n",
       "      <td>...</td>\n",
       "      <td>0</td>\n",
       "      <td>0</td>\n",
       "      <td>1</td>\n",
       "      <td>0</td>\n",
       "      <td>0</td>\n",
       "      <td>0</td>\n",
       "      <td>1</td>\n",
       "      <td>0</td>\n",
       "      <td>1</td>\n",
       "      <td>0</td>\n",
       "    </tr>\n",
       "    <tr>\n",
       "      <th>1153</th>\n",
       "      <td>1</td>\n",
       "      <td>0</td>\n",
       "      <td>0</td>\n",
       "      <td>1</td>\n",
       "      <td>0</td>\n",
       "      <td>0</td>\n",
       "      <td>0</td>\n",
       "      <td>0</td>\n",
       "      <td>0</td>\n",
       "      <td>0</td>\n",
       "      <td>...</td>\n",
       "      <td>1</td>\n",
       "      <td>0</td>\n",
       "      <td>0</td>\n",
       "      <td>0</td>\n",
       "      <td>0</td>\n",
       "      <td>0</td>\n",
       "      <td>1</td>\n",
       "      <td>0</td>\n",
       "      <td>1</td>\n",
       "      <td>0</td>\n",
       "    </tr>\n",
       "    <tr>\n",
       "      <th>6988</th>\n",
       "      <td>0</td>\n",
       "      <td>0</td>\n",
       "      <td>0</td>\n",
       "      <td>0</td>\n",
       "      <td>0</td>\n",
       "      <td>1</td>\n",
       "      <td>0</td>\n",
       "      <td>0</td>\n",
       "      <td>0</td>\n",
       "      <td>0</td>\n",
       "      <td>...</td>\n",
       "      <td>0</td>\n",
       "      <td>0</td>\n",
       "      <td>1</td>\n",
       "      <td>0</td>\n",
       "      <td>1</td>\n",
       "      <td>0</td>\n",
       "      <td>1</td>\n",
       "      <td>0</td>\n",
       "      <td>1</td>\n",
       "      <td>0</td>\n",
       "    </tr>\n",
       "    <tr>\n",
       "      <th>8302</th>\n",
       "      <td>0</td>\n",
       "      <td>0</td>\n",
       "      <td>1</td>\n",
       "      <td>0</td>\n",
       "      <td>0</td>\n",
       "      <td>0</td>\n",
       "      <td>0</td>\n",
       "      <td>0</td>\n",
       "      <td>0</td>\n",
       "      <td>0</td>\n",
       "      <td>...</td>\n",
       "      <td>0</td>\n",
       "      <td>0</td>\n",
       "      <td>1</td>\n",
       "      <td>0</td>\n",
       "      <td>1</td>\n",
       "      <td>0</td>\n",
       "      <td>1</td>\n",
       "      <td>0</td>\n",
       "      <td>1</td>\n",
       "      <td>0</td>\n",
       "    </tr>\n",
       "  </tbody>\n",
       "</table>\n",
       "<p>5 rows × 22 columns</p>\n",
       "</div>"
      ],
      "text/plain": [
       "      onset_missing_ind_1  age_group_10 - 19 Years  age_group_20 - 29 Years  \\\n",
       "1253                    1                        0                        0   \n",
       "4363                    0                        0                        0   \n",
       "1153                    1                        0                        0   \n",
       "6988                    0                        0                        0   \n",
       "8302                    0                        0                        1   \n",
       "\n",
       "      age_group_30 - 39 Years  age_group_40 - 49 Years  \\\n",
       "1253                        1                        0   \n",
       "4363                        1                        0   \n",
       "1153                        1                        0   \n",
       "6988                        0                        0   \n",
       "8302                        0                        0   \n",
       "\n",
       "      age_group_50 - 59 Years  age_group_60 - 69 Years  \\\n",
       "1253                        0                        0   \n",
       "4363                        0                        0   \n",
       "1153                        0                        0   \n",
       "6988                        1                        0   \n",
       "8302                        0                        0   \n",
       "\n",
       "      age_group_70 - 79 Years  age_group_80+ Years  \\\n",
       "1253                        0                    0   \n",
       "4363                        0                    0   \n",
       "1153                        0                    0   \n",
       "6988                        0                    0   \n",
       "8302                        0                    0   \n",
       "\n",
       "      race_ethnicity_combined_Asian, Non-Hispanic  ...  \\\n",
       "1253                                            0  ...   \n",
       "4363                                            0  ...   \n",
       "1153                                            0  ...   \n",
       "6988                                            0  ...   \n",
       "8302                                            0  ...   \n",
       "\n",
       "      race_ethnicity_combined_Multiple/Other, Non-Hispanic  \\\n",
       "1253                                                  0      \n",
       "4363                                                  0      \n",
       "1153                                                  1      \n",
       "6988                                                  0      \n",
       "8302                                                  0      \n",
       "\n",
       "      race_ethnicity_combined_Native Hawaiian/Other Pacific Islander, Non-Hispanic  \\\n",
       "1253                                                  0                              \n",
       "4363                                                  0                              \n",
       "1153                                                  0                              \n",
       "6988                                                  0                              \n",
       "8302                                                  0                              \n",
       "\n",
       "      race_ethnicity_combined_Unknown  \\\n",
       "1253                                1   \n",
       "4363                                1   \n",
       "1153                                0   \n",
       "6988                                1   \n",
       "8302                                1   \n",
       "\n",
       "      race_ethnicity_combined_White, Non-Hispanic  hosp_yn_Unknown  \\\n",
       "1253                                            0                0   \n",
       "4363                                            0                0   \n",
       "1153                                            0                0   \n",
       "6988                                            0                1   \n",
       "8302                                            0                1   \n",
       "\n",
       "      hosp_yn_Yes  icu_yn_Unknown  icu_yn_Yes  medcond_yn_Unknown  \\\n",
       "1253            0               1           0                   1   \n",
       "4363            0               1           0                   1   \n",
       "1153            0               1           0                   1   \n",
       "6988            0               1           0                   1   \n",
       "8302            0               1           0                   1   \n",
       "\n",
       "      medcond_yn_Yes  \n",
       "1253               0  \n",
       "4363               0  \n",
       "1153               0  \n",
       "6988               0  \n",
       "8302               0  \n",
       "\n",
       "[5 rows x 22 columns]"
      ]
     },
     "execution_count": 34,
     "metadata": {},
     "output_type": "execute_result"
    }
   ],
   "source": [
    "# I will reset the indexes of the training and test splits so we can see the X_train printout\n",
    "# We will see that they are no longer in order and the next markdown cell I will reset the indexes.\n",
    "X_train.head(5)"
   ]
  },
  {
   "cell_type": "code",
   "execution_count": 35,
   "metadata": {},
   "outputs": [
    {
     "data": {
      "text/html": [
       "<div>\n",
       "<style scoped>\n",
       "    .dataframe tbody tr th:only-of-type {\n",
       "        vertical-align: middle;\n",
       "    }\n",
       "\n",
       "    .dataframe tbody tr th {\n",
       "        vertical-align: top;\n",
       "    }\n",
       "\n",
       "    .dataframe thead th {\n",
       "        text-align: right;\n",
       "    }\n",
       "</style>\n",
       "<table border=\"1\" class=\"dataframe\">\n",
       "  <thead>\n",
       "    <tr style=\"text-align: right;\">\n",
       "      <th></th>\n",
       "      <th>onset_missing_ind_1</th>\n",
       "      <th>age_group_10 - 19 Years</th>\n",
       "      <th>age_group_20 - 29 Years</th>\n",
       "      <th>age_group_30 - 39 Years</th>\n",
       "      <th>age_group_40 - 49 Years</th>\n",
       "      <th>age_group_50 - 59 Years</th>\n",
       "      <th>age_group_60 - 69 Years</th>\n",
       "      <th>age_group_70 - 79 Years</th>\n",
       "      <th>age_group_80+ Years</th>\n",
       "      <th>race_ethnicity_combined_Asian, Non-Hispanic</th>\n",
       "      <th>...</th>\n",
       "      <th>race_ethnicity_combined_Multiple/Other, Non-Hispanic</th>\n",
       "      <th>race_ethnicity_combined_Native Hawaiian/Other Pacific Islander, Non-Hispanic</th>\n",
       "      <th>race_ethnicity_combined_Unknown</th>\n",
       "      <th>race_ethnicity_combined_White, Non-Hispanic</th>\n",
       "      <th>hosp_yn_Unknown</th>\n",
       "      <th>hosp_yn_Yes</th>\n",
       "      <th>icu_yn_Unknown</th>\n",
       "      <th>icu_yn_Yes</th>\n",
       "      <th>medcond_yn_Unknown</th>\n",
       "      <th>medcond_yn_Yes</th>\n",
       "    </tr>\n",
       "  </thead>\n",
       "  <tbody>\n",
       "    <tr>\n",
       "      <th>0</th>\n",
       "      <td>1</td>\n",
       "      <td>0</td>\n",
       "      <td>0</td>\n",
       "      <td>1</td>\n",
       "      <td>0</td>\n",
       "      <td>0</td>\n",
       "      <td>0</td>\n",
       "      <td>0</td>\n",
       "      <td>0</td>\n",
       "      <td>0</td>\n",
       "      <td>...</td>\n",
       "      <td>0</td>\n",
       "      <td>0</td>\n",
       "      <td>1</td>\n",
       "      <td>0</td>\n",
       "      <td>0</td>\n",
       "      <td>0</td>\n",
       "      <td>1</td>\n",
       "      <td>0</td>\n",
       "      <td>1</td>\n",
       "      <td>0</td>\n",
       "    </tr>\n",
       "    <tr>\n",
       "      <th>1</th>\n",
       "      <td>0</td>\n",
       "      <td>0</td>\n",
       "      <td>0</td>\n",
       "      <td>1</td>\n",
       "      <td>0</td>\n",
       "      <td>0</td>\n",
       "      <td>0</td>\n",
       "      <td>0</td>\n",
       "      <td>0</td>\n",
       "      <td>0</td>\n",
       "      <td>...</td>\n",
       "      <td>0</td>\n",
       "      <td>0</td>\n",
       "      <td>1</td>\n",
       "      <td>0</td>\n",
       "      <td>0</td>\n",
       "      <td>0</td>\n",
       "      <td>1</td>\n",
       "      <td>0</td>\n",
       "      <td>1</td>\n",
       "      <td>0</td>\n",
       "    </tr>\n",
       "    <tr>\n",
       "      <th>2</th>\n",
       "      <td>1</td>\n",
       "      <td>0</td>\n",
       "      <td>0</td>\n",
       "      <td>1</td>\n",
       "      <td>0</td>\n",
       "      <td>0</td>\n",
       "      <td>0</td>\n",
       "      <td>0</td>\n",
       "      <td>0</td>\n",
       "      <td>0</td>\n",
       "      <td>...</td>\n",
       "      <td>1</td>\n",
       "      <td>0</td>\n",
       "      <td>0</td>\n",
       "      <td>0</td>\n",
       "      <td>0</td>\n",
       "      <td>0</td>\n",
       "      <td>1</td>\n",
       "      <td>0</td>\n",
       "      <td>1</td>\n",
       "      <td>0</td>\n",
       "    </tr>\n",
       "    <tr>\n",
       "      <th>3</th>\n",
       "      <td>0</td>\n",
       "      <td>0</td>\n",
       "      <td>0</td>\n",
       "      <td>0</td>\n",
       "      <td>0</td>\n",
       "      <td>1</td>\n",
       "      <td>0</td>\n",
       "      <td>0</td>\n",
       "      <td>0</td>\n",
       "      <td>0</td>\n",
       "      <td>...</td>\n",
       "      <td>0</td>\n",
       "      <td>0</td>\n",
       "      <td>1</td>\n",
       "      <td>0</td>\n",
       "      <td>1</td>\n",
       "      <td>0</td>\n",
       "      <td>1</td>\n",
       "      <td>0</td>\n",
       "      <td>1</td>\n",
       "      <td>0</td>\n",
       "    </tr>\n",
       "    <tr>\n",
       "      <th>4</th>\n",
       "      <td>0</td>\n",
       "      <td>0</td>\n",
       "      <td>1</td>\n",
       "      <td>0</td>\n",
       "      <td>0</td>\n",
       "      <td>0</td>\n",
       "      <td>0</td>\n",
       "      <td>0</td>\n",
       "      <td>0</td>\n",
       "      <td>0</td>\n",
       "      <td>...</td>\n",
       "      <td>0</td>\n",
       "      <td>0</td>\n",
       "      <td>1</td>\n",
       "      <td>0</td>\n",
       "      <td>1</td>\n",
       "      <td>0</td>\n",
       "      <td>1</td>\n",
       "      <td>0</td>\n",
       "      <td>1</td>\n",
       "      <td>0</td>\n",
       "    </tr>\n",
       "    <tr>\n",
       "      <th>5</th>\n",
       "      <td>1</td>\n",
       "      <td>0</td>\n",
       "      <td>0</td>\n",
       "      <td>0</td>\n",
       "      <td>1</td>\n",
       "      <td>0</td>\n",
       "      <td>0</td>\n",
       "      <td>0</td>\n",
       "      <td>0</td>\n",
       "      <td>0</td>\n",
       "      <td>...</td>\n",
       "      <td>0</td>\n",
       "      <td>0</td>\n",
       "      <td>0</td>\n",
       "      <td>1</td>\n",
       "      <td>0</td>\n",
       "      <td>0</td>\n",
       "      <td>0</td>\n",
       "      <td>0</td>\n",
       "      <td>1</td>\n",
       "      <td>0</td>\n",
       "    </tr>\n",
       "    <tr>\n",
       "      <th>6</th>\n",
       "      <td>1</td>\n",
       "      <td>1</td>\n",
       "      <td>0</td>\n",
       "      <td>0</td>\n",
       "      <td>0</td>\n",
       "      <td>0</td>\n",
       "      <td>0</td>\n",
       "      <td>0</td>\n",
       "      <td>0</td>\n",
       "      <td>0</td>\n",
       "      <td>...</td>\n",
       "      <td>0</td>\n",
       "      <td>0</td>\n",
       "      <td>0</td>\n",
       "      <td>0</td>\n",
       "      <td>0</td>\n",
       "      <td>0</td>\n",
       "      <td>1</td>\n",
       "      <td>0</td>\n",
       "      <td>0</td>\n",
       "      <td>0</td>\n",
       "    </tr>\n",
       "    <tr>\n",
       "      <th>7</th>\n",
       "      <td>1</td>\n",
       "      <td>0</td>\n",
       "      <td>0</td>\n",
       "      <td>1</td>\n",
       "      <td>0</td>\n",
       "      <td>0</td>\n",
       "      <td>0</td>\n",
       "      <td>0</td>\n",
       "      <td>0</td>\n",
       "      <td>0</td>\n",
       "      <td>...</td>\n",
       "      <td>0</td>\n",
       "      <td>0</td>\n",
       "      <td>0</td>\n",
       "      <td>1</td>\n",
       "      <td>0</td>\n",
       "      <td>0</td>\n",
       "      <td>1</td>\n",
       "      <td>0</td>\n",
       "      <td>1</td>\n",
       "      <td>0</td>\n",
       "    </tr>\n",
       "    <tr>\n",
       "      <th>8</th>\n",
       "      <td>0</td>\n",
       "      <td>0</td>\n",
       "      <td>0</td>\n",
       "      <td>0</td>\n",
       "      <td>0</td>\n",
       "      <td>1</td>\n",
       "      <td>0</td>\n",
       "      <td>0</td>\n",
       "      <td>0</td>\n",
       "      <td>0</td>\n",
       "      <td>...</td>\n",
       "      <td>0</td>\n",
       "      <td>0</td>\n",
       "      <td>0</td>\n",
       "      <td>0</td>\n",
       "      <td>1</td>\n",
       "      <td>0</td>\n",
       "      <td>1</td>\n",
       "      <td>0</td>\n",
       "      <td>1</td>\n",
       "      <td>0</td>\n",
       "    </tr>\n",
       "    <tr>\n",
       "      <th>9</th>\n",
       "      <td>1</td>\n",
       "      <td>0</td>\n",
       "      <td>0</td>\n",
       "      <td>1</td>\n",
       "      <td>0</td>\n",
       "      <td>0</td>\n",
       "      <td>0</td>\n",
       "      <td>0</td>\n",
       "      <td>0</td>\n",
       "      <td>0</td>\n",
       "      <td>...</td>\n",
       "      <td>0</td>\n",
       "      <td>0</td>\n",
       "      <td>0</td>\n",
       "      <td>1</td>\n",
       "      <td>0</td>\n",
       "      <td>0</td>\n",
       "      <td>0</td>\n",
       "      <td>0</td>\n",
       "      <td>0</td>\n",
       "      <td>1</td>\n",
       "    </tr>\n",
       "  </tbody>\n",
       "</table>\n",
       "<p>10 rows × 22 columns</p>\n",
       "</div>"
      ],
      "text/plain": [
       "   onset_missing_ind_1  age_group_10 - 19 Years  age_group_20 - 29 Years  \\\n",
       "0                    1                        0                        0   \n",
       "1                    0                        0                        0   \n",
       "2                    1                        0                        0   \n",
       "3                    0                        0                        0   \n",
       "4                    0                        0                        1   \n",
       "5                    1                        0                        0   \n",
       "6                    1                        1                        0   \n",
       "7                    1                        0                        0   \n",
       "8                    0                        0                        0   \n",
       "9                    1                        0                        0   \n",
       "\n",
       "   age_group_30 - 39 Years  age_group_40 - 49 Years  age_group_50 - 59 Years  \\\n",
       "0                        1                        0                        0   \n",
       "1                        1                        0                        0   \n",
       "2                        1                        0                        0   \n",
       "3                        0                        0                        1   \n",
       "4                        0                        0                        0   \n",
       "5                        0                        1                        0   \n",
       "6                        0                        0                        0   \n",
       "7                        1                        0                        0   \n",
       "8                        0                        0                        1   \n",
       "9                        1                        0                        0   \n",
       "\n",
       "   age_group_60 - 69 Years  age_group_70 - 79 Years  age_group_80+ Years  \\\n",
       "0                        0                        0                    0   \n",
       "1                        0                        0                    0   \n",
       "2                        0                        0                    0   \n",
       "3                        0                        0                    0   \n",
       "4                        0                        0                    0   \n",
       "5                        0                        0                    0   \n",
       "6                        0                        0                    0   \n",
       "7                        0                        0                    0   \n",
       "8                        0                        0                    0   \n",
       "9                        0                        0                    0   \n",
       "\n",
       "   race_ethnicity_combined_Asian, Non-Hispanic  ...  \\\n",
       "0                                            0  ...   \n",
       "1                                            0  ...   \n",
       "2                                            0  ...   \n",
       "3                                            0  ...   \n",
       "4                                            0  ...   \n",
       "5                                            0  ...   \n",
       "6                                            0  ...   \n",
       "7                                            0  ...   \n",
       "8                                            0  ...   \n",
       "9                                            0  ...   \n",
       "\n",
       "   race_ethnicity_combined_Multiple/Other, Non-Hispanic  \\\n",
       "0                                                  0      \n",
       "1                                                  0      \n",
       "2                                                  1      \n",
       "3                                                  0      \n",
       "4                                                  0      \n",
       "5                                                  0      \n",
       "6                                                  0      \n",
       "7                                                  0      \n",
       "8                                                  0      \n",
       "9                                                  0      \n",
       "\n",
       "   race_ethnicity_combined_Native Hawaiian/Other Pacific Islander, Non-Hispanic  \\\n",
       "0                                                  0                              \n",
       "1                                                  0                              \n",
       "2                                                  0                              \n",
       "3                                                  0                              \n",
       "4                                                  0                              \n",
       "5                                                  0                              \n",
       "6                                                  0                              \n",
       "7                                                  0                              \n",
       "8                                                  0                              \n",
       "9                                                  0                              \n",
       "\n",
       "   race_ethnicity_combined_Unknown  \\\n",
       "0                                1   \n",
       "1                                1   \n",
       "2                                0   \n",
       "3                                1   \n",
       "4                                1   \n",
       "5                                0   \n",
       "6                                0   \n",
       "7                                0   \n",
       "8                                0   \n",
       "9                                0   \n",
       "\n",
       "   race_ethnicity_combined_White, Non-Hispanic  hosp_yn_Unknown  hosp_yn_Yes  \\\n",
       "0                                            0                0            0   \n",
       "1                                            0                0            0   \n",
       "2                                            0                0            0   \n",
       "3                                            0                1            0   \n",
       "4                                            0                1            0   \n",
       "5                                            1                0            0   \n",
       "6                                            0                0            0   \n",
       "7                                            1                0            0   \n",
       "8                                            0                1            0   \n",
       "9                                            1                0            0   \n",
       "\n",
       "   icu_yn_Unknown  icu_yn_Yes  medcond_yn_Unknown  medcond_yn_Yes  \n",
       "0               1           0                   1               0  \n",
       "1               1           0                   1               0  \n",
       "2               1           0                   1               0  \n",
       "3               1           0                   1               0  \n",
       "4               1           0                   1               0  \n",
       "5               0           0                   1               0  \n",
       "6               1           0                   0               0  \n",
       "7               1           0                   1               0  \n",
       "8               1           0                   1               0  \n",
       "9               0           0                   0               1  \n",
       "\n",
       "[10 rows x 22 columns]"
      ]
     },
     "execution_count": 35,
     "metadata": {},
     "output_type": "execute_result"
    }
   ],
   "source": [
    "# Using .reset_index \n",
    "# We see that they are in order again. \n",
    "X_train.reset_index(drop=True, inplace=True)\n",
    "y_train.reset_index(drop=True, inplace=True)\n",
    "X_test.reset_index(drop=True, inplace=True)\n",
    "y_test.reset_index(drop=True, inplace=True)\n",
    "X_train.head(10)"
   ]
  },
  {
   "cell_type": "markdown",
   "metadata": {},
   "source": [
    "# 2. Linear Regression"
   ]
  },
  {
   "cell_type": "markdown",
   "metadata": {},
   "source": [
    "- (2.1) On the training set, train a linear regression model to predict the target feature, using only the  descriptive features selected in exercise (1) above. \n",
    "- (2.2) Print the coefficients learned by the model and discuss their role in the model (e.g., interpret the model by analysing each coefficient and how it relates each input feature to the target feature).    \n",
    "- (2.3) Print the predicted target feature value for the first 10 training examples. Threshold the predicted target feature value given by the linear regression model at 0.5, to get the predicted class for each example. Print the predicted class for the first 10 examples. Print a few classification evaluation measures computed on the full training set (e.g., Accuracy, Confusion matrix, Precision, Recall, F1) and discuss your findings so far.\n",
    "- (2.4) Evaluate the model using classification evaluation measures on the hold-out (30% examples) test set. Compare these results with the evaluation results obtained on the training (70%) dataset. Also compare these results with a cross-validated model (i.e., a new model trained and evaluated using cross-validation on the full dataset). You can use classic k-fold cross-validation or repeated random train/test (70/30) splits. Compare the cross-validation metrics to those obtained on the single train/test split and discuss your findings."
   ]
  },
  {
   "cell_type": "markdown",
   "metadata": {},
   "source": [
    "## 2.1 Training a linear regression model to predict the target feature, using only the descriptive features selected in exercise 1."
   ]
  },
  {
   "cell_type": "code",
   "execution_count": 36,
   "metadata": {},
   "outputs": [],
   "source": [
    "multiple_linear = LinearRegression().fit(X_train, y_train)"
   ]
  },
  {
   "cell_type": "markdown",
   "metadata": {},
   "source": [
    "## 2.2 Printing out the coefficients learned by the model and discussing the role in the model."
   ]
  },
  {
   "cell_type": "code",
   "execution_count": 37,
   "metadata": {
    "scrolled": true
   },
   "outputs": [
    {
     "name": "stdout",
     "output_type": "stream",
     "text": [
      "\n",
      "The features are: \n",
      " Index(['onset_missing_ind_1', 'age_group_10 - 19 Years',\n",
      "       'age_group_20 - 29 Years', 'age_group_30 - 39 Years',\n",
      "       'age_group_40 - 49 Years', 'age_group_50 - 59 Years',\n",
      "       'age_group_60 - 69 Years', 'age_group_70 - 79 Years',\n",
      "       'age_group_80+ Years', 'race_ethnicity_combined_Asian, Non-Hispanic',\n",
      "       'race_ethnicity_combined_Black, Non-Hispanic',\n",
      "       'race_ethnicity_combined_Hispanic/Latino',\n",
      "       'race_ethnicity_combined_Multiple/Other, Non-Hispanic',\n",
      "       'race_ethnicity_combined_Native Hawaiian/Other Pacific Islander, Non-Hispanic',\n",
      "       'race_ethnicity_combined_Unknown',\n",
      "       'race_ethnicity_combined_White, Non-Hispanic', 'hosp_yn_Unknown',\n",
      "       'hosp_yn_Yes', 'icu_yn_Unknown', 'icu_yn_Yes', 'medcond_yn_Unknown',\n",
      "       'medcond_yn_Yes'],\n",
      "      dtype='object')\n",
      "\n",
      "The coefficients are: \n",
      " [[-0.01287134  0.00342992  0.00314648  0.00335051  0.00083453  0.00848805\n",
      "   0.02308906  0.06929292  0.26820515  0.01067522  0.02716148  0.02112338\n",
      "   0.00291735  0.01130638  0.00154762  0.00874563  0.01165196  0.12616744\n",
      "   0.03317586  0.10106515 -0.0133176   0.0411623 ]]\n",
      "\n",
      " The intercept is: \n",
      " [-0.03053464]\n",
      "\n",
      "Features and coefficients: \n",
      " [('onset_missing_ind_1', -0.012871339653325126), ('age_group_10 - 19 Years', 0.0034299162110108016), ('age_group_20 - 29 Years', 0.0031464825730107672), ('age_group_30 - 39 Years', 0.003350513803564181), ('age_group_40 - 49 Years', 0.000834526302289072), ('age_group_50 - 59 Years', 0.008488052597082489), ('age_group_60 - 69 Years', 0.02308905893061599), ('age_group_70 - 79 Years', 0.069292923253709), ('age_group_80+ Years', 0.26820515247726223), ('race_ethnicity_combined_Asian, Non-Hispanic', 0.010675218021801105), ('race_ethnicity_combined_Black, Non-Hispanic', 0.02716147921348713), ('race_ethnicity_combined_Hispanic/Latino', 0.021123376848938263), ('race_ethnicity_combined_Multiple/Other, Non-Hispanic', 0.0029173510911081517), ('race_ethnicity_combined_Native Hawaiian/Other Pacific Islander, Non-Hispanic', 0.011306383900599555), ('race_ethnicity_combined_Unknown', 0.0015476176940622392), ('race_ethnicity_combined_White, Non-Hispanic', 0.008745631666230833), ('hosp_yn_Unknown', 0.01165195940274076), ('hosp_yn_Yes', 0.12616744433118648), ('icu_yn_Unknown', 0.03317585974539307), ('icu_yn_Yes', 0.10106515491724488), ('medcond_yn_Unknown', -0.013317598801823467), ('medcond_yn_Yes', 0.0411623031268378)]\n"
     ]
    }
   ],
   "source": [
    "print(\"\\nThe features are: \\n\", X_train.columns)\n",
    "print(\"\\nThe coefficients are: \\n\", multiple_linear.coef_)\n",
    "print(\"\\n The intercept is: \\n\", multiple_linear.intercept_)\n",
    "print(\"\\nFeatures and coefficients: \\n\", list(zip(X_train.columns, multiple_linear.coef_[0])))"
   ]
  },
  {
   "cell_type": "markdown",
   "metadata": {},
   "source": [
    "##### Discussion about the coefficients and their role in the linear regression model\n",
    "* The tool used predicts based on the linear relationships between the target feature and of the independent variables.\n",
    "    - It finds the line of best fit the describes the relationship between the target and predictors \n",
    "    - This line is calculated by minimising the overall error\n",
    "* The output of the lienar regression formula is a continuous value that can either be less than 0 or higher than 1. From the results, we see that the caluclated intercept is -0.03\n",
    "* What this tells is that it represents w_0 and any other features that would result in -0.03 will have that answer meaning it is where it intercept the y-axis.\n",
    "* We can make direct comparisons as the data has already been normalized after we hard coded the values of each feature when making the dummy variables. \n",
    "* We see a lot of low co-efficients that is less than 10%. The lowest one being age_group_40-49 years at 0.00083453 meaning the relationship between the target feature and this feature is the weakest. And that the dependency of the target feature on this feature is very low. \n",
    "* In comparison, we see the highest co-efficient value is age_group 80+ years at 0.26820515. This indicates a better relationship with the target feature. What this tells us how much the target feature is expected to increase in an average each time the age_group 80+ years increases by 1.\n",
    "* To finish off, we see most features have low co-efficients which tells us that the linear relationships between the target feature and independent variables are small."
   ]
  },
  {
   "cell_type": "markdown",
   "metadata": {},
   "source": [
    "## 2.3 Printing the predicted target feature and threshold the predicted target value at 0.5. Printing the predicted class for a few examples. Printing classification evaluation measures computed on the full training set. "
   ]
  },
  {
   "cell_type": "markdown",
   "metadata": {},
   "source": [
    "In this section I will print out around 100 predicted target feature value given by the linear regression model at 0.5.\n"
   ]
  },
  {
   "cell_type": "code",
   "execution_count": 38,
   "metadata": {},
   "outputs": [],
   "source": [
    "# Calculating the prediction and threshold value. \n",
    "multiple_linear_predictions_train_data = (multiple_linear.predict(X_train) >= 0.5) * 1.0"
   ]
  },
  {
   "cell_type": "code",
   "execution_count": 39,
   "metadata": {
    "scrolled": false
   },
   "outputs": [
    {
     "name": "stdout",
     "output_type": "stream",
     "text": [
      "\n",
      "Predictions with multiple linear regression: \n",
      "\n",
      "   death_yn_Yes  Predicted\n",
      "0             0        0.0\n",
      "1             0        0.0\n",
      "2             0        0.0\n",
      "3             0        0.0\n",
      "4             0        0.0\n",
      "5             0        0.0\n",
      "6             0        0.0\n",
      "7             0        0.0\n",
      "8             0        0.0\n",
      "9             0        0.0\n"
     ]
    }
   ],
   "source": [
    "print(\"\\nPredictions with multiple linear regression: \\n\")\n",
    "actual_vs_predicted_multiplelinreg = pd.concat([y_train, pd.DataFrame(multiple_linear_predictions_train_data, columns=['Predicted'])], axis=1)\n",
    "print(actual_vs_predicted_multiplelinreg.head(10))"
   ]
  },
  {
   "cell_type": "code",
   "execution_count": 40,
   "metadata": {
    "scrolled": true
   },
   "outputs": [
    {
     "name": "stdout",
     "output_type": "stream",
     "text": [
      "Accuracy:  0.9712158098238579\n",
      "Confusion matrix: \n",
      " [[6777    0]\n",
      " [ 201    5]]\n",
      "Classification report:\n",
      "                precision    recall  f1-score   support\n",
      "\n",
      "           0       0.97      1.00      0.99      6777\n",
      "           1       1.00      0.02      0.05       206\n",
      "\n",
      "    accuracy                           0.97      6983\n",
      "   macro avg       0.99      0.51      0.52      6983\n",
      "weighted avg       0.97      0.97      0.96      6983\n",
      "\n"
     ]
    }
   ],
   "source": [
    "# Printing the a few classification evaluation measures computed on the full training set.\n",
    "# The following will be printed: accuracy, confusion matrix, precision, recall, f1).\n",
    "# Some more evaluation metrics.\n",
    "print(\"Accuracy: \", metrics.accuracy_score(y_train, multiple_linear_predictions_train_data))\n",
    "print(\"Confusion matrix: \\n\", metrics.confusion_matrix(y_train, multiple_linear_predictions_train_data))\n",
    "print(\"Classification report:\\n \", metrics.classification_report(y_train, multiple_linear_predictions_train_data))"
   ]
  },
  {
   "cell_type": "markdown",
   "metadata": {},
   "source": [
    "##### Commenting on the results:\n",
    "* Accuracy:\n",
    "    * In terms of accuracy, we have an accuracy of 97.12%. This tells us how often the model was correct.\n",
    "* Confusion Matrix:\n",
    "    * [Top Left] True Negative -> The number that is predicted 0 that was actually 0.\n",
    "    * [Top Right] False Positive -> The number that is predicted 1 that is actually 0.\n",
    "    * [Bottom Left] False Negative -> The number is predicted 0 that is actually 1.\n",
    "    * [Bottom Right] True Positive -> The number that is predicted that is actually 1.\n",
    "* Precision:\n",
    "    * Precision Positive is 1.00 (100%)\n",
    "    * Prediction Negative is 0.97 (97%)\n",
    "* Recall:\n",
    "    * Recall is the % of the positive values that was predicted.\n",
    "    * Recall negative is 1.00 (100%)\n",
    "    * Recall positive is 0.02 (2%)\n",
    "* F1 Score:\n",
    "    * It is a weighted average of the precision and recall.\n",
    "    * F1 score negative is 0.99. (99%)\n",
    "    * F1 score positive is 0.05. (5%)\n",
    " \n",
    " ##### Summary:\n",
    " * The accuracy gives us the indication how often our model was correct which is around 97%. Though this is a good indication, our confusion matrix demonstrates that it is not symmetric.\n",
    " * The precision gives an indication of correctly positive predicted observations to the total of predicted positive observations. It is mostly a good score as for predicting death_yn_Yes we get a score of 1.00. However for predicting death_yn_No we have some false negatives and have a score of 0.97.\n",
    " * One thing to note that is worth mentioning is the low score for recall positive as it is at 0.02 and the threshold was 0.5.\n",
    " * For our F1 score, it gave us a better picture as it takes false negatives and false positives into account. We see that f1 score positive is 0.05 which means the majority of true positives were predicted as false negatives. \n"
   ]
  },
  {
   "cell_type": "markdown",
   "metadata": {},
   "source": [
    "## 2. 4 Evaluating the model using classification evaluation measures on the hold-out (30% examples) test set."
   ]
  },
  {
   "cell_type": "code",
   "execution_count": 41,
   "metadata": {},
   "outputs": [
    {
     "name": "stdout",
     "output_type": "stream",
     "text": [
      "\n",
      "Predictions that has multiple linear regression: \n",
      "\n",
      "      death_yn_Yes  Predicted\n",
      "0                0        0.0\n",
      "1                0        0.0\n",
      "2                0        0.0\n",
      "3                0        0.0\n",
      "4                0        0.0\n",
      "...            ...        ...\n",
      "2988             1        0.0\n",
      "2989             0        0.0\n",
      "2990             0        0.0\n",
      "2991             0        0.0\n",
      "2992             0        0.0\n",
      "\n",
      "[2993 rows x 2 columns]\n"
     ]
    }
   ],
   "source": [
    "# I will calculate the prediction and threshold the value for 0.5\n",
    "multiple_linear_predictions_testing = (multiple_linear.predict(X_test) >= 0.5) * 1.0\n",
    "\n",
    "print(\"\\nPredictions that has multiple linear regression: \\n\")\n",
    "actual_vs_predicted_multiple_linear_reg = pd.concat([y_test, pd.DataFrame(multiple_linear_predictions_testing, columns=['Predicted'])], axis=1)\n",
    "print(actual_vs_predicted_multiple_linear_reg)"
   ]
  },
  {
   "cell_type": "code",
   "execution_count": 42,
   "metadata": {},
   "outputs": [
    {
     "name": "stdout",
     "output_type": "stream",
     "text": [
      "Accuracy:  0.9692616104243235\n",
      "Confusion matrix: \n",
      " [[2900    2]\n",
      " [  90    1]]\n",
      "Classification report - Test data:\n",
      "                precision    recall  f1-score   support\n",
      "\n",
      "           0       0.97      1.00      0.98      2902\n",
      "           1       0.33      0.01      0.02        91\n",
      "\n",
      "    accuracy                           0.97      2993\n",
      "   macro avg       0.65      0.51      0.50      2993\n",
      "weighted avg       0.95      0.97      0.96      2993\n",
      "\n",
      "Accuracy:  0.9712158098238579\n",
      "Confusion matrix: \n",
      " [[6777    0]\n",
      " [ 201    5]]\n",
      "\n",
      "Classification report: - Training data\n",
      "                precision    recall  f1-score   support\n",
      "\n",
      "           0       0.97      1.00      0.99      6777\n",
      "           1       1.00      0.02      0.05       206\n",
      "\n",
      "    accuracy                           0.97      6983\n",
      "   macro avg       0.99      0.51      0.52      6983\n",
      "weighted avg       0.97      0.97      0.96      6983\n",
      "\n"
     ]
    }
   ],
   "source": [
    "print(\"Accuracy: \", metrics.accuracy_score(y_test, multiple_linear_predictions_testing))\n",
    "print(\"Confusion matrix: \\n\", metrics.confusion_matrix(y_test, multiple_linear_predictions_testing))\n",
    "print(\"Classification report - Test data:\\n \", metrics.classification_report(y_test, multiple_linear_predictions_testing))\n",
    "print(\"Accuracy: \", metrics.accuracy_score(y_train, multiple_linear_predictions_train_data))\n",
    "print(\"Confusion matrix: \\n\", metrics.confusion_matrix(y_train, multiple_linear_predictions_train_data))\n",
    "print(\"\\nClassification report: - Training data\\n \", metrics.classification_report(y_train, multiple_linear_predictions_train_data))"
   ]
  },
  {
   "cell_type": "markdown",
   "metadata": {},
   "source": [
    "##### Interpretation of test results and comparing them with the training results\n",
    "* Accuracy:\n",
    "    * The accuracy of the test data is higher in the test data than the training data with the test data 98.83% compared to the training dtaa with 98.78%\n",
    "* Precision:\n",
    "    * The precision score for predicting a negative outcome stayed the same with it being 0.97.\n",
    "    * The precision score for predicting a positive outcome is lower than the training data at 0.33.\n",
    "* Recall:\n",
    "    * The recall score for predicting a negative outcome stayed the same with it being 1.00.\n",
    "    * The recall score for predicting a positive outcome is lower with it being 0.01.\n",
    "* F1 Score:\n",
    "    * The F1 score for predicting a negative outcome is lower by one point than the training data at 0.98.\n",
    "    * The F1 score for predicting a positive outcome is lower by three points than the training data at 0.02.\n",
    "\n",
    " ##### Summary:\n",
    " * It it clear the differences for the testing data compared to the training data is slightly worse than the training data. We fall low to 1% for the recall score on the test data. Which indicates the correctly predicted positive observations to all of the observations was low as the true positive only calculated 1 correctly.\n",
    " * F1 score fell from 5% to 2%.\n",
    " * Precision score for predicting a positive outcomes fell from 100% to 33%.\n",
    " * From this data, it suggests that Linear Regression model does give accurate predictions as we could already see the co-efficients above that the linear relationships with the target feature is low. Which is expected."
   ]
  },
  {
   "cell_type": "markdown",
   "metadata": {},
   "source": [
    "##### Cross Validation\n",
    "In this section I will perform cross validation. By performing this it means I will be the above but a couple more times. Each time this is repeated, I will shuffle the rows so that we can have a indication of the different results cross validation will produce. "
   ]
  },
  {
   "cell_type": "code",
   "execution_count": 43,
   "metadata": {},
   "outputs": [],
   "source": [
    "# Carrying out cross validation no the linear regression model. The default number of validation is 3. Random state will be updated at each iteration. \n",
    "def cross_val_LinReg(X, y, cv=3, scoring='accuracy'):\n",
    "    # store results\n",
    "    results = []\n",
    "    # evaluate cv times and append to results\n",
    "    for i in range(cv):\n",
    "        # set up train test split\n",
    "        X_train, X_test, y_train, y_test = train_test_split(X, y, random_state=i , test_size=0.3)\n",
    "        # generate model\n",
    "        multiple_linreg = LinearRegression().fit(X_train, y_train)\n",
    "        # threshold\n",
    "        multiple_linreg_predictions = (multiple_linreg.predict(X_test) >= 0.5) * 1.0\n",
    "        # calc score\n",
    "        if scoring=='accuracy':\n",
    "            score = metrics.accuracy_score(y_test, multiple_linreg_predictions)\n",
    "        elif scoring=='precision':\n",
    "            score = metrics.precision_score(y_test, multiple_linreg_predictions)\n",
    "        elif scoring=='f1':\n",
    "            score = metrics.f1_score(y_test, multiple_linreg_predictions)\n",
    "        elif scoring=='recall':\n",
    "            score = metrics.recall_score(y_test, multiple_linreg_predictions)\n",
    "        # append to results\n",
    "        results.append(score)\n",
    "    return results"
   ]
  },
  {
   "cell_type": "markdown",
   "metadata": {},
   "source": [
    "Then, we will perform 10 fold cross validation which is to be used to simplify further analysis the dataset. I will simplify the dataset by lookinh at the accuracy, precision, recall and f1."
   ]
  },
  {
   "cell_type": "code",
   "execution_count": 44,
   "metadata": {},
   "outputs": [],
   "source": [
    "# Function to perform cross validation and store results in dataframe. This will look at the accuracy, precision, recall, f1.\n",
    "def cross_val_LinReg_DF(X,y):\n",
    "    linRegResults = {}\n",
    "    # metrics to test against\n",
    "    test_metrics = ['accuracy','precision','recall', 'f1']\n",
    "    \n",
    "    for metric in test_metrics:\n",
    "        # generate test results\n",
    "        result = cross_val_LinReg(X, y, cv=10, scoring=metric)\n",
    "        length = len(result)\n",
    "        # store result in dict\n",
    "        linRegResults[metric] = sum(result)/length\n",
    "\n",
    "    # create dataframe with results\n",
    "    LinRegDF = pd.DataFrame.from_dict(linRegResults, orient='index', columns=['Linear_Regression'])\n",
    "    \n",
    "    return LinRegDF"
   ]
  },
  {
   "cell_type": "code",
   "execution_count": 45,
   "metadata": {},
   "outputs": [
    {
     "name": "stdout",
     "output_type": "stream",
     "text": [
      "Mean results from 10 fold cross validation are:\n"
     ]
    },
    {
     "data": {
      "text/html": [
       "<div>\n",
       "<style scoped>\n",
       "    .dataframe tbody tr th:only-of-type {\n",
       "        vertical-align: middle;\n",
       "    }\n",
       "\n",
       "    .dataframe tbody tr th {\n",
       "        vertical-align: top;\n",
       "    }\n",
       "\n",
       "    .dataframe thead th {\n",
       "        text-align: right;\n",
       "    }\n",
       "</style>\n",
       "<table border=\"1\" class=\"dataframe\">\n",
       "  <thead>\n",
       "    <tr style=\"text-align: right;\">\n",
       "      <th></th>\n",
       "      <th>Linear_Regression</th>\n",
       "    </tr>\n",
       "  </thead>\n",
       "  <tbody>\n",
       "    <tr>\n",
       "      <th>accuracy</th>\n",
       "      <td>0.969997</td>\n",
       "    </tr>\n",
       "    <tr>\n",
       "      <th>precision</th>\n",
       "      <td>0.658333</td>\n",
       "    </tr>\n",
       "    <tr>\n",
       "      <th>recall</th>\n",
       "      <td>0.013436</td>\n",
       "    </tr>\n",
       "    <tr>\n",
       "      <th>f1</th>\n",
       "      <td>0.026114</td>\n",
       "    </tr>\n",
       "  </tbody>\n",
       "</table>\n",
       "</div>"
      ],
      "text/plain": [
       "           Linear_Regression\n",
       "accuracy            0.969997\n",
       "precision           0.658333\n",
       "recall              0.013436\n",
       "f1                  0.026114"
      ]
     },
     "execution_count": 45,
     "metadata": {},
     "output_type": "execute_result"
    }
   ],
   "source": [
    "linRegDF = cross_val_LinReg_DF(X,y)\n",
    "print(f\"Mean results from 10 fold cross validation are:\")\n",
    "linRegDF"
   ]
  },
  {
   "cell_type": "markdown",
   "metadata": {},
   "source": [
    "**Results**\n",
    "<br>\n",
    "These results are lower than the previous results. By taking the mean of 10 results, this is probably expected. Note that the accuracy stays consistent, at 96%. However, F1 score is very low. As this is a better performance measure to look as our dataset is not symmetrical, 2% is a low score."
   ]
  },
  {
   "cell_type": "markdown",
   "metadata": {},
   "source": [
    "# 3. Logistic Regression"
   ]
  },
  {
   "cell_type": "markdown",
   "metadata": {},
   "source": [
    "- (3.1) On the training set, train a logistic regression model to predict the target feature, using the descriptive features selected in exercise (1) above.   \n",
    "- (3.2) Print the coefficients learned by the model and discuss their role in the model (e.g., interpret the model).    \n",
    "- (3.3) Print the predicted target feature value for the first 10 training examples. Print the predicted class for the first 10 examples. Print a few classification evaluation measures computed on the full training set (e.g., Accuracy, Confusion matrix, Precision, Recall, F1) and discuss your findings so far.\n",
    "- (3.4) Evaluate the model using classification evaluation measures on the hold-out (30% examples) test set. Compare these results with the evaluation results obtained when using the training (70%) dataset for evaluation. Also compare these results with a cross-validated model (i.e., a new model trained and evaluated using cross-validation on the full dataset). You can use classic k-fold cross-validation or repeated train/test (70/30) splits. Compare the cross-validation metrics to those obtained on the single train/test split and discuss your findings."
   ]
  },
  {
   "cell_type": "markdown",
   "metadata": {},
   "source": [
    "## 3.1 Train a logistic regression model using only the descriptive features selected from question 1 above."
   ]
  },
  {
   "cell_type": "code",
   "execution_count": 46,
   "metadata": {},
   "outputs": [
    {
     "data": {
      "text/plain": [
       "LogisticRegression()"
      ]
     },
     "execution_count": 46,
     "metadata": {},
     "output_type": "execute_result"
    }
   ],
   "source": [
    "# Training a mode using all of the features\n",
    "multiple_logistic = LogisticRegression().fit(X_train, y_train)\n",
    "multiple_logistic"
   ]
  },
  {
   "cell_type": "markdown",
   "metadata": {},
   "source": [
    "## 3.2 Printing out the coefficients learned by the model and discussing the role in the model"
   ]
  },
  {
   "cell_type": "code",
   "execution_count": 47,
   "metadata": {
    "scrolled": false
   },
   "outputs": [
    {
     "name": "stdout",
     "output_type": "stream",
     "text": [
      "\n",
      "Features are: \n",
      " Index(['onset_missing_ind_1', 'age_group_10 - 19 Years',\n",
      "       'age_group_20 - 29 Years', 'age_group_30 - 39 Years',\n",
      "       'age_group_40 - 49 Years', 'age_group_50 - 59 Years',\n",
      "       'age_group_60 - 69 Years', 'age_group_70 - 79 Years',\n",
      "       'age_group_80+ Years', 'race_ethnicity_combined_Asian, Non-Hispanic',\n",
      "       'race_ethnicity_combined_Black, Non-Hispanic',\n",
      "       'race_ethnicity_combined_Hispanic/Latino',\n",
      "       'race_ethnicity_combined_Multiple/Other, Non-Hispanic',\n",
      "       'race_ethnicity_combined_Native Hawaiian/Other Pacific Islander, Non-Hispanic',\n",
      "       'race_ethnicity_combined_Unknown',\n",
      "       'race_ethnicity_combined_White, Non-Hispanic', 'hosp_yn_Unknown',\n",
      "       'hosp_yn_Yes', 'icu_yn_Unknown', 'icu_yn_Yes', 'medcond_yn_Unknown',\n",
      "       'medcond_yn_Yes'],\n",
      "      dtype='object')\n",
      "\n",
      "Coeficients are: \n",
      " [-0.5222284  -1.46560064 -0.91664156 -0.69667612 -0.58040019  0.35132314\n",
      "  1.00597231  1.68648511  3.17920727  0.07452281  0.57928111  0.5285904\n",
      " -0.1856074  -0.08294234 -0.49145033  0.04059272  0.92514215  2.13871019\n",
      "  1.15372652  1.53568815  0.23855531  1.49803284]\n",
      "\n",
      "Intercept is: \n",
      " [-6.38644858]\n",
      "\n",
      "Features and coeficients: \n",
      " [('onset_missing_ind_1', -0.522228397357733), ('age_group_10 - 19 Years', -1.4656006397541501), ('age_group_20 - 29 Years', -0.9166415570527968), ('age_group_30 - 39 Years', -0.696676123659097), ('age_group_40 - 49 Years', -0.5804001929910694), ('age_group_50 - 59 Years', 0.35132313563929213), ('age_group_60 - 69 Years', 1.0059723136358099), ('age_group_70 - 79 Years', 1.6864851062195412), ('age_group_80+ Years', 3.179207267201121), ('race_ethnicity_combined_Asian, Non-Hispanic', 0.0745228068274159), ('race_ethnicity_combined_Black, Non-Hispanic', 0.5792811071628055), ('race_ethnicity_combined_Hispanic/Latino', 0.5285903957247764), ('race_ethnicity_combined_Multiple/Other, Non-Hispanic', -0.18560739834770662), ('race_ethnicity_combined_Native Hawaiian/Other Pacific Islander, Non-Hispanic', -0.08294234312207377), ('race_ethnicity_combined_Unknown', -0.4914503253318219), ('race_ethnicity_combined_White, Non-Hispanic', 0.04059272450799457), ('hosp_yn_Unknown', 0.9251421467982155), ('hosp_yn_Yes', 2.1387101906026214), ('icu_yn_Unknown', 1.1537265204600708), ('icu_yn_Yes', 1.5356881536136282), ('medcond_yn_Unknown', 0.23855531159592655), ('medcond_yn_Yes', 1.4980328402531202)]\n"
     ]
    }
   ],
   "source": [
    "# Using lip and zip to print them out side by side with the coefficients.\n",
    "print(\"\\nFeatures are: \\n\", X_train.columns)\n",
    "print(\"\\nCoeficients are: \\n\", multiple_logistic.coef_[0])\n",
    "print(\"\\nIntercept is: \\n\", multiple_logistic.intercept_)\n",
    "print(\"\\nFeatures and coeficients: \\n\", list(zip(X_train.columns, multiple_logistic.coef_[0])))"
   ]
  },
  {
   "cell_type": "markdown",
   "metadata": {},
   "source": [
    "##### Discussion about the coefficients and their role in the logistic regression model\n",
    "* The tool used predicts based on the logistic relationships between the target feature and of the independent variables.\n",
    "* The output of a logistic function is a probability between 0 and 1.\n",
    "* We see a direct relationship between the two.\n",
    "* The different applications we do in logistic regression compared to linear regression is that after finding the line of best fit we pass this equation through a sigmoid function.\n",
    "* It will output a value between 0 and 1 which is a probability. It is a probability that the model then applies a threshold to this. If it is <= 0.5 it will cast to 1 otherwise it will cast to 0.\n",
    "* These are carried out in the regression function. \n",
    "* In this equation, we see that the intercept is -6.386. This means that if all other coefficients were zero then the value for 'x' would be -6.386.\n",
    "* As for the co-efficients, it tells us how much the target feature is expected to decrease (0) or increase (1). \n",
    "* The coeffcients are closer to 1.0 compared to coeffcients in the Linear Regression model. Which indicates a stronger logistic relationship betwen the target feature and independent features.\n",
    "* The weakest co-efficient value is different from the previous model, race_ethnicity_combined_Asian, Non-Hispanic. It has a co-efficient value of 0.0745. \n",
    "* A lot of co-efficient values are closer to 1.0 which means a lot of the features have a strong relationship with the target feature and has a higher probability of correctly predicting the outcome. \n",
    "* We would like to see the odds of each variable having a likeliness of them predicting a positive outcome i.e. predicting correctly. To do this, we calculate the exponential^coefficient of the variable. The result is the ratio of the odds for each variable in a certain feature.\n",
    "* As such I will take the co-efficients and apply this equation so that we get a picture of the odd ratios to the target feature. \n",
    "* As we can see below, it tells us the odds of for e.g. a person who falls in the age_group 10-19 years has 0.2 times likely to end up successfully predicting the target feature positively while compared to hosp_yn_Yes who is 8.27 times more likely. We want to look at features that has the most likeliness of predicting the target feature positively. \n",
    "* In conclusion, the odd ratio tells us the corresponding to a one unit change in the variable."
   ]
  },
  {
   "cell_type": "code",
   "execution_count": 48,
   "metadata": {},
   "outputs": [
    {
     "name": "stdout",
     "output_type": "stream",
     "text": [
      "\n",
      "Features and Odd Ratio: \n",
      " [('onset_missing_ind_1', 0.5931971949777559), ('age_group_10 - 19 Years', 0.23093923852378118), ('age_group_20 - 29 Years', 0.39985969454132614), ('age_group_30 - 39 Years', 0.4982386381512122), ('age_group_40 - 49 Years', 0.5596743439925129), ('age_group_50 - 59 Years', 1.4209464101616067), ('age_group_60 - 69 Years', 2.73456483530181), ('age_group_70 - 79 Years', 5.400465244347016), ('age_group_80+ Years', 24.02769845561508), ('race_ethnicity_combined_Asian, Non-Hispanic', 1.0773699146317655), ('race_ethnicity_combined_Black, Non-Hispanic', 1.7847549219231813), ('race_ethnicity_combined_Hispanic/Latino', 1.6965391734560447), ('race_ethnicity_combined_Multiple/Other, Non-Hispanic', 0.8305996257631021), ('race_ethnicity_combined_Native Hawaiian/Other Pacific Islander, Non-Hispanic', 0.9204042133236675), ('race_ethnicity_combined_Unknown', 0.6117385306071372), ('race_ethnicity_combined_White, Non-Hispanic', 1.0414278711126044), ('hosp_yn_Unknown', 2.5222267613361584), ('hosp_yn_Yes', 8.488482041188751), ('icu_yn_Unknown', 3.1699839362903957), ('icu_yn_Yes', 4.644520574103926), ('medcond_yn_Unknown', 1.2694139174043009), ('medcond_yn_Yes', 4.472881537752872)]\n"
     ]
    }
   ],
   "source": [
    "coeffcients = multiple_logistic.coef_[0]\n",
    "list_odds_ratio = []\n",
    "for num in coeffcients:\n",
    "    list_odds_ratio += [np.exp(num)]\n",
    "    \n",
    "print(\"\\nFeatures and Odd Ratio: \\n\", list(zip(X_train.columns, list_odds_ratio)))"
   ]
  },
  {
   "cell_type": "markdown",
   "metadata": {},
   "source": [
    "## 3.3 Printing the predicted target feature value for the first few training examples. Printing classification evaluation measures and discussing findings so far."
   ]
  },
  {
   "cell_type": "code",
   "execution_count": 49,
   "metadata": {},
   "outputs": [
    {
     "name": "stdout",
     "output_type": "stream",
     "text": [
      "\n",
      "Prediction results with multiple linear regression: \n",
      "\n",
      "   death_yn_Yes  Predicted\n",
      "0             0        0.0\n",
      "1             0        0.0\n",
      "2             0        0.0\n",
      "3             0        0.0\n",
      "4             0        0.0\n",
      "5             0        0.0\n",
      "6             0        0.0\n",
      "7             0        0.0\n",
      "8             0        0.0\n",
      "9             0        0.0\n"
     ]
    }
   ],
   "source": [
    "# Here we will set the threshold value as >= 0.5. So if it's >= 0.5 it's true.\n",
    "multiple_logistic_prediction_train = (multiple_logistic.predict(X_train)>= 0.5) * 1.0\n",
    "\n",
    "# Printing out results\n",
    "print(\"\\nPrediction results with multiple linear regression: \\n\")\n",
    "actual_vs_predicted_logistic_train = pd.concat([y_train ,pd.DataFrame(multiple_logistic_prediction_train,  columns=['Predicted'])], \n",
    "axis = 1)\n",
    "print(actual_vs_predicted_logistic_train.head(10))"
   ]
  },
  {
   "cell_type": "code",
   "execution_count": 50,
   "metadata": {
    "scrolled": true
   },
   "outputs": [
    {
     "name": "stdout",
     "output_type": "stream",
     "text": [
      "Accuracy:  0.970929399971359\n",
      "Confusion matrix: \n",
      " [[6737   40]\n",
      " [ 163   43]]\n",
      "Classification report:\n",
      "                precision    recall  f1-score   support\n",
      "\n",
      "           0       0.98      0.99      0.99      6777\n",
      "           1       0.52      0.21      0.30       206\n",
      "\n",
      "    accuracy                           0.97      6983\n",
      "   macro avg       0.75      0.60      0.64      6983\n",
      "weighted avg       0.96      0.97      0.96      6983\n",
      "\n"
     ]
    }
   ],
   "source": [
    "# Printing performance measures \n",
    "print(\"Accuracy: \", metrics.accuracy_score(y_train, multiple_logistic_prediction_train))\n",
    "print(\"Confusion matrix: \\n\", metrics.confusion_matrix(y_train, multiple_logistic_prediction_train))\n",
    "print(\"Classification report:\\n \", metrics.classification_report(y_train, multiple_logistic_prediction_train))"
   ]
  },
  {
   "cell_type": "markdown",
   "metadata": {},
   "source": [
    "Interpretation of the performative measures:\n",
    "* Accuracy\n",
    "    * We have an accuracy of 97%\n",
    "* Precision \n",
    "    * Precision Positive is 0.55\n",
    "    * Precision Negative is 0.98\n",
    "* Recall \n",
    "    * Recall Positive is 0.24\n",
    "    * Recall Negative is 0.99\n",
    "* F1 Score: a weighted average of Precision and recall\n",
    "    * F1 Score Positive is 0.33\n",
    "    * F1 Score Negative is 0.99\n",
    "\n",
    "\n",
    "Summary:\n",
    "* In comparison to the Linear Regression model, there is a positive increase in predicting the positive class better.\n",
    "* The numbers for the performance variables are better.\n",
    "* The accuracy is in line with the Linear Regression model at 97% also.\n",
    "* The positive precision score is at 52% meaning 52% of the total predicted positive observations were correct.\n",
    "* The positive recall score is also an improvement from the linear regression model, meaning that 21% of correctly positive predicted outcomes were correct out of all classes from the confusion matrix.\n",
    "* The positive F1 score is also higher. \n",
    "* To summarize, the negative predicted scores are al > 90% which is expected as the target train set is skewed where the majority is negative."
   ]
  },
  {
   "cell_type": "markdown",
   "metadata": {},
   "source": [
    "## 3.4 Evaluating the mode using classification measure on the hold-out (30%) test set. Then comparing results with training results. Also compare these results with a cross-validated model. "
   ]
  },
  {
   "cell_type": "code",
   "execution_count": 51,
   "metadata": {
    "scrolled": true
   },
   "outputs": [
    {
     "name": "stdout",
     "output_type": "stream",
     "text": [
      "\n",
      "Predictions with multiple linear regression:\n"
     ]
    },
    {
     "data": {
      "text/html": [
       "<div>\n",
       "<style scoped>\n",
       "    .dataframe tbody tr th:only-of-type {\n",
       "        vertical-align: middle;\n",
       "    }\n",
       "\n",
       "    .dataframe tbody tr th {\n",
       "        vertical-align: top;\n",
       "    }\n",
       "\n",
       "    .dataframe thead th {\n",
       "        text-align: right;\n",
       "    }\n",
       "</style>\n",
       "<table border=\"1\" class=\"dataframe\">\n",
       "  <thead>\n",
       "    <tr style=\"text-align: right;\">\n",
       "      <th></th>\n",
       "      <th>death_yn_Yes</th>\n",
       "      <th>Predicted</th>\n",
       "    </tr>\n",
       "  </thead>\n",
       "  <tbody>\n",
       "    <tr>\n",
       "      <th>0</th>\n",
       "      <td>0</td>\n",
       "      <td>0.0</td>\n",
       "    </tr>\n",
       "    <tr>\n",
       "      <th>1</th>\n",
       "      <td>0</td>\n",
       "      <td>0.0</td>\n",
       "    </tr>\n",
       "    <tr>\n",
       "      <th>2</th>\n",
       "      <td>0</td>\n",
       "      <td>0.0</td>\n",
       "    </tr>\n",
       "    <tr>\n",
       "      <th>3</th>\n",
       "      <td>0</td>\n",
       "      <td>0.0</td>\n",
       "    </tr>\n",
       "    <tr>\n",
       "      <th>4</th>\n",
       "      <td>0</td>\n",
       "      <td>0.0</td>\n",
       "    </tr>\n",
       "    <tr>\n",
       "      <th>...</th>\n",
       "      <td>...</td>\n",
       "      <td>...</td>\n",
       "    </tr>\n",
       "    <tr>\n",
       "      <th>2988</th>\n",
       "      <td>1</td>\n",
       "      <td>0.0</td>\n",
       "    </tr>\n",
       "    <tr>\n",
       "      <th>2989</th>\n",
       "      <td>0</td>\n",
       "      <td>0.0</td>\n",
       "    </tr>\n",
       "    <tr>\n",
       "      <th>2990</th>\n",
       "      <td>0</td>\n",
       "      <td>0.0</td>\n",
       "    </tr>\n",
       "    <tr>\n",
       "      <th>2991</th>\n",
       "      <td>0</td>\n",
       "      <td>0.0</td>\n",
       "    </tr>\n",
       "    <tr>\n",
       "      <th>2992</th>\n",
       "      <td>0</td>\n",
       "      <td>0.0</td>\n",
       "    </tr>\n",
       "  </tbody>\n",
       "</table>\n",
       "<p>2993 rows × 2 columns</p>\n",
       "</div>"
      ],
      "text/plain": [
       "      death_yn_Yes  Predicted\n",
       "0                0        0.0\n",
       "1                0        0.0\n",
       "2                0        0.0\n",
       "3                0        0.0\n",
       "4                0        0.0\n",
       "...            ...        ...\n",
       "2988             1        0.0\n",
       "2989             0        0.0\n",
       "2990             0        0.0\n",
       "2991             0        0.0\n",
       "2992             0        0.0\n",
       "\n",
       "[2993 rows x 2 columns]"
      ]
     },
     "execution_count": 51,
     "metadata": {},
     "output_type": "execute_result"
    }
   ],
   "source": [
    "# I will now compare the actual target feature vs the predicted test data\n",
    "multiple_logistic_prediction_test = (multiple_logistic.predict(X_test) >= 0.5) * 1.0\n",
    "\n",
    "# Printing out the results\n",
    "print(\"\\nPredictions with multiple linear regression:\")\n",
    "actual_vs_predicted_logistic_test = pd.concat([y_test, pd.DataFrame(multiple_logistic_prediction_test, columns=['Predicted'])], axis=1)\n",
    "actual_vs_predicted_logistic_test"
   ]
  },
  {
   "cell_type": "code",
   "execution_count": 52,
   "metadata": {},
   "outputs": [
    {
     "name": "stdout",
     "output_type": "stream",
     "text": [
      "Accuracy:  0.9736050785165385\n",
      "Confusion matrix: Test Data\n",
      " [[2892   10]\n",
      " [  69   22]]\n",
      "Classification report:\n",
      "                precision    recall  f1-score   support\n",
      "\n",
      "           0       0.98      1.00      0.99      2902\n",
      "           1       0.69      0.24      0.36        91\n",
      "\n",
      "    accuracy                           0.97      2993\n",
      "   macro avg       0.83      0.62      0.67      2993\n",
      "weighted avg       0.97      0.97      0.97      2993\n",
      "\n",
      "\n",
      "Accuracy:  0.970929399971359\n",
      "Confusion matrix: Training Data\n",
      " [[6737   40]\n",
      " [ 163   43]]\n",
      "Classification report:\n",
      "                precision    recall  f1-score   support\n",
      "\n",
      "           0       0.98      0.99      0.99      6777\n",
      "           1       0.52      0.21      0.30       206\n",
      "\n",
      "    accuracy                           0.97      6983\n",
      "   macro avg       0.75      0.60      0.64      6983\n",
      "weighted avg       0.96      0.97      0.96      6983\n",
      "\n"
     ]
    }
   ],
   "source": [
    "# Comparing performance measures between train data and test data\n",
    "print(\"Accuracy: \", metrics.accuracy_score(y_test, multiple_logistic_prediction_test))\n",
    "print(\"Confusion matrix: Test Data\\n\", metrics.confusion_matrix(y_test, multiple_logistic_prediction_test))\n",
    "print(\"Classification report:\\n \", metrics.classification_report(y_test, multiple_logistic_prediction_test))\n",
    "print()\n",
    "print(\"Accuracy: \", metrics.accuracy_score(y_train,  multiple_logistic_prediction_train))\n",
    "print(\"Confusion matrix: Training Data\\n\", metrics.confusion_matrix(y_train, multiple_logistic_prediction_train))\n",
    "print(\"Classification report:\\n \", metrics.classification_report(y_train, multiple_logistic_prediction_train))"
   ]
  },
  {
   "cell_type": "markdown",
   "metadata": {},
   "source": [
    "Interpretation of the performative measures:\n",
    "* Accuracy\n",
    "    * We have an accuracy of 97%\n",
    "* Precision \n",
    "    * Precision Positive is 0.69 (69%)\n",
    "    * Precision Negative is 0.98 (98%)\n",
    "* Recall \n",
    "    * Recall Positive is 0.24 (24%)\n",
    "    * Recall Negative is 1.00 (100%)\n",
    "* F1 Score: a weighted average of Precision and recall\n",
    "    * F1 Score Positive is 0.35 (35%)\n",
    "    * F1 Score Negative is 0.99 (99%)\n",
    "\n",
    "\n",
    "Summary:\n",
    "* The accuracy for testing data has dropped however very very slightly. This is a good indication that a logistic regression model works better.\n",
    "* We see better results for the training data which indicates that the model is generalizing.\n",
    "* The precision score has increased from 52% to 69%. The recall score increased from 21% -> 24%.\n",
    "* The F1 score increased from 30% -> 35%.\n",
    "* This shows that the logistic regression model is a better fit for our target feature as the test data shows better results for having more true positives from the confusion matrix.\n",
    "* This would be expected as the logistic regression model deals with classifiers."
   ]
  },
  {
   "cell_type": "code",
   "execution_count": 53,
   "metadata": {},
   "outputs": [],
   "source": [
    "def cross_validation_logistic(X,y):\n",
    "    logistic_results = {}\n",
    "    # These are the test metrics that will be tested against.\n",
    "    test_metrics = ['accuracy','precision','recall', 'f1']\n",
    "\n",
    "    for metric in test_metrics:\n",
    "        result = cross_val_score(LogisticRegression(), X, y, scoring=metric, cv=10)\n",
    "        logistic_results[metric] = result.mean()\n",
    "        \n",
    "    # create dataframe with results\n",
    "    Logistic_Dataframe = pd.DataFrame.from_dict(logistic_results, orient='index', columns=['Logistic_Regression'])\n",
    "    \n",
    "    return Logistic_Dataframe"
   ]
  },
  {
   "cell_type": "code",
   "execution_count": 54,
   "metadata": {},
   "outputs": [
    {
     "name": "stdout",
     "output_type": "stream",
     "text": [
      "Mean results from 10 fold cross validation are:\n"
     ]
    },
    {
     "data": {
      "text/html": [
       "<div>\n",
       "<style scoped>\n",
       "    .dataframe tbody tr th:only-of-type {\n",
       "        vertical-align: middle;\n",
       "    }\n",
       "\n",
       "    .dataframe tbody tr th {\n",
       "        vertical-align: top;\n",
       "    }\n",
       "\n",
       "    .dataframe thead th {\n",
       "        text-align: right;\n",
       "    }\n",
       "</style>\n",
       "<table border=\"1\" class=\"dataframe\">\n",
       "  <thead>\n",
       "    <tr style=\"text-align: right;\">\n",
       "      <th></th>\n",
       "      <th>Logistic_Regression</th>\n",
       "    </tr>\n",
       "  </thead>\n",
       "  <tbody>\n",
       "    <tr>\n",
       "      <th>accuracy</th>\n",
       "      <td>0.971131</td>\n",
       "    </tr>\n",
       "    <tr>\n",
       "      <th>precision</th>\n",
       "      <td>0.539332</td>\n",
       "    </tr>\n",
       "    <tr>\n",
       "      <th>recall</th>\n",
       "      <td>0.222414</td>\n",
       "    </tr>\n",
       "    <tr>\n",
       "      <th>f1</th>\n",
       "      <td>0.312748</td>\n",
       "    </tr>\n",
       "  </tbody>\n",
       "</table>\n",
       "</div>"
      ],
      "text/plain": [
       "           Logistic_Regression\n",
       "accuracy              0.971131\n",
       "precision             0.539332\n",
       "recall                0.222414\n",
       "f1                    0.312748"
      ]
     },
     "execution_count": 54,
     "metadata": {},
     "output_type": "execute_result"
    }
   ],
   "source": [
    "logistic_df = cross_validation_logistic(X,y)\n",
    "print(f\"Mean results from 10 fold cross validation are:\")\n",
    "logistic_df "
   ]
  },
  {
   "cell_type": "markdown",
   "metadata": {},
   "source": [
    "These results are better than the previous results. The accuracy score has stayed the same more or less which is expected, Precision score has gone down from 55 -> 53, Recall has signigicantly improved that tells us it has a higher probability of correctly predicting positive observations over true positives plus false negatives. and the F1 score also had improvements from 0.02 -> 0.31. In conclusion this gives a better indication that Logistic Regression model is better than Linear Regression model for our target feature. "
   ]
  },
  {
   "cell_type": "markdown",
   "metadata": {},
   "source": [
    "# 4. Random Forest"
   ]
  },
  {
   "cell_type": "markdown",
   "metadata": {},
   "source": [
    "\n",
    "* (4.1) On the training set, train a random forest model to predict the target feature, using the descriptive features selected in exercise (1) above.   \n",
    "* (4.2) Can you interpret the random forest model? Discuss any knowledge you can gain in regard of the working of this model.   \n",
    "* (4.3) Print the predicted target feature value for the first 10 training examples. Print the predicted class for the first 10 examples. Print a few classification evaluation measures computed on the full training set (e.g., Accuracy, Confusion matrix, Precision, Recall, F1) and discuss your findings so far.\n",
    "* (4.4) Evaluate the model using classification evaluation measures on the hold-out (30% examples) test set. Compare these results with the evaluation results obtained when using the training (70%) dataset for evaluation. Also compare these results with a cross-validated model (i.e., a new model trained and evaluated using cross-validation on the full dataset). You can use classic k-fold cross-validation or repeated train/test (70/30) splits. Compare the cross-validation metrics to those obtained on the single train/test split and to the out-of-sample error and discuss your findings."
   ]
  },
  {
   "cell_type": "markdown",
   "metadata": {},
   "source": [
    "## 4.1 Training a random forest model using descriptive features from question 1 above."
   ]
  },
  {
   "cell_type": "code",
   "execution_count": 55,
   "metadata": {},
   "outputs": [
    {
     "data": {
      "text/plain": [
       "RandomForestClassifier(oob_score=True, random_state=1)"
      ]
     },
     "execution_count": 55,
     "metadata": {},
     "output_type": "execute_result"
    }
   ],
   "source": [
    "# Training a random forest with 100 Trees\n",
    "rfm = RandomForestClassifier(max_features='auto', oob_score=True, random_state=1)\n",
    "rfm.fit(X_train, y_train)"
   ]
  },
  {
   "cell_type": "markdown",
   "metadata": {},
   "source": [
    "## 4.2 Interpreting the random forest model. "
   ]
  },
  {
   "cell_type": "markdown",
   "metadata": {},
   "source": [
    "In this section, I will try get a better understanding of the random forest model by firstly going through the decision tree. \n",
    "<br>\n",
    "**!For my own guidance!**\n",
    "* The decision is tree is made up of if-else rules based on splitting data based on the specific features. \n",
    "* The decision on which feature will always split on the feature that gives the highest information gain.\n",
    "* The feature with the highest information gain will sit at the root of each decision tree.\n",
    "* Each decision tree will be a single prediction.\n",
    "* Random Forest\n",
    "    * The random forest is made up a number of decision trees.\n",
    "    * The output of the random forest is base on the majority output of all decision trees combined.\n",
    "    * This gives reliable results but can be hard to interpret.\n",
    "    * The random forest will keep track of the importance of features in terms of information gain, which we will see."
   ]
  },
  {
   "cell_type": "code",
   "execution_count": 56,
   "metadata": {},
   "outputs": [
    {
     "name": "stdout",
     "output_type": "stream",
     "text": [
      "Max depth 4: \n",
      " DecisionTreeClassifier(max_depth=4, random_state=1)\n",
      "Max depth 10: \n",
      " DecisionTreeClassifier(max_depth=10, random_state=1)\n"
     ]
    }
   ],
   "source": [
    "# I will train 2 decision trees with the same test data\n",
    "# One with max_depth of 4 and max_depth of 10.\n",
    "# Note that max depth determines how deep a decision tree can go before it must \n",
    "# give an answer.\n",
    "dtc_4 = DecisionTreeClassifier(max_depth=4, random_state=1)\n",
    "dtc_10 = DecisionTreeClassifier(max_depth=10, random_state=1)\n",
    "dtc_4.fit(X_train, y_train)\n",
    "dtc_10.fit(X_train, y_train)\n",
    "print(\"Max depth 4: \\n\",dtc_4)\n",
    "print(\"Max depth 10: \\n\",dtc_10)"
   ]
  },
  {
   "cell_type": "code",
   "execution_count": 57,
   "metadata": {},
   "outputs": [],
   "source": [
    "# Using Graphviz png I will crete a graph of each tree and save it as an image.\n",
    "with open(\"DecisionTree4.dot\", 'w') as f1:\n",
    "    f1 = export_graphviz(dtc_4, out_file=f1, feature_names=X_train.columns)\n",
    "with open(\"DecisionTree10.dot\", 'w') as f2:\n",
    "    f2 = export_graphviz(dtc_10, out_file=f2, feature_names=X_train.columns)"
   ]
  },
  {
   "cell_type": "markdown",
   "metadata": {},
   "source": [
    "#### max-depth = 4 - Random Forest Tree Model"
   ]
  },
  {
   "cell_type": "markdown",
   "metadata": {},
   "source": [
    "<img style=\"float: left;\" src=\"DecisionTree4.png\">"
   ]
  },
  {
   "cell_type": "markdown",
   "metadata": {},
   "source": [
    "#### max-depth = 10 -  Random Forest Tree Model"
   ]
  },
  {
   "cell_type": "markdown",
   "metadata": {},
   "source": [
    "<img style=\"float: left;\" src=\"DecisionTree10.png\">"
   ]
  },
  {
   "cell_type": "markdown",
   "metadata": {},
   "source": [
    "#### Interpretation of the Random Forest Tree Model:\n",
    "##### max-depth: 4-model:\n",
    "* We see the root node for this model is age_group 80+ years. This means that strongest feature in relation to the target feature.\n",
    "* Increasing the trees would give us an increase of predicting precision of the outcome.\n",
    "* age_grup 80+ years has a sample of 6983 meaning that there are 6983 observations in this node. \n",
    "* At the end of each decision nodes (the leaf nodes), we see look at the gini values to see the purity of leaf node. Gini impurities would tell the probability of incorrectly labelling if it was randomly labelled according to the distribution of labels.\n",
    "* In this mode, we see the best branch and decision node (sub tree) would be hosp_yn_Yes -> age_group_70-79 years -> age_group 60-69 years as it gives the best feature split and gives the best information gain. \n",
    "* Leaf nodes that have a gini value of 0.0 give an indication of its purity and how useful the feature is in predicting the correct positive outcome of the target feature. And the branch I have mentioned above gives a pure gini value 0.0 that means indicates an accurate positive outcome.\n",
    "* We see that the tree continues to split at the next best feature each time until the stopping criteria of max_depth = 4 is met.\n",
    "##### max-depth: 10-model:\n",
    "* In this section, I will attempt to analyze one branch from hosp_yn_Yes (True). As we travel down the branch, we reach age_group_70-79 years -> age_group_60-69 years -> hosp_yn_Unknown -> age_group_40-49 years. This decision tree tells us that the next best considered features that are branched off have closed.\n",
    "* The gini values has measures that tell us that these features, depending on the node they branched from, represents the best feature split of this model. \n",
    "* We see that this path is resolved from this one split alone and all samples are in the positive class. \n",
    "* Again, we see that age_group_80+ years is still the root node. This gives us information that this feature is the strongest predictor of the outcome. \n",
    "* There are more impure gini scorees, that give a higher gini score that implies a positive outcome will not be as accurate. We see this if we follow when age_group_80+ years branch into False. "
   ]
  },
  {
   "cell_type": "code",
   "execution_count": 58,
   "metadata": {},
   "outputs": [
    {
     "data": {
      "text/html": [
       "<div>\n",
       "<style scoped>\n",
       "    .dataframe tbody tr th:only-of-type {\n",
       "        vertical-align: middle;\n",
       "    }\n",
       "\n",
       "    .dataframe tbody tr th {\n",
       "        vertical-align: top;\n",
       "    }\n",
       "\n",
       "    .dataframe thead th {\n",
       "        text-align: right;\n",
       "    }\n",
       "</style>\n",
       "<table border=\"1\" class=\"dataframe\">\n",
       "  <thead>\n",
       "    <tr style=\"text-align: right;\">\n",
       "      <th></th>\n",
       "      <th>feature</th>\n",
       "      <th>importance</th>\n",
       "    </tr>\n",
       "  </thead>\n",
       "  <tbody>\n",
       "    <tr>\n",
       "      <th>8</th>\n",
       "      <td>age_group_80+ Years</td>\n",
       "      <td>0.206194</td>\n",
       "    </tr>\n",
       "    <tr>\n",
       "      <th>17</th>\n",
       "      <td>hosp_yn_Yes</td>\n",
       "      <td>0.134932</td>\n",
       "    </tr>\n",
       "    <tr>\n",
       "      <th>0</th>\n",
       "      <td>onset_missing_ind_1</td>\n",
       "      <td>0.098857</td>\n",
       "    </tr>\n",
       "    <tr>\n",
       "      <th>19</th>\n",
       "      <td>icu_yn_Yes</td>\n",
       "      <td>0.080176</td>\n",
       "    </tr>\n",
       "    <tr>\n",
       "      <th>21</th>\n",
       "      <td>medcond_yn_Yes</td>\n",
       "      <td>0.051373</td>\n",
       "    </tr>\n",
       "    <tr>\n",
       "      <th>18</th>\n",
       "      <td>icu_yn_Unknown</td>\n",
       "      <td>0.048815</td>\n",
       "    </tr>\n",
       "    <tr>\n",
       "      <th>15</th>\n",
       "      <td>race_ethnicity_combined_White, Non-Hispanic</td>\n",
       "      <td>0.046903</td>\n",
       "    </tr>\n",
       "    <tr>\n",
       "      <th>16</th>\n",
       "      <td>hosp_yn_Unknown</td>\n",
       "      <td>0.046900</td>\n",
       "    </tr>\n",
       "    <tr>\n",
       "      <th>20</th>\n",
       "      <td>medcond_yn_Unknown</td>\n",
       "      <td>0.040845</td>\n",
       "    </tr>\n",
       "    <tr>\n",
       "      <th>7</th>\n",
       "      <td>age_group_70 - 79 Years</td>\n",
       "      <td>0.038988</td>\n",
       "    </tr>\n",
       "    <tr>\n",
       "      <th>14</th>\n",
       "      <td>race_ethnicity_combined_Unknown</td>\n",
       "      <td>0.035767</td>\n",
       "    </tr>\n",
       "    <tr>\n",
       "      <th>10</th>\n",
       "      <td>race_ethnicity_combined_Black, Non-Hispanic</td>\n",
       "      <td>0.031020</td>\n",
       "    </tr>\n",
       "    <tr>\n",
       "      <th>6</th>\n",
       "      <td>age_group_60 - 69 Years</td>\n",
       "      <td>0.031009</td>\n",
       "    </tr>\n",
       "    <tr>\n",
       "      <th>11</th>\n",
       "      <td>race_ethnicity_combined_Hispanic/Latino</td>\n",
       "      <td>0.025009</td>\n",
       "    </tr>\n",
       "    <tr>\n",
       "      <th>5</th>\n",
       "      <td>age_group_50 - 59 Years</td>\n",
       "      <td>0.020769</td>\n",
       "    </tr>\n",
       "    <tr>\n",
       "      <th>4</th>\n",
       "      <td>age_group_40 - 49 Years</td>\n",
       "      <td>0.017006</td>\n",
       "    </tr>\n",
       "    <tr>\n",
       "      <th>12</th>\n",
       "      <td>race_ethnicity_combined_Multiple/Other, Non-Hi...</td>\n",
       "      <td>0.014272</td>\n",
       "    </tr>\n",
       "    <tr>\n",
       "      <th>3</th>\n",
       "      <td>age_group_30 - 39 Years</td>\n",
       "      <td>0.009557</td>\n",
       "    </tr>\n",
       "    <tr>\n",
       "      <th>9</th>\n",
       "      <td>race_ethnicity_combined_Asian, Non-Hispanic</td>\n",
       "      <td>0.009094</td>\n",
       "    </tr>\n",
       "    <tr>\n",
       "      <th>2</th>\n",
       "      <td>age_group_20 - 29 Years</td>\n",
       "      <td>0.008820</td>\n",
       "    </tr>\n",
       "    <tr>\n",
       "      <th>1</th>\n",
       "      <td>age_group_10 - 19 Years</td>\n",
       "      <td>0.003635</td>\n",
       "    </tr>\n",
       "    <tr>\n",
       "      <th>13</th>\n",
       "      <td>race_ethnicity_combined_Native Hawaiian/Other ...</td>\n",
       "      <td>0.000061</td>\n",
       "    </tr>\n",
       "  </tbody>\n",
       "</table>\n",
       "</div>"
      ],
      "text/plain": [
       "                                              feature  importance\n",
       "8                                 age_group_80+ Years    0.206194\n",
       "17                                        hosp_yn_Yes    0.134932\n",
       "0                                 onset_missing_ind_1    0.098857\n",
       "19                                         icu_yn_Yes    0.080176\n",
       "21                                     medcond_yn_Yes    0.051373\n",
       "18                                     icu_yn_Unknown    0.048815\n",
       "15        race_ethnicity_combined_White, Non-Hispanic    0.046903\n",
       "16                                    hosp_yn_Unknown    0.046900\n",
       "20                                 medcond_yn_Unknown    0.040845\n",
       "7                             age_group_70 - 79 Years    0.038988\n",
       "14                    race_ethnicity_combined_Unknown    0.035767\n",
       "10        race_ethnicity_combined_Black, Non-Hispanic    0.031020\n",
       "6                             age_group_60 - 69 Years    0.031009\n",
       "11            race_ethnicity_combined_Hispanic/Latino    0.025009\n",
       "5                             age_group_50 - 59 Years    0.020769\n",
       "4                             age_group_40 - 49 Years    0.017006\n",
       "12  race_ethnicity_combined_Multiple/Other, Non-Hi...    0.014272\n",
       "3                             age_group_30 - 39 Years    0.009557\n",
       "9         race_ethnicity_combined_Asian, Non-Hispanic    0.009094\n",
       "2                             age_group_20 - 29 Years    0.008820\n",
       "1                             age_group_10 - 19 Years    0.003635\n",
       "13  race_ethnicity_combined_Native Hawaiian/Other ...    0.000061"
      ]
     },
     "execution_count": 58,
     "metadata": {},
     "output_type": "execute_result"
    }
   ],
   "source": [
    "importance = pd.DataFrame({'feature': X_train.columns, 'importance': rfm.feature_importances_})\n",
    "importance.sort_values('importance', ascending=False)"
   ]
  },
  {
   "cell_type": "code",
   "execution_count": 59,
   "metadata": {
    "scrolled": true
   },
   "outputs": [
    {
     "name": "stdout",
     "output_type": "stream",
     "text": [
      "R^2 Training Score: 0.98 \n",
      "OOB Score: 0.97\n"
     ]
    }
   ],
   "source": [
    "print('R^2 Training Score: {:.2f} \\nOOB Score: {:.2f}'.format(rfm.score(X_train, y_train), rfm.oob_score_))"
   ]
  },
  {
   "cell_type": "markdown",
   "metadata": {},
   "source": [
    "**Interpretation of the Feature Importance:**\n",
    "<br>\n",
    "* We see that age_group_80+ years is the most important feature that gives the best positive outcome for the target feature death_yn.\n",
    "* From the dataframe and plot we see above, we see what features gives little impact to the positive outcome for the target feature. For instance, we see that race_ethnicity_combined_Native Hawaiian/Other has the poorest importance value 0.000061.\n",
    "* While hosp_yn_Yes is the second best feature(\t0.134932 ). This is demonstrated as well in the two models above. \n",
    "* We see features who are within the top 10 that is expected, because we often saw these features at the top levels of some of the decisioin trees meaning they had higher information gain. \n",
    "* The R2 score and OOB score gives us a good indication if there is overfitting happening in this model. As they are the same, it means there is probably no overfitting in the model. If the OOB score was siginificantly higher than the R^2 score then this would suggest it otherwise. "
   ]
  },
  {
   "cell_type": "markdown",
   "metadata": {},
   "source": [
    "## 4.3 Printing predicted target feature and printing classification evaluation measures computed on the full training set. "
   ]
  },
  {
   "cell_type": "code",
   "execution_count": 60,
   "metadata": {},
   "outputs": [
    {
     "data": {
      "text/html": [
       "<div>\n",
       "<style scoped>\n",
       "    .dataframe tbody tr th:only-of-type {\n",
       "        vertical-align: middle;\n",
       "    }\n",
       "\n",
       "    .dataframe tbody tr th {\n",
       "        vertical-align: top;\n",
       "    }\n",
       "\n",
       "    .dataframe thead th {\n",
       "        text-align: right;\n",
       "    }\n",
       "</style>\n",
       "<table border=\"1\" class=\"dataframe\">\n",
       "  <thead>\n",
       "    <tr style=\"text-align: right;\">\n",
       "      <th></th>\n",
       "      <th>death_yn_Yes</th>\n",
       "      <th>Predicted</th>\n",
       "    </tr>\n",
       "  </thead>\n",
       "  <tbody>\n",
       "    <tr>\n",
       "      <th>0</th>\n",
       "      <td>0</td>\n",
       "      <td>0</td>\n",
       "    </tr>\n",
       "    <tr>\n",
       "      <th>1</th>\n",
       "      <td>0</td>\n",
       "      <td>0</td>\n",
       "    </tr>\n",
       "    <tr>\n",
       "      <th>2</th>\n",
       "      <td>0</td>\n",
       "      <td>0</td>\n",
       "    </tr>\n",
       "    <tr>\n",
       "      <th>3</th>\n",
       "      <td>0</td>\n",
       "      <td>0</td>\n",
       "    </tr>\n",
       "    <tr>\n",
       "      <th>4</th>\n",
       "      <td>0</td>\n",
       "      <td>0</td>\n",
       "    </tr>\n",
       "    <tr>\n",
       "      <th>5</th>\n",
       "      <td>0</td>\n",
       "      <td>0</td>\n",
       "    </tr>\n",
       "    <tr>\n",
       "      <th>6</th>\n",
       "      <td>0</td>\n",
       "      <td>0</td>\n",
       "    </tr>\n",
       "    <tr>\n",
       "      <th>7</th>\n",
       "      <td>0</td>\n",
       "      <td>0</td>\n",
       "    </tr>\n",
       "    <tr>\n",
       "      <th>8</th>\n",
       "      <td>0</td>\n",
       "      <td>0</td>\n",
       "    </tr>\n",
       "    <tr>\n",
       "      <th>9</th>\n",
       "      <td>0</td>\n",
       "      <td>0</td>\n",
       "    </tr>\n",
       "    <tr>\n",
       "      <th>10</th>\n",
       "      <td>0</td>\n",
       "      <td>0</td>\n",
       "    </tr>\n",
       "    <tr>\n",
       "      <th>11</th>\n",
       "      <td>0</td>\n",
       "      <td>0</td>\n",
       "    </tr>\n",
       "    <tr>\n",
       "      <th>12</th>\n",
       "      <td>0</td>\n",
       "      <td>0</td>\n",
       "    </tr>\n",
       "    <tr>\n",
       "      <th>13</th>\n",
       "      <td>0</td>\n",
       "      <td>0</td>\n",
       "    </tr>\n",
       "    <tr>\n",
       "      <th>14</th>\n",
       "      <td>0</td>\n",
       "      <td>0</td>\n",
       "    </tr>\n",
       "    <tr>\n",
       "      <th>15</th>\n",
       "      <td>0</td>\n",
       "      <td>0</td>\n",
       "    </tr>\n",
       "    <tr>\n",
       "      <th>16</th>\n",
       "      <td>0</td>\n",
       "      <td>0</td>\n",
       "    </tr>\n",
       "    <tr>\n",
       "      <th>17</th>\n",
       "      <td>0</td>\n",
       "      <td>0</td>\n",
       "    </tr>\n",
       "    <tr>\n",
       "      <th>18</th>\n",
       "      <td>0</td>\n",
       "      <td>0</td>\n",
       "    </tr>\n",
       "    <tr>\n",
       "      <th>19</th>\n",
       "      <td>0</td>\n",
       "      <td>0</td>\n",
       "    </tr>\n",
       "  </tbody>\n",
       "</table>\n",
       "</div>"
      ],
      "text/plain": [
       "    death_yn_Yes  Predicted\n",
       "0              0          0\n",
       "1              0          0\n",
       "2              0          0\n",
       "3              0          0\n",
       "4              0          0\n",
       "5              0          0\n",
       "6              0          0\n",
       "7              0          0\n",
       "8              0          0\n",
       "9              0          0\n",
       "10             0          0\n",
       "11             0          0\n",
       "12             0          0\n",
       "13             0          0\n",
       "14             0          0\n",
       "15             0          0\n",
       "16             0          0\n",
       "17             0          0\n",
       "18             0          0\n",
       "19             0          0"
      ]
     },
     "execution_count": 60,
     "metadata": {},
     "output_type": "execute_result"
    }
   ],
   "source": [
    "# Printing the evaluated mode using the hold-out training set\n",
    "rfm_predictions_train = rfm.predict(X_train)\n",
    "predicted_death_yn_Yes = pd.DataFrame(rfm_predictions_train, columns=['Predicted'])\n",
    "actual_vs_predicted_rfm_train = pd.concat([y_train, predicted_death_yn_Yes], axis=1)\n",
    "actual_vs_predicted_rfm_train.head(20)"
   ]
  },
  {
   "cell_type": "code",
   "execution_count": 61,
   "metadata": {},
   "outputs": [
    {
     "name": "stdout",
     "output_type": "stream",
     "text": [
      "Accuracy:  0.9793784906200773\n",
      "Confusion matrix: \n",
      " [[6761   16]\n",
      " [ 128   78]]\n",
      "Classification report:\n",
      "                precision    recall  f1-score   support\n",
      "\n",
      "           0       0.98      1.00      0.99      6777\n",
      "           1       0.83      0.38      0.52       206\n",
      "\n",
      "    accuracy                           0.98      6983\n",
      "   macro avg       0.91      0.69      0.75      6983\n",
      "weighted avg       0.98      0.98      0.98      6983\n",
      "\n"
     ]
    }
   ],
   "source": [
    "print(\"Accuracy: \", metrics.accuracy_score(y_train, rfm_predictions_train))\n",
    "print(\"Confusion matrix: \\n\", metrics.confusion_matrix(y_train, rfm_predictions_train))\n",
    "print(\"Classification report:\\n \", metrics.classification_report(y_train, rfm_predictions_train))"
   ]
  },
  {
   "cell_type": "markdown",
   "metadata": {},
   "source": [
    "**Interpretation of the performative measures: Training Data**\n",
    "* Accuracy\n",
    "    * We have an accuracy of 97%\n",
    "* Precision \n",
    "    * Precision Positive is 0.83 (83%)\n",
    "    * Precision Negative is 0.98 (98%)\n",
    "* Recall \n",
    "    * Recall Positive is 0.38 (38%)\n",
    "    * Recall Negative is 1.00 (100%)\n",
    "* F1 Score: a weighted average of Precision and recall\n",
    "    * F1 Score Positive is 0.52 (52%)\n",
    "    * F1 Score Negative is 0.99 (99%)\n",
    "\n",
    "Summary:\n",
    "* We see that there were 16 false positives and 128 false negatives.\n",
    "* The accuracy score is still consistent throughout the past two models as it stayed relatively the same.\n",
    "* We see an improvement in predicting more true positives compared to the Logistic and Linear regression models as the positive score is at 83%.\n",
    "* The recall score has increased from the logistic regression model. This is not concerning as it is still relatively close to each other.\n",
    "* The F1 score that calculated the weighted average of precision and recall has a positive score of 52% while the negative score still stays the same. This is a good indication that this model works well with categorical features.\n",
    "* This shows that the data is possibly generalizing."
   ]
  },
  {
   "cell_type": "markdown",
   "metadata": {},
   "source": [
    "## 4.4 Evaluating model using classification evaluation measures on the hold out. Compare these results obtained from training data. Compare these results with a cross validation model and discuss findings."
   ]
  },
  {
   "cell_type": "code",
   "execution_count": 62,
   "metadata": {},
   "outputs": [
    {
     "data": {
      "text/html": [
       "<div>\n",
       "<style scoped>\n",
       "    .dataframe tbody tr th:only-of-type {\n",
       "        vertical-align: middle;\n",
       "    }\n",
       "\n",
       "    .dataframe tbody tr th {\n",
       "        vertical-align: top;\n",
       "    }\n",
       "\n",
       "    .dataframe thead th {\n",
       "        text-align: right;\n",
       "    }\n",
       "</style>\n",
       "<table border=\"1\" class=\"dataframe\">\n",
       "  <thead>\n",
       "    <tr style=\"text-align: right;\">\n",
       "      <th></th>\n",
       "      <th>death_yn_Yes</th>\n",
       "      <th>Predicted</th>\n",
       "    </tr>\n",
       "  </thead>\n",
       "  <tbody>\n",
       "    <tr>\n",
       "      <th>0</th>\n",
       "      <td>0</td>\n",
       "      <td>0</td>\n",
       "    </tr>\n",
       "    <tr>\n",
       "      <th>1</th>\n",
       "      <td>0</td>\n",
       "      <td>0</td>\n",
       "    </tr>\n",
       "    <tr>\n",
       "      <th>2</th>\n",
       "      <td>0</td>\n",
       "      <td>0</td>\n",
       "    </tr>\n",
       "    <tr>\n",
       "      <th>3</th>\n",
       "      <td>0</td>\n",
       "      <td>0</td>\n",
       "    </tr>\n",
       "    <tr>\n",
       "      <th>4</th>\n",
       "      <td>0</td>\n",
       "      <td>0</td>\n",
       "    </tr>\n",
       "    <tr>\n",
       "      <th>5</th>\n",
       "      <td>0</td>\n",
       "      <td>0</td>\n",
       "    </tr>\n",
       "    <tr>\n",
       "      <th>6</th>\n",
       "      <td>0</td>\n",
       "      <td>0</td>\n",
       "    </tr>\n",
       "    <tr>\n",
       "      <th>7</th>\n",
       "      <td>0</td>\n",
       "      <td>0</td>\n",
       "    </tr>\n",
       "    <tr>\n",
       "      <th>8</th>\n",
       "      <td>0</td>\n",
       "      <td>0</td>\n",
       "    </tr>\n",
       "    <tr>\n",
       "      <th>9</th>\n",
       "      <td>0</td>\n",
       "      <td>0</td>\n",
       "    </tr>\n",
       "    <tr>\n",
       "      <th>10</th>\n",
       "      <td>0</td>\n",
       "      <td>0</td>\n",
       "    </tr>\n",
       "    <tr>\n",
       "      <th>11</th>\n",
       "      <td>0</td>\n",
       "      <td>0</td>\n",
       "    </tr>\n",
       "    <tr>\n",
       "      <th>12</th>\n",
       "      <td>0</td>\n",
       "      <td>0</td>\n",
       "    </tr>\n",
       "    <tr>\n",
       "      <th>13</th>\n",
       "      <td>0</td>\n",
       "      <td>0</td>\n",
       "    </tr>\n",
       "    <tr>\n",
       "      <th>14</th>\n",
       "      <td>0</td>\n",
       "      <td>0</td>\n",
       "    </tr>\n",
       "    <tr>\n",
       "      <th>15</th>\n",
       "      <td>0</td>\n",
       "      <td>0</td>\n",
       "    </tr>\n",
       "    <tr>\n",
       "      <th>16</th>\n",
       "      <td>0</td>\n",
       "      <td>0</td>\n",
       "    </tr>\n",
       "    <tr>\n",
       "      <th>17</th>\n",
       "      <td>0</td>\n",
       "      <td>0</td>\n",
       "    </tr>\n",
       "    <tr>\n",
       "      <th>18</th>\n",
       "      <td>0</td>\n",
       "      <td>0</td>\n",
       "    </tr>\n",
       "    <tr>\n",
       "      <th>19</th>\n",
       "      <td>0</td>\n",
       "      <td>0</td>\n",
       "    </tr>\n",
       "  </tbody>\n",
       "</table>\n",
       "</div>"
      ],
      "text/plain": [
       "    death_yn_Yes  Predicted\n",
       "0              0          0\n",
       "1              0          0\n",
       "2              0          0\n",
       "3              0          0\n",
       "4              0          0\n",
       "5              0          0\n",
       "6              0          0\n",
       "7              0          0\n",
       "8              0          0\n",
       "9              0          0\n",
       "10             0          0\n",
       "11             0          0\n",
       "12             0          0\n",
       "13             0          0\n",
       "14             0          0\n",
       "15             0          0\n",
       "16             0          0\n",
       "17             0          0\n",
       "18             0          0\n",
       "19             0          0"
      ]
     },
     "execution_count": 62,
     "metadata": {},
     "output_type": "execute_result"
    }
   ],
   "source": [
    "# Printing the evaluated mode using the hold-out test set\n",
    "rfm_predictions_test = rfm.predict(X_test)\n",
    "predicted_death_yn_Yes_test = pd.DataFrame(rfm_predictions_test, columns=['Predicted'])\n",
    "actual_vs_predicted_rfm_test = pd.concat([y_test, predicted_death_yn_Yes_test], axis=1)\n",
    "actual_vs_predicted_rfm_test.head(20)"
   ]
  },
  {
   "cell_type": "code",
   "execution_count": 63,
   "metadata": {
    "scrolled": false
   },
   "outputs": [
    {
     "name": "stdout",
     "output_type": "stream",
     "text": [
      "Accuracy:  0.965586368192449\n",
      "Confusion matrix: Test Data\n",
      " [[2875   27]\n",
      " [  76   15]]\n",
      "Classification report:\n",
      "                precision    recall  f1-score   support\n",
      "\n",
      "           0       0.97      0.99      0.98      2902\n",
      "           1       0.36      0.16      0.23        91\n",
      "\n",
      "    accuracy                           0.97      2993\n",
      "   macro avg       0.67      0.58      0.60      2993\n",
      "weighted avg       0.96      0.97      0.96      2993\n",
      "\n",
      "Accuracy:  0.9793784906200773\n",
      "Confusion matrix: Training Data\n",
      " [[6761   16]\n",
      " [ 128   78]]\n",
      "Classification report:\n",
      "                precision    recall  f1-score   support\n",
      "\n",
      "           0       0.98      1.00      0.99      6777\n",
      "           1       0.83      0.38      0.52       206\n",
      "\n",
      "    accuracy                           0.98      6983\n",
      "   macro avg       0.91      0.69      0.75      6983\n",
      "weighted avg       0.98      0.98      0.98      6983\n",
      "\n"
     ]
    }
   ],
   "source": [
    "# Comparing performance measures between train data and test data\n",
    "print(\"Accuracy: \", metrics.accuracy_score(y_test, rfm_predictions_test))\n",
    "print(\"Confusion matrix: Test Data\\n\", metrics.confusion_matrix(y_test, rfm_predictions_test))\n",
    "print(\"Classification report:\\n \", metrics.classification_report(y_test, rfm_predictions_test))\n",
    "print(\"Accuracy: \", metrics.accuracy_score(y_train, rfm_predictions_train))\n",
    "print(\"Confusion matrix: Training Data\\n\", metrics.confusion_matrix(y_train, rfm_predictions_train))\n",
    "print(\"Classification report:\\n \", metrics.classification_report(y_train, rfm_predictions_train))"
   ]
  },
  {
   "cell_type": "markdown",
   "metadata": {},
   "source": [
    "Interpretation of the performative measures for testing data:\n",
    "* Accuracy\n",
    "    * We have an accuracy of 96.55%\n",
    "* Precision \n",
    "    * Precision Positive is 0.36 (36%)\n",
    "    * Precision Negative is 0.97 (97%)\n",
    "* Recall \n",
    "    * Recall Positive is 0.16 (16%)\n",
    "    * Recall Negative is 0.99 (99%)\n",
    "* F1 Score: a weighted average of Precision and recall\n",
    "    * F1 Score Positive is 0.23 (23%)\n",
    "    * F1 Score Negative is 0.98 (98%)\n",
    "\n",
    "Summary:\n",
    "* We see a decrease in the accuracy score however once rounded off it fell to 97%.\n",
    "* The precision positive score has decreased to 36% from 83%. Meaning it is a decrease within the total of positive classes.\n",
    "* The recall positive score has decreased to 16% from 21%. Of all the mortality actual outcome of the patients who have passed, how many were labelled? We see this score, 16%. \n",
    "* The F1 score has also decreased to 23% compared to the training data. \n",
    "* We can see the rate of true positives in the scores has decreased in the test data however, again, this would be expected as we are putting it on data it has not seen before. \n",
    "* These results are reasonable as we tested on data the model has not seen before. Most scores from the test data are slightly poorer compared to the test data from the logistic regression model, but better than the linear regression model."
   ]
  },
  {
   "cell_type": "code",
   "execution_count": 64,
   "metadata": {},
   "outputs": [],
   "source": [
    "# Applying cross validation\n",
    "def cross_val_RandomForest_DF(X,y, depth=None, estimators=100):\n",
    "    \"\"\"Function to perform cross validation and store results \n",
    "    in dataframe. Cross validation looks at accuracy, precision, \n",
    "    recall, f1. Returns a dataframe with results\"\"\"\n",
    "\n",
    "    # store results in dict\n",
    "    RandomForestResults = {}\n",
    "    # metrics to test against\n",
    "    test_metrics = ['accuracy','precision','recall', 'f1']\n",
    "\n",
    "    for metric in test_metrics:\n",
    "        # generate test results\n",
    "        result = cross_val_score(RandomForestClassifier(n_estimators=estimators, max_features='auto', oob_score=True, random_state=1, max_depth=depth), X, y, scoring=metric, cv=10)\n",
    "        # store result in dict\n",
    "        RandomForestResults[metric] = result.mean()\n",
    "    \n",
    "    # create dataframe with results\n",
    "    RandomForestDF = pd.DataFrame.from_dict(RandomForestResults, orient='index', columns=['Random_Forests'])\n",
    "\n",
    "    return RandomForestDF"
   ]
  },
  {
   "cell_type": "code",
   "execution_count": 65,
   "metadata": {},
   "outputs": [
    {
     "name": "stdout",
     "output_type": "stream",
     "text": [
      "Mean results from 10 fold cross validation are:\n"
     ]
    },
    {
     "data": {
      "text/html": [
       "<div>\n",
       "<style scoped>\n",
       "    .dataframe tbody tr th:only-of-type {\n",
       "        vertical-align: middle;\n",
       "    }\n",
       "\n",
       "    .dataframe tbody tr th {\n",
       "        vertical-align: top;\n",
       "    }\n",
       "\n",
       "    .dataframe thead th {\n",
       "        text-align: right;\n",
       "    }\n",
       "</style>\n",
       "<table border=\"1\" class=\"dataframe\">\n",
       "  <thead>\n",
       "    <tr style=\"text-align: right;\">\n",
       "      <th></th>\n",
       "      <th>Random_Forests</th>\n",
       "    </tr>\n",
       "  </thead>\n",
       "  <tbody>\n",
       "    <tr>\n",
       "      <th>accuracy</th>\n",
       "      <td>0.969627</td>\n",
       "    </tr>\n",
       "    <tr>\n",
       "      <th>precision</th>\n",
       "      <td>0.476745</td>\n",
       "    </tr>\n",
       "    <tr>\n",
       "      <th>recall</th>\n",
       "      <td>0.184713</td>\n",
       "    </tr>\n",
       "    <tr>\n",
       "      <th>f1</th>\n",
       "      <td>0.262787</td>\n",
       "    </tr>\n",
       "  </tbody>\n",
       "</table>\n",
       "</div>"
      ],
      "text/plain": [
       "           Random_Forests\n",
       "accuracy         0.969627\n",
       "precision        0.476745\n",
       "recall           0.184713\n",
       "f1               0.262787"
      ]
     },
     "execution_count": 65,
     "metadata": {},
     "output_type": "execute_result"
    }
   ],
   "source": [
    "RandomForestDF = cross_val_RandomForest_DF(X,y)\n",
    "print(f\"Mean results from 10 fold cross validation are:\")\n",
    "RandomForestDF"
   ]
  },
  {
   "cell_type": "markdown",
   "metadata": {},
   "source": [
    "* We can see that in comparison to the test results above, the scores for recall and F1 have increased slightly. Accuracy has stayed the same and precision is slightly higher that the test data without cross validation. These variations are expected.\n",
    "* These results are not as good as we expected. The reason is because I had expected random forest to perform better than both linear and logistic regression as we are working with mostly categorical data which is non-linear in nature. "
   ]
  },
  {
   "cell_type": "markdown",
   "metadata": {},
   "source": [
    "##### Out-of-sample error\n",
    "Some of the data do not get seen by the model during training and so it can be used to evaluate the mode. This is an accurate way to evaluate the mode as it is data the model has not seen.\n"
   ]
  },
  {
   "cell_type": "code",
   "execution_count": 66,
   "metadata": {},
   "outputs": [
    {
     "data": {
      "text/plain": [
       "0.9703565802663612"
      ]
     },
     "execution_count": 66,
     "metadata": {},
     "output_type": "execute_result"
    }
   ],
   "source": [
    "# compute the out-of-bag classification accuracy\n",
    "rfm.oob_score_"
   ]
  },
  {
   "cell_type": "markdown",
   "metadata": {},
   "source": [
    "Conclusion: The result is in line with cross validation, therefore I am happy with this result."
   ]
  },
  {
   "cell_type": "markdown",
   "metadata": {},
   "source": [
    "# 5. Improving Predictive models"
   ]
  },
  {
   "cell_type": "markdown",
   "metadata": {},
   "source": [
    "- (5.1) Which model of the ones trained above performs better at predicting the target feature? Is it more   accurate than a simple model that always predicts the majority class (i.e., if 'no' is the majority class in your dataset, the simple model always predicts 'no' for the target feature)? Justify your answers.\n",
    "- (5.2) Summarise your understanding of the problem and of your predictive modeling results so far. Can you think of any new ideas to improve the best model so far (e.g., by using furher data prep such as: feature selection, feature re-scaling, creating new features, combining models, or using other knowledge)? Please show how your ideas actually work in practice, by training and evaluating your proposed models. Summarise your findings so far.\n",
    "- (5.3) Take your best model trained and selected based on past data (ie your cleaned Homework1 dataset), and evaluate it on the new test dataset provided with this homework (in file '24032021-covid19-cdc-deathyn-recent-10k.csv'). Discuss your findings.   "
   ]
  },
  {
   "cell_type": "markdown",
   "metadata": {},
   "source": [
    "### 5.1 Deciding what model of the ones trained above performs better at predicting the target feature. More accurate than a simple model that always predicts the majority class? "
   ]
  },
  {
   "cell_type": "markdown",
   "metadata": {},
   "source": [
    "* From the models below, the performative scores have similarities and differences. \n",
    "* We see the accuracy scores are mostly the same acorss all models.\n",
    "* Precision scores also stayed within the > 50% & < 55%.\n",
    "* Recall scores are similar for logistic and random forest models which is a contrast to the linear regression model that had a poor recall score of < 5%.\n",
    "* F1 scores are also the same, as the Logistic and Random Forests are similar in the scores while the Linear regression model has a poor score of 2%."
   ]
  },
  {
   "cell_type": "code",
   "execution_count": 67,
   "metadata": {},
   "outputs": [
    {
     "data": {
      "text/html": [
       "<div>\n",
       "<style scoped>\n",
       "    .dataframe tbody tr th:only-of-type {\n",
       "        vertical-align: middle;\n",
       "    }\n",
       "\n",
       "    .dataframe tbody tr th {\n",
       "        vertical-align: top;\n",
       "    }\n",
       "\n",
       "    .dataframe thead th {\n",
       "        text-align: right;\n",
       "    }\n",
       "</style>\n",
       "<table border=\"1\" class=\"dataframe\">\n",
       "  <thead>\n",
       "    <tr style=\"text-align: right;\">\n",
       "      <th></th>\n",
       "      <th>Linear_Regression</th>\n",
       "      <th>Logistic_Regression</th>\n",
       "      <th>Random_Forests</th>\n",
       "    </tr>\n",
       "  </thead>\n",
       "  <tbody>\n",
       "    <tr>\n",
       "      <th>accuracy</th>\n",
       "      <td>0.969997</td>\n",
       "      <td>0.971131</td>\n",
       "      <td>0.969627</td>\n",
       "    </tr>\n",
       "    <tr>\n",
       "      <th>precision</th>\n",
       "      <td>0.658333</td>\n",
       "      <td>0.539332</td>\n",
       "      <td>0.476745</td>\n",
       "    </tr>\n",
       "    <tr>\n",
       "      <th>recall</th>\n",
       "      <td>0.013436</td>\n",
       "      <td>0.222414</td>\n",
       "      <td>0.184713</td>\n",
       "    </tr>\n",
       "    <tr>\n",
       "      <th>f1</th>\n",
       "      <td>0.026114</td>\n",
       "      <td>0.312748</td>\n",
       "      <td>0.262787</td>\n",
       "    </tr>\n",
       "  </tbody>\n",
       "</table>\n",
       "</div>"
      ],
      "text/plain": [
       "           Linear_Regression  Logistic_Regression  Random_Forests\n",
       "accuracy            0.969997             0.971131        0.969627\n",
       "precision           0.658333             0.539332        0.476745\n",
       "recall              0.013436             0.222414        0.184713\n",
       "f1                  0.026114             0.312748        0.262787"
      ]
     },
     "execution_count": 67,
     "metadata": {},
     "output_type": "execute_result"
    }
   ],
   "source": [
    "ResultsDF = pd.concat([linRegDF, logistic_df, RandomForestDF], axis=1)\n",
    "ResultsDF"
   ]
  },
  {
   "cell_type": "markdown",
   "metadata": {},
   "source": [
    "In this section I will compare the results I have gathered so far to a simple model which predicts for the majority class. I will first get the breakdown of the test dataset and see which is the majority class. "
   ]
  },
  {
   "cell_type": "code",
   "execution_count": 68,
   "metadata": {},
   "outputs": [
    {
     "name": "stdout",
     "output_type": "stream",
     "text": [
      "From original dataset: \t\tCount 2993\n",
      "Total number death_yn_Yes:\t 91\t3.04%\n",
      "Total number death_yn_No:\t 2902\t96.96%\n"
     ]
    }
   ],
   "source": [
    "good_count_test = y_test[y_test == 1].count()\n",
    "bad_count_test = y_test[y_test == 0].count()\n",
    "total = good_count_test + bad_count_test\n",
    "\n",
    "print(f'From original dataset: \\t\\tCount {total[0]}')\n",
    "print(f'Total number death_yn_Yes:\\t {good_count_test[0]}\\t{round(good_count_test[0]/len(y_test)*100,2)}%')\n",
    "print(f'Total number death_yn_No:\\t {bad_count_test[0]}\\t{round(bad_count_test[0]/len(y_test)*100,2)}%')"
   ]
  },
  {
   "cell_type": "markdown",
   "metadata": {},
   "source": [
    "* As we can see that death_yn_No has majority class which is 0.\n",
    "* Now, I will generate the scores for predicting the majority class."
   ]
  },
  {
   "cell_type": "code",
   "execution_count": 69,
   "metadata": {},
   "outputs": [
    {
     "name": "stdout",
     "output_type": "stream",
     "text": [
      "Length of test dataset: 2993\n"
     ]
    }
   ],
   "source": [
    "print('Length of test dataset:', len(y_test))"
   ]
  },
  {
   "cell_type": "code",
   "execution_count": 70,
   "metadata": {
    "scrolled": true
   },
   "outputs": [
    {
     "name": "stdout",
     "output_type": "stream",
     "text": [
      "Accuracy:  0.9695957233544938\n",
      "Confusion matrix: \n",
      " [[2902    0]\n",
      " [  91    0]]\n",
      "Classification report:\n",
      "                precision    recall  f1-score   support\n",
      "\n",
      "           0       0.97      1.00      0.98      2902\n",
      "           1       0.00      0.00      0.00        91\n",
      "\n",
      "    accuracy                           0.97      2993\n",
      "   macro avg       0.48      0.50      0.49      2993\n",
      "weighted avg       0.94      0.97      0.95      2993\n",
      "\n"
     ]
    }
   ],
   "source": [
    "# generate array of 2993 zeros (length of test dataset)\n",
    "majority = np.zeros(2993)\n",
    "# create dataframe \n",
    "dataframe_majority_class = pd.DataFrame(majority, columns=['prediction'])\n",
    "# calculate scores of simple predictin vs actual\n",
    "print(\"Accuracy: \", metrics.accuracy_score(y_test, dataframe_majority_class))\n",
    "print(\"Confusion matrix: \\n\", metrics.confusion_matrix(y_test, dataframe_majority_class))\n",
    "print(\"Classification report:\\n \", metrics.classification_report(y_test, dataframe_majority_class))"
   ]
  },
  {
   "cell_type": "markdown",
   "metadata": {},
   "source": [
    "* For predicting a positive outcome we see it fails as expected, as the test data is skewed.\n",
    "* For predicting a negative outcome we see the simple model gives much better results but it is still worse than all of the other models that is illustrated above.\n",
    "* The recall here is 100% where all of the actual 0 values were predicted 0."
   ]
  },
  {
   "cell_type": "markdown",
   "metadata": {},
   "source": [
    "### 5.2 Summarizing data understanding of the problem and of the predictive modeling. Discuss new ideas to improve the best model so far. Show how the ideas work in practice and train, evaluate proposed models. Summarize these findings."
   ]
  },
  {
   "cell_type": "markdown",
   "metadata": {},
   "source": [
    "##### Comparing the model performances using the different feature subsets. \n"
   ]
  },
  {
   "cell_type": "markdown",
   "metadata": {},
   "source": [
    "First I will repeat the tests using all of the features. So, I will set up the dataframe using the original features."
   ]
  },
  {
   "cell_type": "code",
   "execution_count": 71,
   "metadata": {},
   "outputs": [],
   "source": [
    "from datetime import datetime\n",
    "df_all = pd.get_dummies(df)\n",
    "\n",
    "# Converting datetime type to String to turn into dummy variables. Code taken from https://stackoverflow.com/questions/30132282/datetime-to-string-with-series-in-python-pandas\n",
    "dates = pd.to_datetime(pd.Series(df_all['cdc_case_earliest_dt']), format = '%Y%m%d')\n",
    "df_all['cdc_case_earliest_dt'] = dates.apply(lambda x: x.strftime('%Y-%m-%d'))\n",
    "cdc_dummies = pd.get_dummies(df_all['cdc_case_earliest_dt'])\n",
    "\n",
    "# Dropping cdc_case_earliest_dt\n",
    "df_all = df_all.drop('cdc_case_earliest_dt', 1)\n",
    "df_all = pd.concat([df_all, cdc_dummies], axis=1)"
   ]
  },
  {
   "cell_type": "code",
   "execution_count": 72,
   "metadata": {},
   "outputs": [
    {
     "name": "stdout",
     "output_type": "stream",
     "text": [
      "Number of features including dummies:  354\n"
     ]
    }
   ],
   "source": [
    "# Setting up X and y\n",
    "y = df_all[\"death_yn_Yes\"]\n",
    "X = df_all.drop(['death_yn_Yes','death_yn_No'], 1)\n",
    "print(\"Number of features including dummies: \", len(X.columns))"
   ]
  },
  {
   "cell_type": "markdown",
   "metadata": {},
   "source": [
    "I now have the dataframe set up. Next, a new set of results will be generated based on all of the features. Though, this operation is simplified. "
   ]
  },
  {
   "cell_type": "code",
   "execution_count": 73,
   "metadata": {
    "scrolled": true
   },
   "outputs": [
    {
     "data": {
      "text/html": [
       "<div>\n",
       "<style scoped>\n",
       "    .dataframe tbody tr th:only-of-type {\n",
       "        vertical-align: middle;\n",
       "    }\n",
       "\n",
       "    .dataframe tbody tr th {\n",
       "        vertical-align: top;\n",
       "    }\n",
       "\n",
       "    .dataframe thead th {\n",
       "        text-align: right;\n",
       "    }\n",
       "</style>\n",
       "<table border=\"1\" class=\"dataframe\">\n",
       "  <thead>\n",
       "    <tr style=\"text-align: right;\">\n",
       "      <th></th>\n",
       "      <th>Linear_Regression</th>\n",
       "      <th>Logistic_Regression</th>\n",
       "      <th>Random_Forests</th>\n",
       "    </tr>\n",
       "  </thead>\n",
       "  <tbody>\n",
       "    <tr>\n",
       "      <th>accuracy</th>\n",
       "      <td>0.969529</td>\n",
       "      <td>0.971031</td>\n",
       "      <td>0.970429</td>\n",
       "    </tr>\n",
       "    <tr>\n",
       "      <th>precision</th>\n",
       "      <td>0.431414</td>\n",
       "      <td>0.535939</td>\n",
       "      <td>0.508831</td>\n",
       "    </tr>\n",
       "    <tr>\n",
       "      <th>recall</th>\n",
       "      <td>0.032087</td>\n",
       "      <td>0.229195</td>\n",
       "      <td>0.114368</td>\n",
       "    </tr>\n",
       "    <tr>\n",
       "      <th>f1</th>\n",
       "      <td>0.059155</td>\n",
       "      <td>0.318164</td>\n",
       "      <td>0.183922</td>\n",
       "    </tr>\n",
       "  </tbody>\n",
       "</table>\n",
       "</div>"
      ],
      "text/plain": [
       "           Linear_Regression  Logistic_Regression  Random_Forests\n",
       "accuracy            0.969529             0.971031        0.970429\n",
       "precision           0.431414             0.535939        0.508831\n",
       "recall              0.032087             0.229195        0.114368\n",
       "f1                  0.059155             0.318164        0.183922"
      ]
     },
     "execution_count": 73,
     "metadata": {},
     "output_type": "execute_result"
    }
   ],
   "source": [
    "# Calculate the three models again using all of the features\n",
    "linRegDF = cross_val_LinReg_DF(X,y)\n",
    "logRegDF = cross_validation_logistic(X,y)\n",
    "RandomForestDF = cross_val_RandomForest_DF(X,y)\n",
    "# merge all 3 models into dataframe\n",
    "ResultsDF_allFeatures = pd.concat([linRegDF, logRegDF, RandomForestDF], axis=1)\n",
    "ResultsDF_allFeatures"
   ]
  },
  {
   "cell_type": "markdown",
   "metadata": {},
   "source": [
    "##### Applying high correlation features only"
   ]
  },
  {
   "cell_type": "code",
   "execution_count": 74,
   "metadata": {},
   "outputs": [],
   "source": [
    "high_correlation_features = [ 'age_group_0 - 9 Years', 'age_group_10 - 19 Years', 'age_group_20 - 29 Years', 'age_group_30 - 39 Years', 'age_group_40 - 49 Years', \n",
    "                             'age_group_50 - 59 Years' , 'age_group_60 - 69 Years', 'age_group_70 - 79 Years', 'age_group_80+ Years', 'hosp_yn_No', 'hosp_yn_Unknown', \n",
    "                             'hosp_yn_Yes', 'icu_yn_No', 'icu_yn_Unknown', \n",
    "                             'icu_yn_Yes', 'death_yn_No', 'death_yn_Yes', 'medcond_yn_No', 'medcond_yn_Unknown', 'medcond_yn_Yes',\n",
    "                            'race_ethnicity_combined_American Indian/Alaska Native, Non-Hispanic', 'race_ethnicity_combined_Asian, Non-Hispanic',\n",
    "                             'race_ethnicity_combined_Black, Non-Hispanic', 'race_ethnicity_combined_Hispanic/Latino', 'race_ethnicity_combined_Multiple/Other, Non-Hispanic',\n",
    "                             'race_ethnicity_combined_Native Hawaiian/Other Pacific Islander, Non-Hispanic', 'race_ethnicity_combined_Unknown', 'race_ethnicity_combined_White, Non-Hispanic' ]                                                                           "
   ]
  },
  {
   "cell_type": "code",
   "execution_count": 75,
   "metadata": {},
   "outputs": [],
   "source": [
    "df_highCorr = pd.get_dummies(df)\n",
    "\n",
    "# Dropping cdc_case_earliest_dt\n",
    "df_highCorr = df_highCorr.drop('cdc_case_earliest_dt', 1)"
   ]
  },
  {
   "cell_type": "code",
   "execution_count": 76,
   "metadata": {},
   "outputs": [
    {
     "name": "stdout",
     "output_type": "stream",
     "text": [
      "Number of features:  26\n"
     ]
    }
   ],
   "source": [
    "y = df_highCorr[\"death_yn_Yes\"]\n",
    "X = df_highCorr[high_correlation_features]\n",
    "X = X.drop(['death_yn_Yes','death_yn_No'], 1)\n",
    "print(\"Number of features: \", len(X.columns))"
   ]
  },
  {
   "cell_type": "code",
   "execution_count": 77,
   "metadata": {},
   "outputs": [
    {
     "data": {
      "text/html": [
       "<div>\n",
       "<style scoped>\n",
       "    .dataframe tbody tr th:only-of-type {\n",
       "        vertical-align: middle;\n",
       "    }\n",
       "\n",
       "    .dataframe tbody tr th {\n",
       "        vertical-align: top;\n",
       "    }\n",
       "\n",
       "    .dataframe thead th {\n",
       "        text-align: right;\n",
       "    }\n",
       "</style>\n",
       "<table border=\"1\" class=\"dataframe\">\n",
       "  <thead>\n",
       "    <tr style=\"text-align: right;\">\n",
       "      <th></th>\n",
       "      <th>Linear_Regression</th>\n",
       "      <th>Logistic_Regression</th>\n",
       "      <th>Random_Forests</th>\n",
       "    </tr>\n",
       "  </thead>\n",
       "  <tbody>\n",
       "    <tr>\n",
       "      <th>accuracy</th>\n",
       "      <td>0.969997</td>\n",
       "      <td>0.971331</td>\n",
       "      <td>0.970328</td>\n",
       "    </tr>\n",
       "    <tr>\n",
       "      <th>precision</th>\n",
       "      <td>0.683333</td>\n",
       "      <td>0.545014</td>\n",
       "      <td>0.509394</td>\n",
       "    </tr>\n",
       "    <tr>\n",
       "      <th>recall</th>\n",
       "      <td>0.012114</td>\n",
       "      <td>0.235977</td>\n",
       "      <td>0.167931</td>\n",
       "    </tr>\n",
       "    <tr>\n",
       "      <th>f1</th>\n",
       "      <td>0.023698</td>\n",
       "      <td>0.327587</td>\n",
       "      <td>0.249978</td>\n",
       "    </tr>\n",
       "  </tbody>\n",
       "</table>\n",
       "</div>"
      ],
      "text/plain": [
       "           Linear_Regression  Logistic_Regression  Random_Forests\n",
       "accuracy            0.969997             0.971331        0.970328\n",
       "precision           0.683333             0.545014        0.509394\n",
       "recall              0.012114             0.235977        0.167931\n",
       "f1                  0.023698             0.327587        0.249978"
      ]
     },
     "execution_count": 77,
     "metadata": {},
     "output_type": "execute_result"
    }
   ],
   "source": [
    "# Calculate the three models again using all of the features\n",
    "linRegDF = cross_val_LinReg_DF(X,y)\n",
    "logRegDF = cross_validation_logistic(X,y)\n",
    "RandomForestDF = cross_val_RandomForest_DF(X,y)\n",
    "# merge all 3 models into dataframe\n",
    "ResultsDF_highCorrFeatures = pd.concat([linRegDF, logRegDF, RandomForestDF], axis=1)\n",
    "ResultsDF_highCorrFeatures"
   ]
  },
  {
   "cell_type": "markdown",
   "metadata": {},
   "source": [
    "#### Comparing all of the feature sets so far"
   ]
  },
  {
   "cell_type": "code",
   "execution_count": 78,
   "metadata": {
    "scrolled": false
   },
   "outputs": [
    {
     "name": "stdout",
     "output_type": "stream",
     "text": [
      "\n",
      "Scores using all features:  354 Features\n",
      "           Linear_Regression  Logistic_Regression  Random_Forests\n",
      "accuracy            0.969529             0.971031        0.970429\n",
      "precision           0.431414             0.535939        0.508831\n",
      "recall              0.032087             0.229195        0.114368\n",
      "f1                  0.059155             0.318164        0.183922\n",
      "\n",
      "Scores using subset of features: 21 Features\n",
      "           Linear_Regression  Logistic_Regression  Random_Forests\n",
      "accuracy            0.969997             0.971131        0.969627\n",
      "precision           0.658333             0.539332        0.476745\n",
      "recall              0.013436             0.222414        0.184713\n",
      "f1                  0.026114             0.312748        0.262787\n",
      "\n",
      "Scores using high Correlation features only: 26 Features (using dummies)\n",
      "           Linear_Regression  Logistic_Regression  Random_Forests\n",
      "accuracy            0.969997             0.971331        0.970328\n",
      "precision           0.683333             0.545014        0.509394\n",
      "recall              0.012114             0.235977        0.167931\n",
      "f1                  0.023698             0.327587        0.249978\n"
     ]
    }
   ],
   "source": [
    "print(\"\\nScores using all features:  354 Features\")\n",
    "print(ResultsDF_allFeatures)\n",
    "print(\"\\nScores using subset of features: 21 Features\")\n",
    "print(ResultsDF)\n",
    "print(\"\\nScores using high Correlation features only: 26 Features (using dummies)\")\n",
    "print(ResultsDF_highCorrFeatures)"
   ]
  },
  {
   "cell_type": "markdown",
   "metadata": {},
   "source": [
    "* We can see the that accuracy scores have been consistent throughout. However, as mentioned early in the assignment that while consistent and it is >95%, this is not a true indication as our dataset is skewed. \n",
    "* Along the precision scores, we see that logistic regression and random forest model have been varying between a 2-6% difference with logistic regression's best precision score falling in high correlation features. \n",
    "* While random forest is varying between all_features and only using high correlation features. \n",
    "* Linear regression's precision score has also increased, finding the most success in using high correlation features. \n",
    "* Recall scores across different models are effected differently for each one.\n",
    "* Linear regression has the best recall score when modeled with all of the features with the worst score within the high correlation feature.\n",
    "* Logistic regression has remained almost consistent calling between 22-23% for different implementations. \n",
    "* Lastly, random forests has varying numbers, with a model implemented with all of the features being the poorest performing recall score (11%) and the best one for using the subset features (18%).\n",
    "* The F1 scores, tells us that the % of the weighted average of precision and recall. We see, as it takes the false positives and false negatives, that the logistic regression has the best score amongst the models throughout different scenarios. It remains constant hoevering between 31-32%. This means it has the highest instance of where true negatives and true positives were correctly predicted.\n",
    "* Coming second is random forests as using all of the features had a F1 score of 18 but the remaining scenarios was 24% and 26%."
   ]
  },
  {
   "cell_type": "markdown",
   "metadata": {},
   "source": [
    "##### Further Optimizations\n",
    "* There are two possible options for optimizing linear and logistic regression models:\n",
    "    * Deriving new features (all of the derived features have been proposed in homework 1)\n",
    "    * Further reviewing existing features to find the best combination which has already been done above as demonstrated. \n",
    "* I will focus in the logistic regression model as it gave the best performative scores compared to the other two models. \n",
    "* For optimizing this model I will be using the random forest model and attempt to combine it. The reason why I will not be using Linear Regression model is because it showed poor performance in predicting positive outcomes. As already mentioned before, this was expected. So I will not be using it to further optimize the logistic regression model.\n",
    "* I will attempt to push the boundaries of the module by performing an ensemble method, Voting Classifier. It is another machine learning model that trains a number of models and predicts an output based on their highest probability of chosen class as the output. It does this by aggregating findings of each classifier into the VotingClassifier function and the predicted outcome is based on the majority voting. As this only takes classifier models, Linear regression models will not be used for this method."
   ]
  },
  {
   "cell_type": "markdown",
   "metadata": {},
   "source": [
    "In this section I will:\n",
    "* Create new variables and put the existing fitted models (Logistic and Random Forest).\n",
    "* Create a dictionary that stores this model.\n",
    "* Create VotingClassifier() method using models in the dictionary\n",
    "* Fit it into the training set so that we produce a predictions result. \n",
    "* Print out a mean performative score using cross validation results using 10-fold"
   ]
  },
  {
   "cell_type": "code",
   "execution_count": 79,
   "metadata": {},
   "outputs": [
    {
     "data": {
      "text/plain": [
       "VotingClassifier(estimators=[('log_reg', LogisticRegression()),\n",
       "                             ('rfm_model',\n",
       "                              RandomForestClassifier(oob_score=True,\n",
       "                                                     random_state=1))])"
      ]
     },
     "execution_count": 79,
     "metadata": {},
     "output_type": "execute_result"
    }
   ],
   "source": [
    "# Initializing the existing models\n",
    "logistic_model = multiple_logistic\n",
    "random_forest_model = rfm\n",
    "\n",
    "# Creating a dictionary for the models and create VotingClassifier to fit with training data\n",
    "estimators =[('log_reg', logistic_model), ('rfm_model', random_forest_model)]\n",
    "ensemble=VotingClassifier(estimators, voting='hard')\n",
    "ensemble.fit(X_train, y_train)"
   ]
  },
  {
   "cell_type": "code",
   "execution_count": 80,
   "metadata": {},
   "outputs": [],
   "source": [
    "def cross_val_VotingClassifier_DF(ensemble, X,y, depth=None, estimators=100):\n",
    "\n",
    "    # store results in dict\n",
    "    VotingResults = {}\n",
    "    # metrics to test against\n",
    "    test_metrics = ['accuracy','precision','recall', 'f1']\n",
    "\n",
    "    for metric in test_metrics:\n",
    "        # Generate test results\n",
    "        result = cross_val_score(ensemble, X, y, cv=10, scoring=metric)\n",
    "        # store result in dict\n",
    "        VotingResults[metric] = result.mean()\n",
    "    \n",
    "    # Create dataframe with results\n",
    "    VotingClassifierResults = pd.DataFrame.from_dict(VotingResults, orient='index', columns=['Voting Classifier Results'])\n",
    "\n",
    "    return VotingClassifierResults"
   ]
  },
  {
   "cell_type": "code",
   "execution_count": 81,
   "metadata": {
    "scrolled": true
   },
   "outputs": [
    {
     "data": {
      "text/html": [
       "<div>\n",
       "<style scoped>\n",
       "    .dataframe tbody tr th:only-of-type {\n",
       "        vertical-align: middle;\n",
       "    }\n",
       "\n",
       "    .dataframe tbody tr th {\n",
       "        vertical-align: top;\n",
       "    }\n",
       "\n",
       "    .dataframe thead th {\n",
       "        text-align: right;\n",
       "    }\n",
       "</style>\n",
       "<table border=\"1\" class=\"dataframe\">\n",
       "  <thead>\n",
       "    <tr style=\"text-align: right;\">\n",
       "      <th></th>\n",
       "      <th>Voting Classifier Results</th>\n",
       "    </tr>\n",
       "  </thead>\n",
       "  <tbody>\n",
       "    <tr>\n",
       "      <th>accuracy</th>\n",
       "      <td>0.971532</td>\n",
       "    </tr>\n",
       "    <tr>\n",
       "      <th>precision</th>\n",
       "      <td>0.636190</td>\n",
       "    </tr>\n",
       "    <tr>\n",
       "      <th>recall</th>\n",
       "      <td>0.110920</td>\n",
       "    </tr>\n",
       "    <tr>\n",
       "      <th>f1</th>\n",
       "      <td>0.186341</td>\n",
       "    </tr>\n",
       "  </tbody>\n",
       "</table>\n",
       "</div>"
      ],
      "text/plain": [
       "           Voting Classifier Results\n",
       "accuracy                    0.971532\n",
       "precision                   0.636190\n",
       "recall                      0.110920\n",
       "f1                          0.186341"
      ]
     },
     "execution_count": 81,
     "metadata": {},
     "output_type": "execute_result"
    }
   ],
   "source": [
    "VotingDF = cross_val_VotingClassifier_DF(ensemble,X,y)\n",
    "VotingDF"
   ]
  },
  {
   "cell_type": "markdown",
   "metadata": {},
   "source": [
    "**Conclusion:**\n",
    "<br>\n",
    "We see that this method is not useful for optimization. The recall score and F1 score are poorer compared to previous data meaning that using majority voting is not good for predicting the positive outcome. It is interesting that the precision score is high and the accuracy has once again stayed relatively the same. I will try and optimize the random forest model and take the best and promising features and run it across all models.\n",
    "<br><br>"
   ]
  },
  {
   "cell_type": "code",
   "execution_count": 82,
   "metadata": {},
   "outputs": [
    {
     "name": "stdout",
     "output_type": "stream",
     "text": [
      "Adding Voting Classifier Results to see the differences using subset features.\n"
     ]
    },
    {
     "data": {
      "text/html": [
       "<div>\n",
       "<style scoped>\n",
       "    .dataframe tbody tr th:only-of-type {\n",
       "        vertical-align: middle;\n",
       "    }\n",
       "\n",
       "    .dataframe tbody tr th {\n",
       "        vertical-align: top;\n",
       "    }\n",
       "\n",
       "    .dataframe thead th {\n",
       "        text-align: right;\n",
       "    }\n",
       "</style>\n",
       "<table border=\"1\" class=\"dataframe\">\n",
       "  <thead>\n",
       "    <tr style=\"text-align: right;\">\n",
       "      <th></th>\n",
       "      <th>Linear_Regression</th>\n",
       "      <th>Logistic_Regression</th>\n",
       "      <th>Random_Forests</th>\n",
       "      <th>Voting Classifier Results</th>\n",
       "    </tr>\n",
       "  </thead>\n",
       "  <tbody>\n",
       "    <tr>\n",
       "      <th>accuracy</th>\n",
       "      <td>0.969997</td>\n",
       "      <td>0.971131</td>\n",
       "      <td>0.970328</td>\n",
       "      <td>0.971532</td>\n",
       "    </tr>\n",
       "    <tr>\n",
       "      <th>precision</th>\n",
       "      <td>0.683333</td>\n",
       "      <td>0.539332</td>\n",
       "      <td>0.509394</td>\n",
       "      <td>0.636190</td>\n",
       "    </tr>\n",
       "    <tr>\n",
       "      <th>recall</th>\n",
       "      <td>0.012114</td>\n",
       "      <td>0.222414</td>\n",
       "      <td>0.167931</td>\n",
       "      <td>0.110920</td>\n",
       "    </tr>\n",
       "    <tr>\n",
       "      <th>f1</th>\n",
       "      <td>0.023698</td>\n",
       "      <td>0.312748</td>\n",
       "      <td>0.249978</td>\n",
       "      <td>0.186341</td>\n",
       "    </tr>\n",
       "  </tbody>\n",
       "</table>\n",
       "</div>"
      ],
      "text/plain": [
       "           Linear_Regression  Logistic_Regression  Random_Forests  \\\n",
       "accuracy            0.969997             0.971131        0.970328   \n",
       "precision           0.683333             0.539332        0.509394   \n",
       "recall              0.012114             0.222414        0.167931   \n",
       "f1                  0.023698             0.312748        0.249978   \n",
       "\n",
       "           Voting Classifier Results  \n",
       "accuracy                    0.971532  \n",
       "precision                   0.636190  \n",
       "recall                      0.110920  \n",
       "f1                          0.186341  "
      ]
     },
     "execution_count": 82,
     "metadata": {},
     "output_type": "execute_result"
    }
   ],
   "source": [
    "ResultsDF = pd.concat([linRegDF, logistic_df, RandomForestDF, VotingDF], axis=1)\n",
    "print('Adding Voting Classifier Results to see the differences using subset features.')\n",
    "ResultsDF"
   ]
  },
  {
   "cell_type": "markdown",
   "metadata": {},
   "source": [
    "##### Optimizing Random Forest Model.\n",
    "* This next section will be divided into:\n",
    "    * Optimising Max Depth\n",
    "    * Optimizing the number of estimators\n",
    "    * Optimizing the number of features\n",
    "    * Final review performance of all models so far"
   ]
  },
  {
   "cell_type": "markdown",
   "metadata": {},
   "source": [
    "**Optimizing Max Depth**"
   ]
  },
  {
   "cell_type": "code",
   "execution_count": 83,
   "metadata": {},
   "outputs": [
    {
     "data": {
      "text/html": [
       "<div>\n",
       "<style scoped>\n",
       "    .dataframe tbody tr th:only-of-type {\n",
       "        vertical-align: middle;\n",
       "    }\n",
       "\n",
       "    .dataframe tbody tr th {\n",
       "        vertical-align: top;\n",
       "    }\n",
       "\n",
       "    .dataframe thead th {\n",
       "        text-align: right;\n",
       "    }\n",
       "</style>\n",
       "<table border=\"1\" class=\"dataframe\">\n",
       "  <thead>\n",
       "    <tr style=\"text-align: right;\">\n",
       "      <th></th>\n",
       "      <th>depth=1</th>\n",
       "      <th>depth=2</th>\n",
       "      <th>depth=3</th>\n",
       "      <th>depth=4</th>\n",
       "      <th>depth=5</th>\n",
       "      <th>depth=6</th>\n",
       "      <th>depth=7</th>\n",
       "      <th>depth=8</th>\n",
       "      <th>depth=9</th>\n",
       "      <th>depth=10</th>\n",
       "      <th>no_max_depth</th>\n",
       "    </tr>\n",
       "  </thead>\n",
       "  <tbody>\n",
       "    <tr>\n",
       "      <th>accuracy</th>\n",
       "      <td>0.970229</td>\n",
       "      <td>0.970229</td>\n",
       "      <td>0.970229</td>\n",
       "      <td>0.970229</td>\n",
       "      <td>0.970429</td>\n",
       "      <td>0.970530</td>\n",
       "      <td>0.971131</td>\n",
       "      <td>0.971331</td>\n",
       "      <td>0.971632</td>\n",
       "      <td>0.971832</td>\n",
       "      <td>0.970129</td>\n",
       "    </tr>\n",
       "    <tr>\n",
       "      <th>precision</th>\n",
       "      <td>0.000000</td>\n",
       "      <td>0.000000</td>\n",
       "      <td>0.000000</td>\n",
       "      <td>0.000000</td>\n",
       "      <td>0.200000</td>\n",
       "      <td>0.366667</td>\n",
       "      <td>0.706667</td>\n",
       "      <td>0.682738</td>\n",
       "      <td>0.608929</td>\n",
       "      <td>0.610794</td>\n",
       "      <td>0.519286</td>\n",
       "    </tr>\n",
       "    <tr>\n",
       "      <th>recall</th>\n",
       "      <td>0.000000</td>\n",
       "      <td>0.000000</td>\n",
       "      <td>0.000000</td>\n",
       "      <td>0.000000</td>\n",
       "      <td>0.006782</td>\n",
       "      <td>0.020230</td>\n",
       "      <td>0.060575</td>\n",
       "      <td>0.090920</td>\n",
       "      <td>0.127816</td>\n",
       "      <td>0.157816</td>\n",
       "      <td>0.232184</td>\n",
       "    </tr>\n",
       "    <tr>\n",
       "      <th>f1</th>\n",
       "      <td>0.000000</td>\n",
       "      <td>0.000000</td>\n",
       "      <td>0.000000</td>\n",
       "      <td>0.000000</td>\n",
       "      <td>0.013118</td>\n",
       "      <td>0.037955</td>\n",
       "      <td>0.110518</td>\n",
       "      <td>0.155537</td>\n",
       "      <td>0.207695</td>\n",
       "      <td>0.246530</td>\n",
       "      <td>0.315200</td>\n",
       "    </tr>\n",
       "  </tbody>\n",
       "</table>\n",
       "</div>"
      ],
      "text/plain": [
       "            depth=1   depth=2   depth=3   depth=4   depth=5   depth=6  \\\n",
       "accuracy   0.970229  0.970229  0.970229  0.970229  0.970429  0.970530   \n",
       "precision  0.000000  0.000000  0.000000  0.000000  0.200000  0.366667   \n",
       "recall     0.000000  0.000000  0.000000  0.000000  0.006782  0.020230   \n",
       "f1         0.000000  0.000000  0.000000  0.000000  0.013118  0.037955   \n",
       "\n",
       "            depth=7   depth=8   depth=9  depth=10  no_max_depth  \n",
       "accuracy   0.971131  0.971331  0.971632  0.971832      0.970129  \n",
       "precision  0.706667  0.682738  0.608929  0.610794      0.519286  \n",
       "recall     0.060575  0.090920  0.127816  0.157816      0.232184  \n",
       "f1         0.110518  0.155537  0.207695  0.246530      0.315200  "
      ]
     },
     "execution_count": 83,
     "metadata": {},
     "output_type": "execute_result"
    }
   ],
   "source": [
    "df_rfm = pd.get_dummies(df)\n",
    "\n",
    "# Dropping cdc_case_earliest_dt\n",
    "df_rfm  = df_rfm .drop('cdc_case_earliest_dt', 1)\n",
    "y = df_rfm['death_yn_Yes']\n",
    "X = df_rfm.drop(['death_yn_Yes', 'death_yn_No'],1)\n",
    "\n",
    "# Create empty DataFrame\n",
    "RandomForest_Depth = pd.DataFrame()\n",
    "\n",
    "# calculate cross val score incrementing max depth by 1 each iteration\n",
    "for number in range(1,11):\n",
    "    df1 = cross_val_RandomForest_DF(X,y,number)\n",
    "    df1.rename(columns={'Random_Forests':f'depth={number}'}, inplace=True)\n",
    "    RandomForest_Depth = pd.concat([RandomForest_Depth, df1], axis=1)\n",
    "\n",
    "# Calculating the same calculations.\n",
    "no_max_depth = cross_val_RandomForest_DF(X,y)\n",
    "no_max_depth.rename(columns={'Random_Forests':f'no_max_depth'}, inplace=True)\n",
    "RandomForest_Depth = pd.concat([RandomForest_Depth, no_max_depth], axis=1)\n",
    "RandomForest_Depth"
   ]
  },
  {
   "cell_type": "markdown",
   "metadata": {},
   "source": [
    "Looking at the results above we see the performative scores from depth 1-4 is 0.0. The depth that seems to be at depth 10. As we have promising results from the precision score, the recall score is still low at 15%, and F1 score at 24%. However having no_max_depth also gives us a higher performative score meaning that max_depth=None may give us better results for our model."
   ]
  },
  {
   "cell_type": "markdown",
   "metadata": {},
   "source": [
    "**Optimizing number of estimators**"
   ]
  },
  {
   "cell_type": "code",
   "execution_count": 84,
   "metadata": {},
   "outputs": [
    {
     "data": {
      "text/html": [
       "<div>\n",
       "<style scoped>\n",
       "    .dataframe tbody tr th:only-of-type {\n",
       "        vertical-align: middle;\n",
       "    }\n",
       "\n",
       "    .dataframe tbody tr th {\n",
       "        vertical-align: top;\n",
       "    }\n",
       "\n",
       "    .dataframe thead th {\n",
       "        text-align: right;\n",
       "    }\n",
       "</style>\n",
       "<table border=\"1\" class=\"dataframe\">\n",
       "  <thead>\n",
       "    <tr style=\"text-align: right;\">\n",
       "      <th></th>\n",
       "      <th>estimators=1</th>\n",
       "      <th>estimators=2</th>\n",
       "      <th>estimators=4</th>\n",
       "      <th>estimators=8</th>\n",
       "      <th>estimators=16</th>\n",
       "      <th>estimators=32</th>\n",
       "      <th>estimators=64</th>\n",
       "      <th>estimators=100</th>\n",
       "      <th>estimators=200</th>\n",
       "    </tr>\n",
       "  </thead>\n",
       "  <tbody>\n",
       "    <tr>\n",
       "      <th>accuracy</th>\n",
       "      <td>0.960205</td>\n",
       "      <td>0.969227</td>\n",
       "      <td>0.968826</td>\n",
       "      <td>0.970329</td>\n",
       "      <td>0.969627</td>\n",
       "      <td>0.970229</td>\n",
       "      <td>0.970529</td>\n",
       "      <td>0.970429</td>\n",
       "      <td>0.970730</td>\n",
       "    </tr>\n",
       "    <tr>\n",
       "      <th>precision</th>\n",
       "      <td>0.305601</td>\n",
       "      <td>0.412619</td>\n",
       "      <td>0.321840</td>\n",
       "      <td>0.531335</td>\n",
       "      <td>0.476349</td>\n",
       "      <td>0.489762</td>\n",
       "      <td>0.533333</td>\n",
       "      <td>0.508831</td>\n",
       "      <td>0.532491</td>\n",
       "    </tr>\n",
       "    <tr>\n",
       "      <th>recall</th>\n",
       "      <td>0.262759</td>\n",
       "      <td>0.074253</td>\n",
       "      <td>0.087126</td>\n",
       "      <td>0.127816</td>\n",
       "      <td>0.114138</td>\n",
       "      <td>0.107701</td>\n",
       "      <td>0.107471</td>\n",
       "      <td>0.114368</td>\n",
       "      <td>0.117586</td>\n",
       "    </tr>\n",
       "    <tr>\n",
       "      <th>f1</th>\n",
       "      <td>0.281416</td>\n",
       "      <td>0.119345</td>\n",
       "      <td>0.133411</td>\n",
       "      <td>0.202523</td>\n",
       "      <td>0.180970</td>\n",
       "      <td>0.174602</td>\n",
       "      <td>0.175016</td>\n",
       "      <td>0.183922</td>\n",
       "      <td>0.187461</td>\n",
       "    </tr>\n",
       "  </tbody>\n",
       "</table>\n",
       "</div>"
      ],
      "text/plain": [
       "           estimators=1  estimators=2  estimators=4  estimators=8  \\\n",
       "accuracy       0.960205      0.969227      0.968826      0.970329   \n",
       "precision      0.305601      0.412619      0.321840      0.531335   \n",
       "recall         0.262759      0.074253      0.087126      0.127816   \n",
       "f1             0.281416      0.119345      0.133411      0.202523   \n",
       "\n",
       "           estimators=16  estimators=32  estimators=64  estimators=100  \\\n",
       "accuracy        0.969627       0.970229       0.970529        0.970429   \n",
       "precision       0.476349       0.489762       0.533333        0.508831   \n",
       "recall          0.114138       0.107701       0.107471        0.114368   \n",
       "f1              0.180970       0.174602       0.175016        0.183922   \n",
       "\n",
       "           estimators=200  \n",
       "accuracy         0.970730  \n",
       "precision        0.532491  \n",
       "recall           0.117586  \n",
       "f1               0.187461  "
      ]
     },
     "execution_count": 84,
     "metadata": {},
     "output_type": "execute_result"
    }
   ],
   "source": [
    "df_rfm = pd.get_dummies(df)\n",
    "\n",
    "# Dropping cdc_case_earliest_dt\n",
    "df_rfm  = df_rfm .drop('cdc_case_earliest_dt', 1)\n",
    "df_rfm  = pd.concat([df_rfm , cdc_dummies], axis=1)\n",
    "y = df_rfm['death_yn_Yes']\n",
    "X = df_rfm.drop(['death_yn_Yes', 'death_yn_No'],1)\n",
    "\n",
    "# initialised empty daraframe\n",
    "RandomForest_Estimators = pd.DataFrame()\n",
    "\n",
    "n_estimators = [1, 2, 4, 8, 16, 32, 64, 100, 200]\n",
    "\n",
    "for item in n_estimators:\n",
    "    df1 = cross_val_RandomForest_DF(X,y,estimators=item)\n",
    "    df1.rename(columns={'Random_Forests':f'estimators={item}'}, inplace=True)\n",
    "    RandomForest_Estimators = pd.concat([RandomForest_Estimators, df1], axis=1)\n",
    "\n",
    "RandomForest_Estimators"
   ]
  },
  {
   "cell_type": "markdown",
   "metadata": {},
   "source": [
    "From above, we see the accuracy stays consistent as the estimators increase. This is already expected and did not expect for it go get higher or lower because initially we already had been getting consistent accuracy scores throughout the models. The precision scores, recall and F1 scores also improve as the number of estimators increase. I had hoped the recall/F1 score to increase after 100 estimators but it seems to be constant at 100. Therfore I will keep the number of estimators at the default of 100. "
   ]
  },
  {
   "cell_type": "markdown",
   "metadata": {},
   "source": [
    "**Optimize number of features**"
   ]
  },
  {
   "cell_type": "code",
   "execution_count": 85,
   "metadata": {},
   "outputs": [
    {
     "data": {
      "text/html": [
       "<div>\n",
       "<style scoped>\n",
       "    .dataframe tbody tr th:only-of-type {\n",
       "        vertical-align: middle;\n",
       "    }\n",
       "\n",
       "    .dataframe tbody tr th {\n",
       "        vertical-align: top;\n",
       "    }\n",
       "\n",
       "    .dataframe thead th {\n",
       "        text-align: right;\n",
       "    }\n",
       "</style>\n",
       "<table border=\"1\" class=\"dataframe\">\n",
       "  <thead>\n",
       "    <tr style=\"text-align: right;\">\n",
       "      <th></th>\n",
       "      <th>importance</th>\n",
       "    </tr>\n",
       "    <tr>\n",
       "      <th>feature</th>\n",
       "      <th></th>\n",
       "    </tr>\n",
       "  </thead>\n",
       "  <tbody>\n",
       "    <tr>\n",
       "      <th>age_group_80+ Years</th>\n",
       "      <td>0.177566</td>\n",
       "    </tr>\n",
       "    <tr>\n",
       "      <th>hosp_yn_Yes</th>\n",
       "      <td>0.069273</td>\n",
       "    </tr>\n",
       "    <tr>\n",
       "      <th>icu_yn_Yes</th>\n",
       "      <td>0.053754</td>\n",
       "    </tr>\n",
       "    <tr>\n",
       "      <th>medcond_yn_Yes</th>\n",
       "      <td>0.050038</td>\n",
       "    </tr>\n",
       "    <tr>\n",
       "      <th>race_ethnicity_combined_White, Non-Hispanic</th>\n",
       "      <td>0.045207</td>\n",
       "    </tr>\n",
       "    <tr>\n",
       "      <th>sex_Male</th>\n",
       "      <td>0.041463</td>\n",
       "    </tr>\n",
       "    <tr>\n",
       "      <th>hosp_yn_No</th>\n",
       "      <td>0.040622</td>\n",
       "    </tr>\n",
       "    <tr>\n",
       "      <th>sex_Female</th>\n",
       "      <td>0.040493</td>\n",
       "    </tr>\n",
       "    <tr>\n",
       "      <th>onset_missing_ind_0</th>\n",
       "      <td>0.039639</td>\n",
       "    </tr>\n",
       "    <tr>\n",
       "      <th>age_group_70 - 79 Years</th>\n",
       "      <td>0.037936</td>\n",
       "    </tr>\n",
       "    <tr>\n",
       "      <th>race_ethnicity_combined_Unknown</th>\n",
       "      <td>0.037503</td>\n",
       "    </tr>\n",
       "    <tr>\n",
       "      <th>onset_missing_ind_1</th>\n",
       "      <td>0.035497</td>\n",
       "    </tr>\n",
       "    <tr>\n",
       "      <th>medcond_yn_Unknown</th>\n",
       "      <td>0.034755</td>\n",
       "    </tr>\n",
       "    <tr>\n",
       "      <th>race_ethnicity_combined_Black, Non-Hispanic</th>\n",
       "      <td>0.030719</td>\n",
       "    </tr>\n",
       "    <tr>\n",
       "      <th>hosp_yn_Unknown</th>\n",
       "      <td>0.029776</td>\n",
       "    </tr>\n",
       "    <tr>\n",
       "      <th>age_group_60 - 69 Years</th>\n",
       "      <td>0.029066</td>\n",
       "    </tr>\n",
       "    <tr>\n",
       "      <th>icu_yn_No</th>\n",
       "      <td>0.027921</td>\n",
       "    </tr>\n",
       "    <tr>\n",
       "      <th>icu_yn_Unknown</th>\n",
       "      <td>0.027850</td>\n",
       "    </tr>\n",
       "    <tr>\n",
       "      <th>race_ethnicity_combined_Hispanic/Latino</th>\n",
       "      <td>0.023868</td>\n",
       "    </tr>\n",
       "    <tr>\n",
       "      <th>age_group_50 - 59 Years</th>\n",
       "      <td>0.019165</td>\n",
       "    </tr>\n",
       "    <tr>\n",
       "      <th>race_ethnicity_combined_Multiple/Other, Non-Hispanic</th>\n",
       "      <td>0.018207</td>\n",
       "    </tr>\n",
       "    <tr>\n",
       "      <th>current_status_Probable Case</th>\n",
       "      <td>0.016557</td>\n",
       "    </tr>\n",
       "    <tr>\n",
       "      <th>current_status_Laboratory-confirmed case</th>\n",
       "      <td>0.015925</td>\n",
       "    </tr>\n",
       "    <tr>\n",
       "      <th>age_group_40 - 49 Years</th>\n",
       "      <td>0.013695</td>\n",
       "    </tr>\n",
       "    <tr>\n",
       "      <th>age_group_30 - 39 Years</th>\n",
       "      <td>0.009436</td>\n",
       "    </tr>\n",
       "    <tr>\n",
       "      <th>race_ethnicity_combined_Asian, Non-Hispanic</th>\n",
       "      <td>0.008835</td>\n",
       "    </tr>\n",
       "    <tr>\n",
       "      <th>age_group_20 - 29 Years</th>\n",
       "      <td>0.008213</td>\n",
       "    </tr>\n",
       "    <tr>\n",
       "      <th>medcond_yn_No</th>\n",
       "      <td>0.007776</td>\n",
       "    </tr>\n",
       "    <tr>\n",
       "      <th>sex_Unknown</th>\n",
       "      <td>0.003140</td>\n",
       "    </tr>\n",
       "    <tr>\n",
       "      <th>age_group_10 - 19 Years</th>\n",
       "      <td>0.002744</td>\n",
       "    </tr>\n",
       "    <tr>\n",
       "      <th>age_group_0 - 9 Years</th>\n",
       "      <td>0.002711</td>\n",
       "    </tr>\n",
       "    <tr>\n",
       "      <th>race_ethnicity_combined_American Indian/Alaska Native, Non-Hispanic</th>\n",
       "      <td>0.000586</td>\n",
       "    </tr>\n",
       "    <tr>\n",
       "      <th>race_ethnicity_combined_Native Hawaiian/Other Pacific Islander, Non-Hispanic</th>\n",
       "      <td>0.000062</td>\n",
       "    </tr>\n",
       "  </tbody>\n",
       "</table>\n",
       "</div>"
      ],
      "text/plain": [
       "                                                    importance\n",
       "feature                                                       \n",
       "age_group_80+ Years                                   0.177566\n",
       "hosp_yn_Yes                                           0.069273\n",
       "icu_yn_Yes                                            0.053754\n",
       "medcond_yn_Yes                                        0.050038\n",
       "race_ethnicity_combined_White, Non-Hispanic           0.045207\n",
       "sex_Male                                              0.041463\n",
       "hosp_yn_No                                            0.040622\n",
       "sex_Female                                            0.040493\n",
       "onset_missing_ind_0                                   0.039639\n",
       "age_group_70 - 79 Years                               0.037936\n",
       "race_ethnicity_combined_Unknown                       0.037503\n",
       "onset_missing_ind_1                                   0.035497\n",
       "medcond_yn_Unknown                                    0.034755\n",
       "race_ethnicity_combined_Black, Non-Hispanic           0.030719\n",
       "hosp_yn_Unknown                                       0.029776\n",
       "age_group_60 - 69 Years                               0.029066\n",
       "icu_yn_No                                             0.027921\n",
       "icu_yn_Unknown                                        0.027850\n",
       "race_ethnicity_combined_Hispanic/Latino               0.023868\n",
       "age_group_50 - 59 Years                               0.019165\n",
       "race_ethnicity_combined_Multiple/Other, Non-His...    0.018207\n",
       "current_status_Probable Case                          0.016557\n",
       "current_status_Laboratory-confirmed case              0.015925\n",
       "age_group_40 - 49 Years                               0.013695\n",
       "age_group_30 - 39 Years                               0.009436\n",
       "race_ethnicity_combined_Asian, Non-Hispanic           0.008835\n",
       "age_group_20 - 29 Years                               0.008213\n",
       "medcond_yn_No                                         0.007776\n",
       "sex_Unknown                                           0.003140\n",
       "age_group_10 - 19 Years                               0.002744\n",
       "age_group_0 - 9 Years                                 0.002711\n",
       "race_ethnicity_combined_American Indian/Alaska ...    0.000586\n",
       "race_ethnicity_combined_Native Hawaiian/Other P...    0.000062"
      ]
     },
     "execution_count": 85,
     "metadata": {},
     "output_type": "execute_result"
    }
   ],
   "source": [
    "# setup dataframe\n",
    "df_rfm = pd.get_dummies(df)\n",
    "\n",
    "# Dropping cdc_case_earliest_dt\n",
    "df_rfm  = df_rfm .drop('cdc_case_earliest_dt', 1)\n",
    "y = df_rfm['death_yn_Yes']\n",
    "X = df_rfm.drop(['death_yn_Yes', 'death_yn_No'],1)\n",
    "X_train, X_test, y_train, y_test = train_test_split(X, y, random_state=1 , test_size=0.3)\n",
    "\n",
    "# Train RF with 100 trees\n",
    "rfc = RandomForestClassifier(n_estimators=100, max_features='auto', oob_score=True, random_state=1)\n",
    "rfc.fit(X_train, y_train)\n",
    "importance = pd.DataFrame({'feature': X_train.columns, 'importance':rfc.feature_importances_})\n",
    "importance.sort_values('importance', ascending=False, inplace=True)\n",
    "importance.set_index('feature',1, inplace=True)\n",
    "importance"
   ]
  },
  {
   "cell_type": "markdown",
   "metadata": {},
   "source": [
    "* There are 33 features in total, which is more as they are dummy features.\n",
    "* Here, I will only calculate the top 22 features that we can see from the importance dataframe. "
   ]
  },
  {
   "cell_type": "code",
   "execution_count": 86,
   "metadata": {
    "scrolled": true
   },
   "outputs": [
    {
     "data": {
      "text/html": [
       "<div>\n",
       "<style scoped>\n",
       "    .dataframe tbody tr th:only-of-type {\n",
       "        vertical-align: middle;\n",
       "    }\n",
       "\n",
       "    .dataframe tbody tr th {\n",
       "        vertical-align: top;\n",
       "    }\n",
       "\n",
       "    .dataframe thead th {\n",
       "        text-align: right;\n",
       "    }\n",
       "</style>\n",
       "<table border=\"1\" class=\"dataframe\">\n",
       "  <thead>\n",
       "    <tr style=\"text-align: right;\">\n",
       "      <th></th>\n",
       "      <th>features=1</th>\n",
       "      <th>features=2</th>\n",
       "      <th>features=3</th>\n",
       "      <th>features=4</th>\n",
       "      <th>features=5</th>\n",
       "      <th>features=6</th>\n",
       "      <th>features=7</th>\n",
       "      <th>features=8</th>\n",
       "      <th>features=9</th>\n",
       "      <th>features=10</th>\n",
       "      <th>...</th>\n",
       "      <th>features=13</th>\n",
       "      <th>features=14</th>\n",
       "      <th>features=15</th>\n",
       "      <th>features=16</th>\n",
       "      <th>features=17</th>\n",
       "      <th>features=18</th>\n",
       "      <th>features=19</th>\n",
       "      <th>features=20</th>\n",
       "      <th>features=21</th>\n",
       "      <th>features=22</th>\n",
       "    </tr>\n",
       "  </thead>\n",
       "  <tbody>\n",
       "    <tr>\n",
       "      <th>accuracy</th>\n",
       "      <td>0.970229</td>\n",
       "      <td>0.970229</td>\n",
       "      <td>0.969226</td>\n",
       "      <td>0.970329</td>\n",
       "      <td>0.970830</td>\n",
       "      <td>0.972033</td>\n",
       "      <td>0.971632</td>\n",
       "      <td>0.971231</td>\n",
       "      <td>0.971231</td>\n",
       "      <td>0.970829</td>\n",
       "      <td>...</td>\n",
       "      <td>0.971231</td>\n",
       "      <td>0.971531</td>\n",
       "      <td>0.971331</td>\n",
       "      <td>0.971331</td>\n",
       "      <td>0.972634</td>\n",
       "      <td>0.972133</td>\n",
       "      <td>0.971932</td>\n",
       "      <td>0.971832</td>\n",
       "      <td>0.971431</td>\n",
       "      <td>0.971431</td>\n",
       "    </tr>\n",
       "    <tr>\n",
       "      <th>precision</th>\n",
       "      <td>0.000000</td>\n",
       "      <td>0.000000</td>\n",
       "      <td>0.185357</td>\n",
       "      <td>0.533700</td>\n",
       "      <td>0.571032</td>\n",
       "      <td>0.600924</td>\n",
       "      <td>0.578196</td>\n",
       "      <td>0.561530</td>\n",
       "      <td>0.592395</td>\n",
       "      <td>0.560249</td>\n",
       "      <td>...</td>\n",
       "      <td>0.596111</td>\n",
       "      <td>0.717738</td>\n",
       "      <td>0.685833</td>\n",
       "      <td>0.610833</td>\n",
       "      <td>0.746548</td>\n",
       "      <td>0.731667</td>\n",
       "      <td>0.726905</td>\n",
       "      <td>0.760000</td>\n",
       "      <td>0.796667</td>\n",
       "      <td>0.770000</td>\n",
       "    </tr>\n",
       "    <tr>\n",
       "      <th>recall</th>\n",
       "      <td>0.000000</td>\n",
       "      <td>0.000000</td>\n",
       "      <td>0.057471</td>\n",
       "      <td>0.117701</td>\n",
       "      <td>0.137701</td>\n",
       "      <td>0.178391</td>\n",
       "      <td>0.158046</td>\n",
       "      <td>0.141264</td>\n",
       "      <td>0.134713</td>\n",
       "      <td>0.127816</td>\n",
       "      <td>...</td>\n",
       "      <td>0.114483</td>\n",
       "      <td>0.097471</td>\n",
       "      <td>0.087471</td>\n",
       "      <td>0.110920</td>\n",
       "      <td>0.127816</td>\n",
       "      <td>0.110920</td>\n",
       "      <td>0.107701</td>\n",
       "      <td>0.094253</td>\n",
       "      <td>0.067356</td>\n",
       "      <td>0.067356</td>\n",
       "    </tr>\n",
       "    <tr>\n",
       "      <th>f1</th>\n",
       "      <td>0.000000</td>\n",
       "      <td>0.000000</td>\n",
       "      <td>0.085461</td>\n",
       "      <td>0.189456</td>\n",
       "      <td>0.215799</td>\n",
       "      <td>0.272882</td>\n",
       "      <td>0.244000</td>\n",
       "      <td>0.221354</td>\n",
       "      <td>0.215249</td>\n",
       "      <td>0.205273</td>\n",
       "      <td>...</td>\n",
       "      <td>0.189271</td>\n",
       "      <td>0.167803</td>\n",
       "      <td>0.151556</td>\n",
       "      <td>0.185688</td>\n",
       "      <td>0.215390</td>\n",
       "      <td>0.189297</td>\n",
       "      <td>0.183703</td>\n",
       "      <td>0.163158</td>\n",
       "      <td>0.120942</td>\n",
       "      <td>0.121423</td>\n",
       "    </tr>\n",
       "  </tbody>\n",
       "</table>\n",
       "<p>4 rows × 22 columns</p>\n",
       "</div>"
      ],
      "text/plain": [
       "           features=1  features=2  features=3  features=4  features=5  \\\n",
       "accuracy     0.970229    0.970229    0.969226    0.970329    0.970830   \n",
       "precision    0.000000    0.000000    0.185357    0.533700    0.571032   \n",
       "recall       0.000000    0.000000    0.057471    0.117701    0.137701   \n",
       "f1           0.000000    0.000000    0.085461    0.189456    0.215799   \n",
       "\n",
       "           features=6  features=7  features=8  features=9  features=10  ...  \\\n",
       "accuracy     0.972033    0.971632    0.971231    0.971231     0.970829  ...   \n",
       "precision    0.600924    0.578196    0.561530    0.592395     0.560249  ...   \n",
       "recall       0.178391    0.158046    0.141264    0.134713     0.127816  ...   \n",
       "f1           0.272882    0.244000    0.221354    0.215249     0.205273  ...   \n",
       "\n",
       "           features=13  features=14  features=15  features=16  features=17  \\\n",
       "accuracy      0.971231     0.971531     0.971331     0.971331     0.972634   \n",
       "precision     0.596111     0.717738     0.685833     0.610833     0.746548   \n",
       "recall        0.114483     0.097471     0.087471     0.110920     0.127816   \n",
       "f1            0.189271     0.167803     0.151556     0.185688     0.215390   \n",
       "\n",
       "           features=18  features=19  features=20  features=21  features=22  \n",
       "accuracy      0.972133     0.971932     0.971832     0.971431     0.971431  \n",
       "precision     0.731667     0.726905     0.760000     0.796667     0.770000  \n",
       "recall        0.110920     0.107701     0.094253     0.067356     0.067356  \n",
       "f1            0.189297     0.183703     0.163158     0.120942     0.121423  \n",
       "\n",
       "[4 rows x 22 columns]"
      ]
     },
     "execution_count": 86,
     "metadata": {},
     "output_type": "execute_result"
    }
   ],
   "source": [
    "list_features = []\n",
    "\n",
    "RandomForest_Features = pd.DataFrame()\n",
    "count=0\n",
    "\n",
    "# Each loop appends result to RandomForest_Features dataframe\n",
    "for index, row in importance.iterrows():\n",
    "    if count < 22:\n",
    "        list_features.append(index)\n",
    "        X = df_all[list_features]\n",
    "        df1 = cross_val_RandomForest_DF(X,y, depth=6)\n",
    "        df1.rename(columns={'Random_Forests':f'features={len(list_features)}'}, inplace=True)\n",
    "        RandomForest_Features = pd.concat([RandomForest_Features, df1], axis=1)\n",
    "        count+=1\n",
    "    else:\n",
    "        break\n",
    "\n",
    "RandomForest_Features  "
   ]
  },
  {
   "cell_type": "markdown",
   "metadata": {},
   "source": [
    "Here we see that after six features, the performative scores (except accuracy) stabilises then starts to decrease. Therefore it is wise to trim the model to the optimum number of features i.e. 6 features.\n",
    "* It is worth noting that the observations score that to decrease the more features are being used. It is interesting to see in the new importance dataframe that sex_male is one of the top 6 features. \n",
    "* age_group_80+ years has the highest importance value and so is hosp_yn_Yes whic is still the top two features, similar to part 1."
   ]
  },
  {
   "cell_type": "code",
   "execution_count": 87,
   "metadata": {},
   "outputs": [],
   "source": [
    "# Setting a list of optimum features\n",
    "optimum_features = list_features[0:6]"
   ]
  },
  {
   "cell_type": "markdown",
   "metadata": {},
   "source": [
    "  **Reviewing the performance of all models on what we have gathered so far**"
   ]
  },
  {
   "cell_type": "code",
   "execution_count": 88,
   "metadata": {},
   "outputs": [
    {
     "name": "stdout",
     "output_type": "stream",
     "text": [
      "Number of features:  6 \n",
      "\n"
     ]
    },
    {
     "data": {
      "text/html": [
       "<div>\n",
       "<style scoped>\n",
       "    .dataframe tbody tr th:only-of-type {\n",
       "        vertical-align: middle;\n",
       "    }\n",
       "\n",
       "    .dataframe tbody tr th {\n",
       "        vertical-align: top;\n",
       "    }\n",
       "\n",
       "    .dataframe thead th {\n",
       "        text-align: right;\n",
       "    }\n",
       "</style>\n",
       "<table border=\"1\" class=\"dataframe\">\n",
       "  <thead>\n",
       "    <tr style=\"text-align: right;\">\n",
       "      <th></th>\n",
       "      <th>Linear_Regression</th>\n",
       "      <th>Logistic_Regression</th>\n",
       "      <th>Random_Forests</th>\n",
       "    </tr>\n",
       "  </thead>\n",
       "  <tbody>\n",
       "    <tr>\n",
       "      <th>accuracy</th>\n",
       "      <td>0.970097</td>\n",
       "      <td>0.970529</td>\n",
       "      <td>0.972033</td>\n",
       "    </tr>\n",
       "    <tr>\n",
       "      <th>precision</th>\n",
       "      <td>0.558333</td>\n",
       "      <td>0.508819</td>\n",
       "      <td>0.600924</td>\n",
       "    </tr>\n",
       "    <tr>\n",
       "      <th>recall</th>\n",
       "      <td>0.016794</td>\n",
       "      <td>0.202184</td>\n",
       "      <td>0.178391</td>\n",
       "    </tr>\n",
       "    <tr>\n",
       "      <th>f1</th>\n",
       "      <td>0.032440</td>\n",
       "      <td>0.285691</td>\n",
       "      <td>0.272882</td>\n",
       "    </tr>\n",
       "  </tbody>\n",
       "</table>\n",
       "</div>"
      ],
      "text/plain": [
       "           Linear_Regression  Logistic_Regression  Random_Forests\n",
       "accuracy            0.970097             0.970529        0.972033\n",
       "precision           0.558333             0.508819        0.600924\n",
       "recall              0.016794             0.202184        0.178391\n",
       "f1                  0.032440             0.285691        0.272882"
      ]
     },
     "execution_count": 88,
     "metadata": {},
     "output_type": "execute_result"
    }
   ],
   "source": [
    "df_optimum_features = pd.get_dummies(df)\n",
    "y = df_optimum_features[\"death_yn_Yes\"]\n",
    "X = df_optimum_features[optimum_features]\n",
    "print(\"Number of features: \", len(X.columns), '\\n')\n",
    "\n",
    "# Calculate the three models again for reviewing\n",
    "linRegDF = cross_val_LinReg_DF(X,y)\n",
    "logRegDF = cross_validation_logistic(X,y)\n",
    "RandomForestDF = cross_val_RandomForest_DF(X,y,depth=6,estimators=100)\n",
    "# Merging the existing dataframes\n",
    "ResultsDF_optimum_features = pd.concat([linRegDF, logRegDF, RandomForestDF], axis=1)\n",
    "ResultsDF_optimum_features"
   ]
  },
  {
   "cell_type": "code",
   "execution_count": 89,
   "metadata": {},
   "outputs": [
    {
     "name": "stdout",
     "output_type": "stream",
     "text": [
      "\n",
      "Scores using all features:\n",
      "           Linear_Regression  Logistic_Regression  Random_Forests\n",
      "accuracy            0.969529             0.971031        0.970429\n",
      "precision           0.431414             0.535939        0.508831\n",
      "recall              0.032087             0.229195        0.114368\n",
      "f1                  0.059155             0.318164        0.183922\n",
      "\n",
      "Scores using subset of features:\n",
      "           Linear_Regression  Logistic_Regression  Random_Forests  \\\n",
      "accuracy            0.969997             0.971131        0.970328   \n",
      "precision           0.683333             0.539332        0.509394   \n",
      "recall              0.012114             0.222414        0.167931   \n",
      "f1                  0.023698             0.312748        0.249978   \n",
      "\n",
      "           Voting Classifier Results  \n",
      "accuracy                    0.971532  \n",
      "precision                   0.636190  \n",
      "recall                      0.110920  \n",
      "f1                          0.186341  \n",
      "\n",
      "Scores using high Correlation features:\n",
      "           Linear_Regression  Logistic_Regression  Random_Forests\n",
      "accuracy            0.969997             0.971331        0.970328\n",
      "precision           0.683333             0.545014        0.509394\n",
      "recall              0.012114             0.235977        0.167931\n",
      "f1                  0.023698             0.327587        0.249978\n",
      "\n",
      "Scores using optimum features:\n",
      "           Linear_Regression  Logistic_Regression  Random_Forests\n",
      "accuracy            0.970097             0.970529        0.972033\n",
      "precision           0.558333             0.508819        0.600924\n",
      "recall              0.016794             0.202184        0.178391\n",
      "f1                  0.032440             0.285691        0.272882\n"
     ]
    }
   ],
   "source": [
    "print(\"\\nScores using all features:\")\n",
    "print(ResultsDF_allFeatures)\n",
    "print(\"\\nScores using subset of features:\")\n",
    "print(ResultsDF)\n",
    "print(\"\\nScores using high Correlation features:\")\n",
    "print(ResultsDF_highCorrFeatures)\n",
    "print(\"\\nScores using optimum features:\")\n",
    "print(ResultsDF_optimum_features)"
   ]
  },
  {
   "cell_type": "markdown",
   "metadata": {},
   "source": [
    "* We can see that using optimum features has improved our Random Forest model. Precision score has increased by 10%.\n",
    "* Recall score has increased by 1%. F1 score has increased by 3%. Though small, it means that using a maximum of 6 features, estimator default of 100 optimized the model.\n",
    "* However, in comparison to Linear and Logistic regression models, it did not improve their models. Instead, we see a decrease in their precision, recall and F1 scores. This tells us that the optimized features should realistically only be applied for 6 features and that Linear and Logistic models are dependent on more using more features.\n",
    "* The decrease in their performance is not significant. But I would not recommend using optimal features for Logistic and Linear model."
   ]
  },
  {
   "cell_type": "markdown",
   "metadata": {},
   "source": [
    "### Summary:\n",
    "* 3 Preditive models have been evaluated in this notebook: Linear Regression, Logistic Regression and Random Forest Classifier. I saw that Linear Regression performed poorly, while Logistic Regression and Random Forest performed similarly.\n",
    "* Nearly all of the features seems to have little impact on the target feature death_yn.\n",
    "* There were a number of optimizations made to improve the models. \n",
    "* I had tried an ensemble method (Majority voting) to test if it would improve the Logistic model. However, it did not show promising results and so it was discarded.\n",
    "* The logistics regression performs best as it is consistent throughout. It is faster to retrain also. It provides good accuracy (though it was the same throughout all models).\n",
    "* The best optimized model seemed to be the Logistic Regression model using high correlation features. \n",
    "* Random Forests showed promising results after using optimal features, however it brought down the performance of the other two features. "
   ]
  },
  {
   "cell_type": "markdown",
   "metadata": {},
   "source": [
    "### 5.3 Selecting best model trained and selected based on past data. Evaluate on the new data set provided."
   ]
  },
  {
   "cell_type": "markdown",
   "metadata": {},
   "source": [
    "<img style=\"float: left;\" src=\"models.png\">"
   ]
  },
  {
   "cell_type": "markdown",
   "metadata": {},
   "source": [
    "**Optimized model chosen: Logistic Regression model using high correlation features**\n",
    "<br>\n",
    "Apply it to the given data set (that is cleaned)"
   ]
  },
  {
   "cell_type": "code",
   "execution_count": 90,
   "metadata": {},
   "outputs": [
    {
     "data": {
      "text/html": [
       "<div>\n",
       "<style scoped>\n",
       "    .dataframe tbody tr th:only-of-type {\n",
       "        vertical-align: middle;\n",
       "    }\n",
       "\n",
       "    .dataframe tbody tr th {\n",
       "        vertical-align: top;\n",
       "    }\n",
       "\n",
       "    .dataframe thead th {\n",
       "        text-align: right;\n",
       "    }\n",
       "</style>\n",
       "<table border=\"1\" class=\"dataframe\">\n",
       "  <thead>\n",
       "    <tr style=\"text-align: right;\">\n",
       "      <th></th>\n",
       "      <th>cdc_case_earliest_dt</th>\n",
       "      <th>onset_missing_ind</th>\n",
       "      <th>current_status</th>\n",
       "      <th>sex</th>\n",
       "      <th>age_group</th>\n",
       "      <th>race_ethnicity_combined</th>\n",
       "      <th>hosp_yn</th>\n",
       "      <th>icu_yn</th>\n",
       "      <th>death_yn</th>\n",
       "      <th>medcond_yn</th>\n",
       "    </tr>\n",
       "  </thead>\n",
       "  <tbody>\n",
       "    <tr>\n",
       "      <th>0</th>\n",
       "      <td>2021-01-22</td>\n",
       "      <td>0</td>\n",
       "      <td>Probable Case</td>\n",
       "      <td>Female</td>\n",
       "      <td>0 - 9 Years</td>\n",
       "      <td>Asian, Non-Hispanic</td>\n",
       "      <td>No</td>\n",
       "      <td>Unknown</td>\n",
       "      <td>No</td>\n",
       "      <td>Unknown</td>\n",
       "    </tr>\n",
       "    <tr>\n",
       "      <th>1</th>\n",
       "      <td>2021-01-26</td>\n",
       "      <td>0</td>\n",
       "      <td>Laboratory-confirmed case</td>\n",
       "      <td>Female</td>\n",
       "      <td>30 - 39 Years</td>\n",
       "      <td>Unknown</td>\n",
       "      <td>Unknown</td>\n",
       "      <td>Unknown</td>\n",
       "      <td>No</td>\n",
       "      <td>Unknown</td>\n",
       "    </tr>\n",
       "    <tr>\n",
       "      <th>2</th>\n",
       "      <td>2021-02-03</td>\n",
       "      <td>1</td>\n",
       "      <td>Laboratory-confirmed case</td>\n",
       "      <td>Female</td>\n",
       "      <td>40 - 49 Years</td>\n",
       "      <td>Asian, Non-Hispanic</td>\n",
       "      <td>Unknown</td>\n",
       "      <td>Unknown</td>\n",
       "      <td>No</td>\n",
       "      <td>Unknown</td>\n",
       "    </tr>\n",
       "    <tr>\n",
       "      <th>3</th>\n",
       "      <td>2021-02-05</td>\n",
       "      <td>1</td>\n",
       "      <td>Laboratory-confirmed case</td>\n",
       "      <td>Male</td>\n",
       "      <td>40 - 49 Years</td>\n",
       "      <td>Hispanic/Latino</td>\n",
       "      <td>No</td>\n",
       "      <td>Unknown</td>\n",
       "      <td>No</td>\n",
       "      <td>No</td>\n",
       "    </tr>\n",
       "    <tr>\n",
       "      <th>4</th>\n",
       "      <td>2021-01-27</td>\n",
       "      <td>0</td>\n",
       "      <td>Laboratory-confirmed case</td>\n",
       "      <td>Female</td>\n",
       "      <td>40 - 49 Years</td>\n",
       "      <td>White, Non-Hispanic</td>\n",
       "      <td>No</td>\n",
       "      <td>Unknown</td>\n",
       "      <td>No</td>\n",
       "      <td>Unknown</td>\n",
       "    </tr>\n",
       "    <tr>\n",
       "      <th>5</th>\n",
       "      <td>2021-02-07</td>\n",
       "      <td>0</td>\n",
       "      <td>Laboratory-confirmed case</td>\n",
       "      <td>Female</td>\n",
       "      <td>30 - 39 Years</td>\n",
       "      <td>Unknown</td>\n",
       "      <td>Unknown</td>\n",
       "      <td>Unknown</td>\n",
       "      <td>No</td>\n",
       "      <td>Unknown</td>\n",
       "    </tr>\n",
       "    <tr>\n",
       "      <th>6</th>\n",
       "      <td>2021-01-26</td>\n",
       "      <td>0</td>\n",
       "      <td>Laboratory-confirmed case</td>\n",
       "      <td>Male</td>\n",
       "      <td>20 - 29 Years</td>\n",
       "      <td>White, Non-Hispanic</td>\n",
       "      <td>Unknown</td>\n",
       "      <td>Unknown</td>\n",
       "      <td>No</td>\n",
       "      <td>Unknown</td>\n",
       "    </tr>\n",
       "    <tr>\n",
       "      <th>7</th>\n",
       "      <td>2021-02-04</td>\n",
       "      <td>0</td>\n",
       "      <td>Laboratory-confirmed case</td>\n",
       "      <td>Male</td>\n",
       "      <td>70 - 79 Years</td>\n",
       "      <td>White, Non-Hispanic</td>\n",
       "      <td>Unknown</td>\n",
       "      <td>Unknown</td>\n",
       "      <td>No</td>\n",
       "      <td>Unknown</td>\n",
       "    </tr>\n",
       "    <tr>\n",
       "      <th>8</th>\n",
       "      <td>2021-01-23</td>\n",
       "      <td>0</td>\n",
       "      <td>Laboratory-confirmed case</td>\n",
       "      <td>Male</td>\n",
       "      <td>40 - 49 Years</td>\n",
       "      <td>Unknown</td>\n",
       "      <td>Unknown</td>\n",
       "      <td>Unknown</td>\n",
       "      <td>No</td>\n",
       "      <td>Unknown</td>\n",
       "    </tr>\n",
       "    <tr>\n",
       "      <th>9</th>\n",
       "      <td>2021-01-25</td>\n",
       "      <td>1</td>\n",
       "      <td>Probable Case</td>\n",
       "      <td>Female</td>\n",
       "      <td>70 - 79 Years</td>\n",
       "      <td>White, Non-Hispanic</td>\n",
       "      <td>No</td>\n",
       "      <td>Unknown</td>\n",
       "      <td>No</td>\n",
       "      <td>Unknown</td>\n",
       "    </tr>\n",
       "  </tbody>\n",
       "</table>\n",
       "</div>"
      ],
      "text/plain": [
       "  cdc_case_earliest_dt  onset_missing_ind             current_status     sex  \\\n",
       "0           2021-01-22                  0              Probable Case  Female   \n",
       "1           2021-01-26                  0  Laboratory-confirmed case  Female   \n",
       "2           2021-02-03                  1  Laboratory-confirmed case  Female   \n",
       "3           2021-02-05                  1  Laboratory-confirmed case    Male   \n",
       "4           2021-01-27                  0  Laboratory-confirmed case  Female   \n",
       "5           2021-02-07                  0  Laboratory-confirmed case  Female   \n",
       "6           2021-01-26                  0  Laboratory-confirmed case    Male   \n",
       "7           2021-02-04                  0  Laboratory-confirmed case    Male   \n",
       "8           2021-01-23                  0  Laboratory-confirmed case    Male   \n",
       "9           2021-01-25                  1              Probable Case  Female   \n",
       "\n",
       "       age_group race_ethnicity_combined  hosp_yn   icu_yn death_yn medcond_yn  \n",
       "0    0 - 9 Years     Asian, Non-Hispanic       No  Unknown       No    Unknown  \n",
       "1  30 - 39 Years                 Unknown  Unknown  Unknown       No    Unknown  \n",
       "2  40 - 49 Years     Asian, Non-Hispanic  Unknown  Unknown       No    Unknown  \n",
       "3  40 - 49 Years         Hispanic/Latino       No  Unknown       No         No  \n",
       "4  40 - 49 Years     White, Non-Hispanic       No  Unknown       No    Unknown  \n",
       "5  30 - 39 Years                 Unknown  Unknown  Unknown       No    Unknown  \n",
       "6  20 - 29 Years     White, Non-Hispanic  Unknown  Unknown       No    Unknown  \n",
       "7  70 - 79 Years     White, Non-Hispanic  Unknown  Unknown       No    Unknown  \n",
       "8  40 - 49 Years                 Unknown  Unknown  Unknown       No    Unknown  \n",
       "9  70 - 79 Years     White, Non-Hispanic       No  Unknown       No    Unknown  "
      ]
     },
     "execution_count": 90,
     "metadata": {},
     "output_type": "execute_result"
    }
   ],
   "source": [
    "# Read the csv file and put as df\n",
    "df_hm2 = pd.read_csv('24032021-covid19-cdc-deathyn-recent-10k_CLEANED.csv', keep_default_na=True, sep=',\\s+', delimiter=',', skipinitialspace=True)\n",
    "df_hm2 .head(10)"
   ]
  },
  {
   "cell_type": "markdown",
   "metadata": {},
   "source": [
    "In this section, as I am only focusing on the high correlated features, I will convert the dataset into dummy variables, and drop features that are not needed. What I will do:\n",
    "* Convert the categorical features into type category\n",
    "* Create dummy variables\n",
    "* Remove low correlation features\n",
    "* Apply optimized logisitics regression model.\n",
    "* Compare results\n",
    "* Discuss findings"
   ]
  },
  {
   "cell_type": "code",
   "execution_count": 91,
   "metadata": {},
   "outputs": [],
   "source": [
    "categorical_columns = ['onset_missing_ind','current_status','sex','age_group','race_ethnicity_combined','hosp_yn','icu_yn','death_yn','medcond_yn']\n",
    "for column in categorical_columns:\n",
    "    df_hm2[column] = df_hm2[column].astype('category')"
   ]
  },
  {
   "cell_type": "code",
   "execution_count": 92,
   "metadata": {},
   "outputs": [
    {
     "data": {
      "text/plain": [
       "cdc_case_earliest_dt         object\n",
       "onset_missing_ind          category\n",
       "current_status             category\n",
       "sex                        category\n",
       "age_group                  category\n",
       "race_ethnicity_combined    category\n",
       "hosp_yn                    category\n",
       "icu_yn                     category\n",
       "death_yn                   category\n",
       "medcond_yn                 category\n",
       "dtype: object"
      ]
     },
     "execution_count": 92,
     "metadata": {},
     "output_type": "execute_result"
    }
   ],
   "source": [
    "df_hm2.dtypes"
   ]
  },
  {
   "cell_type": "code",
   "execution_count": 93,
   "metadata": {},
   "outputs": [],
   "source": [
    "# Creating seperate dataframe and converting it to dummy variables and drop cdc_case_earliest_dt \n",
    "df_hm2_all = df_hm2\n",
    "df_hm2_all = df_hm2.drop(['cdc_case_earliest_dt'], 1)\n",
    "df_hm2_all = pd.get_dummies(df_hm2_all)"
   ]
  },
  {
   "cell_type": "code",
   "execution_count": 94,
   "metadata": {
    "scrolled": true
   },
   "outputs": [],
   "source": [
    "# Creating x, y variables and dropping target feature\n",
    "y = df_hm2_all[\"death_yn_Yes\"]\n",
    "X = df_hm2_all[high_correlation_features]\n",
    "X = X.drop(['death_yn_Yes','death_yn_No'], 1)\n",
    "X_train, X_test, y_train, y_test = train_test_split(X, y, random_state=1 , test_size=0.3)"
   ]
  },
  {
   "cell_type": "code",
   "execution_count": 95,
   "metadata": {},
   "outputs": [],
   "source": [
    "logistic_hm2 = LogisticRegression().fit(X_train, y_train)"
   ]
  },
  {
   "cell_type": "code",
   "execution_count": 96,
   "metadata": {},
   "outputs": [
    {
     "name": "stdout",
     "output_type": "stream",
     "text": [
      "Accuracy:  0.9879759519038076\n",
      "Confusion matrix: \n",
      " [[2950    9]\n",
      " [  27    8]]\n",
      "Classification report - Test data:\n",
      "                precision    recall  f1-score   support\n",
      "\n",
      "           0       0.99      1.00      0.99      2959\n",
      "           1       0.47      0.23      0.31        35\n",
      "\n",
      "    accuracy                           0.99      2994\n",
      "   macro avg       0.73      0.61      0.65      2994\n",
      "weighted avg       0.98      0.99      0.99      2994\n",
      "\n",
      "Accuracy:  0.988257196047544\n",
      "Confusion matrix: \n",
      " [[6890    8]\n",
      " [  74   11]]\n",
      "\n",
      "Classification report: - Training data\n",
      "                precision    recall  f1-score   support\n",
      "\n",
      "           0       0.99      1.00      0.99      6898\n",
      "           1       0.58      0.13      0.21        85\n",
      "\n",
      "    accuracy                           0.99      6983\n",
      "   macro avg       0.78      0.56      0.60      6983\n",
      "weighted avg       0.98      0.99      0.98      6983\n",
      "\n"
     ]
    }
   ],
   "source": [
    "logistic_hm2_prediction_train = (logistic_hm2.predict(X_train) >= 0.5) * 1.0\n",
    "logistic_hm2_prediction_test = (logistic_hm2.predict(X_test) >= 0.5) * 1.0\n",
    "\n",
    "print(\"Accuracy: \", metrics.accuracy_score(y_test, logistic_hm2_prediction_test))\n",
    "print(\"Confusion matrix: \\n\", metrics.confusion_matrix(y_test, logistic_hm2_prediction_test))\n",
    "print(\"Classification report - Test data:\\n \", metrics.classification_report(y_test, logistic_hm2_prediction_test))\n",
    "print(\"Accuracy: \", metrics.accuracy_score(y_train, logistic_hm2_prediction_train ))\n",
    "print(\"Confusion matrix: \\n\", metrics.confusion_matrix(y_train, logistic_hm2_prediction_train ))\n",
    "print(\"\\nClassification report: - Training data\\n \", metrics.classification_report(y_train, logistic_hm2_prediction_train ))"
   ]
  },
  {
   "cell_type": "markdown",
   "metadata": {},
   "source": [
    "Training Data:\n",
    "* Accuracy\n",
    "    * We have an accuracy of 98%\n",
    "* Precision \n",
    "    * Precision Positive is 0.58 (58%)\n",
    "    * Precision Negative is 0.99 (99%)\n",
    "* Recall \n",
    "    * Recall Positive is 0.13 (13%)\n",
    "    * Recall Negative is 1.00 (100%)\n",
    "* F1 Score: a weighted average of Precision and recall\n",
    "    * F1 Score Positive is 0.21 (21%)\n",
    "    * F1 Score Negative is 0.99 (99%) \n",
    "\n",
    "Test Data: \n",
    "* Accuracy\n",
    "    * We have an accuracy of 98%\n",
    "* Precision \n",
    "    * Precision Positive is 0.47 (47%)\n",
    "    * Precision Negative is 0.99 (99%)\n",
    "* Recall \n",
    "    * Recall Positive is 0.23 (23%)\n",
    "    * Recall Negative is 1.00 (100%)\n",
    "* F1 Score: a weighted average of Precision and recall\n",
    "    * F1 Score Positive is 0.31 (31%)\n",
    "    * F1 Score Negative is 0.99 (99%)"
   ]
  },
  {
   "cell_type": "markdown",
   "metadata": {},
   "source": [
    "Summary:\n",
    "* The accuracy has increased by 1% compared to the old models. This means that the ratio of correctly predicted outcomes is good.\n",
    "* The training data shows similar performative scores that we can assume it is generalizing data. \n",
    "* But it may not be the case as we see that the test data perfoms slightly poorer than the training data.   "
   ]
  },
  {
   "cell_type": "code",
   "execution_count": 97,
   "metadata": {
    "scrolled": true
   },
   "outputs": [
    {
     "data": {
      "text/html": [
       "<div>\n",
       "<style scoped>\n",
       "    .dataframe tbody tr th:only-of-type {\n",
       "        vertical-align: middle;\n",
       "    }\n",
       "\n",
       "    .dataframe tbody tr th {\n",
       "        vertical-align: top;\n",
       "    }\n",
       "\n",
       "    .dataframe thead th {\n",
       "        text-align: right;\n",
       "    }\n",
       "</style>\n",
       "<table border=\"1\" class=\"dataframe\">\n",
       "  <thead>\n",
       "    <tr style=\"text-align: right;\">\n",
       "      <th></th>\n",
       "      <th>Logistic_Regression</th>\n",
       "    </tr>\n",
       "  </thead>\n",
       "  <tbody>\n",
       "    <tr>\n",
       "      <th>accuracy</th>\n",
       "      <td>0.987471</td>\n",
       "    </tr>\n",
       "    <tr>\n",
       "      <th>precision</th>\n",
       "      <td>0.335000</td>\n",
       "    </tr>\n",
       "    <tr>\n",
       "      <th>recall</th>\n",
       "      <td>0.083333</td>\n",
       "    </tr>\n",
       "    <tr>\n",
       "      <th>f1</th>\n",
       "      <td>0.125083</td>\n",
       "    </tr>\n",
       "  </tbody>\n",
       "</table>\n",
       "</div>"
      ],
      "text/plain": [
       "           Logistic_Regression\n",
       "accuracy              0.987471\n",
       "precision             0.335000\n",
       "recall                0.083333\n",
       "f1                    0.125083"
      ]
     },
     "execution_count": 97,
     "metadata": {},
     "output_type": "execute_result"
    }
   ],
   "source": [
    "# Calculate the Logistic Regression model\n",
    "logRegDF_hm2 = cross_validation_logistic(X,y)\n",
    "logRegDF_hm2"
   ]
  },
  {
   "cell_type": "code",
   "execution_count": 98,
   "metadata": {
    "scrolled": true
   },
   "outputs": [
    {
     "data": {
      "text/plain": [
       "accuracy     0.971331\n",
       "precision    0.545014\n",
       "recall       0.235977\n",
       "f1           0.327587\n",
       "Name: Logistic_Regression, dtype: float64"
      ]
     },
     "execution_count": 98,
     "metadata": {},
     "output_type": "execute_result"
    }
   ],
   "source": [
    "ResultsDF_highCorrFeatures['Logistic_Regression']"
   ]
  },
  {
   "cell_type": "markdown",
   "metadata": {},
   "source": [
    "**Discussing the findings:**\n",
    "<br>\n",
    "* We see that logistic regression from the given dataset has some differences on the initial logistic regression model.\n",
    "* We see an increase in accuracy 98%.\n",
    "* It performs poorer compared to the initial data. \n",
    "* It is not predicting true positives accurately, meaning that the model is not generalizing the data.\n",
    "* This suggests that the model is possibly underfitting. \n",
    "* If this is happening, a possible solution is to add more data to train. Using more existing features would not be feasible as we already saw using subset features gives a slightly lesser performance. \n",
    "* Another possible solution is to oversample the data. One reason the data is not generalizing is due to the fact that the target feature is hevaily skewed to a negative outcome. Oversampling data would attempt to create a more balanced dataset that will give more to rare sample sets.\n",
    "* To summarize, the performance scores are lower than expected which suggests the model was not generalizing the data. \n",
    "* However, for the sake of seeing the differences in results I will try to oversample the dataset in attempt to balance it. My possible theory is that balancing the heavily skewed data set will give set the probability of correctly predicting the positive outcome higher."
   ]
  },
  {
   "cell_type": "markdown",
   "metadata": {},
   "source": [
    "I will initiate an oversampled training data and apply it to a new model using only the high correlation features. Then, see the perfomance scores for both training and test data."
   ]
  },
  {
   "cell_type": "code",
   "execution_count": 99,
   "metadata": {},
   "outputs": [],
   "source": [
    "# Initializing \n",
    "df_oversample_highCorr = pd.get_dummies(df_hm2_all)\n",
    "\n",
    "y = df_oversample_highCorr[\"death_yn_Yes\"]\n",
    "X = df_oversample_highCorr[high_correlation_features]\n",
    "X = X.drop(['death_yn_Yes','death_yn_No'], 1)\n",
    "\n",
    "# Creating the oversample data.. taken from https://beckernick.github.io/oversampling-modeling/\n",
    "x_train, x_test, y_train, y_test = train_test_split(X, y, test_size = .1, random_state=12)\n",
    "sm = SMOTE(random_state=12, sampling_strategy = 1.0)\n",
    "x_train_res, y_train_res = sm.fit_resample(x_train, y_train)"
   ]
  },
  {
   "cell_type": "code",
   "execution_count": 100,
   "metadata": {},
   "outputs": [],
   "source": [
    "logistic_oversample = LogisticRegression().fit(x_train_res, y_train_res)\n",
    "\n",
    "# Creating predictions\n",
    "logistics_oversample_prediction_train = (logistic_oversample.predict(x_train) >= 0.5) * 1.0\n",
    "logistics_oversample_prediction_test = (logistic_oversample.predict(x_test) >= 0.5) * 1.0"
   ]
  },
  {
   "cell_type": "code",
   "execution_count": 101,
   "metadata": {
    "scrolled": false
   },
   "outputs": [
    {
     "name": "stdout",
     "output_type": "stream",
     "text": [
      "Accuracy:  0.9468937875751503\n",
      "Confusion matrix: \n",
      " [[938  49]\n",
      " [  4   7]]\n",
      "Classification report - Test data:\n",
      "                precision    recall  f1-score   support\n",
      "\n",
      "           0       1.00      0.95      0.97       987\n",
      "           1       0.12      0.64      0.21        11\n",
      "\n",
      "    accuracy                           0.95       998\n",
      "   macro avg       0.56      0.79      0.59       998\n",
      "weighted avg       0.99      0.95      0.96       998\n",
      "\n",
      "Accuracy:  0.9464305601960129\n",
      "Confusion matrix: \n",
      " [[8427  443]\n",
      " [  38   71]]\n",
      "\n",
      "Classification report: - Training data\n",
      "                precision    recall  f1-score   support\n",
      "\n",
      "           0       1.00      0.95      0.97      8870\n",
      "           1       0.14      0.65      0.23       109\n",
      "\n",
      "    accuracy                           0.95      8979\n",
      "   macro avg       0.57      0.80      0.60      8979\n",
      "weighted avg       0.99      0.95      0.96      8979\n",
      "\n"
     ]
    }
   ],
   "source": [
    "print(\"Accuracy: \", metrics.accuracy_score(y_test, logistics_oversample_prediction_test))\n",
    "print(\"Confusion matrix: \\n\", metrics.confusion_matrix(y_test, logistics_oversample_prediction_test))\n",
    "print(\"Classification report - Test data:\\n \", metrics.classification_report(y_test,logistics_oversample_prediction_test))\n",
    "print(\"Accuracy: \", metrics.accuracy_score(y_train, logistics_oversample_prediction_train ))\n",
    "print(\"Confusion matrix: \\n\", metrics.confusion_matrix(y_train, logistics_oversample_prediction_train ))\n",
    "print(\"\\nClassification report: - Training data\\n \", metrics.classification_report(y_train, logistics_oversample_prediction_train ))"
   ]
  },
  {
   "cell_type": "markdown",
   "metadata": {},
   "source": [
    "**Conclusion:**\n",
    "<br>\n",
    "* We see the accruacy of each dataset has gone down. Test data has 91% in accuracy, train data has 93%. This is expected, as the model was trained on a balanced data and so it would predict more positive outcomes. Putting this on a new dataset then demonstrates a lower accuracy, but it is still a good score.\n",
    "* The precision score is also lower than the non-oversampled data. However, this is to be expected. As the data is now somewhat balanced, the number of predictions for positive outcomes will be higher. This does not mean they will be correctly predicted however. \n",
    "* The recall score has a significant improvement as see it increase by  > 35%. This shows that less values were false negatives than false positives. \n",
    "* The F1 score has stayed relatively the same. \n",
    "* As the model was applied to training data rather than applying it to the oversampled training data, it is good to test it on unseen data. In this case, we see that the overall scores are better than the original results.\n",
    "* It seems that providing this optimized model gives better results for the given dataset but it is not so wise to do cross validation on such. Therefore, this was merely a demonstration. "
   ]
  },
  {
   "cell_type": "code",
   "execution_count": null,
   "metadata": {},
   "outputs": [],
   "source": []
  }
 ],
 "metadata": {
  "kernelspec": {
   "display_name": "Python 3",
   "language": "python",
   "name": "python3"
  },
  "language_info": {
   "codemirror_mode": {
    "name": "ipython",
    "version": 3
   },
   "file_extension": ".py",
   "mimetype": "text/x-python",
   "name": "python",
   "nbconvert_exporter": "python",
   "pygments_lexer": "ipython3",
   "version": "3.8.5"
  }
 },
 "nbformat": 4,
 "nbformat_minor": 5
}
