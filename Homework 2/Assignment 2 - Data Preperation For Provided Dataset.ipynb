{
 "cells": [
  {
   "cell_type": "markdown",
   "metadata": {},
   "source": [
    "# This is a duplicate from the original data quality preperations. This is for the provided dataset for the second assignment as it needs to be cleaned. Please ignore this file."
   ]
  },
  {
   "cell_type": "markdown",
   "metadata": {},
   "source": [
    "# Data Analytics Assignment 2 - Data Quality Preperation"
   ]
  },
  {
   "cell_type": "markdown",
   "metadata": {},
   "source": [
    "In this section, I will prepare a cleaned dataset provided in the zip file. "
   ]
  },
  {
   "cell_type": "markdown",
   "metadata": {},
   "source": [
    "**Introduction:**\n",
    "<br><br>\n",
    "I will create a cleaned dataset provided by the csv in the zip file. I will briefly introduce the dataset and talk about the different features that is present. We have 12 features present. The data are information about patients with some clinical data provided such as their symptoms. As we move to clean this dataset, the documentation states that these information are subjected to change, meaning that some data are to be verified by the CDC. \n",
    "<br><br>\n",
    "The documentation states that routinely performs data quality assurances to make sure logic checks are implemented. I will list steps that have been taken to clean data in this dataset already and I will mention this in the notebook further if such an occassion arises:\n",
    "* Features that have \"Missing\" have been treated as a seperate category as it means the question has been left unanswered and willl be treated as such.\n",
    "* \"Unknown\" is one of the choices for one of the questions in the form and so if it appears in the dataset it will be treated as it's own. \n",
    "* Some logical checks have been implemented, though only one has been included which is that if an illogical date has been given the CDC reviews the data. \n",
    "* It is important to note that some data levels are suppressed to hide the identity of some patients and they are re-coded as NA. These are never removed. \n",
    "<br><br>\n",
    "_The 12 features are self explanatory._ \n",
    "* cdc_case_earliest_dt are dates that are related to Covid-19 or specimen collection, where the date may have been from when a case was reported to the CDC and they had recevied it. It is an option to end-users who need a date variable with optimized completeness. Meaning that if one of the dates are left blank, then use the earliest date available and if none are available it should be left blank.\n",
    "* cdc_report_dt are dates when the case was first reported to the CDC. It is populated using date when a case was first recorded to the database. If missing, then the reported date entered on the case report form was used. If missing then \"the date at which the case first appeared in the database was used. If none available, then left blank.\" (taken from website) This means that the missing values mean that the data is being used.\n",
    "* pos_spec_dt are dates when the first positive specimen collection. Specimen collection refers to a test, and so they are the dates in which a person had their first covid-19 test that resulted in a positive result.\n",
    "* onset_dt refers to the date the patient first started experiencing symptoms. \"If symptomatic\", meaning that missing data could entail that are asymptomatic. \n",
    "* current_status refers to whether they have severe symptoms of Covid-19 or meeting the criteria of being a probable case but no confirmed. Refer to this website for further clarification if needed. https://wwwn.cdc.gov/nndss/conditions/coronavirus-disease-2019-covid-19/case-definition/2020/08/05/\n",
    "* sex tells us information about the patient's sex.\n",
    "* age_group tells us the age group the patient falls into.\n",
    "* race_ethnicity_combined tells us the race or ethnicity the patient falls into.\n",
    "* hosp_yn informs us whether the patient was hospitalized or not.\n",
    "* icu_yn informs us whether the patient was admitted to the ICU.\n",
    "* death_yn tells us if the patient died as a result of this illness.\n",
    "* medcond_yn tells us if the patient had underlying medical conditions."
   ]
  },
  {
   "cell_type": "code",
   "execution_count": 1,
   "metadata": {},
   "outputs": [],
   "source": [
    "# importing necessary packages\n",
    "import warnings\n",
    "warnings.simplefilter(action='ignore', category=FutureWarning)\n",
    "import pandas as pd\n",
    "import numpy as np\n",
    "import matplotlib.pyplot as plt\n",
    "%matplotlib inline\n",
    "from matplotlib.backends.backend_pdf import PdfPages\n",
    "from matplotlib import pyplot\n",
    "import seaborn as sns"
   ]
  },
  {
   "cell_type": "code",
   "execution_count": 2,
   "metadata": {},
   "outputs": [],
   "source": [
    "df = pd.read_csv('24032021-covid19-cdc-deathyn-recent-10k.csv', keep_default_na=True, sep=',\\s+', delimiter=',', skipinitialspace=True)"
   ]
  },
  {
   "cell_type": "markdown",
   "metadata": {},
   "source": [
    "**First, we will explore the data.**\n",
    "- check the first 5 rows\n",
    "- last 5 rows\n",
    "- check rows and columns\n",
    "- check data types\n",
    "- convert necessary datatypes to correct ones i.e. datetime, category.\n",
    "- check missing data"
   ]
  },
  {
   "cell_type": "code",
   "execution_count": 3,
   "metadata": {
    "scrolled": true
   },
   "outputs": [
    {
     "data": {
      "text/html": [
       "<div>\n",
       "<style scoped>\n",
       "    .dataframe tbody tr th:only-of-type {\n",
       "        vertical-align: middle;\n",
       "    }\n",
       "\n",
       "    .dataframe tbody tr th {\n",
       "        vertical-align: top;\n",
       "    }\n",
       "\n",
       "    .dataframe thead th {\n",
       "        text-align: right;\n",
       "    }\n",
       "</style>\n",
       "<table border=\"1\" class=\"dataframe\">\n",
       "  <thead>\n",
       "    <tr style=\"text-align: right;\">\n",
       "      <th></th>\n",
       "      <th>cdc_case_earliest_dt</th>\n",
       "      <th>cdc_report_dt</th>\n",
       "      <th>pos_spec_dt</th>\n",
       "      <th>onset_dt</th>\n",
       "      <th>current_status</th>\n",
       "      <th>sex</th>\n",
       "      <th>age_group</th>\n",
       "      <th>race_ethnicity_combined</th>\n",
       "      <th>hosp_yn</th>\n",
       "      <th>icu_yn</th>\n",
       "      <th>death_yn</th>\n",
       "      <th>medcond_yn</th>\n",
       "    </tr>\n",
       "  </thead>\n",
       "  <tbody>\n",
       "    <tr>\n",
       "      <th>0</th>\n",
       "      <td>2021/01/22</td>\n",
       "      <td>2021/01/22</td>\n",
       "      <td>NaN</td>\n",
       "      <td>NaN</td>\n",
       "      <td>Probable Case</td>\n",
       "      <td>Female</td>\n",
       "      <td>0 - 9 Years</td>\n",
       "      <td>Asian, Non-Hispanic</td>\n",
       "      <td>No</td>\n",
       "      <td>Missing</td>\n",
       "      <td>No</td>\n",
       "      <td>Missing</td>\n",
       "    </tr>\n",
       "    <tr>\n",
       "      <th>1</th>\n",
       "      <td>2021/01/26</td>\n",
       "      <td>NaN</td>\n",
       "      <td>NaN</td>\n",
       "      <td>NaN</td>\n",
       "      <td>Laboratory-confirmed case</td>\n",
       "      <td>Female</td>\n",
       "      <td>30 - 39 Years</td>\n",
       "      <td>Unknown</td>\n",
       "      <td>Unknown</td>\n",
       "      <td>Missing</td>\n",
       "      <td>No</td>\n",
       "      <td>Missing</td>\n",
       "    </tr>\n",
       "    <tr>\n",
       "      <th>2</th>\n",
       "      <td>2021/02/03</td>\n",
       "      <td>2021/02/05</td>\n",
       "      <td>NaN</td>\n",
       "      <td>2021/02/03</td>\n",
       "      <td>Laboratory-confirmed case</td>\n",
       "      <td>Female</td>\n",
       "      <td>40 - 49 Years</td>\n",
       "      <td>Asian, Non-Hispanic</td>\n",
       "      <td>Missing</td>\n",
       "      <td>Missing</td>\n",
       "      <td>No</td>\n",
       "      <td>Missing</td>\n",
       "    </tr>\n",
       "    <tr>\n",
       "      <th>3</th>\n",
       "      <td>2021/02/05</td>\n",
       "      <td>2021/02/05</td>\n",
       "      <td>2021/02/07</td>\n",
       "      <td>2021/02/05</td>\n",
       "      <td>Laboratory-confirmed case</td>\n",
       "      <td>Male</td>\n",
       "      <td>40 - 49 Years</td>\n",
       "      <td>Hispanic/Latino</td>\n",
       "      <td>No</td>\n",
       "      <td>Unknown</td>\n",
       "      <td>No</td>\n",
       "      <td>No</td>\n",
       "    </tr>\n",
       "    <tr>\n",
       "      <th>4</th>\n",
       "      <td>2021/01/27</td>\n",
       "      <td>2021/01/27</td>\n",
       "      <td>NaN</td>\n",
       "      <td>NaN</td>\n",
       "      <td>Laboratory-confirmed case</td>\n",
       "      <td>Female</td>\n",
       "      <td>40 - 49 Years</td>\n",
       "      <td>White, Non-Hispanic</td>\n",
       "      <td>No</td>\n",
       "      <td>Missing</td>\n",
       "      <td>No</td>\n",
       "      <td>Missing</td>\n",
       "    </tr>\n",
       "  </tbody>\n",
       "</table>\n",
       "</div>"
      ],
      "text/plain": [
       "  cdc_case_earliest_dt cdc_report_dt pos_spec_dt    onset_dt  \\\n",
       "0           2021/01/22    2021/01/22         NaN         NaN   \n",
       "1           2021/01/26           NaN         NaN         NaN   \n",
       "2           2021/02/03    2021/02/05         NaN  2021/02/03   \n",
       "3           2021/02/05    2021/02/05  2021/02/07  2021/02/05   \n",
       "4           2021/01/27    2021/01/27         NaN         NaN   \n",
       "\n",
       "              current_status     sex      age_group race_ethnicity_combined  \\\n",
       "0              Probable Case  Female    0 - 9 Years     Asian, Non-Hispanic   \n",
       "1  Laboratory-confirmed case  Female  30 - 39 Years                 Unknown   \n",
       "2  Laboratory-confirmed case  Female  40 - 49 Years     Asian, Non-Hispanic   \n",
       "3  Laboratory-confirmed case    Male  40 - 49 Years         Hispanic/Latino   \n",
       "4  Laboratory-confirmed case  Female  40 - 49 Years     White, Non-Hispanic   \n",
       "\n",
       "   hosp_yn   icu_yn death_yn medcond_yn  \n",
       "0       No  Missing       No    Missing  \n",
       "1  Unknown  Missing       No    Missing  \n",
       "2  Missing  Missing       No    Missing  \n",
       "3       No  Unknown       No         No  \n",
       "4       No  Missing       No    Missing  "
      ]
     },
     "execution_count": 3,
     "metadata": {},
     "output_type": "execute_result"
    }
   ],
   "source": [
    " df.head(5)"
   ]
  },
  {
   "cell_type": "code",
   "execution_count": 4,
   "metadata": {},
   "outputs": [
    {
     "data": {
      "text/html": [
       "<div>\n",
       "<style scoped>\n",
       "    .dataframe tbody tr th:only-of-type {\n",
       "        vertical-align: middle;\n",
       "    }\n",
       "\n",
       "    .dataframe tbody tr th {\n",
       "        vertical-align: top;\n",
       "    }\n",
       "\n",
       "    .dataframe thead th {\n",
       "        text-align: right;\n",
       "    }\n",
       "</style>\n",
       "<table border=\"1\" class=\"dataframe\">\n",
       "  <thead>\n",
       "    <tr style=\"text-align: right;\">\n",
       "      <th></th>\n",
       "      <th>cdc_case_earliest_dt</th>\n",
       "      <th>cdc_report_dt</th>\n",
       "      <th>pos_spec_dt</th>\n",
       "      <th>onset_dt</th>\n",
       "      <th>current_status</th>\n",
       "      <th>sex</th>\n",
       "      <th>age_group</th>\n",
       "      <th>race_ethnicity_combined</th>\n",
       "      <th>hosp_yn</th>\n",
       "      <th>icu_yn</th>\n",
       "      <th>death_yn</th>\n",
       "      <th>medcond_yn</th>\n",
       "    </tr>\n",
       "  </thead>\n",
       "  <tbody>\n",
       "    <tr>\n",
       "      <th>9995</th>\n",
       "      <td>2021/01/20</td>\n",
       "      <td>NaN</td>\n",
       "      <td>NaN</td>\n",
       "      <td>NaN</td>\n",
       "      <td>Laboratory-confirmed case</td>\n",
       "      <td>Male</td>\n",
       "      <td>30 - 39 Years</td>\n",
       "      <td>Unknown</td>\n",
       "      <td>Missing</td>\n",
       "      <td>Missing</td>\n",
       "      <td>No</td>\n",
       "      <td>Missing</td>\n",
       "    </tr>\n",
       "    <tr>\n",
       "      <th>9996</th>\n",
       "      <td>2021/02/01</td>\n",
       "      <td>2021/02/01</td>\n",
       "      <td>NaN</td>\n",
       "      <td>2021/02/01</td>\n",
       "      <td>Laboratory-confirmed case</td>\n",
       "      <td>Female</td>\n",
       "      <td>50 - 59 Years</td>\n",
       "      <td>Unknown</td>\n",
       "      <td>No</td>\n",
       "      <td>Missing</td>\n",
       "      <td>No</td>\n",
       "      <td>Missing</td>\n",
       "    </tr>\n",
       "    <tr>\n",
       "      <th>9997</th>\n",
       "      <td>2021/01/29</td>\n",
       "      <td>2021/02/03</td>\n",
       "      <td>NaN</td>\n",
       "      <td>NaN</td>\n",
       "      <td>Laboratory-confirmed case</td>\n",
       "      <td>Female</td>\n",
       "      <td>10 - 19 Years</td>\n",
       "      <td>White, Non-Hispanic</td>\n",
       "      <td>Missing</td>\n",
       "      <td>Missing</td>\n",
       "      <td>No</td>\n",
       "      <td>Missing</td>\n",
       "    </tr>\n",
       "    <tr>\n",
       "      <th>9998</th>\n",
       "      <td>2021/01/28</td>\n",
       "      <td>2021/01/28</td>\n",
       "      <td>NaN</td>\n",
       "      <td>NaN</td>\n",
       "      <td>Laboratory-confirmed case</td>\n",
       "      <td>Male</td>\n",
       "      <td>20 - 29 Years</td>\n",
       "      <td>Unknown</td>\n",
       "      <td>Missing</td>\n",
       "      <td>Missing</td>\n",
       "      <td>No</td>\n",
       "      <td>Missing</td>\n",
       "    </tr>\n",
       "    <tr>\n",
       "      <th>9999</th>\n",
       "      <td>2021/01/24</td>\n",
       "      <td>2021/02/03</td>\n",
       "      <td>NaN</td>\n",
       "      <td>2021/01/24</td>\n",
       "      <td>Laboratory-confirmed case</td>\n",
       "      <td>Male</td>\n",
       "      <td>40 - 49 Years</td>\n",
       "      <td>White, Non-Hispanic</td>\n",
       "      <td>No</td>\n",
       "      <td>Missing</td>\n",
       "      <td>No</td>\n",
       "      <td>Missing</td>\n",
       "    </tr>\n",
       "  </tbody>\n",
       "</table>\n",
       "</div>"
      ],
      "text/plain": [
       "     cdc_case_earliest_dt cdc_report_dt pos_spec_dt    onset_dt  \\\n",
       "9995           2021/01/20           NaN         NaN         NaN   \n",
       "9996           2021/02/01    2021/02/01         NaN  2021/02/01   \n",
       "9997           2021/01/29    2021/02/03         NaN         NaN   \n",
       "9998           2021/01/28    2021/01/28         NaN         NaN   \n",
       "9999           2021/01/24    2021/02/03         NaN  2021/01/24   \n",
       "\n",
       "                 current_status     sex      age_group  \\\n",
       "9995  Laboratory-confirmed case    Male  30 - 39 Years   \n",
       "9996  Laboratory-confirmed case  Female  50 - 59 Years   \n",
       "9997  Laboratory-confirmed case  Female  10 - 19 Years   \n",
       "9998  Laboratory-confirmed case    Male  20 - 29 Years   \n",
       "9999  Laboratory-confirmed case    Male  40 - 49 Years   \n",
       "\n",
       "     race_ethnicity_combined  hosp_yn   icu_yn death_yn medcond_yn  \n",
       "9995                 Unknown  Missing  Missing       No    Missing  \n",
       "9996                 Unknown       No  Missing       No    Missing  \n",
       "9997     White, Non-Hispanic  Missing  Missing       No    Missing  \n",
       "9998                 Unknown  Missing  Missing       No    Missing  \n",
       "9999     White, Non-Hispanic       No  Missing       No    Missing  "
      ]
     },
     "execution_count": 4,
     "metadata": {},
     "output_type": "execute_result"
    }
   ],
   "source": [
    "df.tail(5)"
   ]
  },
  {
   "cell_type": "code",
   "execution_count": 5,
   "metadata": {},
   "outputs": [
    {
     "data": {
      "text/plain": [
       "(10000, 12)"
      ]
     },
     "execution_count": 5,
     "metadata": {},
     "output_type": "execute_result"
    }
   ],
   "source": [
    "#columns and rows\n",
    "df.shape"
   ]
  },
  {
   "cell_type": "code",
   "execution_count": 6,
   "metadata": {},
   "outputs": [
    {
     "data": {
      "text/plain": [
       "cdc_case_earliest_dt       object\n",
       "cdc_report_dt              object\n",
       "pos_spec_dt                object\n",
       "onset_dt                   object\n",
       "current_status             object\n",
       "sex                        object\n",
       "age_group                  object\n",
       "race_ethnicity_combined    object\n",
       "hosp_yn                    object\n",
       "icu_yn                     object\n",
       "death_yn                   object\n",
       "medcond_yn                 object\n",
       "dtype: object"
      ]
     },
     "execution_count": 6,
     "metadata": {},
     "output_type": "execute_result"
    }
   ],
   "source": [
    "#check data types\n",
    "df.dtypes"
   ]
  },
  {
   "cell_type": "code",
   "execution_count": 7,
   "metadata": {},
   "outputs": [
    {
     "data": {
      "text/plain": [
       "cdc_case_earliest_dt          0\n",
       "cdc_report_dt              2165\n",
       "pos_spec_dt                7445\n",
       "onset_dt                   5838\n",
       "current_status                0\n",
       "sex                           0\n",
       "age_group                     0\n",
       "race_ethnicity_combined       0\n",
       "hosp_yn                       0\n",
       "icu_yn                        0\n",
       "death_yn                      0\n",
       "medcond_yn                    0\n",
       "dtype: int64"
      ]
     },
     "execution_count": 7,
     "metadata": {},
     "output_type": "execute_result"
    }
   ],
   "source": [
    "#check missing data\n",
    "df.isnull().sum()"
   ]
  },
  {
   "cell_type": "code",
   "execution_count": 8,
   "metadata": {},
   "outputs": [],
   "source": [
    "#datetime feat\n",
    "datetimeFeat = ['cdc_case_earliest_dt', 'cdc_report_dt', 'pos_spec_dt', 'onset_dt']\n",
    "#category feat\n",
    "catFeat = ['current_status', 'sex', 'age_group', 'race_ethnicity_combined', 'hosp_yn', 'icu_yn', 'death_yn', 'medcond_yn']"
   ]
  },
  {
   "cell_type": "code",
   "execution_count": 9,
   "metadata": {},
   "outputs": [
    {
     "data": {
      "text/plain": [
       "cdc_case_earliest_dt       datetime64[ns]\n",
       "cdc_report_dt              datetime64[ns]\n",
       "pos_spec_dt                datetime64[ns]\n",
       "onset_dt                   datetime64[ns]\n",
       "current_status                   category\n",
       "sex                              category\n",
       "age_group                        category\n",
       "race_ethnicity_combined          category\n",
       "hosp_yn                          category\n",
       "icu_yn                           category\n",
       "death_yn                         category\n",
       "medcond_yn                       category\n",
       "dtype: object"
      ]
     },
     "execution_count": 9,
     "metadata": {},
     "output_type": "execute_result"
    }
   ],
   "source": [
    "#converting data types\n",
    "for column in datetimeFeat:\n",
    "    df[column] = pd.to_datetime(df[column])\n",
    "\n",
    "for column2 in catFeat:\n",
    "    df[column2] = df[column2].astype('category')\n",
    "    \n",
    "df.dtypes"
   ]
  },
  {
   "cell_type": "code",
   "execution_count": 10,
   "metadata": {},
   "outputs": [
    {
     "data": {
      "text/plain": [
       "cdc_case_earliest_dt       26\n",
       "cdc_report_dt              47\n",
       "pos_spec_dt                41\n",
       "onset_dt                   31\n",
       "current_status              2\n",
       "sex                         5\n",
       "age_group                  10\n",
       "race_ethnicity_combined     9\n",
       "hosp_yn                     4\n",
       "icu_yn                      4\n",
       "death_yn                    2\n",
       "medcond_yn                  4\n",
       "dtype: int64"
      ]
     },
     "execution_count": 10,
     "metadata": {},
     "output_type": "execute_result"
    }
   ],
   "source": [
    "#we see the different types\n",
    "df.nunique()"
   ]
  },
  {
   "cell_type": "markdown",
   "metadata": {},
   "source": [
    "## Duplicates"
   ]
  },
  {
   "cell_type": "markdown",
   "metadata": {},
   "source": [
    "I will explore the duplicate rows for this dataset. However, based from the information of this dataset, each row represents a patient. There will be indeed duplicates as there are no way to differentiate each patient. It is likely each row represents a unique patient and these duplicates being noticed have the same data. I feel it would be dangerous to remove these as we would see a lot of patients who share the same age, sex, who have tested positive, etc. However, I will explore these duplicates and investigate them.\n",
    "<br><br>\n",
    "First, I will see the number of duplicates detected. Then, I will create a copy of the dataframe being used and find the matching rows and investigate it."
   ]
  },
  {
   "cell_type": "code",
   "execution_count": 11,
   "metadata": {
    "scrolled": true
   },
   "outputs": [
    {
     "data": {
      "text/html": [
       "<div>\n",
       "<style scoped>\n",
       "    .dataframe tbody tr th:only-of-type {\n",
       "        vertical-align: middle;\n",
       "    }\n",
       "\n",
       "    .dataframe tbody tr th {\n",
       "        vertical-align: top;\n",
       "    }\n",
       "\n",
       "    .dataframe thead th {\n",
       "        text-align: right;\n",
       "    }\n",
       "</style>\n",
       "<table border=\"1\" class=\"dataframe\">\n",
       "  <thead>\n",
       "    <tr style=\"text-align: right;\">\n",
       "      <th></th>\n",
       "      <th>cdc_case_earliest_dt</th>\n",
       "      <th>cdc_report_dt</th>\n",
       "      <th>pos_spec_dt</th>\n",
       "      <th>onset_dt</th>\n",
       "      <th>current_status</th>\n",
       "      <th>sex</th>\n",
       "      <th>age_group</th>\n",
       "      <th>race_ethnicity_combined</th>\n",
       "      <th>hosp_yn</th>\n",
       "      <th>icu_yn</th>\n",
       "      <th>death_yn</th>\n",
       "      <th>medcond_yn</th>\n",
       "    </tr>\n",
       "  </thead>\n",
       "  <tbody>\n",
       "    <tr>\n",
       "      <th>1</th>\n",
       "      <td>2021-01-26</td>\n",
       "      <td>NaT</td>\n",
       "      <td>NaT</td>\n",
       "      <td>NaT</td>\n",
       "      <td>Laboratory-confirmed case</td>\n",
       "      <td>Female</td>\n",
       "      <td>30 - 39 Years</td>\n",
       "      <td>Unknown</td>\n",
       "      <td>Unknown</td>\n",
       "      <td>Missing</td>\n",
       "      <td>No</td>\n",
       "      <td>Missing</td>\n",
       "    </tr>\n",
       "    <tr>\n",
       "      <th>6</th>\n",
       "      <td>2021-01-26</td>\n",
       "      <td>NaT</td>\n",
       "      <td>NaT</td>\n",
       "      <td>NaT</td>\n",
       "      <td>Laboratory-confirmed case</td>\n",
       "      <td>Male</td>\n",
       "      <td>20 - 29 Years</td>\n",
       "      <td>White, Non-Hispanic</td>\n",
       "      <td>Unknown</td>\n",
       "      <td>Missing</td>\n",
       "      <td>No</td>\n",
       "      <td>Missing</td>\n",
       "    </tr>\n",
       "    <tr>\n",
       "      <th>8</th>\n",
       "      <td>2021-01-23</td>\n",
       "      <td>NaT</td>\n",
       "      <td>NaT</td>\n",
       "      <td>NaT</td>\n",
       "      <td>Laboratory-confirmed case</td>\n",
       "      <td>Male</td>\n",
       "      <td>40 - 49 Years</td>\n",
       "      <td>Unknown</td>\n",
       "      <td>Unknown</td>\n",
       "      <td>Missing</td>\n",
       "      <td>No</td>\n",
       "      <td>Missing</td>\n",
       "    </tr>\n",
       "    <tr>\n",
       "      <th>12</th>\n",
       "      <td>2021-01-22</td>\n",
       "      <td>2021-02-04</td>\n",
       "      <td>2021-01-22</td>\n",
       "      <td>NaT</td>\n",
       "      <td>Laboratory-confirmed case</td>\n",
       "      <td>Male</td>\n",
       "      <td>40 - 49 Years</td>\n",
       "      <td>Unknown</td>\n",
       "      <td>Missing</td>\n",
       "      <td>Missing</td>\n",
       "      <td>No</td>\n",
       "      <td>Missing</td>\n",
       "    </tr>\n",
       "    <tr>\n",
       "      <th>16</th>\n",
       "      <td>2021-01-23</td>\n",
       "      <td>2021-01-23</td>\n",
       "      <td>NaT</td>\n",
       "      <td>2021-01-23</td>\n",
       "      <td>Laboratory-confirmed case</td>\n",
       "      <td>Female</td>\n",
       "      <td>10 - 19 Years</td>\n",
       "      <td>Unknown</td>\n",
       "      <td>No</td>\n",
       "      <td>Missing</td>\n",
       "      <td>No</td>\n",
       "      <td>Missing</td>\n",
       "    </tr>\n",
       "    <tr>\n",
       "      <th>...</th>\n",
       "      <td>...</td>\n",
       "      <td>...</td>\n",
       "      <td>...</td>\n",
       "      <td>...</td>\n",
       "      <td>...</td>\n",
       "      <td>...</td>\n",
       "      <td>...</td>\n",
       "      <td>...</td>\n",
       "      <td>...</td>\n",
       "      <td>...</td>\n",
       "      <td>...</td>\n",
       "      <td>...</td>\n",
       "    </tr>\n",
       "    <tr>\n",
       "      <th>9980</th>\n",
       "      <td>2021-01-26</td>\n",
       "      <td>NaT</td>\n",
       "      <td>NaT</td>\n",
       "      <td>NaT</td>\n",
       "      <td>Laboratory-confirmed case</td>\n",
       "      <td>Male</td>\n",
       "      <td>20 - 29 Years</td>\n",
       "      <td>Unknown</td>\n",
       "      <td>Unknown</td>\n",
       "      <td>Missing</td>\n",
       "      <td>No</td>\n",
       "      <td>Missing</td>\n",
       "    </tr>\n",
       "    <tr>\n",
       "      <th>9985</th>\n",
       "      <td>2021-02-02</td>\n",
       "      <td>NaT</td>\n",
       "      <td>NaT</td>\n",
       "      <td>NaT</td>\n",
       "      <td>Laboratory-confirmed case</td>\n",
       "      <td>Male</td>\n",
       "      <td>20 - 29 Years</td>\n",
       "      <td>Unknown</td>\n",
       "      <td>Missing</td>\n",
       "      <td>Missing</td>\n",
       "      <td>No</td>\n",
       "      <td>Missing</td>\n",
       "    </tr>\n",
       "    <tr>\n",
       "      <th>9989</th>\n",
       "      <td>2021-01-31</td>\n",
       "      <td>2021-01-31</td>\n",
       "      <td>NaT</td>\n",
       "      <td>NaT</td>\n",
       "      <td>Laboratory-confirmed case</td>\n",
       "      <td>Female</td>\n",
       "      <td>40 - 49 Years</td>\n",
       "      <td>White, Non-Hispanic</td>\n",
       "      <td>Missing</td>\n",
       "      <td>Missing</td>\n",
       "      <td>No</td>\n",
       "      <td>Missing</td>\n",
       "    </tr>\n",
       "    <tr>\n",
       "      <th>9995</th>\n",
       "      <td>2021-01-20</td>\n",
       "      <td>NaT</td>\n",
       "      <td>NaT</td>\n",
       "      <td>NaT</td>\n",
       "      <td>Laboratory-confirmed case</td>\n",
       "      <td>Male</td>\n",
       "      <td>30 - 39 Years</td>\n",
       "      <td>Unknown</td>\n",
       "      <td>Missing</td>\n",
       "      <td>Missing</td>\n",
       "      <td>No</td>\n",
       "      <td>Missing</td>\n",
       "    </tr>\n",
       "    <tr>\n",
       "      <th>9996</th>\n",
       "      <td>2021-02-01</td>\n",
       "      <td>2021-02-01</td>\n",
       "      <td>NaT</td>\n",
       "      <td>2021-02-01</td>\n",
       "      <td>Laboratory-confirmed case</td>\n",
       "      <td>Female</td>\n",
       "      <td>50 - 59 Years</td>\n",
       "      <td>Unknown</td>\n",
       "      <td>No</td>\n",
       "      <td>Missing</td>\n",
       "      <td>No</td>\n",
       "      <td>Missing</td>\n",
       "    </tr>\n",
       "  </tbody>\n",
       "</table>\n",
       "<p>2749 rows × 12 columns</p>\n",
       "</div>"
      ],
      "text/plain": [
       "     cdc_case_earliest_dt cdc_report_dt pos_spec_dt   onset_dt  \\\n",
       "1              2021-01-26           NaT         NaT        NaT   \n",
       "6              2021-01-26           NaT         NaT        NaT   \n",
       "8              2021-01-23           NaT         NaT        NaT   \n",
       "12             2021-01-22    2021-02-04  2021-01-22        NaT   \n",
       "16             2021-01-23    2021-01-23         NaT 2021-01-23   \n",
       "...                   ...           ...         ...        ...   \n",
       "9980           2021-01-26           NaT         NaT        NaT   \n",
       "9985           2021-02-02           NaT         NaT        NaT   \n",
       "9989           2021-01-31    2021-01-31         NaT        NaT   \n",
       "9995           2021-01-20           NaT         NaT        NaT   \n",
       "9996           2021-02-01    2021-02-01         NaT 2021-02-01   \n",
       "\n",
       "                 current_status     sex      age_group  \\\n",
       "1     Laboratory-confirmed case  Female  30 - 39 Years   \n",
       "6     Laboratory-confirmed case    Male  20 - 29 Years   \n",
       "8     Laboratory-confirmed case    Male  40 - 49 Years   \n",
       "12    Laboratory-confirmed case    Male  40 - 49 Years   \n",
       "16    Laboratory-confirmed case  Female  10 - 19 Years   \n",
       "...                         ...     ...            ...   \n",
       "9980  Laboratory-confirmed case    Male  20 - 29 Years   \n",
       "9985  Laboratory-confirmed case    Male  20 - 29 Years   \n",
       "9989  Laboratory-confirmed case  Female  40 - 49 Years   \n",
       "9995  Laboratory-confirmed case    Male  30 - 39 Years   \n",
       "9996  Laboratory-confirmed case  Female  50 - 59 Years   \n",
       "\n",
       "     race_ethnicity_combined  hosp_yn   icu_yn death_yn medcond_yn  \n",
       "1                    Unknown  Unknown  Missing       No    Missing  \n",
       "6        White, Non-Hispanic  Unknown  Missing       No    Missing  \n",
       "8                    Unknown  Unknown  Missing       No    Missing  \n",
       "12                   Unknown  Missing  Missing       No    Missing  \n",
       "16                   Unknown       No  Missing       No    Missing  \n",
       "...                      ...      ...      ...      ...        ...  \n",
       "9980                 Unknown  Unknown  Missing       No    Missing  \n",
       "9985                 Unknown  Missing  Missing       No    Missing  \n",
       "9989     White, Non-Hispanic  Missing  Missing       No    Missing  \n",
       "9995                 Unknown  Missing  Missing       No    Missing  \n",
       "9996                 Unknown       No  Missing       No    Missing  \n",
       "\n",
       "[2749 rows x 12 columns]"
      ]
     },
     "execution_count": 11,
     "metadata": {},
     "output_type": "execute_result"
    }
   ],
   "source": [
    "#shows some rows conisdered duplicated\n",
    "duplicates = df[df.duplicated(keep=False)]\n",
    "duplicates"
   ]
  },
  {
   "cell_type": "code",
   "execution_count": 12,
   "metadata": {},
   "outputs": [
    {
     "name": "stdout",
     "output_type": "stream",
     "text": [
      "The number of suspected duplicates:  1681\n"
     ]
    }
   ],
   "source": [
    "print('The number of suspected duplicates: ', df.duplicated().sum())"
   ]
  },
  {
   "cell_type": "code",
   "execution_count": 13,
   "metadata": {
    "scrolled": true
   },
   "outputs": [
    {
     "name": "stdout",
     "output_type": "stream",
     "text": [
      "Number of rows and columns for rows_duplicates:  (0, 12)\n"
     ]
    }
   ],
   "source": [
    "# let us investigate possible duplicates for a date\n",
    "rows_duplicates = duplicates.loc[duplicates['cdc_case_earliest_dt'] == '2021-01-05']\n",
    "rows_duplicates = rows_duplicates.sort_values('age_group')\n",
    "print(\"Number of rows and columns for rows_duplicates: \", rows_duplicates.shape)"
   ]
  },
  {
   "cell_type": "code",
   "execution_count": 14,
   "metadata": {
    "scrolled": true
   },
   "outputs": [
    {
     "data": {
      "text/html": [
       "<div>\n",
       "<style scoped>\n",
       "    .dataframe tbody tr th:only-of-type {\n",
       "        vertical-align: middle;\n",
       "    }\n",
       "\n",
       "    .dataframe tbody tr th {\n",
       "        vertical-align: top;\n",
       "    }\n",
       "\n",
       "    .dataframe thead th {\n",
       "        text-align: right;\n",
       "    }\n",
       "</style>\n",
       "<table border=\"1\" class=\"dataframe\">\n",
       "  <thead>\n",
       "    <tr style=\"text-align: right;\">\n",
       "      <th></th>\n",
       "      <th>cdc_case_earliest_dt</th>\n",
       "      <th>cdc_report_dt</th>\n",
       "      <th>pos_spec_dt</th>\n",
       "      <th>onset_dt</th>\n",
       "      <th>current_status</th>\n",
       "      <th>sex</th>\n",
       "      <th>age_group</th>\n",
       "      <th>race_ethnicity_combined</th>\n",
       "      <th>hosp_yn</th>\n",
       "      <th>icu_yn</th>\n",
       "      <th>death_yn</th>\n",
       "      <th>medcond_yn</th>\n",
       "    </tr>\n",
       "  </thead>\n",
       "  <tbody>\n",
       "  </tbody>\n",
       "</table>\n",
       "</div>"
      ],
      "text/plain": [
       "Empty DataFrame\n",
       "Columns: [cdc_case_earliest_dt, cdc_report_dt, pos_spec_dt, onset_dt, current_status, sex, age_group, race_ethnicity_combined, hosp_yn, icu_yn, death_yn, medcond_yn]\n",
       "Index: []"
      ]
     },
     "execution_count": 14,
     "metadata": {},
     "output_type": "execute_result"
    }
   ],
   "source": [
    "rows_duplicates[rows_duplicates.duplicated()]"
   ]
  },
  {
   "cell_type": "code",
   "execution_count": 15,
   "metadata": {},
   "outputs": [
    {
     "data": {
      "text/html": [
       "<div>\n",
       "<style scoped>\n",
       "    .dataframe tbody tr th:only-of-type {\n",
       "        vertical-align: middle;\n",
       "    }\n",
       "\n",
       "    .dataframe tbody tr th {\n",
       "        vertical-align: top;\n",
       "    }\n",
       "\n",
       "    .dataframe thead th {\n",
       "        text-align: right;\n",
       "    }\n",
       "</style>\n",
       "<table border=\"1\" class=\"dataframe\">\n",
       "  <thead>\n",
       "    <tr style=\"text-align: right;\">\n",
       "      <th></th>\n",
       "      <th>cdc_case_earliest_dt</th>\n",
       "      <th>cdc_report_dt</th>\n",
       "      <th>pos_spec_dt</th>\n",
       "      <th>onset_dt</th>\n",
       "      <th>current_status</th>\n",
       "      <th>sex</th>\n",
       "      <th>age_group</th>\n",
       "      <th>race_ethnicity_combined</th>\n",
       "      <th>hosp_yn</th>\n",
       "      <th>icu_yn</th>\n",
       "      <th>death_yn</th>\n",
       "      <th>medcond_yn</th>\n",
       "    </tr>\n",
       "  </thead>\n",
       "  <tbody>\n",
       "  </tbody>\n",
       "</table>\n",
       "</div>"
      ],
      "text/plain": [
       "Empty DataFrame\n",
       "Columns: [cdc_case_earliest_dt, cdc_report_dt, pos_spec_dt, onset_dt, current_status, sex, age_group, race_ethnicity_combined, hosp_yn, icu_yn, death_yn, medcond_yn]\n",
       "Index: []"
      ]
     },
     "execution_count": 15,
     "metadata": {},
     "output_type": "execute_result"
    }
   ],
   "source": [
    "rows_duplicates.head(15)"
   ]
  },
  {
   "cell_type": "markdown",
   "metadata": {},
   "source": [
    "### Conclusion\n",
    "The table illustrates the duplicated rows given a certain date, 2021-01-05. It is sorted by age_group. We see that there are 481 suspected duplicates. The reason I narrowed this down so that we can see the duplicates and analyze them. We see a few duplicates when we look at the first 15 rows of rows_duplicates, where the rows are exactly the same for e.g. row 2014 + row 2052 are duplicates, row 6907 + row 6319 + row 8230 are duplicates. Though they are duplicates, I will not be dropping them. As I have stated before, these are individual patients and it is inevitable that we will encounter identical data when it comes to patient data. This is not an assumption as taking the population of the United States of America, there will be identical patient data when categorizing them. Additionally, the documentation states that some data for patient have been re-coded to missing to perserve their identities. I use this knowledge to further my point that duplicates should not be dropped, because matching NaN values for example is not feasable in this case."
   ]
  },
  {
   "cell_type": "markdown",
   "metadata": {},
   "source": [
    "## Checking descriptive statistics"
   ]
  },
  {
   "cell_type": "code",
   "execution_count": 16,
   "metadata": {},
   "outputs": [
    {
     "data": {
      "text/html": [
       "<div>\n",
       "<style scoped>\n",
       "    .dataframe tbody tr th:only-of-type {\n",
       "        vertical-align: middle;\n",
       "    }\n",
       "\n",
       "    .dataframe tbody tr th {\n",
       "        vertical-align: top;\n",
       "    }\n",
       "\n",
       "    .dataframe thead th {\n",
       "        text-align: right;\n",
       "    }\n",
       "</style>\n",
       "<table border=\"1\" class=\"dataframe\">\n",
       "  <thead>\n",
       "    <tr style=\"text-align: right;\">\n",
       "      <th></th>\n",
       "      <th>count</th>\n",
       "      <th>mean</th>\n",
       "      <th>min</th>\n",
       "      <th>25%</th>\n",
       "      <th>50%</th>\n",
       "      <th>75%</th>\n",
       "      <th>max</th>\n",
       "    </tr>\n",
       "  </thead>\n",
       "  <tbody>\n",
       "    <tr>\n",
       "      <th>cdc_case_earliest_dt</th>\n",
       "      <td>10000</td>\n",
       "      <td>2021-01-29 09:49:58.080000000</td>\n",
       "      <td>2021-01-19</td>\n",
       "      <td>2021-01-23</td>\n",
       "      <td>2021-01-29</td>\n",
       "      <td>2021-02-04</td>\n",
       "      <td>2021-02-13</td>\n",
       "    </tr>\n",
       "    <tr>\n",
       "      <th>cdc_report_dt</th>\n",
       "      <td>7835</td>\n",
       "      <td>2021-02-01 11:15:03.790682880</td>\n",
       "      <td>2020-07-17</td>\n",
       "      <td>2021-01-26</td>\n",
       "      <td>2021-02-01</td>\n",
       "      <td>2021-02-08</td>\n",
       "      <td>2021-02-27</td>\n",
       "    </tr>\n",
       "    <tr>\n",
       "      <th>pos_spec_dt</th>\n",
       "      <td>2555</td>\n",
       "      <td>2021-01-29 23:23:55.772994304</td>\n",
       "      <td>2020-07-17</td>\n",
       "      <td>2021-01-24</td>\n",
       "      <td>2021-01-29</td>\n",
       "      <td>2021-02-05</td>\n",
       "      <td>2021-02-23</td>\n",
       "    </tr>\n",
       "    <tr>\n",
       "      <th>onset_dt</th>\n",
       "      <td>4162</td>\n",
       "      <td>2021-01-29 13:35:50.312349952</td>\n",
       "      <td>2021-01-19</td>\n",
       "      <td>2021-01-23</td>\n",
       "      <td>2021-01-29</td>\n",
       "      <td>2021-02-04</td>\n",
       "      <td>2021-02-27</td>\n",
       "    </tr>\n",
       "  </tbody>\n",
       "</table>\n",
       "</div>"
      ],
      "text/plain": [
       "                      count                          mean        min  \\\n",
       "cdc_case_earliest_dt  10000 2021-01-29 09:49:58.080000000 2021-01-19   \n",
       "cdc_report_dt          7835 2021-02-01 11:15:03.790682880 2020-07-17   \n",
       "pos_spec_dt            2555 2021-01-29 23:23:55.772994304 2020-07-17   \n",
       "onset_dt               4162 2021-01-29 13:35:50.312349952 2021-01-19   \n",
       "\n",
       "                            25%        50%        75%        max  \n",
       "cdc_case_earliest_dt 2021-01-23 2021-01-29 2021-02-04 2021-02-13  \n",
       "cdc_report_dt        2021-01-26 2021-02-01 2021-02-08 2021-02-27  \n",
       "pos_spec_dt          2021-01-24 2021-01-29 2021-02-05 2021-02-23  \n",
       "onset_dt             2021-01-23 2021-01-29 2021-02-04 2021-02-27  "
      ]
     },
     "execution_count": 16,
     "metadata": {},
     "output_type": "execute_result"
    }
   ],
   "source": [
    "df[datetimeFeat].describe(datetime_is_numeric=True).T"
   ]
  },
  {
   "cell_type": "code",
   "execution_count": 17,
   "metadata": {},
   "outputs": [
    {
     "data": {
      "text/html": [
       "<div>\n",
       "<style scoped>\n",
       "    .dataframe tbody tr th:only-of-type {\n",
       "        vertical-align: middle;\n",
       "    }\n",
       "\n",
       "    .dataframe tbody tr th {\n",
       "        vertical-align: top;\n",
       "    }\n",
       "\n",
       "    .dataframe thead th {\n",
       "        text-align: right;\n",
       "    }\n",
       "</style>\n",
       "<table border=\"1\" class=\"dataframe\">\n",
       "  <thead>\n",
       "    <tr style=\"text-align: right;\">\n",
       "      <th></th>\n",
       "      <th>count</th>\n",
       "      <th>unique</th>\n",
       "      <th>top</th>\n",
       "      <th>freq</th>\n",
       "    </tr>\n",
       "  </thead>\n",
       "  <tbody>\n",
       "    <tr>\n",
       "      <th>current_status</th>\n",
       "      <td>10000</td>\n",
       "      <td>2</td>\n",
       "      <td>Laboratory-confirmed case</td>\n",
       "      <td>8906</td>\n",
       "    </tr>\n",
       "    <tr>\n",
       "      <th>sex</th>\n",
       "      <td>10000</td>\n",
       "      <td>5</td>\n",
       "      <td>Female</td>\n",
       "      <td>5127</td>\n",
       "    </tr>\n",
       "    <tr>\n",
       "      <th>age_group</th>\n",
       "      <td>10000</td>\n",
       "      <td>10</td>\n",
       "      <td>20 - 29 Years</td>\n",
       "      <td>1730</td>\n",
       "    </tr>\n",
       "    <tr>\n",
       "      <th>race_ethnicity_combined</th>\n",
       "      <td>10000</td>\n",
       "      <td>9</td>\n",
       "      <td>Unknown</td>\n",
       "      <td>4128</td>\n",
       "    </tr>\n",
       "    <tr>\n",
       "      <th>hosp_yn</th>\n",
       "      <td>10000</td>\n",
       "      <td>4</td>\n",
       "      <td>No</td>\n",
       "      <td>4659</td>\n",
       "    </tr>\n",
       "    <tr>\n",
       "      <th>icu_yn</th>\n",
       "      <td>10000</td>\n",
       "      <td>4</td>\n",
       "      <td>Missing</td>\n",
       "      <td>8067</td>\n",
       "    </tr>\n",
       "    <tr>\n",
       "      <th>death_yn</th>\n",
       "      <td>10000</td>\n",
       "      <td>2</td>\n",
       "      <td>No</td>\n",
       "      <td>9879</td>\n",
       "    </tr>\n",
       "    <tr>\n",
       "      <th>medcond_yn</th>\n",
       "      <td>10000</td>\n",
       "      <td>4</td>\n",
       "      <td>Missing</td>\n",
       "      <td>7942</td>\n",
       "    </tr>\n",
       "  </tbody>\n",
       "</table>\n",
       "</div>"
      ],
      "text/plain": [
       "                         count unique                        top  freq\n",
       "current_status           10000      2  Laboratory-confirmed case  8906\n",
       "sex                      10000      5                     Female  5127\n",
       "age_group                10000     10              20 - 29 Years  1730\n",
       "race_ethnicity_combined  10000      9                    Unknown  4128\n",
       "hosp_yn                  10000      4                         No  4659\n",
       "icu_yn                   10000      4                    Missing  8067\n",
       "death_yn                 10000      2                         No  9879\n",
       "medcond_yn               10000      4                    Missing  7942"
      ]
     },
     "execution_count": 17,
     "metadata": {},
     "output_type": "execute_result"
    }
   ],
   "source": [
    "df[catFeat].describe().T"
   ]
  },
  {
   "cell_type": "code",
   "execution_count": 18,
   "metadata": {
    "scrolled": true
   },
   "outputs": [
    {
     "data": {
      "text/html": [
       "<div>\n",
       "<style scoped>\n",
       "    .dataframe tbody tr th:only-of-type {\n",
       "        vertical-align: middle;\n",
       "    }\n",
       "\n",
       "    .dataframe tbody tr th {\n",
       "        vertical-align: top;\n",
       "    }\n",
       "\n",
       "    .dataframe thead th {\n",
       "        text-align: right;\n",
       "    }\n",
       "</style>\n",
       "<table border=\"1\" class=\"dataframe\">\n",
       "  <thead>\n",
       "    <tr style=\"text-align: right;\">\n",
       "      <th></th>\n",
       "      <th>mode</th>\n",
       "      <th>%mode</th>\n",
       "      <th>freq_mode</th>\n",
       "      <th>2ndmode</th>\n",
       "      <th>%2ndmode</th>\n",
       "      <th>freq_2ndmode</th>\n",
       "    </tr>\n",
       "  </thead>\n",
       "  <tbody>\n",
       "    <tr>\n",
       "      <th>current_status</th>\n",
       "      <td>Laboratory-confirmed case</td>\n",
       "      <td>89.06</td>\n",
       "      <td>8906</td>\n",
       "      <td>Probable Case</td>\n",
       "      <td>10.94</td>\n",
       "      <td>1094</td>\n",
       "    </tr>\n",
       "    <tr>\n",
       "      <th>sex</th>\n",
       "      <td>Female</td>\n",
       "      <td>51.27</td>\n",
       "      <td>5127</td>\n",
       "      <td>Male</td>\n",
       "      <td>47.88</td>\n",
       "      <td>4788</td>\n",
       "    </tr>\n",
       "    <tr>\n",
       "      <th>age_group</th>\n",
       "      <td>20 - 29 Years</td>\n",
       "      <td>17.3</td>\n",
       "      <td>1730</td>\n",
       "      <td>30 - 39 Years</td>\n",
       "      <td>16.35</td>\n",
       "      <td>1635</td>\n",
       "    </tr>\n",
       "    <tr>\n",
       "      <th>race_ethnicity_combined</th>\n",
       "      <td>Unknown</td>\n",
       "      <td>41.28</td>\n",
       "      <td>4128</td>\n",
       "      <td>White, Non-Hispanic</td>\n",
       "      <td>33.97</td>\n",
       "      <td>3397</td>\n",
       "    </tr>\n",
       "    <tr>\n",
       "      <th>hosp_yn</th>\n",
       "      <td>No</td>\n",
       "      <td>46.59</td>\n",
       "      <td>4659</td>\n",
       "      <td>Missing</td>\n",
       "      <td>27.6</td>\n",
       "      <td>2760</td>\n",
       "    </tr>\n",
       "    <tr>\n",
       "      <th>icu_yn</th>\n",
       "      <td>Missing</td>\n",
       "      <td>80.67</td>\n",
       "      <td>8067</td>\n",
       "      <td>Unknown</td>\n",
       "      <td>13.91</td>\n",
       "      <td>1391</td>\n",
       "    </tr>\n",
       "    <tr>\n",
       "      <th>death_yn</th>\n",
       "      <td>No</td>\n",
       "      <td>98.79</td>\n",
       "      <td>9879</td>\n",
       "      <td>Yes</td>\n",
       "      <td>1.21</td>\n",
       "      <td>121</td>\n",
       "    </tr>\n",
       "    <tr>\n",
       "      <th>medcond_yn</th>\n",
       "      <td>Missing</td>\n",
       "      <td>79.42</td>\n",
       "      <td>7942</td>\n",
       "      <td>Unknown</td>\n",
       "      <td>10.25</td>\n",
       "      <td>1025</td>\n",
       "    </tr>\n",
       "  </tbody>\n",
       "</table>\n",
       "</div>"
      ],
      "text/plain": [
       "                                              mode  %mode freq_mode  \\\n",
       "current_status           Laboratory-confirmed case  89.06      8906   \n",
       "sex                                         Female  51.27      5127   \n",
       "age_group                            20 - 29 Years   17.3      1730   \n",
       "race_ethnicity_combined                    Unknown  41.28      4128   \n",
       "hosp_yn                                         No  46.59      4659   \n",
       "icu_yn                                     Missing  80.67      8067   \n",
       "death_yn                                        No  98.79      9879   \n",
       "medcond_yn                                 Missing  79.42      7942   \n",
       "\n",
       "                                     2ndmode %2ndmode freq_2ndmode  \n",
       "current_status                 Probable Case    10.94         1094  \n",
       "sex                                     Male    47.88         4788  \n",
       "age_group                      30 - 39 Years    16.35         1635  \n",
       "race_ethnicity_combined  White, Non-Hispanic    33.97         3397  \n",
       "hosp_yn                              Missing     27.6         2760  \n",
       "icu_yn                               Unknown    13.91         1391  \n",
       "death_yn                                 Yes     1.21          121  \n",
       "medcond_yn                           Unknown    10.25         1025  "
      ]
     },
     "execution_count": 18,
     "metadata": {},
     "output_type": "execute_result"
    }
   ],
   "source": [
    "# Creating descriptive statistics for categorical features\n",
    "df_cat_table = df[catFeat].describe().T\n",
    "\n",
    "df_cat_mode = pd.DataFrame(index = df_cat_table.index, columns =['mode', '%mode', 'freq_mode', '2ndmode', '%2ndmode', 'freq_2ndmode'])\n",
    "for column in catFeat:\n",
    "    df_cat_mode.loc[column]['mode'] = df[column].value_counts().keys()[0]\n",
    "    df_cat_mode.loc[column]['freq_mode'] = df[column].value_counts()[df_cat_mode.loc[column]['mode']]\n",
    "    df_cat_mode.loc[column]['%mode'] = round((100 * df[column].value_counts(normalize=True)[df_cat_mode.loc[column]['mode']]), 3)\n",
    "    \n",
    "    if df[column].value_counts().size > 1:\n",
    "        df_cat_mode.loc[column]['2ndmode'] = df[column].value_counts().keys()[1]\n",
    "        df_cat_mode.loc[column]['freq_2ndmode'] = df[column].value_counts()[df_cat_mode.loc[column]['2ndmode']]\n",
    "        df_cat_mode.loc[column]['%2ndmode'] = round((100 * df[column].value_counts(normalize=True)[df_cat_mode.loc[column]['2ndmode']]),3)\n",
    "    else: df_cat_mode.loc[column] = '-'\n",
    "\n",
    "df_cat_mode"
   ]
  },
  {
   "cell_type": "markdown",
   "metadata": {},
   "source": [
    "**Stastical table for categorical features**"
   ]
  },
  {
   "cell_type": "code",
   "execution_count": 19,
   "metadata": {},
   "outputs": [
    {
     "data": {
      "text/html": [
       "<div>\n",
       "<style scoped>\n",
       "    .dataframe tbody tr th:only-of-type {\n",
       "        vertical-align: middle;\n",
       "    }\n",
       "\n",
       "    .dataframe tbody tr th {\n",
       "        vertical-align: top;\n",
       "    }\n",
       "\n",
       "    .dataframe thead th {\n",
       "        text-align: right;\n",
       "    }\n",
       "</style>\n",
       "<table border=\"1\" class=\"dataframe\">\n",
       "  <thead>\n",
       "    <tr style=\"text-align: right;\">\n",
       "      <th></th>\n",
       "      <th>count</th>\n",
       "      <th>unique</th>\n",
       "      <th>top</th>\n",
       "      <th>freq</th>\n",
       "      <th>mode</th>\n",
       "      <th>%mode</th>\n",
       "      <th>freq_mode</th>\n",
       "      <th>2ndmode</th>\n",
       "      <th>%2ndmode</th>\n",
       "      <th>freq_2ndmode</th>\n",
       "      <th>missing%</th>\n",
       "      <th>unknown%</th>\n",
       "    </tr>\n",
       "  </thead>\n",
       "  <tbody>\n",
       "    <tr>\n",
       "      <th>current_status</th>\n",
       "      <td>10000</td>\n",
       "      <td>2</td>\n",
       "      <td>Laboratory-confirmed case</td>\n",
       "      <td>8906</td>\n",
       "      <td>Laboratory-confirmed case</td>\n",
       "      <td>89.06</td>\n",
       "      <td>8906</td>\n",
       "      <td>Probable Case</td>\n",
       "      <td>10.94</td>\n",
       "      <td>1094</td>\n",
       "      <td>0.00</td>\n",
       "      <td>0.00</td>\n",
       "    </tr>\n",
       "    <tr>\n",
       "      <th>sex</th>\n",
       "      <td>10000</td>\n",
       "      <td>5</td>\n",
       "      <td>Female</td>\n",
       "      <td>5127</td>\n",
       "      <td>Female</td>\n",
       "      <td>51.27</td>\n",
       "      <td>5127</td>\n",
       "      <td>Male</td>\n",
       "      <td>47.88</td>\n",
       "      <td>4788</td>\n",
       "      <td>0.11</td>\n",
       "      <td>0.73</td>\n",
       "    </tr>\n",
       "    <tr>\n",
       "      <th>age_group</th>\n",
       "      <td>10000</td>\n",
       "      <td>10</td>\n",
       "      <td>20 - 29 Years</td>\n",
       "      <td>1730</td>\n",
       "      <td>20 - 29 Years</td>\n",
       "      <td>17.3</td>\n",
       "      <td>1730</td>\n",
       "      <td>30 - 39 Years</td>\n",
       "      <td>16.35</td>\n",
       "      <td>1635</td>\n",
       "      <td>0.13</td>\n",
       "      <td>0.00</td>\n",
       "    </tr>\n",
       "    <tr>\n",
       "      <th>race_ethnicity_combined</th>\n",
       "      <td>10000</td>\n",
       "      <td>9</td>\n",
       "      <td>Unknown</td>\n",
       "      <td>4128</td>\n",
       "      <td>Unknown</td>\n",
       "      <td>41.28</td>\n",
       "      <td>4128</td>\n",
       "      <td>White, Non-Hispanic</td>\n",
       "      <td>33.97</td>\n",
       "      <td>3397</td>\n",
       "      <td>0.67</td>\n",
       "      <td>41.28</td>\n",
       "    </tr>\n",
       "    <tr>\n",
       "      <th>hosp_yn</th>\n",
       "      <td>10000</td>\n",
       "      <td>4</td>\n",
       "      <td>No</td>\n",
       "      <td>4659</td>\n",
       "      <td>No</td>\n",
       "      <td>46.59</td>\n",
       "      <td>4659</td>\n",
       "      <td>Missing</td>\n",
       "      <td>27.6</td>\n",
       "      <td>2760</td>\n",
       "      <td>27.60</td>\n",
       "      <td>21.87</td>\n",
       "    </tr>\n",
       "    <tr>\n",
       "      <th>icu_yn</th>\n",
       "      <td>10000</td>\n",
       "      <td>4</td>\n",
       "      <td>Missing</td>\n",
       "      <td>8067</td>\n",
       "      <td>Missing</td>\n",
       "      <td>80.67</td>\n",
       "      <td>8067</td>\n",
       "      <td>Unknown</td>\n",
       "      <td>13.91</td>\n",
       "      <td>1391</td>\n",
       "      <td>80.67</td>\n",
       "      <td>13.91</td>\n",
       "    </tr>\n",
       "    <tr>\n",
       "      <th>death_yn</th>\n",
       "      <td>10000</td>\n",
       "      <td>2</td>\n",
       "      <td>No</td>\n",
       "      <td>9879</td>\n",
       "      <td>No</td>\n",
       "      <td>98.79</td>\n",
       "      <td>9879</td>\n",
       "      <td>Yes</td>\n",
       "      <td>1.21</td>\n",
       "      <td>121</td>\n",
       "      <td>0.00</td>\n",
       "      <td>0.00</td>\n",
       "    </tr>\n",
       "    <tr>\n",
       "      <th>medcond_yn</th>\n",
       "      <td>10000</td>\n",
       "      <td>4</td>\n",
       "      <td>Missing</td>\n",
       "      <td>7942</td>\n",
       "      <td>Missing</td>\n",
       "      <td>79.42</td>\n",
       "      <td>7942</td>\n",
       "      <td>Unknown</td>\n",
       "      <td>10.25</td>\n",
       "      <td>1025</td>\n",
       "      <td>79.42</td>\n",
       "      <td>10.25</td>\n",
       "    </tr>\n",
       "  </tbody>\n",
       "</table>\n",
       "</div>"
      ],
      "text/plain": [
       "                         count unique                        top  freq  \\\n",
       "current_status           10000      2  Laboratory-confirmed case  8906   \n",
       "sex                      10000      5                     Female  5127   \n",
       "age_group                10000     10              20 - 29 Years  1730   \n",
       "race_ethnicity_combined  10000      9                    Unknown  4128   \n",
       "hosp_yn                  10000      4                         No  4659   \n",
       "icu_yn                   10000      4                    Missing  8067   \n",
       "death_yn                 10000      2                         No  9879   \n",
       "medcond_yn               10000      4                    Missing  7942   \n",
       "\n",
       "                                              mode  %mode freq_mode  \\\n",
       "current_status           Laboratory-confirmed case  89.06      8906   \n",
       "sex                                         Female  51.27      5127   \n",
       "age_group                            20 - 29 Years   17.3      1730   \n",
       "race_ethnicity_combined                    Unknown  41.28      4128   \n",
       "hosp_yn                                         No  46.59      4659   \n",
       "icu_yn                                     Missing  80.67      8067   \n",
       "death_yn                                        No  98.79      9879   \n",
       "medcond_yn                                 Missing  79.42      7942   \n",
       "\n",
       "                                     2ndmode %2ndmode freq_2ndmode  missing%  \\\n",
       "current_status                 Probable Case    10.94         1094      0.00   \n",
       "sex                                     Male    47.88         4788      0.11   \n",
       "age_group                      30 - 39 Years    16.35         1635      0.13   \n",
       "race_ethnicity_combined  White, Non-Hispanic    33.97         3397      0.67   \n",
       "hosp_yn                              Missing     27.6         2760     27.60   \n",
       "icu_yn                               Unknown    13.91         1391     80.67   \n",
       "death_yn                                 Yes     1.21          121      0.00   \n",
       "medcond_yn                           Unknown    10.25         1025     79.42   \n",
       "\n",
       "                         unknown%  \n",
       "current_status               0.00  \n",
       "sex                          0.73  \n",
       "age_group                    0.00  \n",
       "race_ethnicity_combined     41.28  \n",
       "hosp_yn                     21.87  \n",
       "icu_yn                      13.91  \n",
       "death_yn                     0.00  \n",
       "medcond_yn                  10.25  "
      ]
     },
     "execution_count": 19,
     "metadata": {},
     "output_type": "execute_result"
    }
   ],
   "source": [
    "categoric_columns_missing  = round((100 * ((df[catFeat]== \"Missing\").sum()/df.shape[0])), 3)\n",
    "df_miss_col = pd.DataFrame(categoric_columns_missing, columns=['missing%'])\n",
    "\n",
    "categoric_columns_unknown  = round((100 * ((df[catFeat]== \"Unknown\").sum()/df.shape[0])), 3)\n",
    "df_unknown_col = pd.DataFrame(categoric_columns_unknown, columns=['unknown%'])\n",
    "\n",
    "#concat these to the table\n",
    "df_table_cat = df[catFeat].describe().T\n",
    "df_cat_columns_data_quality_report_table = pd.concat([df_table_cat, df_cat_mode, df_miss_col, df_unknown_col], axis=1)\n",
    "\n",
    "df_cat_columns_data_quality_report_table"
   ]
  },
  {
   "cell_type": "markdown",
   "metadata": {},
   "source": [
    "**Statistical table for datetime features (categorical)**"
   ]
  },
  {
   "cell_type": "code",
   "execution_count": 20,
   "metadata": {},
   "outputs": [],
   "source": [
    "#we will create these columns with the datetime features \n",
    "df_datetime_table = df[datetimeFeat].describe().T\n",
    "df_datetime_mode = pd.DataFrame(index = df_datetime_table.index, columns =['mode', '%mode', 'freq_mode', '2ndmode', '%2ndmode', 'freq_2ndmode'])\n",
    "\n",
    "#adding mode, freq mode, %mode, 2ndmode, freq 2ndmode, %2ndmode for descriptive statistics for datetime features.\n",
    "for column in datetimeFeat:   \n",
    "    df_datetime_mode.loc[column]['mode'] = df[column].value_counts().keys()[0]\n",
    "    df_datetime_mode.loc[column]['freq_mode'] = df[column].value_counts()[df_datetime_mode.loc[column]['mode']]\n",
    "    df_datetime_mode.loc[column]['%mode'] = round((100* df[column].value_counts(normalize=True)[df_datetime_mode.loc[column]['mode']]), 3)\n",
    "    \n",
    "    if df[column].value_counts().size > 1:\n",
    "        df_datetime_mode.loc[column]['2ndmode'] = df[column].value_counts().keys()[1]\n",
    "        df_datetime_mode.loc[column]['freq_2ndmode'] = df[column].value_counts()[df_datetime_mode.loc[column]['2ndmode']]\n",
    "        df_datetime_mode.loc[column]['%2ndmode'] = round((100 * df[column].value_counts(normalize=True)[df_datetime_mode.loc[column]['2ndmode']]), 3)\n",
    "    else: df_datetime_mode.loc[column] = '-'"
   ]
  },
  {
   "cell_type": "code",
   "execution_count": 21,
   "metadata": {},
   "outputs": [],
   "source": [
    "#putting missing%\n",
    "df_missing2 = round((100 * (df[datetimeFeat].isnull().sum()/df.shape[0])),3)\n",
    "\n",
    "#adding it into the table\n",
    "df_miss_col_2 = pd.DataFrame(df_missing2, columns=['missing%'])"
   ]
  },
  {
   "cell_type": "code",
   "execution_count": 22,
   "metadata": {},
   "outputs": [
    {
     "data": {
      "text/html": [
       "<div>\n",
       "<style scoped>\n",
       "    .dataframe tbody tr th:only-of-type {\n",
       "        vertical-align: middle;\n",
       "    }\n",
       "\n",
       "    .dataframe tbody tr th {\n",
       "        vertical-align: top;\n",
       "    }\n",
       "\n",
       "    .dataframe thead th {\n",
       "        text-align: right;\n",
       "    }\n",
       "</style>\n",
       "<table border=\"1\" class=\"dataframe\">\n",
       "  <thead>\n",
       "    <tr style=\"text-align: right;\">\n",
       "      <th></th>\n",
       "      <th>count</th>\n",
       "      <th>unique</th>\n",
       "      <th>top</th>\n",
       "      <th>freq</th>\n",
       "      <th>first</th>\n",
       "      <th>last</th>\n",
       "      <th>mode</th>\n",
       "      <th>%mode</th>\n",
       "      <th>freq_mode</th>\n",
       "      <th>2ndmode</th>\n",
       "      <th>%2ndmode</th>\n",
       "      <th>freq_2ndmode</th>\n",
       "      <th>missing%</th>\n",
       "    </tr>\n",
       "  </thead>\n",
       "  <tbody>\n",
       "    <tr>\n",
       "      <th>cdc_case_earliest_dt</th>\n",
       "      <td>10000</td>\n",
       "      <td>26</td>\n",
       "      <td>2021-01-20</td>\n",
       "      <td>620</td>\n",
       "      <td>2021-01-19</td>\n",
       "      <td>2021-02-13</td>\n",
       "      <td>2021-01-20 00:00:00</td>\n",
       "      <td>6.2</td>\n",
       "      <td>620</td>\n",
       "      <td>2021-01-29 00:00:00</td>\n",
       "      <td>6.1</td>\n",
       "      <td>610</td>\n",
       "      <td>0.00</td>\n",
       "    </tr>\n",
       "    <tr>\n",
       "      <th>cdc_report_dt</th>\n",
       "      <td>7835</td>\n",
       "      <td>47</td>\n",
       "      <td>2021-02-04</td>\n",
       "      <td>516</td>\n",
       "      <td>2020-07-17</td>\n",
       "      <td>2021-02-27</td>\n",
       "      <td>2021-02-04 00:00:00</td>\n",
       "      <td>6.586</td>\n",
       "      <td>516</td>\n",
       "      <td>2021-01-29 00:00:00</td>\n",
       "      <td>6.28</td>\n",
       "      <td>492</td>\n",
       "      <td>21.65</td>\n",
       "    </tr>\n",
       "    <tr>\n",
       "      <th>pos_spec_dt</th>\n",
       "      <td>2555</td>\n",
       "      <td>41</td>\n",
       "      <td>2021-01-25</td>\n",
       "      <td>170</td>\n",
       "      <td>2020-07-17</td>\n",
       "      <td>2021-02-23</td>\n",
       "      <td>2021-01-25 00:00:00</td>\n",
       "      <td>6.654</td>\n",
       "      <td>170</td>\n",
       "      <td>2021-01-22 00:00:00</td>\n",
       "      <td>6.301</td>\n",
       "      <td>161</td>\n",
       "      <td>74.45</td>\n",
       "    </tr>\n",
       "    <tr>\n",
       "      <th>onset_dt</th>\n",
       "      <td>4162</td>\n",
       "      <td>31</td>\n",
       "      <td>2021-01-25</td>\n",
       "      <td>251</td>\n",
       "      <td>2021-01-19</td>\n",
       "      <td>2021-02-27</td>\n",
       "      <td>2021-01-25 00:00:00</td>\n",
       "      <td>6.031</td>\n",
       "      <td>251</td>\n",
       "      <td>2021-01-20 00:00:00</td>\n",
       "      <td>5.67</td>\n",
       "      <td>236</td>\n",
       "      <td>58.38</td>\n",
       "    </tr>\n",
       "  </tbody>\n",
       "</table>\n",
       "</div>"
      ],
      "text/plain": [
       "                      count unique        top freq      first       last  \\\n",
       "cdc_case_earliest_dt  10000     26 2021-01-20  620 2021-01-19 2021-02-13   \n",
       "cdc_report_dt          7835     47 2021-02-04  516 2020-07-17 2021-02-27   \n",
       "pos_spec_dt            2555     41 2021-01-25  170 2020-07-17 2021-02-23   \n",
       "onset_dt               4162     31 2021-01-25  251 2021-01-19 2021-02-27   \n",
       "\n",
       "                                     mode  %mode freq_mode  \\\n",
       "cdc_case_earliest_dt  2021-01-20 00:00:00    6.2       620   \n",
       "cdc_report_dt         2021-02-04 00:00:00  6.586       516   \n",
       "pos_spec_dt           2021-01-25 00:00:00  6.654       170   \n",
       "onset_dt              2021-01-25 00:00:00  6.031       251   \n",
       "\n",
       "                                  2ndmode %2ndmode freq_2ndmode  missing%  \n",
       "cdc_case_earliest_dt  2021-01-29 00:00:00      6.1          610      0.00  \n",
       "cdc_report_dt         2021-01-29 00:00:00     6.28          492     21.65  \n",
       "pos_spec_dt           2021-01-22 00:00:00    6.301          161     74.45  \n",
       "onset_dt              2021-01-20 00:00:00     5.67          236     58.38  "
      ]
     },
     "execution_count": 22,
     "metadata": {},
     "output_type": "execute_result"
    }
   ],
   "source": [
    "#concat these to the table\n",
    "df_table_datetime = df[datetimeFeat].describe().T\n",
    "df_datetime_columns_data_quality_report_table = pd.concat([df_table_datetime, df_datetime_mode, df_miss_col_2], axis=1)\n",
    "\n",
    "df_datetime_columns_data_quality_report_table "
   ]
  },
  {
   "cell_type": "markdown",
   "metadata": {},
   "source": [
    "## Constant Columns"
   ]
  },
  {
   "cell_type": "code",
   "execution_count": 23,
   "metadata": {},
   "outputs": [
    {
     "data": {
      "text/html": [
       "<div>\n",
       "<style scoped>\n",
       "    .dataframe tbody tr th:only-of-type {\n",
       "        vertical-align: middle;\n",
       "    }\n",
       "\n",
       "    .dataframe tbody tr th {\n",
       "        vertical-align: top;\n",
       "    }\n",
       "\n",
       "    .dataframe thead th {\n",
       "        text-align: right;\n",
       "    }\n",
       "</style>\n",
       "<table border=\"1\" class=\"dataframe\">\n",
       "  <thead>\n",
       "    <tr style=\"text-align: right;\">\n",
       "      <th></th>\n",
       "      <th>count</th>\n",
       "      <th>unique</th>\n",
       "      <th>top</th>\n",
       "      <th>freq</th>\n",
       "      <th>first</th>\n",
       "      <th>last</th>\n",
       "    </tr>\n",
       "  </thead>\n",
       "  <tbody>\n",
       "    <tr>\n",
       "      <th>cdc_case_earliest_dt</th>\n",
       "      <td>10000</td>\n",
       "      <td>26</td>\n",
       "      <td>2021-01-20</td>\n",
       "      <td>620</td>\n",
       "      <td>2021-01-19</td>\n",
       "      <td>2021-02-13</td>\n",
       "    </tr>\n",
       "    <tr>\n",
       "      <th>cdc_report_dt</th>\n",
       "      <td>7835</td>\n",
       "      <td>47</td>\n",
       "      <td>2021-02-04</td>\n",
       "      <td>516</td>\n",
       "      <td>2020-07-17</td>\n",
       "      <td>2021-02-27</td>\n",
       "    </tr>\n",
       "    <tr>\n",
       "      <th>pos_spec_dt</th>\n",
       "      <td>2555</td>\n",
       "      <td>41</td>\n",
       "      <td>2021-01-25</td>\n",
       "      <td>170</td>\n",
       "      <td>2020-07-17</td>\n",
       "      <td>2021-02-23</td>\n",
       "    </tr>\n",
       "    <tr>\n",
       "      <th>onset_dt</th>\n",
       "      <td>4162</td>\n",
       "      <td>31</td>\n",
       "      <td>2021-01-25</td>\n",
       "      <td>251</td>\n",
       "      <td>2021-01-19</td>\n",
       "      <td>2021-02-27</td>\n",
       "    </tr>\n",
       "  </tbody>\n",
       "</table>\n",
       "</div>"
      ],
      "text/plain": [
       "                      count unique        top freq      first       last\n",
       "cdc_case_earliest_dt  10000     26 2021-01-20  620 2021-01-19 2021-02-13\n",
       "cdc_report_dt          7835     47 2021-02-04  516 2020-07-17 2021-02-27\n",
       "pos_spec_dt            2555     41 2021-01-25  170 2020-07-17 2021-02-23\n",
       "onset_dt               4162     31 2021-01-25  251 2021-01-19 2021-02-27"
      ]
     },
     "execution_count": 23,
     "metadata": {},
     "output_type": "execute_result"
    }
   ],
   "source": [
    "# Check for constant columns\n",
    "df[datetimeFeat].describe().T"
   ]
  },
  {
   "cell_type": "code",
   "execution_count": 24,
   "metadata": {},
   "outputs": [
    {
     "data": {
      "text/html": [
       "<div>\n",
       "<style scoped>\n",
       "    .dataframe tbody tr th:only-of-type {\n",
       "        vertical-align: middle;\n",
       "    }\n",
       "\n",
       "    .dataframe tbody tr th {\n",
       "        vertical-align: top;\n",
       "    }\n",
       "\n",
       "    .dataframe thead th {\n",
       "        text-align: right;\n",
       "    }\n",
       "</style>\n",
       "<table border=\"1\" class=\"dataframe\">\n",
       "  <thead>\n",
       "    <tr style=\"text-align: right;\">\n",
       "      <th></th>\n",
       "      <th>count</th>\n",
       "      <th>unique</th>\n",
       "      <th>top</th>\n",
       "      <th>freq</th>\n",
       "    </tr>\n",
       "  </thead>\n",
       "  <tbody>\n",
       "    <tr>\n",
       "      <th>current_status</th>\n",
       "      <td>10000</td>\n",
       "      <td>2</td>\n",
       "      <td>Laboratory-confirmed case</td>\n",
       "      <td>8906</td>\n",
       "    </tr>\n",
       "    <tr>\n",
       "      <th>sex</th>\n",
       "      <td>10000</td>\n",
       "      <td>5</td>\n",
       "      <td>Female</td>\n",
       "      <td>5127</td>\n",
       "    </tr>\n",
       "    <tr>\n",
       "      <th>age_group</th>\n",
       "      <td>10000</td>\n",
       "      <td>10</td>\n",
       "      <td>20 - 29 Years</td>\n",
       "      <td>1730</td>\n",
       "    </tr>\n",
       "    <tr>\n",
       "      <th>race_ethnicity_combined</th>\n",
       "      <td>10000</td>\n",
       "      <td>9</td>\n",
       "      <td>Unknown</td>\n",
       "      <td>4128</td>\n",
       "    </tr>\n",
       "    <tr>\n",
       "      <th>hosp_yn</th>\n",
       "      <td>10000</td>\n",
       "      <td>4</td>\n",
       "      <td>No</td>\n",
       "      <td>4659</td>\n",
       "    </tr>\n",
       "    <tr>\n",
       "      <th>icu_yn</th>\n",
       "      <td>10000</td>\n",
       "      <td>4</td>\n",
       "      <td>Missing</td>\n",
       "      <td>8067</td>\n",
       "    </tr>\n",
       "    <tr>\n",
       "      <th>death_yn</th>\n",
       "      <td>10000</td>\n",
       "      <td>2</td>\n",
       "      <td>No</td>\n",
       "      <td>9879</td>\n",
       "    </tr>\n",
       "    <tr>\n",
       "      <th>medcond_yn</th>\n",
       "      <td>10000</td>\n",
       "      <td>4</td>\n",
       "      <td>Missing</td>\n",
       "      <td>7942</td>\n",
       "    </tr>\n",
       "  </tbody>\n",
       "</table>\n",
       "</div>"
      ],
      "text/plain": [
       "                         count unique                        top  freq\n",
       "current_status           10000      2  Laboratory-confirmed case  8906\n",
       "sex                      10000      5                     Female  5127\n",
       "age_group                10000     10              20 - 29 Years  1730\n",
       "race_ethnicity_combined  10000      9                    Unknown  4128\n",
       "hosp_yn                  10000      4                         No  4659\n",
       "icu_yn                   10000      4                    Missing  8067\n",
       "death_yn                 10000      2                         No  9879\n",
       "medcond_yn               10000      4                    Missing  7942"
      ]
     },
     "execution_count": 24,
     "metadata": {},
     "output_type": "execute_result"
    }
   ],
   "source": [
    "df[catFeat].describe().T"
   ]
  },
  {
   "cell_type": "markdown",
   "metadata": {},
   "source": [
    "* all features have a unique cardinality > 1:\n",
    "    * cdc_case_earliest_dt has 26 unique values.\n",
    "    * cdc_report_dt has 47 unique values.\n",
    "    * pos_spec_dt has 41 unique values.\n",
    "    * onset_dt has 31 unique values.\n",
    "    * current_status has 2 unique values.\n",
    "    * sex has 4 unique values.\n",
    "    * age_group has 10 unique values.\n",
    "    * race_ethnicity_combined has 9 unique values.\n",
    "    * hospital_status has 4 unique values.\n",
    "    * icu_status has 4 unique values.\n",
    "    * death_status has 2 unique values.\n",
    "    * medcond_status has 4 unique values.\n",
    "    \n",
    "**Result:**\n",
    "There are 0 constant columns for any categorical features. No columns need to be removed."
   ]
  },
  {
   "cell_type": "markdown",
   "metadata": {},
   "source": [
    "## Logical Integrity Tests\n"
   ]
  },
  {
   "cell_type": "markdown",
   "metadata": {},
   "source": [
    "Test 1: check if the cardinality of each datetime feature is <= number of days between first and last recorded data. The number of days from 11 January 2020 to 16 January 2021 == 372 days.\n",
    "cdc_earliest_dt"
   ]
  },
  {
   "cell_type": "code",
   "execution_count": 25,
   "metadata": {},
   "outputs": [
    {
     "name": "stdout",
     "output_type": "stream",
     "text": [
      "Cardinality test, pass(true) or fail(false):  True\n"
     ]
    }
   ],
   "source": [
    "days = 372\n",
    "test1 = df['cdc_case_earliest_dt'].nunique() <= days\n",
    "print(\"Cardinality test, pass(true) or fail(false): \", test1)"
   ]
  },
  {
   "cell_type": "markdown",
   "metadata": {},
   "source": [
    "Test 2: check if the cardinality of each datetime feature is <= number of days between first and last recorded data. The number of days from 11 January 2020 to 16 January 2021 == 372 days.\n",
    "first_spec"
   ]
  },
  {
   "cell_type": "code",
   "execution_count": 26,
   "metadata": {},
   "outputs": [
    {
     "name": "stdout",
     "output_type": "stream",
     "text": [
      "Cardinality test, pass(true) or fail(false):  True\n"
     ]
    }
   ],
   "source": [
    "test2 = df['pos_spec_dt'].nunique() <= days\n",
    "print(\"Cardinality test, pass(true) or fail(false): \", test2)"
   ]
  },
  {
   "cell_type": "markdown",
   "metadata": {},
   "source": [
    "Test 3: check if the cardinality of each datetime feature is <= number of days between first and last recorded data. The number of days from 11 January 2020 to 16 January 2021 == 372 days.\n",
    "onset_dt"
   ]
  },
  {
   "cell_type": "code",
   "execution_count": 27,
   "metadata": {},
   "outputs": [
    {
     "name": "stdout",
     "output_type": "stream",
     "text": [
      "Cardinality test, pass(true) or fail(false):  True\n"
     ]
    }
   ],
   "source": [
    "test3 = df['onset_dt'].nunique() <= days\n",
    "print(\"Cardinality test, pass(true) or fail(false): \", test3)"
   ]
  },
  {
   "cell_type": "markdown",
   "metadata": {},
   "source": [
    "* Test 4: check 'cdc_case_earliest_dt' is not empty for every date available in 'pos_spec_dt' or 'onset_dt'. \n",
    "* First method (if applicable): check if cdc_case_earliest_dt has missing values and put into array. If applicable, then second method is applied.\n",
    "* Second method: if cdc_case_earliest_dt entry is empty and first_spec/onset_dt is not, then it fails."
   ]
  },
  {
   "cell_type": "code",
   "execution_count": 28,
   "metadata": {
    "scrolled": false
   },
   "outputs": [
    {
     "name": "stdout",
     "output_type": "stream",
     "text": [
      "First method, how many null values of cdc case earliest dt:  []\n"
     ]
    }
   ],
   "source": [
    "empty_cdc_case = np.where(pd.isnull(df['cdc_case_earliest_dt']))\n",
    "\n",
    "print('First method, how many null values of cdc case earliest dt: ', empty_cdc_case[0])"
   ]
  },
  {
   "cell_type": "markdown",
   "metadata": {},
   "source": [
    "* Test 5: check 'pos_spec_dt' does not precede any dates after 'cdc_case_earliest_dt'."
   ]
  },
  {
   "cell_type": "code",
   "execution_count": 29,
   "metadata": {
    "scrolled": true
   },
   "outputs": [
    {
     "name": "stdout",
     "output_type": "stream",
     "text": [
      "Number of dates occurring that precedes cdc_earliest :  34\n"
     ]
    },
    {
     "data": {
      "text/html": [
       "<div>\n",
       "<style scoped>\n",
       "    .dataframe tbody tr th:only-of-type {\n",
       "        vertical-align: middle;\n",
       "    }\n",
       "\n",
       "    .dataframe tbody tr th {\n",
       "        vertical-align: top;\n",
       "    }\n",
       "\n",
       "    .dataframe thead th {\n",
       "        text-align: right;\n",
       "    }\n",
       "</style>\n",
       "<table border=\"1\" class=\"dataframe\">\n",
       "  <thead>\n",
       "    <tr style=\"text-align: right;\">\n",
       "      <th></th>\n",
       "      <th>cdc_case_earliest_dt</th>\n",
       "      <th>cdc_report_dt</th>\n",
       "      <th>pos_spec_dt</th>\n",
       "      <th>onset_dt</th>\n",
       "      <th>current_status</th>\n",
       "      <th>sex</th>\n",
       "      <th>age_group</th>\n",
       "      <th>race_ethnicity_combined</th>\n",
       "      <th>hosp_yn</th>\n",
       "      <th>icu_yn</th>\n",
       "      <th>death_yn</th>\n",
       "      <th>medcond_yn</th>\n",
       "    </tr>\n",
       "  </thead>\n",
       "  <tbody>\n",
       "    <tr>\n",
       "      <th>136</th>\n",
       "      <td>2021-02-09</td>\n",
       "      <td>2021-02-08</td>\n",
       "      <td>2021-02-08</td>\n",
       "      <td>2021-02-09</td>\n",
       "      <td>Laboratory-confirmed case</td>\n",
       "      <td>Male</td>\n",
       "      <td>10 - 19 Years</td>\n",
       "      <td>White, Non-Hispanic</td>\n",
       "      <td>No</td>\n",
       "      <td>Missing</td>\n",
       "      <td>No</td>\n",
       "      <td>No</td>\n",
       "    </tr>\n",
       "    <tr>\n",
       "      <th>275</th>\n",
       "      <td>2021-01-23</td>\n",
       "      <td>2021-01-26</td>\n",
       "      <td>2021-01-22</td>\n",
       "      <td>2021-01-23</td>\n",
       "      <td>Laboratory-confirmed case</td>\n",
       "      <td>Male</td>\n",
       "      <td>40 - 49 Years</td>\n",
       "      <td>Hispanic/Latino</td>\n",
       "      <td>Missing</td>\n",
       "      <td>Missing</td>\n",
       "      <td>No</td>\n",
       "      <td>No</td>\n",
       "    </tr>\n",
       "    <tr>\n",
       "      <th>1363</th>\n",
       "      <td>2021-01-19</td>\n",
       "      <td>2021-01-22</td>\n",
       "      <td>2021-01-18</td>\n",
       "      <td>2021-01-19</td>\n",
       "      <td>Laboratory-confirmed case</td>\n",
       "      <td>Male</td>\n",
       "      <td>20 - 29 Years</td>\n",
       "      <td>White, Non-Hispanic</td>\n",
       "      <td>Missing</td>\n",
       "      <td>Missing</td>\n",
       "      <td>No</td>\n",
       "      <td>Yes</td>\n",
       "    </tr>\n",
       "    <tr>\n",
       "      <th>2521</th>\n",
       "      <td>2021-02-07</td>\n",
       "      <td>2021-01-08</td>\n",
       "      <td>2021-01-08</td>\n",
       "      <td>2021-02-07</td>\n",
       "      <td>Laboratory-confirmed case</td>\n",
       "      <td>Female</td>\n",
       "      <td>50 - 59 Years</td>\n",
       "      <td>White, Non-Hispanic</td>\n",
       "      <td>No</td>\n",
       "      <td>Unknown</td>\n",
       "      <td>No</td>\n",
       "      <td>No</td>\n",
       "    </tr>\n",
       "    <tr>\n",
       "      <th>2856</th>\n",
       "      <td>2021-01-27</td>\n",
       "      <td>2021-01-24</td>\n",
       "      <td>2021-01-24</td>\n",
       "      <td>2021-01-27</td>\n",
       "      <td>Laboratory-confirmed case</td>\n",
       "      <td>Female</td>\n",
       "      <td>30 - 39 Years</td>\n",
       "      <td>Black, Non-Hispanic</td>\n",
       "      <td>Unknown</td>\n",
       "      <td>Unknown</td>\n",
       "      <td>No</td>\n",
       "      <td>Unknown</td>\n",
       "    </tr>\n",
       "  </tbody>\n",
       "</table>\n",
       "</div>"
      ],
      "text/plain": [
       "     cdc_case_earliest_dt cdc_report_dt pos_spec_dt   onset_dt  \\\n",
       "136            2021-02-09    2021-02-08  2021-02-08 2021-02-09   \n",
       "275            2021-01-23    2021-01-26  2021-01-22 2021-01-23   \n",
       "1363           2021-01-19    2021-01-22  2021-01-18 2021-01-19   \n",
       "2521           2021-02-07    2021-01-08  2021-01-08 2021-02-07   \n",
       "2856           2021-01-27    2021-01-24  2021-01-24 2021-01-27   \n",
       "\n",
       "                 current_status     sex      age_group  \\\n",
       "136   Laboratory-confirmed case    Male  10 - 19 Years   \n",
       "275   Laboratory-confirmed case    Male  40 - 49 Years   \n",
       "1363  Laboratory-confirmed case    Male  20 - 29 Years   \n",
       "2521  Laboratory-confirmed case  Female  50 - 59 Years   \n",
       "2856  Laboratory-confirmed case  Female  30 - 39 Years   \n",
       "\n",
       "     race_ethnicity_combined  hosp_yn   icu_yn death_yn medcond_yn  \n",
       "136      White, Non-Hispanic       No  Missing       No         No  \n",
       "275          Hispanic/Latino  Missing  Missing       No         No  \n",
       "1363     White, Non-Hispanic  Missing  Missing       No        Yes  \n",
       "2521     White, Non-Hispanic       No  Unknown       No         No  \n",
       "2856     Black, Non-Hispanic  Unknown  Unknown       No    Unknown  "
      ]
     },
     "execution_count": 29,
     "metadata": {},
     "output_type": "execute_result"
    }
   ],
   "source": [
    "test5 = df[df['cdc_case_earliest_dt'] > df['pos_spec_dt']]\n",
    "print('Number of dates occurring that precedes cdc_earliest : ', test5.shape[0])\n",
    "test5.head(5)"
   ]
  },
  {
   "cell_type": "markdown",
   "metadata": {},
   "source": [
    "* Test 6: check 'cdc_case_earliest_dt' has no dates occuring after 'cdc_report_dt'"
   ]
  },
  {
   "cell_type": "code",
   "execution_count": 30,
   "metadata": {
    "scrolled": true
   },
   "outputs": [
    {
     "name": "stdout",
     "output_type": "stream",
     "text": [
      "Number of dates occurring that precedes cdc_report_dt :  25\n"
     ]
    },
    {
     "data": {
      "text/html": [
       "<div>\n",
       "<style scoped>\n",
       "    .dataframe tbody tr th:only-of-type {\n",
       "        vertical-align: middle;\n",
       "    }\n",
       "\n",
       "    .dataframe tbody tr th {\n",
       "        vertical-align: top;\n",
       "    }\n",
       "\n",
       "    .dataframe thead th {\n",
       "        text-align: right;\n",
       "    }\n",
       "</style>\n",
       "<table border=\"1\" class=\"dataframe\">\n",
       "  <thead>\n",
       "    <tr style=\"text-align: right;\">\n",
       "      <th></th>\n",
       "      <th>cdc_case_earliest_dt</th>\n",
       "      <th>cdc_report_dt</th>\n",
       "      <th>pos_spec_dt</th>\n",
       "      <th>onset_dt</th>\n",
       "      <th>current_status</th>\n",
       "      <th>sex</th>\n",
       "      <th>age_group</th>\n",
       "      <th>race_ethnicity_combined</th>\n",
       "      <th>hosp_yn</th>\n",
       "      <th>icu_yn</th>\n",
       "      <th>death_yn</th>\n",
       "      <th>medcond_yn</th>\n",
       "    </tr>\n",
       "  </thead>\n",
       "  <tbody>\n",
       "    <tr>\n",
       "      <th>136</th>\n",
       "      <td>2021-02-09</td>\n",
       "      <td>2021-02-08</td>\n",
       "      <td>2021-02-08</td>\n",
       "      <td>2021-02-09</td>\n",
       "      <td>Laboratory-confirmed case</td>\n",
       "      <td>Male</td>\n",
       "      <td>10 - 19 Years</td>\n",
       "      <td>White, Non-Hispanic</td>\n",
       "      <td>No</td>\n",
       "      <td>Missing</td>\n",
       "      <td>No</td>\n",
       "      <td>No</td>\n",
       "    </tr>\n",
       "    <tr>\n",
       "      <th>137</th>\n",
       "      <td>2021-01-30</td>\n",
       "      <td>2021-01-06</td>\n",
       "      <td>2021-02-03</td>\n",
       "      <td>2021-01-30</td>\n",
       "      <td>Laboratory-confirmed case</td>\n",
       "      <td>Male</td>\n",
       "      <td>50 - 59 Years</td>\n",
       "      <td>White, Non-Hispanic</td>\n",
       "      <td>No</td>\n",
       "      <td>No</td>\n",
       "      <td>No</td>\n",
       "      <td>No</td>\n",
       "    </tr>\n",
       "    <tr>\n",
       "      <th>2387</th>\n",
       "      <td>2021-01-23</td>\n",
       "      <td>2020-12-16</td>\n",
       "      <td>NaT</td>\n",
       "      <td>2021-01-23</td>\n",
       "      <td>Probable Case</td>\n",
       "      <td>Male</td>\n",
       "      <td>50 - 59 Years</td>\n",
       "      <td>White, Non-Hispanic</td>\n",
       "      <td>Missing</td>\n",
       "      <td>Missing</td>\n",
       "      <td>Yes</td>\n",
       "      <td>Missing</td>\n",
       "    </tr>\n",
       "    <tr>\n",
       "      <th>2521</th>\n",
       "      <td>2021-02-07</td>\n",
       "      <td>2021-01-08</td>\n",
       "      <td>2021-01-08</td>\n",
       "      <td>2021-02-07</td>\n",
       "      <td>Laboratory-confirmed case</td>\n",
       "      <td>Female</td>\n",
       "      <td>50 - 59 Years</td>\n",
       "      <td>White, Non-Hispanic</td>\n",
       "      <td>No</td>\n",
       "      <td>Unknown</td>\n",
       "      <td>No</td>\n",
       "      <td>No</td>\n",
       "    </tr>\n",
       "    <tr>\n",
       "      <th>2856</th>\n",
       "      <td>2021-01-27</td>\n",
       "      <td>2021-01-24</td>\n",
       "      <td>2021-01-24</td>\n",
       "      <td>2021-01-27</td>\n",
       "      <td>Laboratory-confirmed case</td>\n",
       "      <td>Female</td>\n",
       "      <td>30 - 39 Years</td>\n",
       "      <td>Black, Non-Hispanic</td>\n",
       "      <td>Unknown</td>\n",
       "      <td>Unknown</td>\n",
       "      <td>No</td>\n",
       "      <td>Unknown</td>\n",
       "    </tr>\n",
       "    <tr>\n",
       "      <th>2920</th>\n",
       "      <td>2021-01-26</td>\n",
       "      <td>2020-07-17</td>\n",
       "      <td>2020-07-17</td>\n",
       "      <td>2021-01-26</td>\n",
       "      <td>Laboratory-confirmed case</td>\n",
       "      <td>Male</td>\n",
       "      <td>60 - 69 Years</td>\n",
       "      <td>Black, Non-Hispanic</td>\n",
       "      <td>No</td>\n",
       "      <td>No</td>\n",
       "      <td>No</td>\n",
       "      <td>Yes</td>\n",
       "    </tr>\n",
       "    <tr>\n",
       "      <th>3289</th>\n",
       "      <td>2021-02-08</td>\n",
       "      <td>2021-02-05</td>\n",
       "      <td>2021-02-05</td>\n",
       "      <td>2021-02-08</td>\n",
       "      <td>Laboratory-confirmed case</td>\n",
       "      <td>Male</td>\n",
       "      <td>40 - 49 Years</td>\n",
       "      <td>Hispanic/Latino</td>\n",
       "      <td>No</td>\n",
       "      <td>No</td>\n",
       "      <td>No</td>\n",
       "      <td>Yes</td>\n",
       "    </tr>\n",
       "    <tr>\n",
       "      <th>4936</th>\n",
       "      <td>2021-01-30</td>\n",
       "      <td>2021-01-21</td>\n",
       "      <td>2021-01-30</td>\n",
       "      <td>2021-01-30</td>\n",
       "      <td>Laboratory-confirmed case</td>\n",
       "      <td>Female</td>\n",
       "      <td>80+ Years</td>\n",
       "      <td>White, Non-Hispanic</td>\n",
       "      <td>Yes</td>\n",
       "      <td>Unknown</td>\n",
       "      <td>No</td>\n",
       "      <td>Unknown</td>\n",
       "    </tr>\n",
       "    <tr>\n",
       "      <th>5130</th>\n",
       "      <td>2021-01-23</td>\n",
       "      <td>2021-01-19</td>\n",
       "      <td>2021-01-19</td>\n",
       "      <td>2021-01-23</td>\n",
       "      <td>Laboratory-confirmed case</td>\n",
       "      <td>Male</td>\n",
       "      <td>20 - 29 Years</td>\n",
       "      <td>Hispanic/Latino</td>\n",
       "      <td>No</td>\n",
       "      <td>Missing</td>\n",
       "      <td>No</td>\n",
       "      <td>Yes</td>\n",
       "    </tr>\n",
       "    <tr>\n",
       "      <th>5900</th>\n",
       "      <td>2021-01-30</td>\n",
       "      <td>2021-01-29</td>\n",
       "      <td>2021-01-29</td>\n",
       "      <td>2021-01-30</td>\n",
       "      <td>Laboratory-confirmed case</td>\n",
       "      <td>Male</td>\n",
       "      <td>20 - 29 Years</td>\n",
       "      <td>White, Non-Hispanic</td>\n",
       "      <td>No</td>\n",
       "      <td>Missing</td>\n",
       "      <td>No</td>\n",
       "      <td>Yes</td>\n",
       "    </tr>\n",
       "  </tbody>\n",
       "</table>\n",
       "</div>"
      ],
      "text/plain": [
       "     cdc_case_earliest_dt cdc_report_dt pos_spec_dt   onset_dt  \\\n",
       "136            2021-02-09    2021-02-08  2021-02-08 2021-02-09   \n",
       "137            2021-01-30    2021-01-06  2021-02-03 2021-01-30   \n",
       "2387           2021-01-23    2020-12-16         NaT 2021-01-23   \n",
       "2521           2021-02-07    2021-01-08  2021-01-08 2021-02-07   \n",
       "2856           2021-01-27    2021-01-24  2021-01-24 2021-01-27   \n",
       "2920           2021-01-26    2020-07-17  2020-07-17 2021-01-26   \n",
       "3289           2021-02-08    2021-02-05  2021-02-05 2021-02-08   \n",
       "4936           2021-01-30    2021-01-21  2021-01-30 2021-01-30   \n",
       "5130           2021-01-23    2021-01-19  2021-01-19 2021-01-23   \n",
       "5900           2021-01-30    2021-01-29  2021-01-29 2021-01-30   \n",
       "\n",
       "                 current_status     sex      age_group  \\\n",
       "136   Laboratory-confirmed case    Male  10 - 19 Years   \n",
       "137   Laboratory-confirmed case    Male  50 - 59 Years   \n",
       "2387              Probable Case    Male  50 - 59 Years   \n",
       "2521  Laboratory-confirmed case  Female  50 - 59 Years   \n",
       "2856  Laboratory-confirmed case  Female  30 - 39 Years   \n",
       "2920  Laboratory-confirmed case    Male  60 - 69 Years   \n",
       "3289  Laboratory-confirmed case    Male  40 - 49 Years   \n",
       "4936  Laboratory-confirmed case  Female      80+ Years   \n",
       "5130  Laboratory-confirmed case    Male  20 - 29 Years   \n",
       "5900  Laboratory-confirmed case    Male  20 - 29 Years   \n",
       "\n",
       "     race_ethnicity_combined  hosp_yn   icu_yn death_yn medcond_yn  \n",
       "136      White, Non-Hispanic       No  Missing       No         No  \n",
       "137      White, Non-Hispanic       No       No       No         No  \n",
       "2387     White, Non-Hispanic  Missing  Missing      Yes    Missing  \n",
       "2521     White, Non-Hispanic       No  Unknown       No         No  \n",
       "2856     Black, Non-Hispanic  Unknown  Unknown       No    Unknown  \n",
       "2920     Black, Non-Hispanic       No       No       No        Yes  \n",
       "3289         Hispanic/Latino       No       No       No        Yes  \n",
       "4936     White, Non-Hispanic      Yes  Unknown       No    Unknown  \n",
       "5130         Hispanic/Latino       No  Missing       No        Yes  \n",
       "5900     White, Non-Hispanic       No  Missing       No        Yes  "
      ]
     },
     "execution_count": 30,
     "metadata": {},
     "output_type": "execute_result"
    }
   ],
   "source": [
    "test6 = df[df['cdc_case_earliest_dt'] > df['cdc_report_dt']]\n",
    "print('Number of dates occurring that precedes cdc_report_dt : ', test6.shape[0])\n",
    "test6.head(10)"
   ]
  },
  {
   "cell_type": "markdown",
   "metadata": {},
   "source": [
    "## Visualizations"
   ]
  },
  {
   "cell_type": "code",
   "execution_count": 31,
   "metadata": {},
   "outputs": [
    {
     "data": {
      "image/png": "[encoded data removed]",
      "text/plain": [
       "<Figure size 864x720 with 1 Axes>"
      ]
     },
     "metadata": {
      "needs_background": "light"
     },
     "output_type": "display_data"
    },
    {
     "data": {
      "image/png": "[encoded data removed]",
      "text/plain": [
       "<Figure size 864x720 with 1 Axes>"
      ]
     },
     "metadata": {
      "needs_background": "light"
     },
     "output_type": "display_data"
    },
    {
     "data": {
      "image/png": "[encoded data removed]",
      "text/plain": [
       "<Figure size 864x720 with 1 Axes>"
      ]
     },
     "metadata": {
      "needs_background": "light"
     },
     "output_type": "display_data"
    },
    {
     "data": {
      "image/png": "[encoded data removed]",
      "text/plain": [
       "<Figure size 864x720 with 1 Axes>"
      ]
     },
     "metadata": {
      "needs_background": "light"
     },
     "output_type": "display_data"
    },
    {
     "data": {
      "image/png": "[encoded data removed]",
      "text/plain": [
       "<Figure size 864x720 with 1 Axes>"
      ]
     },
     "metadata": {
      "needs_background": "light"
     },
     "output_type": "display_data"
    },
    {
     "data": {
      "image/png": "[encoded data removed]",
      "text/plain": [
       "<Figure size 864x720 with 1 Axes>"
      ]
     },
     "metadata": {
      "needs_background": "light"
     },
     "output_type": "display_data"
    },
    {
     "data": {
      "image/png": "[encoded data removed]",
      "text/plain": [
       "<Figure size 864x720 with 1 Axes>"
      ]
     },
     "metadata": {
      "needs_background": "light"
     },
     "output_type": "display_data"
    },
    {
     "data": {
      "image/png": "[encoded data removed]",
      "text/plain": [
       "<Figure size 864x720 with 1 Axes>"
      ]
     },
     "metadata": {
      "needs_background": "light"
     },
     "output_type": "display_data"
    }
   ],
   "source": [
    "# Plot bar plots for all the catagorical features\n",
    "for column in catFeat:\n",
    "    if column == 'medcond_status' or column == 'death_status' or column == 'icu_status' or column == 'sex' or column == 'current_status' or column == 'hospital_status':\n",
    "        f = df[column].value_counts().plot(kind='bar', figsize=(12,10), color='red')\n",
    "        plt.title(column)\n",
    "        plt.xticks(rotation=0)\n",
    "        plt.ylabel('Number of People')\n",
    "        plt.show()\n",
    "        \n",
    "    else:\n",
    "        f = df[column].value_counts().plot(kind='bar', figsize=(12,10), color='red')\n",
    "        plt.title(column)\n",
    "        plt.ylabel('Number of People')\n",
    "        plt.show()"
   ]
  },
  {
   "cell_type": "markdown",
   "metadata": {},
   "source": [
    "# Data Quality Plan"
   ]
  },
  {
   "cell_type": "markdown",
   "metadata": {},
   "source": [
    "<img style=\"float: left;\" src=\"dataqualityplan.PNG\">"
   ]
  },
  {
   "cell_type": "markdown",
   "metadata": {},
   "source": [
    "# Data Understanding: Data Quality Plan for CSV file.\n"
   ]
  },
  {
   "cell_type": "markdown",
   "metadata": {},
   "source": [
    "In this section, I will apply the data quality issues that is discussed above. This will be done in the order of each feature as listed in the Data Quality Plan. "
   ]
  },
  {
   "cell_type": "markdown",
   "metadata": {},
   "source": [
    "**cdc_earliest_case_dt:**\n",
    "<br>\n",
    "In this section we see that 34 rows were found that had dates that preceded cdc_report_dt, and 24 rows that preceded pos_spec_dt. We see below that cdc_case_earliest_dt matches dates with onset_dt. We assume that onset_dt is not an accurate feature to set to compare with other datetime features in the basis of dates occuring after onset_dt is illogical as we are under the assumption that pos_spec_dt will have earlier dates as it means there are workers who are asymptomatic or they are close contact with someone who tested positive. \n",
    "<br><br>\n",
    "These rows will be imputed with the earliest dates taken from either cdc_report_dt or pos_spec_dt."
   ]
  },
  {
   "cell_type": "code",
   "execution_count": 32,
   "metadata": {
    "scrolled": true
   },
   "outputs": [],
   "source": [
    "late_cdc_report = df[df['cdc_case_earliest_dt'] > df['cdc_report_dt']]\n",
    "late_post_spec = df[df['cdc_case_earliest_dt'] > df['pos_spec_dt']]"
   ]
  },
  {
   "cell_type": "code",
   "execution_count": 33,
   "metadata": {},
   "outputs": [
    {
     "name": "stdout",
     "output_type": "stream",
     "text": [
      "The number of dates preceding cdc_report_dt: 25\n",
      "The number of dates preceding pos_spec_dt: 34\n"
     ]
    }
   ],
   "source": [
    "print(\"The number of dates preceding cdc_report_dt:\", late_cdc_report.shape[0])\n",
    "print(\"The number of dates preceding pos_spec_dt:\", late_post_spec.shape[0])"
   ]
  },
  {
   "cell_type": "code",
   "execution_count": 34,
   "metadata": {
    "scrolled": true
   },
   "outputs": [
    {
     "name": "stdout",
     "output_type": "stream",
     "text": [
      "Number of rows preceding pos_spec_dt: 13\n",
      "Number of rows preceding cdc_report_dt: 0\n"
     ]
    }
   ],
   "source": [
    "# Imputing the dates to cdc_case_earliest_dt from cdc_report_dt\n",
    "new_cdc_report = late_cdc_report.assign(cdc_case_earliest_dt=late_cdc_report['cdc_report_dt'])\n",
    "\n",
    "# Combining it to the dataframe and then checking for anymore dates that precedes pos_spec_dt and cdc_report_dt\n",
    "df2 = df\n",
    "df = new_cdc_report.combine_first(df2)\n",
    "\n",
    "# Check by doing an integrity test\n",
    "print(\"Number of rows preceding pos_spec_dt:\", df[df['cdc_case_earliest_dt'] > df['pos_spec_dt']].shape[0])\n",
    "print(\"Number of rows preceding cdc_report_dt:\", df[df['cdc_case_earliest_dt'] > df['cdc_report_dt']].shape[0])"
   ]
  },
  {
   "cell_type": "code",
   "execution_count": 35,
   "metadata": {},
   "outputs": [],
   "source": [
    "# Imputing the dates to cdc_case_earliest_dt from pos_spec_dt\n",
    "tochange_pos_spec = df[df['cdc_case_earliest_dt'] > df['pos_spec_dt']]\n",
    "new_spec_dt = tochange_pos_spec.assign(cdc_case_earliest_dt = tochange_pos_spec['pos_spec_dt'])"
   ]
  },
  {
   "cell_type": "code",
   "execution_count": 36,
   "metadata": {},
   "outputs": [
    {
     "name": "stdout",
     "output_type": "stream",
     "text": [
      "Number of rows preceding pos_spec_dt: 0\n",
      "Number of rows preceding cdc_report_dt: 0\n"
     ]
    }
   ],
   "source": [
    "# Combining it to the dataframe and then checking for anymore dates that precedes pos_spec_dt and cdc_report_dt\n",
    "df3 = df\n",
    "df = new_spec_dt.combine_first(df3)\n",
    "\n",
    "# Check by doing one last integrity test\n",
    "print(\"Number of rows preceding pos_spec_dt:\", df[df['cdc_case_earliest_dt'] > df['pos_spec_dt']].shape[0])\n",
    "print(\"Number of rows preceding cdc_report_dt:\", df[df['cdc_case_earliest_dt'] > df['cdc_report_dt']].shape[0])"
   ]
  },
  {
   "cell_type": "markdown",
   "metadata": {},
   "source": [
    "**pos_spec_dt:**\n",
    "<br>\n",
    "In this section we will drop the feature as planned. We have finished imputating the data into cdc_case_earliest_dt. "
   ]
  },
  {
   "cell_type": "code",
   "execution_count": 37,
   "metadata": {},
   "outputs": [
    {
     "data": {
      "text/plain": [
       "0             NaT\n",
       "1             NaT\n",
       "2             NaT\n",
       "3      2021-02-07\n",
       "4             NaT\n",
       "          ...    \n",
       "9995          NaT\n",
       "9996          NaT\n",
       "9997          NaT\n",
       "9998          NaT\n",
       "9999          NaT\n",
       "Name: pos_spec_dt, Length: 10000, dtype: datetime64[ns]"
      ]
     },
     "execution_count": 37,
     "metadata": {},
     "output_type": "execute_result"
    }
   ],
   "source": [
    "df.pop('pos_spec_dt')"
   ]
  },
  {
   "cell_type": "code",
   "execution_count": 38,
   "metadata": {
    "scrolled": true
   },
   "outputs": [
    {
     "data": {
      "text/html": [
       "<div>\n",
       "<style scoped>\n",
       "    .dataframe tbody tr th:only-of-type {\n",
       "        vertical-align: middle;\n",
       "    }\n",
       "\n",
       "    .dataframe tbody tr th {\n",
       "        vertical-align: top;\n",
       "    }\n",
       "\n",
       "    .dataframe thead th {\n",
       "        text-align: right;\n",
       "    }\n",
       "</style>\n",
       "<table border=\"1\" class=\"dataframe\">\n",
       "  <thead>\n",
       "    <tr style=\"text-align: right;\">\n",
       "      <th></th>\n",
       "      <th>cdc_case_earliest_dt</th>\n",
       "      <th>cdc_report_dt</th>\n",
       "      <th>onset_dt</th>\n",
       "      <th>current_status</th>\n",
       "      <th>sex</th>\n",
       "      <th>age_group</th>\n",
       "      <th>race_ethnicity_combined</th>\n",
       "      <th>hosp_yn</th>\n",
       "      <th>icu_yn</th>\n",
       "      <th>death_yn</th>\n",
       "      <th>medcond_yn</th>\n",
       "    </tr>\n",
       "  </thead>\n",
       "  <tbody>\n",
       "    <tr>\n",
       "      <th>0</th>\n",
       "      <td>2021-01-22</td>\n",
       "      <td>2021-01-22</td>\n",
       "      <td>NaT</td>\n",
       "      <td>Probable Case</td>\n",
       "      <td>Female</td>\n",
       "      <td>0 - 9 Years</td>\n",
       "      <td>Asian, Non-Hispanic</td>\n",
       "      <td>No</td>\n",
       "      <td>Missing</td>\n",
       "      <td>No</td>\n",
       "      <td>Missing</td>\n",
       "    </tr>\n",
       "    <tr>\n",
       "      <th>1</th>\n",
       "      <td>2021-01-26</td>\n",
       "      <td>NaT</td>\n",
       "      <td>NaT</td>\n",
       "      <td>Laboratory-confirmed case</td>\n",
       "      <td>Female</td>\n",
       "      <td>30 - 39 Years</td>\n",
       "      <td>Unknown</td>\n",
       "      <td>Unknown</td>\n",
       "      <td>Missing</td>\n",
       "      <td>No</td>\n",
       "      <td>Missing</td>\n",
       "    </tr>\n",
       "    <tr>\n",
       "      <th>2</th>\n",
       "      <td>2021-02-03</td>\n",
       "      <td>2021-02-05</td>\n",
       "      <td>2021-02-03</td>\n",
       "      <td>Laboratory-confirmed case</td>\n",
       "      <td>Female</td>\n",
       "      <td>40 - 49 Years</td>\n",
       "      <td>Asian, Non-Hispanic</td>\n",
       "      <td>Missing</td>\n",
       "      <td>Missing</td>\n",
       "      <td>No</td>\n",
       "      <td>Missing</td>\n",
       "    </tr>\n",
       "    <tr>\n",
       "      <th>3</th>\n",
       "      <td>2021-02-05</td>\n",
       "      <td>2021-02-05</td>\n",
       "      <td>2021-02-05</td>\n",
       "      <td>Laboratory-confirmed case</td>\n",
       "      <td>Male</td>\n",
       "      <td>40 - 49 Years</td>\n",
       "      <td>Hispanic/Latino</td>\n",
       "      <td>No</td>\n",
       "      <td>Unknown</td>\n",
       "      <td>No</td>\n",
       "      <td>No</td>\n",
       "    </tr>\n",
       "    <tr>\n",
       "      <th>4</th>\n",
       "      <td>2021-01-27</td>\n",
       "      <td>2021-01-27</td>\n",
       "      <td>NaT</td>\n",
       "      <td>Laboratory-confirmed case</td>\n",
       "      <td>Female</td>\n",
       "      <td>40 - 49 Years</td>\n",
       "      <td>White, Non-Hispanic</td>\n",
       "      <td>No</td>\n",
       "      <td>Missing</td>\n",
       "      <td>No</td>\n",
       "      <td>Missing</td>\n",
       "    </tr>\n",
       "  </tbody>\n",
       "</table>\n",
       "</div>"
      ],
      "text/plain": [
       "  cdc_case_earliest_dt cdc_report_dt   onset_dt             current_status  \\\n",
       "0           2021-01-22    2021-01-22        NaT              Probable Case   \n",
       "1           2021-01-26           NaT        NaT  Laboratory-confirmed case   \n",
       "2           2021-02-03    2021-02-05 2021-02-03  Laboratory-confirmed case   \n",
       "3           2021-02-05    2021-02-05 2021-02-05  Laboratory-confirmed case   \n",
       "4           2021-01-27    2021-01-27        NaT  Laboratory-confirmed case   \n",
       "\n",
       "      sex      age_group race_ethnicity_combined  hosp_yn   icu_yn death_yn  \\\n",
       "0  Female    0 - 9 Years     Asian, Non-Hispanic       No  Missing       No   \n",
       "1  Female  30 - 39 Years                 Unknown  Unknown  Missing       No   \n",
       "2  Female  40 - 49 Years     Asian, Non-Hispanic  Missing  Missing       No   \n",
       "3    Male  40 - 49 Years         Hispanic/Latino       No  Unknown       No   \n",
       "4  Female  40 - 49 Years     White, Non-Hispanic       No  Missing       No   \n",
       "\n",
       "  medcond_yn  \n",
       "0    Missing  \n",
       "1    Missing  \n",
       "2    Missing  \n",
       "3         No  \n",
       "4    Missing  "
      ]
     },
     "execution_count": 38,
     "metadata": {},
     "output_type": "execute_result"
    }
   ],
   "source": [
    "df.head(5)"
   ]
  },
  {
   "cell_type": "markdown",
   "metadata": {},
   "source": [
    "**onset_dt:**\n",
    "<br>\n",
    "In this section we will investigate the relation of the missing values to the target feature death_yn. If the feature proves to have a correlation with the target feature then we will create a missing indicator feature and drop onset_dt. We will investigate the likelihood of a patient's survival if they experienced symptoms. We will find the % and get a number of patients who have missing values of the onset_dt data and how many of these with a death_yn of yes. "
   ]
  },
  {
   "cell_type": "code",
   "execution_count": 39,
   "metadata": {},
   "outputs": [
    {
     "name": "stdout",
     "output_type": "stream",
     "text": [
      "The % of patients resulting in death with missing values (death_yn yes of missing/total rows from onset_dt): 0.0081\n",
      "The % of patients resulting in no death with missing values (death_yn no of missing/total rows from onset_dt): 0.5757\n"
     ]
    }
   ],
   "source": [
    "# Investigating the % of a patient with missing values resulting in death_yn of yes and no from onset_dt\n",
    "rows_missing_onset = df[df['onset_dt'].isnull()]\n",
    "\n",
    "rows_onset_missing_deathyes= rows_missing_onset.loc[rows_missing_onset['death_yn']==\"Yes\"]\n",
    "percent_missing_deathyes = round(rows_onset_missing_deathyes.shape[0] / df.shape[0], 5)\n",
    "\n",
    "rows_onset_missing_deathno = rows_missing_onset.loc[rows_missing_onset['death_yn']==\"No\"]\n",
    "percent_missing_deathno = round(rows_onset_missing_deathno.shape[0] / df.shape[0], 5)\n",
    "\n",
    "print(\"The % of patients resulting in death with missing values (death_yn yes of missing/total rows from onset_dt):\", percent_missing_deathyes)\n",
    "print(\"The % of patients resulting in no death with missing values (death_yn no of missing/total rows from onset_dt):\", percent_missing_deathno)"
   ]
  },
  {
   "cell_type": "code",
   "execution_count": 40,
   "metadata": {},
   "outputs": [
    {
     "name": "stdout",
     "output_type": "stream",
     "text": [
      "The % of patients resulting in death (death_yn yes /total rows from onset_dt): 0.004\n",
      "The % of patients resulting in no death (death_yn no /total rows from onset_dt): 0.4122\n"
     ]
    }
   ],
   "source": [
    "# Investigating the % of a patient with onset_dt data (excluding missing values) resulting in death yes and no\n",
    "rows_nonmiss_onset = df.dropna( how='any',subset=['onset_dt'])\n",
    "\n",
    "rows_nonmiss_onset_deathyes= rows_nonmiss_onset.loc[rows_nonmiss_onset['death_yn']==\"Yes\"]\n",
    "percent_deathyesn = round(rows_nonmiss_onset_deathyes.shape[0] / df.shape[0], 5)\n",
    "\n",
    "rows_nonmiss_onset_deathno = rows_nonmiss_onset.loc[rows_nonmiss_onset['death_yn']==\"No\"]\n",
    "percent_deathnon = round(rows_nonmiss_onset_deathno.shape[0] /df.shape[0], 5)\n",
    "\n",
    "print(\"The % of patients resulting in death (death_yn yes /total rows from onset_dt):\", percent_deathyesn)\n",
    "print(\"The % of patients resulting in no death (death_yn no /total rows from onset_dt):\", percent_deathnon)"
   ]
  },
  {
   "cell_type": "markdown",
   "metadata": {},
   "source": [
    "We see that the % of death_yn being yes with missing values is actually higher than deaths resulting in yes in non-missing values. This serves meaning to the data as it means there may be a correlation between patients who were asymptomatic and had resulted in death. To use this information I will create a missing indicator feature, add it to df and then drop onset_dt afterwards. "
   ]
  },
  {
   "cell_type": "code",
   "execution_count": 41,
   "metadata": {
    "scrolled": true
   },
   "outputs": [
    {
     "name": "stderr",
     "output_type": "stream",
     "text": [
      "C:\\Users\\fayea\\anaconda3\\envs\\comp20230\\lib\\site-packages\\pandas\\core\\indexing.py:1637: SettingWithCopyWarning: \n",
      "A value is trying to be set on a copy of a slice from a DataFrame\n",
      "\n",
      "See the caveats in the documentation: https://pandas.pydata.org/pandas-docs/stable/user_guide/indexing.html#returning-a-view-versus-a-copy\n",
      "  self._setitem_single_block(indexer, value, name)\n"
     ]
    }
   ],
   "source": [
    "df['onset_dt'].loc[~df['onset_dt'].isnull()] = 1  \n",
    "df['onset_dt'].loc[df['onset_dt'].isnull()] = 0\n",
    "df = df.rename(columns={\"onset_dt\": \"onset_missing_ind\"})"
   ]
  },
  {
   "cell_type": "markdown",
   "metadata": {},
   "source": [
    "**sex:**\n",
    "<br>\n",
    "We will investigate the feature its relation to the target feature and then drop the Missing rows as it only account for 0.1%."
   ]
  },
  {
   "cell_type": "code",
   "execution_count": 42,
   "metadata": {},
   "outputs": [
    {
     "name": "stdout",
     "output_type": "stream",
     "text": [
      "The % of patients resulting in death (death_yn yes /total rows from sex): 0.0001\n",
      "The % of patients resulting in no death (death_yn no /total rows from sex): 0.001\n"
     ]
    }
   ],
   "source": [
    "# Investigating the % of a patient with sex data missing resulting in death yes and no\n",
    "rows_miss_sex = df.loc[df['sex']==\"Missing\"]\n",
    "\n",
    "rows_miss_sex_deathyes= rows_miss_sex .loc[rows_miss_sex['death_yn']==\"Yes\"]\n",
    "percent_sex_deathyesn = round(rows_miss_sex_deathyes.shape[0] / df.shape[0], 5)\n",
    "\n",
    "rows_miss_sex_deathno = rows_miss_sex .loc[rows_miss_sex['death_yn']==\"No\"]\n",
    "percent_sex_deathnon = round(rows_miss_sex_deathno.shape[0] / df.shape[0], 5)\n",
    "\n",
    "print(\"The % of patients resulting in death (death_yn yes /total rows from sex):\", percent_sex_deathyesn)\n",
    "print(\"The % of patients resulting in no death (death_yn no /total rows from sex):\", percent_sex_deathnon)"
   ]
  },
  {
   "cell_type": "code",
   "execution_count": 43,
   "metadata": {
    "scrolled": true
   },
   "outputs": [
    {
     "name": "stdout",
     "output_type": "stream",
     "text": [
      "The % of patients resulting in death (death_yn yes /total rows from onset_dt): 0.012\n",
      "The % of patients resulting in no death (death_yn no /total rows from onset_dt): 0.9869\n"
     ]
    }
   ],
   "source": [
    "rows_nonmiss_sex = df[df.sex != \"Missing\"]\n",
    "\n",
    "rows_nonmiss_sex_deathyes= rows_nonmiss_sex.loc[rows_nonmiss_sex['death_yn']==\"Yes\"]\n",
    "percent_sex_deathyes = round(rows_nonmiss_sex_deathyes.shape[0] / df.shape[0], 5)\n",
    "\n",
    "rows_nonmiss_sex_deathno = rows_nonmiss_sex.loc[rows_nonmiss_sex['death_yn']==\"No\"]\n",
    "percent_sex_deathno = round(rows_nonmiss_sex_deathno.shape[0] / df.shape[0], 5)\n",
    "\n",
    "print(\"The % of patients resulting in death (death_yn yes /total rows from onset_dt):\", percent_sex_deathyes)\n",
    "print(\"The % of patients resulting in no death (death_yn no /total rows from onset_dt):\", percent_sex_deathno)"
   ]
  },
  {
   "cell_type": "markdown",
   "metadata": {},
   "source": [
    "Based from these results, we see no use of keeping these missing values and they will be dropped as they account for <.001% of the data against the target feature."
   ]
  },
  {
   "cell_type": "code",
   "execution_count": 44,
   "metadata": {},
   "outputs": [],
   "source": [
    "df = df[df.sex != \"Missing\"]"
   ]
  },
  {
   "cell_type": "code",
   "execution_count": 45,
   "metadata": {},
   "outputs": [
    {
     "name": "stdout",
     "output_type": "stream",
     "text": [
      "The number of rows to be dropped based from the feature sex containing 'Missing' values: 11\n",
      "The number of rows after dropping the rows that had these 'Missing' values: 9989\n"
     ]
    }
   ],
   "source": [
    "print(\"The number of rows to be dropped based from the feature sex containing 'Missing' values:\", rows_miss_sex.shape[0])\n",
    "print(\"The number of rows after dropping the rows that had these 'Missing' values:\", df.shape[0])"
   ]
  },
  {
   "cell_type": "markdown",
   "metadata": {},
   "source": [
    "**age_group:**\n",
    "<br>\n",
    "In this section, I will investigate if the missing values of the feature has any impact on the target feature. Then, if it does not (assuming) then I will drop these rows. "
   ]
  },
  {
   "cell_type": "code",
   "execution_count": 46,
   "metadata": {},
   "outputs": [
    {
     "name": "stdout",
     "output_type": "stream",
     "text": [
      "The % of patients resulting in death (death_yn yes /total rows from sex): 0.0\n",
      "The % of patients resulting in no death (death_yn no /total rows from sex): 0.0012\n"
     ]
    }
   ],
   "source": [
    "# Investigating the % of a patient with age_group data missing resulting in death yes and no\n",
    "missing_age = df.loc[df['age_group']==\"Missing\"]\n",
    "\n",
    "missing_age_deathyes = missing_age.loc[missing_age['death_yn']==\"Yes\"]\n",
    "percent_age_deathyes = round(missing_age_deathyes.shape[0] / df.shape[0], 5)\n",
    "\n",
    "missing_age_deathno = missing_age.loc[missing_age['death_yn']==\"No\"]\n",
    "percent_age_deathno = round(missing_age_deathno.shape[0] / df.shape[0], 5)\n",
    "\n",
    "print(\"The % of patients resulting in death (death_yn yes /total rows from sex):\", percent_age_deathyes)\n",
    "print(\"The % of patients resulting in no death (death_yn no /total rows from sex):\", percent_age_deathno)"
   ]
  },
  {
   "cell_type": "markdown",
   "metadata": {},
   "source": [
    "Based on these results, we see that the missing values from age_group feature does not give any meaningful data as it the likelihood of death_yn == yes based on missing data is 0%. Therefore, these rows will be removed. "
   ]
  },
  {
   "cell_type": "code",
   "execution_count": 47,
   "metadata": {},
   "outputs": [],
   "source": [
    "df = df[df.age_group != \"Missing\"]"
   ]
  },
  {
   "cell_type": "code",
   "execution_count": 48,
   "metadata": {},
   "outputs": [
    {
     "name": "stdout",
     "output_type": "stream",
     "text": [
      "The number of rows to be dropped based from the feature sex containing 'Missing' values: 12\n",
      "The number of rows after dropping the rows that had these 'Missing' values: 9977\n"
     ]
    }
   ],
   "source": [
    "print(\"The number of rows to be dropped based from the feature sex containing 'Missing' values:\", missing_age.shape[0])\n",
    "print(\"The number of rows after dropping the rows that had these 'Missing' values:\", df.shape[0])"
   ]
  },
  {
   "cell_type": "markdown",
   "metadata": {},
   "source": [
    "**race_ethnicity_combined:**\n",
    "<br>\n",
    "race_ethnicity_combined has 0.67% Missing values and over 40% of Unknown values. As mentioned in the introduction that Missing values in categorical values are not NaN values and they are coded to be Missing because they were left unanswered. 65 rows of the feature is Missing data. I will combine the Missing values into a single Unknown value. "
   ]
  },
  {
   "cell_type": "code",
   "execution_count": 49,
   "metadata": {},
   "outputs": [
    {
     "data": {
      "text/plain": [
       "65"
      ]
     },
     "execution_count": 49,
     "metadata": {},
     "output_type": "execute_result"
    }
   ],
   "source": [
    "# Number of rows that is affected\n",
    "df[df['race_ethnicity_combined'] == \"Missing\"].shape[0]"
   ]
  },
  {
   "cell_type": "code",
   "execution_count": 50,
   "metadata": {},
   "outputs": [],
   "source": [
    "df['race_ethnicity_combined'] = df['race_ethnicity_combined'].replace(['Missing'], \"Unknown\")"
   ]
  },
  {
   "cell_type": "code",
   "execution_count": 51,
   "metadata": {},
   "outputs": [
    {
     "data": {
      "text/plain": [
       "0"
      ]
     },
     "execution_count": 51,
     "metadata": {},
     "output_type": "execute_result"
    }
   ],
   "source": [
    "df[df['race_ethnicity_combined'] == \"Missing\"].shape[0]"
   ]
  },
  {
   "cell_type": "markdown",
   "metadata": {},
   "source": [
    "**hosp_yn:**\n",
    "<br>\n",
    "I will combine the Missing and Unknown into a single Unknown value."
   ]
  },
  {
   "cell_type": "code",
   "execution_count": 52,
   "metadata": {},
   "outputs": [],
   "source": [
    "df['hosp_yn'] = df['hosp_yn'].replace(['Missing'], \"Unknown\")"
   ]
  },
  {
   "cell_type": "code",
   "execution_count": 53,
   "metadata": {},
   "outputs": [
    {
     "data": {
      "text/plain": [
       "0"
      ]
     },
     "execution_count": 53,
     "metadata": {},
     "output_type": "execute_result"
    }
   ],
   "source": [
    "df[df['hosp_yn'] == \"Missing\"].shape[0]"
   ]
  },
  {
   "cell_type": "markdown",
   "metadata": {},
   "source": [
    "**medcond_yn:**\n",
    "<br>\n",
    "As we cannot have Missing values, we will treat the 79% of Missing values as a valid Unknown value which already available to use in this scenario."
   ]
  },
  {
   "cell_type": "code",
   "execution_count": 54,
   "metadata": {},
   "outputs": [],
   "source": [
    "df['medcond_yn'] = df['medcond_yn'].replace(['Missing'], \"Unknown\")"
   ]
  },
  {
   "cell_type": "code",
   "execution_count": 55,
   "metadata": {
    "scrolled": true
   },
   "outputs": [
    {
     "name": "stdout",
     "output_type": "stream",
     "text": [
      "Number of rows with Missing values: 0\n"
     ]
    }
   ],
   "source": [
    "print(\"Number of rows with Missing values:\", df.loc[df['medcond_yn']==\"Missing\"].shape[0])"
   ]
  },
  {
   "cell_type": "markdown",
   "metadata": {},
   "source": [
    "**icu_yn:**\n",
    "<br>\n",
    "From the documentation, we see that icu_yn lets us know if the patient ended up being referred to the ICU meaning that the patient's status will still be that they were hospitalized. I will investigate the % of hosp_yn == \"Yes\" that can be imputed if possible into Missing values. Then, combine the remaining Missing values with Unknown values.\n",
    "<br><br>\n",
    "After investigating below, I found that 201 rows can be imputed for Missing values in icu_yn. As it accounts for 2.5% of the Missing values and 2% from the total rows, imputation is possible. Imputation is valid in this scenario as ICU status still means that the patient is hospitalized. The only difference is that ICU patients can either be inpatients and outpatients which is out of the scope of the data and the dataset only focuses on a general view of the patient's status. The remaining Missing values will then be combined with Unknown as a single value. "
   ]
  },
  {
   "cell_type": "code",
   "execution_count": 56,
   "metadata": {},
   "outputs": [
    {
     "name": "stdout",
     "output_type": "stream",
     "text": [
      "The number of rows before imputation for Missing values in icu_yn: 8051\n"
     ]
    }
   ],
   "source": [
    "print(\"The number of rows before imputation for Missing values in icu_yn:\",df.loc[df['icu_yn']==\"Missing\"].shape[0])"
   ]
  },
  {
   "cell_type": "code",
   "execution_count": 57,
   "metadata": {},
   "outputs": [
    {
     "data": {
      "text/html": [
       "<div>\n",
       "<style scoped>\n",
       "    .dataframe tbody tr th:only-of-type {\n",
       "        vertical-align: middle;\n",
       "    }\n",
       "\n",
       "    .dataframe tbody tr th {\n",
       "        vertical-align: top;\n",
       "    }\n",
       "\n",
       "    .dataframe thead th {\n",
       "        text-align: right;\n",
       "    }\n",
       "</style>\n",
       "<table border=\"1\" class=\"dataframe\">\n",
       "  <thead>\n",
       "    <tr style=\"text-align: right;\">\n",
       "      <th></th>\n",
       "      <th>cdc_case_earliest_dt</th>\n",
       "      <th>cdc_report_dt</th>\n",
       "      <th>onset_missing_ind</th>\n",
       "      <th>current_status</th>\n",
       "      <th>sex</th>\n",
       "      <th>age_group</th>\n",
       "      <th>race_ethnicity_combined</th>\n",
       "      <th>hosp_yn</th>\n",
       "      <th>icu_yn</th>\n",
       "      <th>death_yn</th>\n",
       "      <th>medcond_yn</th>\n",
       "    </tr>\n",
       "  </thead>\n",
       "  <tbody>\n",
       "    <tr>\n",
       "      <th>47</th>\n",
       "      <td>2021-02-02</td>\n",
       "      <td>2021-02-09</td>\n",
       "      <td>1</td>\n",
       "      <td>Laboratory-confirmed case</td>\n",
       "      <td>Male</td>\n",
       "      <td>50 - 59 Years</td>\n",
       "      <td>Hispanic/Latino</td>\n",
       "      <td>Yes</td>\n",
       "      <td>Missing</td>\n",
       "      <td>No</td>\n",
       "      <td>Unknown</td>\n",
       "    </tr>\n",
       "    <tr>\n",
       "      <th>85</th>\n",
       "      <td>2021-01-29</td>\n",
       "      <td>2021-01-29</td>\n",
       "      <td>1</td>\n",
       "      <td>Laboratory-confirmed case</td>\n",
       "      <td>Female</td>\n",
       "      <td>60 - 69 Years</td>\n",
       "      <td>Black, Non-Hispanic</td>\n",
       "      <td>Yes</td>\n",
       "      <td>Unknown</td>\n",
       "      <td>No</td>\n",
       "      <td>Yes</td>\n",
       "    </tr>\n",
       "    <tr>\n",
       "      <th>86</th>\n",
       "      <td>2021-02-08</td>\n",
       "      <td>2021-02-08</td>\n",
       "      <td>1</td>\n",
       "      <td>Laboratory-confirmed case</td>\n",
       "      <td>Female</td>\n",
       "      <td>20 - 29 Years</td>\n",
       "      <td>Unknown</td>\n",
       "      <td>Yes</td>\n",
       "      <td>No</td>\n",
       "      <td>No</td>\n",
       "      <td>Unknown</td>\n",
       "    </tr>\n",
       "    <tr>\n",
       "      <th>96</th>\n",
       "      <td>2021-01-22</td>\n",
       "      <td>NaT</td>\n",
       "      <td>0</td>\n",
       "      <td>Laboratory-confirmed case</td>\n",
       "      <td>Male</td>\n",
       "      <td>60 - 69 Years</td>\n",
       "      <td>Unknown</td>\n",
       "      <td>Yes</td>\n",
       "      <td>Unknown</td>\n",
       "      <td>No</td>\n",
       "      <td>Unknown</td>\n",
       "    </tr>\n",
       "    <tr>\n",
       "      <th>99</th>\n",
       "      <td>2021-01-25</td>\n",
       "      <td>2021-01-28</td>\n",
       "      <td>1</td>\n",
       "      <td>Laboratory-confirmed case</td>\n",
       "      <td>Female</td>\n",
       "      <td>70 - 79 Years</td>\n",
       "      <td>White, Non-Hispanic</td>\n",
       "      <td>Yes</td>\n",
       "      <td>No</td>\n",
       "      <td>No</td>\n",
       "      <td>Yes</td>\n",
       "    </tr>\n",
       "    <tr>\n",
       "      <th>...</th>\n",
       "      <td>...</td>\n",
       "      <td>...</td>\n",
       "      <td>...</td>\n",
       "      <td>...</td>\n",
       "      <td>...</td>\n",
       "      <td>...</td>\n",
       "      <td>...</td>\n",
       "      <td>...</td>\n",
       "      <td>...</td>\n",
       "      <td>...</td>\n",
       "      <td>...</td>\n",
       "    </tr>\n",
       "    <tr>\n",
       "      <th>9930</th>\n",
       "      <td>2021-01-28</td>\n",
       "      <td>NaT</td>\n",
       "      <td>0</td>\n",
       "      <td>Laboratory-confirmed case</td>\n",
       "      <td>Male</td>\n",
       "      <td>80+ Years</td>\n",
       "      <td>Unknown</td>\n",
       "      <td>Yes</td>\n",
       "      <td>Unknown</td>\n",
       "      <td>No</td>\n",
       "      <td>Unknown</td>\n",
       "    </tr>\n",
       "    <tr>\n",
       "      <th>9933</th>\n",
       "      <td>2021-02-02</td>\n",
       "      <td>2021-02-02</td>\n",
       "      <td>1</td>\n",
       "      <td>Laboratory-confirmed case</td>\n",
       "      <td>Male</td>\n",
       "      <td>60 - 69 Years</td>\n",
       "      <td>White, Non-Hispanic</td>\n",
       "      <td>Yes</td>\n",
       "      <td>Missing</td>\n",
       "      <td>No</td>\n",
       "      <td>Unknown</td>\n",
       "    </tr>\n",
       "    <tr>\n",
       "      <th>9935</th>\n",
       "      <td>2021-01-19</td>\n",
       "      <td>2021-01-19</td>\n",
       "      <td>0</td>\n",
       "      <td>Laboratory-confirmed case</td>\n",
       "      <td>Male</td>\n",
       "      <td>80+ Years</td>\n",
       "      <td>White, Non-Hispanic</td>\n",
       "      <td>Yes</td>\n",
       "      <td>Missing</td>\n",
       "      <td>No</td>\n",
       "      <td>Unknown</td>\n",
       "    </tr>\n",
       "    <tr>\n",
       "      <th>9948</th>\n",
       "      <td>2021-01-29</td>\n",
       "      <td>NaT</td>\n",
       "      <td>0</td>\n",
       "      <td>Laboratory-confirmed case</td>\n",
       "      <td>Male</td>\n",
       "      <td>70 - 79 Years</td>\n",
       "      <td>White, Non-Hispanic</td>\n",
       "      <td>Yes</td>\n",
       "      <td>Unknown</td>\n",
       "      <td>No</td>\n",
       "      <td>Unknown</td>\n",
       "    </tr>\n",
       "    <tr>\n",
       "      <th>9972</th>\n",
       "      <td>2021-01-21</td>\n",
       "      <td>NaT</td>\n",
       "      <td>0</td>\n",
       "      <td>Laboratory-confirmed case</td>\n",
       "      <td>Female</td>\n",
       "      <td>20 - 29 Years</td>\n",
       "      <td>Unknown</td>\n",
       "      <td>Yes</td>\n",
       "      <td>No</td>\n",
       "      <td>No</td>\n",
       "      <td>Unknown</td>\n",
       "    </tr>\n",
       "  </tbody>\n",
       "</table>\n",
       "<p>394 rows × 11 columns</p>\n",
       "</div>"
      ],
      "text/plain": [
       "     cdc_case_earliest_dt cdc_report_dt onset_missing_ind  \\\n",
       "47             2021-02-02    2021-02-09                 1   \n",
       "85             2021-01-29    2021-01-29                 1   \n",
       "86             2021-02-08    2021-02-08                 1   \n",
       "96             2021-01-22           NaT                 0   \n",
       "99             2021-01-25    2021-01-28                 1   \n",
       "...                   ...           ...               ...   \n",
       "9930           2021-01-28           NaT                 0   \n",
       "9933           2021-02-02    2021-02-02                 1   \n",
       "9935           2021-01-19    2021-01-19                 0   \n",
       "9948           2021-01-29           NaT                 0   \n",
       "9972           2021-01-21           NaT                 0   \n",
       "\n",
       "                 current_status     sex      age_group  \\\n",
       "47    Laboratory-confirmed case    Male  50 - 59 Years   \n",
       "85    Laboratory-confirmed case  Female  60 - 69 Years   \n",
       "86    Laboratory-confirmed case  Female  20 - 29 Years   \n",
       "96    Laboratory-confirmed case    Male  60 - 69 Years   \n",
       "99    Laboratory-confirmed case  Female  70 - 79 Years   \n",
       "...                         ...     ...            ...   \n",
       "9930  Laboratory-confirmed case    Male      80+ Years   \n",
       "9933  Laboratory-confirmed case    Male  60 - 69 Years   \n",
       "9935  Laboratory-confirmed case    Male      80+ Years   \n",
       "9948  Laboratory-confirmed case    Male  70 - 79 Years   \n",
       "9972  Laboratory-confirmed case  Female  20 - 29 Years   \n",
       "\n",
       "     race_ethnicity_combined hosp_yn   icu_yn death_yn medcond_yn  \n",
       "47           Hispanic/Latino     Yes  Missing       No    Unknown  \n",
       "85       Black, Non-Hispanic     Yes  Unknown       No        Yes  \n",
       "86                   Unknown     Yes       No       No    Unknown  \n",
       "96                   Unknown     Yes  Unknown       No    Unknown  \n",
       "99       White, Non-Hispanic     Yes       No       No        Yes  \n",
       "...                      ...     ...      ...      ...        ...  \n",
       "9930                 Unknown     Yes  Unknown       No    Unknown  \n",
       "9933     White, Non-Hispanic     Yes  Missing       No    Unknown  \n",
       "9935     White, Non-Hispanic     Yes  Missing       No    Unknown  \n",
       "9948     White, Non-Hispanic     Yes  Unknown       No    Unknown  \n",
       "9972                 Unknown     Yes       No       No    Unknown  \n",
       "\n",
       "[394 rows x 11 columns]"
      ]
     },
     "execution_count": 57,
     "metadata": {},
     "output_type": "execute_result"
    }
   ],
   "source": [
    "# Creating a variable that only shows rows that contain Yes in hosp_yn. Then,\n",
    "# see how many Yes rows can be filled in that has icu_yn == Missing\n",
    "hosp_yes = df.loc[df['hosp_yn']==\"Yes\"]\n",
    "hosp_yes"
   ]
  },
  {
   "cell_type": "code",
   "execution_count": 58,
   "metadata": {},
   "outputs": [
    {
     "data": {
      "text/html": [
       "<div>\n",
       "<style scoped>\n",
       "    .dataframe tbody tr th:only-of-type {\n",
       "        vertical-align: middle;\n",
       "    }\n",
       "\n",
       "    .dataframe tbody tr th {\n",
       "        vertical-align: top;\n",
       "    }\n",
       "\n",
       "    .dataframe thead th {\n",
       "        text-align: right;\n",
       "    }\n",
       "</style>\n",
       "<table border=\"1\" class=\"dataframe\">\n",
       "  <thead>\n",
       "    <tr style=\"text-align: right;\">\n",
       "      <th></th>\n",
       "      <th>cdc_case_earliest_dt</th>\n",
       "      <th>cdc_report_dt</th>\n",
       "      <th>onset_missing_ind</th>\n",
       "      <th>current_status</th>\n",
       "      <th>sex</th>\n",
       "      <th>age_group</th>\n",
       "      <th>race_ethnicity_combined</th>\n",
       "      <th>hosp_yn</th>\n",
       "      <th>icu_yn</th>\n",
       "      <th>death_yn</th>\n",
       "      <th>medcond_yn</th>\n",
       "    </tr>\n",
       "  </thead>\n",
       "  <tbody>\n",
       "    <tr>\n",
       "      <th>47</th>\n",
       "      <td>2021-02-02</td>\n",
       "      <td>2021-02-09</td>\n",
       "      <td>1</td>\n",
       "      <td>Laboratory-confirmed case</td>\n",
       "      <td>Male</td>\n",
       "      <td>50 - 59 Years</td>\n",
       "      <td>Hispanic/Latino</td>\n",
       "      <td>Yes</td>\n",
       "      <td>Missing</td>\n",
       "      <td>No</td>\n",
       "      <td>Unknown</td>\n",
       "    </tr>\n",
       "    <tr>\n",
       "      <th>101</th>\n",
       "      <td>2021-01-25</td>\n",
       "      <td>2021-01-25</td>\n",
       "      <td>0</td>\n",
       "      <td>Laboratory-confirmed case</td>\n",
       "      <td>Female</td>\n",
       "      <td>20 - 29 Years</td>\n",
       "      <td>White, Non-Hispanic</td>\n",
       "      <td>Yes</td>\n",
       "      <td>Missing</td>\n",
       "      <td>No</td>\n",
       "      <td>Unknown</td>\n",
       "    </tr>\n",
       "    <tr>\n",
       "      <th>159</th>\n",
       "      <td>2021-02-08</td>\n",
       "      <td>2021-02-08</td>\n",
       "      <td>0</td>\n",
       "      <td>Laboratory-confirmed case</td>\n",
       "      <td>Male</td>\n",
       "      <td>70 - 79 Years</td>\n",
       "      <td>White, Non-Hispanic</td>\n",
       "      <td>Yes</td>\n",
       "      <td>Missing</td>\n",
       "      <td>No</td>\n",
       "      <td>Unknown</td>\n",
       "    </tr>\n",
       "    <tr>\n",
       "      <th>287</th>\n",
       "      <td>2021-02-13</td>\n",
       "      <td>2021-02-15</td>\n",
       "      <td>0</td>\n",
       "      <td>Laboratory-confirmed case</td>\n",
       "      <td>Female</td>\n",
       "      <td>30 - 39 Years</td>\n",
       "      <td>Asian, Non-Hispanic</td>\n",
       "      <td>Yes</td>\n",
       "      <td>Missing</td>\n",
       "      <td>No</td>\n",
       "      <td>Unknown</td>\n",
       "    </tr>\n",
       "    <tr>\n",
       "      <th>292</th>\n",
       "      <td>2021-01-28</td>\n",
       "      <td>2021-01-31</td>\n",
       "      <td>1</td>\n",
       "      <td>Laboratory-confirmed case</td>\n",
       "      <td>Female</td>\n",
       "      <td>40 - 49 Years</td>\n",
       "      <td>Black, Non-Hispanic</td>\n",
       "      <td>Yes</td>\n",
       "      <td>Missing</td>\n",
       "      <td>No</td>\n",
       "      <td>Unknown</td>\n",
       "    </tr>\n",
       "    <tr>\n",
       "      <th>...</th>\n",
       "      <td>...</td>\n",
       "      <td>...</td>\n",
       "      <td>...</td>\n",
       "      <td>...</td>\n",
       "      <td>...</td>\n",
       "      <td>...</td>\n",
       "      <td>...</td>\n",
       "      <td>...</td>\n",
       "      <td>...</td>\n",
       "      <td>...</td>\n",
       "      <td>...</td>\n",
       "    </tr>\n",
       "    <tr>\n",
       "      <th>9735</th>\n",
       "      <td>2021-01-26</td>\n",
       "      <td>2021-01-26</td>\n",
       "      <td>0</td>\n",
       "      <td>Laboratory-confirmed case</td>\n",
       "      <td>Female</td>\n",
       "      <td>80+ Years</td>\n",
       "      <td>White, Non-Hispanic</td>\n",
       "      <td>Yes</td>\n",
       "      <td>Missing</td>\n",
       "      <td>Yes</td>\n",
       "      <td>Unknown</td>\n",
       "    </tr>\n",
       "    <tr>\n",
       "      <th>9804</th>\n",
       "      <td>2021-01-29</td>\n",
       "      <td>2021-01-29</td>\n",
       "      <td>0</td>\n",
       "      <td>Laboratory-confirmed case</td>\n",
       "      <td>Female</td>\n",
       "      <td>50 - 59 Years</td>\n",
       "      <td>Black, Non-Hispanic</td>\n",
       "      <td>Yes</td>\n",
       "      <td>Missing</td>\n",
       "      <td>No</td>\n",
       "      <td>Yes</td>\n",
       "    </tr>\n",
       "    <tr>\n",
       "      <th>9907</th>\n",
       "      <td>2021-02-10</td>\n",
       "      <td>2021-02-11</td>\n",
       "      <td>0</td>\n",
       "      <td>Laboratory-confirmed case</td>\n",
       "      <td>Female</td>\n",
       "      <td>20 - 29 Years</td>\n",
       "      <td>White, Non-Hispanic</td>\n",
       "      <td>Yes</td>\n",
       "      <td>Missing</td>\n",
       "      <td>No</td>\n",
       "      <td>Unknown</td>\n",
       "    </tr>\n",
       "    <tr>\n",
       "      <th>9933</th>\n",
       "      <td>2021-02-02</td>\n",
       "      <td>2021-02-02</td>\n",
       "      <td>1</td>\n",
       "      <td>Laboratory-confirmed case</td>\n",
       "      <td>Male</td>\n",
       "      <td>60 - 69 Years</td>\n",
       "      <td>White, Non-Hispanic</td>\n",
       "      <td>Yes</td>\n",
       "      <td>Missing</td>\n",
       "      <td>No</td>\n",
       "      <td>Unknown</td>\n",
       "    </tr>\n",
       "    <tr>\n",
       "      <th>9935</th>\n",
       "      <td>2021-01-19</td>\n",
       "      <td>2021-01-19</td>\n",
       "      <td>0</td>\n",
       "      <td>Laboratory-confirmed case</td>\n",
       "      <td>Male</td>\n",
       "      <td>80+ Years</td>\n",
       "      <td>White, Non-Hispanic</td>\n",
       "      <td>Yes</td>\n",
       "      <td>Missing</td>\n",
       "      <td>No</td>\n",
       "      <td>Unknown</td>\n",
       "    </tr>\n",
       "  </tbody>\n",
       "</table>\n",
       "<p>201 rows × 11 columns</p>\n",
       "</div>"
      ],
      "text/plain": [
       "     cdc_case_earliest_dt cdc_report_dt onset_missing_ind  \\\n",
       "47             2021-02-02    2021-02-09                 1   \n",
       "101            2021-01-25    2021-01-25                 0   \n",
       "159            2021-02-08    2021-02-08                 0   \n",
       "287            2021-02-13    2021-02-15                 0   \n",
       "292            2021-01-28    2021-01-31                 1   \n",
       "...                   ...           ...               ...   \n",
       "9735           2021-01-26    2021-01-26                 0   \n",
       "9804           2021-01-29    2021-01-29                 0   \n",
       "9907           2021-02-10    2021-02-11                 0   \n",
       "9933           2021-02-02    2021-02-02                 1   \n",
       "9935           2021-01-19    2021-01-19                 0   \n",
       "\n",
       "                 current_status     sex      age_group  \\\n",
       "47    Laboratory-confirmed case    Male  50 - 59 Years   \n",
       "101   Laboratory-confirmed case  Female  20 - 29 Years   \n",
       "159   Laboratory-confirmed case    Male  70 - 79 Years   \n",
       "287   Laboratory-confirmed case  Female  30 - 39 Years   \n",
       "292   Laboratory-confirmed case  Female  40 - 49 Years   \n",
       "...                         ...     ...            ...   \n",
       "9735  Laboratory-confirmed case  Female      80+ Years   \n",
       "9804  Laboratory-confirmed case  Female  50 - 59 Years   \n",
       "9907  Laboratory-confirmed case  Female  20 - 29 Years   \n",
       "9933  Laboratory-confirmed case    Male  60 - 69 Years   \n",
       "9935  Laboratory-confirmed case    Male      80+ Years   \n",
       "\n",
       "     race_ethnicity_combined hosp_yn   icu_yn death_yn medcond_yn  \n",
       "47           Hispanic/Latino     Yes  Missing       No    Unknown  \n",
       "101      White, Non-Hispanic     Yes  Missing       No    Unknown  \n",
       "159      White, Non-Hispanic     Yes  Missing       No    Unknown  \n",
       "287      Asian, Non-Hispanic     Yes  Missing       No    Unknown  \n",
       "292      Black, Non-Hispanic     Yes  Missing       No    Unknown  \n",
       "...                      ...     ...      ...      ...        ...  \n",
       "9735     White, Non-Hispanic     Yes  Missing      Yes    Unknown  \n",
       "9804     Black, Non-Hispanic     Yes  Missing       No        Yes  \n",
       "9907     White, Non-Hispanic     Yes  Missing       No    Unknown  \n",
       "9933     White, Non-Hispanic     Yes  Missing       No    Unknown  \n",
       "9935     White, Non-Hispanic     Yes  Missing       No    Unknown  \n",
       "\n",
       "[201 rows x 11 columns]"
      ]
     },
     "execution_count": 58,
     "metadata": {},
     "output_type": "execute_result"
    }
   ],
   "source": [
    "icu_missing_hosp_yes = hosp_yes.loc[hosp_yes['icu_yn']==\"Missing\"]\n",
    "icu_missing_hosp_yes"
   ]
  },
  {
   "cell_type": "code",
   "execution_count": 59,
   "metadata": {},
   "outputs": [
    {
     "data": {
      "text/html": [
       "<div>\n",
       "<style scoped>\n",
       "    .dataframe tbody tr th:only-of-type {\n",
       "        vertical-align: middle;\n",
       "    }\n",
       "\n",
       "    .dataframe tbody tr th {\n",
       "        vertical-align: top;\n",
       "    }\n",
       "\n",
       "    .dataframe thead th {\n",
       "        text-align: right;\n",
       "    }\n",
       "</style>\n",
       "<table border=\"1\" class=\"dataframe\">\n",
       "  <thead>\n",
       "    <tr style=\"text-align: right;\">\n",
       "      <th></th>\n",
       "      <th>cdc_case_earliest_dt</th>\n",
       "      <th>cdc_report_dt</th>\n",
       "      <th>onset_missing_ind</th>\n",
       "      <th>current_status</th>\n",
       "      <th>sex</th>\n",
       "      <th>age_group</th>\n",
       "      <th>race_ethnicity_combined</th>\n",
       "      <th>hosp_yn</th>\n",
       "      <th>icu_yn</th>\n",
       "      <th>death_yn</th>\n",
       "      <th>medcond_yn</th>\n",
       "    </tr>\n",
       "  </thead>\n",
       "  <tbody>\n",
       "    <tr>\n",
       "      <th>47</th>\n",
       "      <td>2021-02-02</td>\n",
       "      <td>2021-02-09</td>\n",
       "      <td>1</td>\n",
       "      <td>Laboratory-confirmed case</td>\n",
       "      <td>Male</td>\n",
       "      <td>50 - 59 Years</td>\n",
       "      <td>Hispanic/Latino</td>\n",
       "      <td>Yes</td>\n",
       "      <td>Yes</td>\n",
       "      <td>No</td>\n",
       "      <td>Unknown</td>\n",
       "    </tr>\n",
       "    <tr>\n",
       "      <th>101</th>\n",
       "      <td>2021-01-25</td>\n",
       "      <td>2021-01-25</td>\n",
       "      <td>0</td>\n",
       "      <td>Laboratory-confirmed case</td>\n",
       "      <td>Female</td>\n",
       "      <td>20 - 29 Years</td>\n",
       "      <td>White, Non-Hispanic</td>\n",
       "      <td>Yes</td>\n",
       "      <td>Yes</td>\n",
       "      <td>No</td>\n",
       "      <td>Unknown</td>\n",
       "    </tr>\n",
       "    <tr>\n",
       "      <th>159</th>\n",
       "      <td>2021-02-08</td>\n",
       "      <td>2021-02-08</td>\n",
       "      <td>0</td>\n",
       "      <td>Laboratory-confirmed case</td>\n",
       "      <td>Male</td>\n",
       "      <td>70 - 79 Years</td>\n",
       "      <td>White, Non-Hispanic</td>\n",
       "      <td>Yes</td>\n",
       "      <td>Yes</td>\n",
       "      <td>No</td>\n",
       "      <td>Unknown</td>\n",
       "    </tr>\n",
       "    <tr>\n",
       "      <th>287</th>\n",
       "      <td>2021-02-13</td>\n",
       "      <td>2021-02-15</td>\n",
       "      <td>0</td>\n",
       "      <td>Laboratory-confirmed case</td>\n",
       "      <td>Female</td>\n",
       "      <td>30 - 39 Years</td>\n",
       "      <td>Asian, Non-Hispanic</td>\n",
       "      <td>Yes</td>\n",
       "      <td>Yes</td>\n",
       "      <td>No</td>\n",
       "      <td>Unknown</td>\n",
       "    </tr>\n",
       "    <tr>\n",
       "      <th>292</th>\n",
       "      <td>2021-01-28</td>\n",
       "      <td>2021-01-31</td>\n",
       "      <td>1</td>\n",
       "      <td>Laboratory-confirmed case</td>\n",
       "      <td>Female</td>\n",
       "      <td>40 - 49 Years</td>\n",
       "      <td>Black, Non-Hispanic</td>\n",
       "      <td>Yes</td>\n",
       "      <td>Yes</td>\n",
       "      <td>No</td>\n",
       "      <td>Unknown</td>\n",
       "    </tr>\n",
       "    <tr>\n",
       "      <th>...</th>\n",
       "      <td>...</td>\n",
       "      <td>...</td>\n",
       "      <td>...</td>\n",
       "      <td>...</td>\n",
       "      <td>...</td>\n",
       "      <td>...</td>\n",
       "      <td>...</td>\n",
       "      <td>...</td>\n",
       "      <td>...</td>\n",
       "      <td>...</td>\n",
       "      <td>...</td>\n",
       "    </tr>\n",
       "    <tr>\n",
       "      <th>9735</th>\n",
       "      <td>2021-01-26</td>\n",
       "      <td>2021-01-26</td>\n",
       "      <td>0</td>\n",
       "      <td>Laboratory-confirmed case</td>\n",
       "      <td>Female</td>\n",
       "      <td>80+ Years</td>\n",
       "      <td>White, Non-Hispanic</td>\n",
       "      <td>Yes</td>\n",
       "      <td>Yes</td>\n",
       "      <td>Yes</td>\n",
       "      <td>Unknown</td>\n",
       "    </tr>\n",
       "    <tr>\n",
       "      <th>9804</th>\n",
       "      <td>2021-01-29</td>\n",
       "      <td>2021-01-29</td>\n",
       "      <td>0</td>\n",
       "      <td>Laboratory-confirmed case</td>\n",
       "      <td>Female</td>\n",
       "      <td>50 - 59 Years</td>\n",
       "      <td>Black, Non-Hispanic</td>\n",
       "      <td>Yes</td>\n",
       "      <td>Yes</td>\n",
       "      <td>No</td>\n",
       "      <td>Yes</td>\n",
       "    </tr>\n",
       "    <tr>\n",
       "      <th>9907</th>\n",
       "      <td>2021-02-10</td>\n",
       "      <td>2021-02-11</td>\n",
       "      <td>0</td>\n",
       "      <td>Laboratory-confirmed case</td>\n",
       "      <td>Female</td>\n",
       "      <td>20 - 29 Years</td>\n",
       "      <td>White, Non-Hispanic</td>\n",
       "      <td>Yes</td>\n",
       "      <td>Yes</td>\n",
       "      <td>No</td>\n",
       "      <td>Unknown</td>\n",
       "    </tr>\n",
       "    <tr>\n",
       "      <th>9933</th>\n",
       "      <td>2021-02-02</td>\n",
       "      <td>2021-02-02</td>\n",
       "      <td>1</td>\n",
       "      <td>Laboratory-confirmed case</td>\n",
       "      <td>Male</td>\n",
       "      <td>60 - 69 Years</td>\n",
       "      <td>White, Non-Hispanic</td>\n",
       "      <td>Yes</td>\n",
       "      <td>Yes</td>\n",
       "      <td>No</td>\n",
       "      <td>Unknown</td>\n",
       "    </tr>\n",
       "    <tr>\n",
       "      <th>9935</th>\n",
       "      <td>2021-01-19</td>\n",
       "      <td>2021-01-19</td>\n",
       "      <td>0</td>\n",
       "      <td>Laboratory-confirmed case</td>\n",
       "      <td>Male</td>\n",
       "      <td>80+ Years</td>\n",
       "      <td>White, Non-Hispanic</td>\n",
       "      <td>Yes</td>\n",
       "      <td>Yes</td>\n",
       "      <td>No</td>\n",
       "      <td>Unknown</td>\n",
       "    </tr>\n",
       "  </tbody>\n",
       "</table>\n",
       "<p>201 rows × 11 columns</p>\n",
       "</div>"
      ],
      "text/plain": [
       "     cdc_case_earliest_dt cdc_report_dt onset_missing_ind  \\\n",
       "47             2021-02-02    2021-02-09                 1   \n",
       "101            2021-01-25    2021-01-25                 0   \n",
       "159            2021-02-08    2021-02-08                 0   \n",
       "287            2021-02-13    2021-02-15                 0   \n",
       "292            2021-01-28    2021-01-31                 1   \n",
       "...                   ...           ...               ...   \n",
       "9735           2021-01-26    2021-01-26                 0   \n",
       "9804           2021-01-29    2021-01-29                 0   \n",
       "9907           2021-02-10    2021-02-11                 0   \n",
       "9933           2021-02-02    2021-02-02                 1   \n",
       "9935           2021-01-19    2021-01-19                 0   \n",
       "\n",
       "                 current_status     sex      age_group  \\\n",
       "47    Laboratory-confirmed case    Male  50 - 59 Years   \n",
       "101   Laboratory-confirmed case  Female  20 - 29 Years   \n",
       "159   Laboratory-confirmed case    Male  70 - 79 Years   \n",
       "287   Laboratory-confirmed case  Female  30 - 39 Years   \n",
       "292   Laboratory-confirmed case  Female  40 - 49 Years   \n",
       "...                         ...     ...            ...   \n",
       "9735  Laboratory-confirmed case  Female      80+ Years   \n",
       "9804  Laboratory-confirmed case  Female  50 - 59 Years   \n",
       "9907  Laboratory-confirmed case  Female  20 - 29 Years   \n",
       "9933  Laboratory-confirmed case    Male  60 - 69 Years   \n",
       "9935  Laboratory-confirmed case    Male      80+ Years   \n",
       "\n",
       "     race_ethnicity_combined hosp_yn icu_yn death_yn medcond_yn  \n",
       "47           Hispanic/Latino     Yes    Yes       No    Unknown  \n",
       "101      White, Non-Hispanic     Yes    Yes       No    Unknown  \n",
       "159      White, Non-Hispanic     Yes    Yes       No    Unknown  \n",
       "287      Asian, Non-Hispanic     Yes    Yes       No    Unknown  \n",
       "292      Black, Non-Hispanic     Yes    Yes       No    Unknown  \n",
       "...                      ...     ...    ...      ...        ...  \n",
       "9735     White, Non-Hispanic     Yes    Yes      Yes    Unknown  \n",
       "9804     Black, Non-Hispanic     Yes    Yes       No        Yes  \n",
       "9907     White, Non-Hispanic     Yes    Yes       No    Unknown  \n",
       "9933     White, Non-Hispanic     Yes    Yes       No    Unknown  \n",
       "9935     White, Non-Hispanic     Yes    Yes       No    Unknown  \n",
       "\n",
       "[201 rows x 11 columns]"
      ]
     },
     "execution_count": 59,
     "metadata": {},
     "output_type": "execute_result"
    }
   ],
   "source": [
    "new_icu_hosp_yes = icu_missing_hosp_yes.assign(icu_yn = icu_missing_hosp_yes['hosp_yn'])\n",
    "new_icu_hosp_yes"
   ]
  },
  {
   "cell_type": "code",
   "execution_count": 60,
   "metadata": {},
   "outputs": [
    {
     "name": "stdout",
     "output_type": "stream",
     "text": [
      "The number of rows after imputation for Missing values in icu_yn: 7850\n"
     ]
    }
   ],
   "source": [
    "df4 = df\n",
    "df = new_icu_hosp_yes.combine_first(df4)\n",
    "print(\"The number of rows after imputation for Missing values in icu_yn:\", df.loc[df['icu_yn']==\"Missing\"].shape[0])"
   ]
  },
  {
   "cell_type": "code",
   "execution_count": 61,
   "metadata": {
    "scrolled": true
   },
   "outputs": [
    {
     "name": "stdout",
     "output_type": "stream",
     "text": [
      "Number of rows with Missing values: 0\n"
     ]
    }
   ],
   "source": [
    "#Lastly, combining the remaining Missing values to Unknown.\n",
    "df['icu_yn'] = df['icu_yn'].replace(['Missing'], \"Unknown\")\n",
    "print(\"Number of rows with Missing values:\", df.loc[df['icu_yn']==\"Missing\"].shape[0])"
   ]
  },
  {
   "cell_type": "markdown",
   "metadata": {},
   "source": [
    "**cdc_report_dt:**\n",
    "<br>\n",
    "Drop the column as it is depreceated according to the cdc_report documentation."
   ]
  },
  {
   "cell_type": "code",
   "execution_count": 62,
   "metadata": {},
   "outputs": [
    {
     "data": {
      "text/html": [
       "<div>\n",
       "<style scoped>\n",
       "    .dataframe tbody tr th:only-of-type {\n",
       "        vertical-align: middle;\n",
       "    }\n",
       "\n",
       "    .dataframe tbody tr th {\n",
       "        vertical-align: top;\n",
       "    }\n",
       "\n",
       "    .dataframe thead th {\n",
       "        text-align: right;\n",
       "    }\n",
       "</style>\n",
       "<table border=\"1\" class=\"dataframe\">\n",
       "  <thead>\n",
       "    <tr style=\"text-align: right;\">\n",
       "      <th></th>\n",
       "      <th>cdc_case_earliest_dt</th>\n",
       "      <th>onset_missing_ind</th>\n",
       "      <th>current_status</th>\n",
       "      <th>sex</th>\n",
       "      <th>age_group</th>\n",
       "      <th>race_ethnicity_combined</th>\n",
       "      <th>hosp_yn</th>\n",
       "      <th>icu_yn</th>\n",
       "      <th>death_yn</th>\n",
       "      <th>medcond_yn</th>\n",
       "    </tr>\n",
       "  </thead>\n",
       "  <tbody>\n",
       "    <tr>\n",
       "      <th>0</th>\n",
       "      <td>2021-01-22</td>\n",
       "      <td>0</td>\n",
       "      <td>Probable Case</td>\n",
       "      <td>Female</td>\n",
       "      <td>0 - 9 Years</td>\n",
       "      <td>Asian, Non-Hispanic</td>\n",
       "      <td>No</td>\n",
       "      <td>Unknown</td>\n",
       "      <td>No</td>\n",
       "      <td>Unknown</td>\n",
       "    </tr>\n",
       "    <tr>\n",
       "      <th>1</th>\n",
       "      <td>2021-01-26</td>\n",
       "      <td>0</td>\n",
       "      <td>Laboratory-confirmed case</td>\n",
       "      <td>Female</td>\n",
       "      <td>30 - 39 Years</td>\n",
       "      <td>Unknown</td>\n",
       "      <td>Unknown</td>\n",
       "      <td>Unknown</td>\n",
       "      <td>No</td>\n",
       "      <td>Unknown</td>\n",
       "    </tr>\n",
       "    <tr>\n",
       "      <th>2</th>\n",
       "      <td>2021-02-03</td>\n",
       "      <td>1</td>\n",
       "      <td>Laboratory-confirmed case</td>\n",
       "      <td>Female</td>\n",
       "      <td>40 - 49 Years</td>\n",
       "      <td>Asian, Non-Hispanic</td>\n",
       "      <td>Unknown</td>\n",
       "      <td>Unknown</td>\n",
       "      <td>No</td>\n",
       "      <td>Unknown</td>\n",
       "    </tr>\n",
       "    <tr>\n",
       "      <th>3</th>\n",
       "      <td>2021-02-05</td>\n",
       "      <td>1</td>\n",
       "      <td>Laboratory-confirmed case</td>\n",
       "      <td>Male</td>\n",
       "      <td>40 - 49 Years</td>\n",
       "      <td>Hispanic/Latino</td>\n",
       "      <td>No</td>\n",
       "      <td>Unknown</td>\n",
       "      <td>No</td>\n",
       "      <td>No</td>\n",
       "    </tr>\n",
       "    <tr>\n",
       "      <th>4</th>\n",
       "      <td>2021-01-27</td>\n",
       "      <td>0</td>\n",
       "      <td>Laboratory-confirmed case</td>\n",
       "      <td>Female</td>\n",
       "      <td>40 - 49 Years</td>\n",
       "      <td>White, Non-Hispanic</td>\n",
       "      <td>No</td>\n",
       "      <td>Unknown</td>\n",
       "      <td>No</td>\n",
       "      <td>Unknown</td>\n",
       "    </tr>\n",
       "    <tr>\n",
       "      <th>5</th>\n",
       "      <td>2021-02-07</td>\n",
       "      <td>0</td>\n",
       "      <td>Laboratory-confirmed case</td>\n",
       "      <td>Female</td>\n",
       "      <td>30 - 39 Years</td>\n",
       "      <td>Unknown</td>\n",
       "      <td>Unknown</td>\n",
       "      <td>Unknown</td>\n",
       "      <td>No</td>\n",
       "      <td>Unknown</td>\n",
       "    </tr>\n",
       "    <tr>\n",
       "      <th>6</th>\n",
       "      <td>2021-01-26</td>\n",
       "      <td>0</td>\n",
       "      <td>Laboratory-confirmed case</td>\n",
       "      <td>Male</td>\n",
       "      <td>20 - 29 Years</td>\n",
       "      <td>White, Non-Hispanic</td>\n",
       "      <td>Unknown</td>\n",
       "      <td>Unknown</td>\n",
       "      <td>No</td>\n",
       "      <td>Unknown</td>\n",
       "    </tr>\n",
       "    <tr>\n",
       "      <th>7</th>\n",
       "      <td>2021-02-04</td>\n",
       "      <td>0</td>\n",
       "      <td>Laboratory-confirmed case</td>\n",
       "      <td>Male</td>\n",
       "      <td>70 - 79 Years</td>\n",
       "      <td>White, Non-Hispanic</td>\n",
       "      <td>Unknown</td>\n",
       "      <td>Unknown</td>\n",
       "      <td>No</td>\n",
       "      <td>Unknown</td>\n",
       "    </tr>\n",
       "    <tr>\n",
       "      <th>8</th>\n",
       "      <td>2021-01-23</td>\n",
       "      <td>0</td>\n",
       "      <td>Laboratory-confirmed case</td>\n",
       "      <td>Male</td>\n",
       "      <td>40 - 49 Years</td>\n",
       "      <td>Unknown</td>\n",
       "      <td>Unknown</td>\n",
       "      <td>Unknown</td>\n",
       "      <td>No</td>\n",
       "      <td>Unknown</td>\n",
       "    </tr>\n",
       "    <tr>\n",
       "      <th>9</th>\n",
       "      <td>2021-01-25</td>\n",
       "      <td>1</td>\n",
       "      <td>Probable Case</td>\n",
       "      <td>Female</td>\n",
       "      <td>70 - 79 Years</td>\n",
       "      <td>White, Non-Hispanic</td>\n",
       "      <td>No</td>\n",
       "      <td>Unknown</td>\n",
       "      <td>No</td>\n",
       "      <td>Unknown</td>\n",
       "    </tr>\n",
       "  </tbody>\n",
       "</table>\n",
       "</div>"
      ],
      "text/plain": [
       "  cdc_case_earliest_dt onset_missing_ind             current_status     sex  \\\n",
       "0           2021-01-22                 0              Probable Case  Female   \n",
       "1           2021-01-26                 0  Laboratory-confirmed case  Female   \n",
       "2           2021-02-03                 1  Laboratory-confirmed case  Female   \n",
       "3           2021-02-05                 1  Laboratory-confirmed case    Male   \n",
       "4           2021-01-27                 0  Laboratory-confirmed case  Female   \n",
       "5           2021-02-07                 0  Laboratory-confirmed case  Female   \n",
       "6           2021-01-26                 0  Laboratory-confirmed case    Male   \n",
       "7           2021-02-04                 0  Laboratory-confirmed case    Male   \n",
       "8           2021-01-23                 0  Laboratory-confirmed case    Male   \n",
       "9           2021-01-25                 1              Probable Case  Female   \n",
       "\n",
       "       age_group race_ethnicity_combined  hosp_yn   icu_yn death_yn medcond_yn  \n",
       "0    0 - 9 Years     Asian, Non-Hispanic       No  Unknown       No    Unknown  \n",
       "1  30 - 39 Years                 Unknown  Unknown  Unknown       No    Unknown  \n",
       "2  40 - 49 Years     Asian, Non-Hispanic  Unknown  Unknown       No    Unknown  \n",
       "3  40 - 49 Years         Hispanic/Latino       No  Unknown       No         No  \n",
       "4  40 - 49 Years     White, Non-Hispanic       No  Unknown       No    Unknown  \n",
       "5  30 - 39 Years                 Unknown  Unknown  Unknown       No    Unknown  \n",
       "6  20 - 29 Years     White, Non-Hispanic  Unknown  Unknown       No    Unknown  \n",
       "7  70 - 79 Years     White, Non-Hispanic  Unknown  Unknown       No    Unknown  \n",
       "8  40 - 49 Years                 Unknown  Unknown  Unknown       No    Unknown  \n",
       "9  70 - 79 Years     White, Non-Hispanic       No  Unknown       No    Unknown  "
      ]
     },
     "execution_count": 62,
     "metadata": {},
     "output_type": "execute_result"
    }
   ],
   "source": [
    "df.pop('cdc_report_dt')\n",
    "df.head(10)"
   ]
  },
  {
   "cell_type": "code",
   "execution_count": 63,
   "metadata": {
    "scrolled": true
   },
   "outputs": [
    {
     "data": {
      "text/plain": [
       "cdc_case_earliest_dt       0\n",
       "onset_missing_ind          0\n",
       "current_status             0\n",
       "sex                        0\n",
       "age_group                  0\n",
       "race_ethnicity_combined    0\n",
       "hosp_yn                    0\n",
       "icu_yn                     0\n",
       "death_yn                   0\n",
       "medcond_yn                 0\n",
       "dtype: int64"
      ]
     },
     "execution_count": 63,
     "metadata": {},
     "output_type": "execute_result"
    }
   ],
   "source": [
    "df.isnull().sum()"
   ]
  },
  {
   "cell_type": "code",
   "execution_count": 64,
   "metadata": {},
   "outputs": [],
   "source": [
    "# Saving the cleaned dataset to a new csv file. This will be used for the second assignment.\n",
    "df.to_csv('24032021-covid19-cdc-deathyn-recent-10k_CLEANED.csv', index=False)"
   ]
  }
 ],
 "metadata": {
  "kernelspec": {
   "display_name": "Python 3",
   "language": "python",
   "name": "python3"
  },
  "language_info": {
   "codemirror_mode": {
    "name": "ipython",
    "version": 3
   },
   "file_extension": ".py",
   "mimetype": "text/x-python",
   "name": "python",
   "nbconvert_exporter": "python",
   "pygments_lexer": "ipython3",
   "version": "3.8.5"
  }
 },
 "nbformat": 4,
 "nbformat_minor": 5
}
